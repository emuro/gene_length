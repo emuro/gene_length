{
 "cells": [
  {
   "cell_type": "markdown",
   "id": "c200a4f3",
   "metadata": {},
   "source": [
    "# [Normal distribution](https://en.wikipedia.org/wiki/Normal_distribution)"
   ]
  },
  {
   "cell_type": "markdown",
   "id": "45a518ef",
   "metadata": {},
   "source": [
    "## Probability density function\n",
    "\n",
    "$ f(x) = \\frac{1}{ \\sigma \\sqrt{2 \\pi}} e^- \\frac{1}{2} {(\\frac{(x-\\mu)}{\\sigma})}^{2} $"
   ]
  },
  {
   "cell_type": "code",
   "execution_count": 12,
   "id": "51b0a90c",
   "metadata": {},
   "outputs": [],
   "source": [
    "import numpy as np\n",
    "import matplotlib.pyplot as plt\n",
    "from scipy import stats\n",
    "import os \n",
    "import pandas as pd"
   ]
  },
  {
   "cell_type": "code",
   "execution_count": 13,
   "id": "a8d94ea1",
   "metadata": {},
   "outputs": [],
   "source": [
    "# Function to plot the normal distribution\n",
    "##########################################\n",
    "def plot_log_norm (mu, sigma, N, title, subtitle, xlabel, ylabel): # N is number of \n",
    "    my_normal_dist = np.random.normal(mu, sigma, N)\n",
    "    count, bins, *rest = plt.hist(my_normal_dist, 30, density=True, alpha=0.8, edgecolor='black')\n",
    "    # print(count); print(bins); print(*rest)\n",
    "    plt.plot(bins, 1/(sigma * np.sqrt(2 * np.pi)) *\n",
    "             np.exp( - (bins - mu)**2 / (2 * sigma**2) ),\n",
    "             linewidth=2, color='r')\n",
    "     \n",
    "    # mean\n",
    "    plt.vlines(x = mu, ymin = 0, ymax = 0.2,\n",
    "           colors = 'white',\n",
    "           label = 'mean')\n",
    "    plt.xlim([1,7]); plt.ylim([0,1.5])\n",
    "    plt.suptitle(title); plt.title(subtitle)\n",
    "    plt.xlabel(xlabel); plt.ylabel(ylabel)\n",
    "    plt.show()"
   ]
  },
  {
   "cell_type": "markdown",
   "id": "c7b6d3b5",
   "metadata": {},
   "source": [
    "## Gene/Protein length distribution in different species"
   ]
  },
  {
   "cell_type": "markdown",
   "id": "d509543a-9bbf-4428-bb98-a287201ef79d",
   "metadata": {},
   "source": [
    "### Retrieve the statistical description"
   ]
  },
  {
   "cell_type": "markdown",
   "id": "3a99f2a8-5073-440f-88be-bf0def58ea9d",
   "metadata": {
    "tags": []
   },
   "source": [
    "##### Data file"
   ]
  },
  {
   "cell_type": "code",
   "execution_count": 15,
   "id": "86b76b58-6c34-4b8a-82b3-f117e835fad0",
   "metadata": {},
   "outputs": [
    {
     "name": "stdout",
     "output_type": "stream",
     "text": [
      "/media/emuro/Wes/results/geneLength/outputInputFiles/analysis/some_statistics/stat_description/taxid_merged/stat_description.taxid_merged.ensembl_and_ref_proteome.tsv\n"
     ]
    },
    {
     "data": {
      "text/html": [
       "<div>\n",
       "<style scoped>\n",
       "    .dataframe tbody tr th:only-of-type {\n",
       "        vertical-align: middle;\n",
       "    }\n",
       "\n",
       "    .dataframe tbody tr th {\n",
       "        vertical-align: top;\n",
       "    }\n",
       "\n",
       "    .dataframe thead th {\n",
       "        text-align: right;\n",
       "    }\n",
       "</style>\n",
       "<table border=\"1\" class=\"dataframe\">\n",
       "  <thead>\n",
       "    <tr style=\"text-align: right;\">\n",
       "      <th></th>\n",
       "      <th>Clades</th>\n",
       "      <th>tax_id</th>\n",
       "      <th>genes_species</th>\n",
       "      <th>genes_count</th>\n",
       "      <th>genes_mean</th>\n",
       "      <th>genes_std</th>\n",
       "      <th>prots_count</th>\n",
       "      <th>prots_mean</th>\n",
       "      <th>prots_std</th>\n",
       "      <th>genes_log10_mean</th>\n",
       "      <th>genes_log10_std</th>\n",
       "      <th>prots_log10_mean</th>\n",
       "      <th>prots_log10_std</th>\n",
       "    </tr>\n",
       "  </thead>\n",
       "  <tbody>\n",
       "    <tr>\n",
       "      <th>0</th>\n",
       "      <td>bacteria</td>\n",
       "      <td>48</td>\n",
       "      <td>archangium_gephyra_gca_001027285</td>\n",
       "      <td>10119.0</td>\n",
       "      <td>1103.871035</td>\n",
       "      <td>1127.066255</td>\n",
       "      <td>10110.0</td>\n",
       "      <td>367.499703</td>\n",
       "      <td>375.772244</td>\n",
       "      <td>2.919254</td>\n",
       "      <td>0.333869</td>\n",
       "      <td>2.441094</td>\n",
       "      <td>0.334836</td>\n",
       "    </tr>\n",
       "    <tr>\n",
       "      <th>1</th>\n",
       "      <td>bacteria</td>\n",
       "      <td>52</td>\n",
       "      <td>chondromyces_crocatus_gca_001189295</td>\n",
       "      <td>8339.0</td>\n",
       "      <td>1211.514450</td>\n",
       "      <td>1051.408605</td>\n",
       "      <td>8327.0</td>\n",
       "      <td>403.466555</td>\n",
       "      <td>350.579560</td>\n",
       "      <td>2.978963</td>\n",
       "      <td>0.300250</td>\n",
       "      <td>2.501095</td>\n",
       "      <td>0.300984</td>\n",
       "    </tr>\n",
       "    <tr>\n",
       "      <th>2</th>\n",
       "      <td>bacteria</td>\n",
       "      <td>54</td>\n",
       "      <td>nannocystis_exedens_gca_900112715</td>\n",
       "      <td>9154.0</td>\n",
       "      <td>1078.663863</td>\n",
       "      <td>816.790904</td>\n",
       "      <td>9143.0</td>\n",
       "      <td>358.985125</td>\n",
       "      <td>272.297123</td>\n",
       "      <td>2.932587</td>\n",
       "      <td>0.301745</td>\n",
       "      <td>2.454377</td>\n",
       "      <td>0.302500</td>\n",
       "    </tr>\n",
       "    <tr>\n",
       "      <th>3</th>\n",
       "      <td>bacteria</td>\n",
       "      <td>69</td>\n",
       "      <td>lysobacter_enzymogenes_gca_001442515</td>\n",
       "      <td>5529.0</td>\n",
       "      <td>955.797070</td>\n",
       "      <td>1098.530524</td>\n",
       "      <td>5514.0</td>\n",
       "      <td>318.117519</td>\n",
       "      <td>366.538413</td>\n",
       "      <td>2.833547</td>\n",
       "      <td>0.359937</td>\n",
       "      <td>2.354934</td>\n",
       "      <td>0.361237</td>\n",
       "    </tr>\n",
       "    <tr>\n",
       "      <th>4</th>\n",
       "      <td>bacteria</td>\n",
       "      <td>94</td>\n",
       "      <td>stella_humosa_gca_003751345</td>\n",
       "      <td>5422.0</td>\n",
       "      <td>998.770749</td>\n",
       "      <td>605.573896</td>\n",
       "      <td>5422.0</td>\n",
       "      <td>332.257470</td>\n",
       "      <td>201.856974</td>\n",
       "      <td>2.926974</td>\n",
       "      <td>0.259912</td>\n",
       "      <td>2.448603</td>\n",
       "      <td>0.260765</td>\n",
       "    </tr>\n",
       "    <tr>\n",
       "      <th>...</th>\n",
       "      <td>...</td>\n",
       "      <td>...</td>\n",
       "      <td>...</td>\n",
       "      <td>...</td>\n",
       "      <td>...</td>\n",
       "      <td>...</td>\n",
       "      <td>...</td>\n",
       "      <td>...</td>\n",
       "      <td>...</td>\n",
       "      <td>...</td>\n",
       "      <td>...</td>\n",
       "      <td>...</td>\n",
       "      <td>...</td>\n",
       "    </tr>\n",
       "    <tr>\n",
       "      <th>6516</th>\n",
       "      <td>bacteria</td>\n",
       "      <td>2605946</td>\n",
       "      <td>rhodobacteraceae_bacterium_sh_1_gca_003008555</td>\n",
       "      <td>4010.0</td>\n",
       "      <td>958.938653</td>\n",
       "      <td>607.761920</td>\n",
       "      <td>3994.0</td>\n",
       "      <td>318.607411</td>\n",
       "      <td>202.752114</td>\n",
       "      <td>2.904244</td>\n",
       "      <td>0.265631</td>\n",
       "      <td>2.425112</td>\n",
       "      <td>0.266697</td>\n",
       "    </tr>\n",
       "    <tr>\n",
       "      <th>6517</th>\n",
       "      <td>bacteria</td>\n",
       "      <td>2607479</td>\n",
       "      <td>isoptericola_sp_pw21_gca_003244315</td>\n",
       "      <td>3108.0</td>\n",
       "      <td>998.542149</td>\n",
       "      <td>699.274216</td>\n",
       "      <td>3108.0</td>\n",
       "      <td>332.182111</td>\n",
       "      <td>233.095550</td>\n",
       "      <td>2.915945</td>\n",
       "      <td>0.271711</td>\n",
       "      <td>2.437532</td>\n",
       "      <td>0.272560</td>\n",
       "    </tr>\n",
       "    <tr>\n",
       "      <th>6518</th>\n",
       "      <td>bacteria</td>\n",
       "      <td>2661937</td>\n",
       "      <td>rhodospirillaceae_bacterium_gca_003344765</td>\n",
       "      <td>3871.0</td>\n",
       "      <td>961.226040</td>\n",
       "      <td>749.043815</td>\n",
       "      <td>3868.0</td>\n",
       "      <td>319.827559</td>\n",
       "      <td>249.723238</td>\n",
       "      <td>2.900577</td>\n",
       "      <td>0.272136</td>\n",
       "      <td>2.422353</td>\n",
       "      <td>0.272657</td>\n",
       "    </tr>\n",
       "    <tr>\n",
       "      <th>6519</th>\n",
       "      <td>bacteria</td>\n",
       "      <td>2668039</td>\n",
       "      <td>glaciihabitans_sp_rp_3_7_gca_004310685</td>\n",
       "      <td>2984.0</td>\n",
       "      <td>989.170912</td>\n",
       "      <td>807.918791</td>\n",
       "      <td>2984.0</td>\n",
       "      <td>329.057641</td>\n",
       "      <td>269.306355</td>\n",
       "      <td>2.906253</td>\n",
       "      <td>0.272903</td>\n",
       "      <td>2.427816</td>\n",
       "      <td>0.273743</td>\n",
       "    </tr>\n",
       "    <tr>\n",
       "      <th>6520</th>\n",
       "      <td>bacteria</td>\n",
       "      <td>2676064</td>\n",
       "      <td>methylophilaceae_bacterium_gca_003730115</td>\n",
       "      <td>2400.0</td>\n",
       "      <td>955.882083</td>\n",
       "      <td>697.110184</td>\n",
       "      <td>2395.0</td>\n",
       "      <td>318.421712</td>\n",
       "      <td>232.298826</td>\n",
       "      <td>2.886540</td>\n",
       "      <td>0.289547</td>\n",
       "      <td>2.409665</td>\n",
       "      <td>0.287655</td>\n",
       "    </tr>\n",
       "  </tbody>\n",
       "</table>\n",
       "<p>6521 rows × 13 columns</p>\n",
       "</div>"
      ],
      "text/plain": [
       "        Clades   tax_id                                  genes_species  \\\n",
       "0     bacteria       48               archangium_gephyra_gca_001027285   \n",
       "1     bacteria       52            chondromyces_crocatus_gca_001189295   \n",
       "2     bacteria       54              nannocystis_exedens_gca_900112715   \n",
       "3     bacteria       69           lysobacter_enzymogenes_gca_001442515   \n",
       "4     bacteria       94                    stella_humosa_gca_003751345   \n",
       "...        ...      ...                                            ...   \n",
       "6516  bacteria  2605946  rhodobacteraceae_bacterium_sh_1_gca_003008555   \n",
       "6517  bacteria  2607479             isoptericola_sp_pw21_gca_003244315   \n",
       "6518  bacteria  2661937      rhodospirillaceae_bacterium_gca_003344765   \n",
       "6519  bacteria  2668039         glaciihabitans_sp_rp_3_7_gca_004310685   \n",
       "6520  bacteria  2676064       methylophilaceae_bacterium_gca_003730115   \n",
       "\n",
       "      genes_count   genes_mean    genes_std  prots_count  prots_mean  \\\n",
       "0         10119.0  1103.871035  1127.066255      10110.0  367.499703   \n",
       "1          8339.0  1211.514450  1051.408605       8327.0  403.466555   \n",
       "2          9154.0  1078.663863   816.790904       9143.0  358.985125   \n",
       "3          5529.0   955.797070  1098.530524       5514.0  318.117519   \n",
       "4          5422.0   998.770749   605.573896       5422.0  332.257470   \n",
       "...           ...          ...          ...          ...         ...   \n",
       "6516       4010.0   958.938653   607.761920       3994.0  318.607411   \n",
       "6517       3108.0   998.542149   699.274216       3108.0  332.182111   \n",
       "6518       3871.0   961.226040   749.043815       3868.0  319.827559   \n",
       "6519       2984.0   989.170912   807.918791       2984.0  329.057641   \n",
       "6520       2400.0   955.882083   697.110184       2395.0  318.421712   \n",
       "\n",
       "       prots_std  genes_log10_mean  genes_log10_std  prots_log10_mean  \\\n",
       "0     375.772244          2.919254         0.333869          2.441094   \n",
       "1     350.579560          2.978963         0.300250          2.501095   \n",
       "2     272.297123          2.932587         0.301745          2.454377   \n",
       "3     366.538413          2.833547         0.359937          2.354934   \n",
       "4     201.856974          2.926974         0.259912          2.448603   \n",
       "...          ...               ...              ...               ...   \n",
       "6516  202.752114          2.904244         0.265631          2.425112   \n",
       "6517  233.095550          2.915945         0.271711          2.437532   \n",
       "6518  249.723238          2.900577         0.272136          2.422353   \n",
       "6519  269.306355          2.906253         0.272903          2.427816   \n",
       "6520  232.298826          2.886540         0.289547          2.409665   \n",
       "\n",
       "      prots_log10_std  \n",
       "0            0.334836  \n",
       "1            0.300984  \n",
       "2            0.302500  \n",
       "3            0.361237  \n",
       "4            0.260765  \n",
       "...               ...  \n",
       "6516         0.266697  \n",
       "6517         0.272560  \n",
       "6518         0.272657  \n",
       "6519         0.273743  \n",
       "6520         0.287655  \n",
       "\n",
       "[6521 rows x 13 columns]"
      ]
     },
     "metadata": {},
     "output_type": "display_data"
    }
   ],
   "source": [
    "# system\n",
    "system = list(os.uname())[0]\n",
    "if system == 'Linux':\n",
    "    stat_f = \"/media/emuro/Wes/\"\n",
    "elif system == 'Darwin':\n",
    "    stat_f = \"/Volumes/Wes/\"\n",
    "\n",
    "# statistics on length distribution for different species     \n",
    "stat_f += \"results/geneLength/outputInputFiles/analysis/some_statistics/stat_description/taxid_merged/\"\n",
    "stat_f += \"stat_description.taxid_merged.ensembl_and_ref_proteome.tsv\"\n",
    "print(stat_f)\n",
    "\n",
    "# retrieve data\n",
    "stat = pd.read_csv(stat_f, sep=\"\\t\")\n",
    "stat.rename(columns = {\"merged_division_superregnum\" : 'Clades'}, inplace = True)\n",
    "stat = stat[[\"Clades\", \"tax_id\", \"genes_species\", \"genes_count\", \"genes_mean\", \"genes_std\"] + [\"prots_count\", \"prots_mean\", \"prots_std\"] + [\"genes_log10_mean\", \"genes_log10_std\"] + [\"prots_log10_mean\", \"prots_log10_std\"]]\n",
    "\n",
    "# visualize data\n",
    "pd.set_option('display.max_columns', None)\n",
    "if 1:\n",
    "    display(stat)"
   ]
  },
  {
   "cell_type": "markdown",
   "id": "10892804-3a07-4451-a8c5-72a6720cd153",
   "metadata": {},
   "source": [
    "##### Data for species"
   ]
  },
  {
   "cell_type": "code",
   "execution_count": 16,
   "id": "af6c0ad2-9985-4285-887a-c413505d46e6",
   "metadata": {},
   "outputs": [],
   "source": [
    "# species' stats for length distribution\n",
    "def get_df_for_taxid(df, taxid):\n",
    "     return df.loc[df[\"tax_id\"]==taxid]"
   ]
  },
  {
   "cell_type": "markdown",
   "id": "6a88dc8a-5963-450d-a930-df053797d842",
   "metadata": {},
   "source": [
    "##### Simulate a log10-norm distribution using the observed mu and sigma in the species"
   ]
  },
  {
   "cell_type": "code",
   "execution_count": 17,
   "id": "50274464-8f5b-44b9-a825-af5d61e31405",
   "metadata": {},
   "outputs": [],
   "source": [
    "def get_simulated_log10_norm_distr(df_all, taxid):\n",
    "    # get the df for the species\n",
    "    df = get_df_for_taxid(df_all, taxid)\n",
    "    # prepare the data\n",
    "    index_l = df.index[df['tax_id']==taxid].tolist()       # get index \n",
    "    genes_species = df.loc[index_l[0]].at[\"genes_species\"] # retrieve str...too complicated\n",
    "    g_N, g_mu, g_sigma = (int(df[\"genes_count\"]), float(df[\"genes_mean\"]), float(df[\"genes_std\"]))  \n",
    "    log10_mu, log10_sigma = (float(df[\"genes_log10_mean\"]), float(df[\"genes_log10_std\"])) # NOT the log10 of mu!\n",
    "    \n",
    "    print(\"Gene length distribution of\", genes_species)\n",
    "    print(f\"N:{int(g_N)}, mean:{g_mu:.2f}, sigma:{g_sigma:.2f}\")\n",
    "    print(f\"mean(log10(len)):{log10_mu:.3f}, sigma(log10(len)):{log10_sigma:.3f}\")\n",
    "    return genes_species, g_N, log10_mu, log10_sigma, np.random.normal(log10_mu, log10_sigma, g_N)"
   ]
  },
  {
   "cell_type": "code",
   "execution_count": 18,
   "id": "ee7bf25c-d0a0-4028-9af0-2e8f7979a15f",
   "metadata": {},
   "outputs": [],
   "source": [
    "def does_it_fits_normal(data_observed): \n",
    "    # Kurtosis and Skewness\n",
    "    # =====================\n",
    "    print('Kurtosis:', stats.kurtosis(data_observed))\n",
    "    print('Skewness:', stats.skew(data_observed))\n",
    "    # D'Agostino's K-squared test\n",
    "    # ===========================\n",
    "    k2, p_value = stats.normaltest(data_observed)\n",
    "    print(f\"D'Agostino's K-squared test(Estadístico={k2}, p-value={p_value})\")"
   ]
  },
  {
   "cell_type": "markdown",
   "id": "3145b8ee-4157-412a-af50-701540a82d35",
   "metadata": {},
   "source": [
    "##### Deja de ser una log-normal (teóricamente)\n",
    "- Kurtosis o Skewness: $\\leq -1$ o $\\geq 1$ \n",
    "- D'Agostino's K-squared test: p-value $ \\leq 0.05 $, porque rechaza la hipótesis nula "
   ]
  },
  {
   "cell_type": "code",
   "execution_count": 19,
   "id": "20f3c20b-c82d-45a3-b990-78efd4075a08",
   "metadata": {},
   "outputs": [],
   "source": [
    "# The next function performs the whole analysis\n",
    "def species_stat_simulateLogNorm_plot_and_fit(df, tax_id):\n",
    "    # Retrieve the statistical description\n",
    "    species_name, g_N, log10_mu, log10_sigma, species_log10norm = get_simulated_log10_norm_distr(df, tax_id)\n",
    "    # plot the distribution of the log10 of the lengths (not the log of the mean)\n",
    "    title = species_name.capitalize(); subtitle = \"Simulation\"; xlabel = \"Gene length\"; ylabel = \"PDF\"\n",
    "    plot_log_norm(log10_mu, log10_sigma, g_N, title, subtitle, xlabel, ylabel)\n",
    "    #\n",
    "    does_it_fits_normal(species_log10norm) "
   ]
  },
  {
   "cell_type": "code",
   "execution_count": null,
   "id": "fb3faafa-589c-48cb-a2ee-c96d415dd3fe",
   "metadata": {},
   "outputs": [],
   "source": []
  },
  {
   "cell_type": "markdown",
   "id": "de7f6f9e-59f4-4fed-9cc7-9f2c634f615e",
   "metadata": {},
   "source": [
    "## Plot a simulated (artificial) log-norm gene length distribution"
   ]
  },
  {
   "cell_type": "markdown",
   "id": "02d86cba-90c3-420a-a342-effebd787c95",
   "metadata": {},
   "source": [
    "### Homo sapiens\n",
    "```{note}\n",
    "tax_id = 9606\n",
    "```"
   ]
  },
  {
   "cell_type": "markdown",
   "id": "0866ec4e-b56f-45c2-9858-b517c8481d26",
   "metadata": {},
   "source": [
    "#### Retrieve statistical description"
   ]
  },
  {
   "cell_type": "code",
   "execution_count": 20,
   "id": "4cd3536d-1829-4625-9dbf-234606f1c6e2",
   "metadata": {},
   "outputs": [
    {
     "data": {
      "text/html": [
       "<div>\n",
       "<style scoped>\n",
       "    .dataframe tbody tr th:only-of-type {\n",
       "        vertical-align: middle;\n",
       "    }\n",
       "\n",
       "    .dataframe tbody tr th {\n",
       "        vertical-align: top;\n",
       "    }\n",
       "\n",
       "    .dataframe thead th {\n",
       "        text-align: right;\n",
       "    }\n",
       "</style>\n",
       "<table border=\"1\" class=\"dataframe\">\n",
       "  <thead>\n",
       "    <tr style=\"text-align: right;\">\n",
       "      <th></th>\n",
       "      <th>Clades</th>\n",
       "      <th>tax_id</th>\n",
       "      <th>genes_species</th>\n",
       "      <th>genes_count</th>\n",
       "      <th>genes_mean</th>\n",
       "      <th>genes_std</th>\n",
       "      <th>prots_count</th>\n",
       "      <th>prots_mean</th>\n",
       "      <th>prots_std</th>\n",
       "      <th>genes_log10_mean</th>\n",
       "      <th>genes_log10_std</th>\n",
       "      <th>prots_log10_mean</th>\n",
       "      <th>prots_log10_std</th>\n",
       "    </tr>\n",
       "  </thead>\n",
       "  <tbody>\n",
       "    <tr>\n",
       "      <th>213</th>\n",
       "      <td>vertebrates</td>\n",
       "      <td>9606</td>\n",
       "      <td>homo_sapiens</td>\n",
       "      <td>19976.0</td>\n",
       "      <td>68287.089808</td>\n",
       "      <td>132423.575448</td>\n",
       "      <td>20614.0</td>\n",
       "      <td>552.845105</td>\n",
       "      <td>595.745883</td>\n",
       "      <td>4.40396</td>\n",
       "      <td>0.644353</td>\n",
       "      <td>2.601146</td>\n",
       "      <td>0.353891</td>\n",
       "    </tr>\n",
       "  </tbody>\n",
       "</table>\n",
       "</div>"
      ],
      "text/plain": [
       "          Clades  tax_id genes_species  genes_count    genes_mean  \\\n",
       "213  vertebrates    9606  homo_sapiens      19976.0  68287.089808   \n",
       "\n",
       "         genes_std  prots_count  prots_mean   prots_std  genes_log10_mean  \\\n",
       "213  132423.575448      20614.0  552.845105  595.745883           4.40396   \n",
       "\n",
       "     genes_log10_std  prots_log10_mean  prots_log10_std  \n",
       "213         0.644353          2.601146         0.353891  "
      ]
     },
     "execution_count": 20,
     "metadata": {},
     "output_type": "execute_result"
    }
   ],
   "source": [
    "homo_sapiens_df = get_df_for_taxid(stat, 9606)\n",
    "homo_sapiens_df"
   ]
  },
  {
   "cell_type": "code",
   "execution_count": 21,
   "id": "33424b8d-7526-4a32-8035-8d46a77c4cd7",
   "metadata": {},
   "outputs": [
    {
     "name": "stdout",
     "output_type": "stream",
     "text": [
      "Gene length distribution of homo_sapiens\n",
      "N:19976, mean:68287.09, sigma:132423.58\n",
      "mean(log10(len)):4.404, sigma(log10(len)):0.644\n"
     ]
    }
   ],
   "source": [
    "species_name, g_N, log10_mu, log10_sigma, homo_sapiens_log10norm = get_simulated_log10_norm_distr(stat, 9606)"
   ]
  },
  {
   "cell_type": "markdown",
   "id": "d2c2ae4a-6287-472b-b2c3-661829832a52",
   "metadata": {},
   "source": [
    "#### Plot a simulated log-norm gene length distribution"
   ]
  },
  {
   "cell_type": "code",
   "execution_count": 22,
   "id": "d610515f",
   "metadata": {},
   "outputs": [
    {
     "data": {
      "image/png": "[encoded data removed]",
      "text/plain": [
       "<Figure size 432x288 with 1 Axes>"
      ]
     },
     "metadata": {
      "needs_background": "light"
     },
     "output_type": "display_data"
    }
   ],
   "source": [
    "# plot the distribution of the log10 of the lengths (not the log of the mean)\n",
    "title = species_name.capitalize(); subtitle = \"Simulation\";  xlabel = \"Gene length\"; ylabel = \"PDF\"\n",
    "plot_log_norm(log10_mu, log10_sigma, g_N, title, subtitle, xlabel, ylabel)"
   ]
  },
  {
   "cell_type": "markdown",
   "id": "1ee437a1-566a-4aed-9f9c-ce652635d399",
   "metadata": {},
   "source": [
    "#### Does the distribution fits the normal distribution?"
   ]
  },
  {
   "cell_type": "code",
   "execution_count": 23,
   "id": "05c41cfc",
   "metadata": {},
   "outputs": [
    {
     "name": "stdout",
     "output_type": "stream",
     "text": [
      "Kurtosis: -0.009618920461068381\n",
      "Skewness: 0.01415280476664369\n",
      "D'Agostino's K-squared test(Estadístico=0.7313258963009205, p-value=0.6937365870083192)\n"
     ]
    }
   ],
   "source": [
    "does_it_fits_normal(homo_sapiens_log10norm) "
   ]
  },
  {
   "cell_type": "code",
   "execution_count": null,
   "id": "be0479b0-1139-415a-8bea-126d90ae7113",
   "metadata": {},
   "outputs": [],
   "source": []
  },
  {
   "cell_type": "markdown",
   "id": "22946f97",
   "metadata": {},
   "source": [
    "### Danio rerio\n",
    "```note\n",
    "tax_id = 7955\n",
    "```"
   ]
  },
  {
   "cell_type": "markdown",
   "id": "5770e3dc-9d51-4a29-a794-8f158d0fd69e",
   "metadata": {},
   "source": [
    "#### Retrieve the statistical description, simulate log-norm, plot and fit"
   ]
  },
  {
   "cell_type": "code",
   "execution_count": 24,
   "id": "6008c772-efab-4938-94a2-ce5e1dc14a15",
   "metadata": {},
   "outputs": [
    {
     "name": "stdout",
     "output_type": "stream",
     "text": [
      "Gene length distribution of danio_rerio\n",
      "N:25432, mean:31084.05, sigma:51637.15\n",
      "mean(log10(len)):4.137, sigma(log10(len)):0.575\n"
     ]
    },
    {
     "data": {
      "image/png": "[encoded data removed]",
      "text/plain": [
       "<Figure size 432x288 with 1 Axes>"
      ]
     },
     "metadata": {
      "needs_background": "light"
     },
     "output_type": "display_data"
    },
    {
     "name": "stdout",
     "output_type": "stream",
     "text": [
      "Kurtosis: 0.03067554253986371\n",
      "Skewness: -0.024146309372479604\n",
      "D'Agostino's K-squared test(Estadístico=3.4860393481495784, p-value=0.17499118564415797)\n"
     ]
    }
   ],
   "source": [
    "species_stat_simulateLogNorm_plot_and_fit(stat, 7955)"
   ]
  },
  {
   "cell_type": "code",
   "execution_count": null,
   "id": "d2142fd1-8925-49a8-ae44-210bcdb9c96d",
   "metadata": {},
   "outputs": [],
   "source": []
  },
  {
   "cell_type": "markdown",
   "id": "5f3bd0f1-05e3-4b60-b425-eff9b1e14aa0",
   "metadata": {},
   "source": [
    "### Drosophila melanogaster\n",
    "```{note}\n",
    "tax_id = 7227\n",
    "```"
   ]
  },
  {
   "cell_type": "code",
   "execution_count": 25,
   "id": "1d783600-b9dd-4f72-ae9b-0ebc61013d35",
   "metadata": {},
   "outputs": [
    {
     "name": "stdout",
     "output_type": "stream",
     "text": [
      "Gene length distribution of drosophila_melanogaster\n",
      "N:13947, mean:6953.27, sigma:24274.86\n",
      "mean(log10(len)):3.430, sigma(log10(len)):0.512\n"
     ]
    },
    {
     "data": {
      "image/png": "[encoded data removed]",
      "text/plain": [
       "<Figure size 432x288 with 1 Axes>"
      ]
     },
     "metadata": {
      "needs_background": "light"
     },
     "output_type": "display_data"
    },
    {
     "name": "stdout",
     "output_type": "stream",
     "text": [
      "Kurtosis: -0.03139050599653315\n",
      "Skewness: -0.02572216494413131\n",
      "D'Agostino's K-squared test(Estadístico=2.084190183602571, p-value=0.35271493713972196)\n"
     ]
    }
   ],
   "source": [
    "species_stat_simulateLogNorm_plot_and_fit(stat, 7227)"
   ]
  },
  {
   "cell_type": "markdown",
   "id": "c609b4ab-c94a-4a2c-a107-26e7d57e91aa",
   "metadata": {},
   "source": [
    "### Arabidopsis thaliana\n",
    "```note\n",
    "tax_id = 3702\n",
    "```"
   ]
  },
  {
   "cell_type": "code",
   "execution_count": 26,
   "id": "6f5ac606-f3da-4454-82a1-bee94dc747da",
   "metadata": {},
   "outputs": [
    {
     "name": "stdout",
     "output_type": "stream",
     "text": [
      "Gene length distribution of arabidopsis_thaliana\n",
      "N:27628, mean:2371.75, sigma:1635.87\n",
      "mean(log10(len)):3.278, sigma(log10(len)):0.313\n"
     ]
    },
    {
     "data": {
      "image/png": "[encoded data removed]",
      "text/plain": [
       "<Figure size 432x288 with 1 Axes>"
      ]
     },
     "metadata": {
      "needs_background": "light"
     },
     "output_type": "display_data"
    },
    {
     "name": "stdout",
     "output_type": "stream",
     "text": [
      "Kurtosis: 0.05978355877972197\n",
      "Skewness: -0.014487963585801733\n",
      "D'Agostino's K-squared test(Estadístico=4.937730014922745, p-value=0.08468091668747889)\n"
     ]
    }
   ],
   "source": [
    "species_stat_simulateLogNorm_plot_and_fit(stat, 3702)"
   ]
  },
  {
   "cell_type": "code",
   "execution_count": null,
   "id": "04961645-821d-4611-96c7-0acdd9599927",
   "metadata": {},
   "outputs": [],
   "source": []
  },
  {
   "cell_type": "markdown",
   "id": "816a0f12-7108-49dc-92df-09c40a9e8310",
   "metadata": {},
   "source": [
    "---\n",
    "### No están en:"
   ]
  },
  {
   "cell_type": "code",
   "execution_count": 27,
   "id": "ce701032-5d1a-4e75-84fe-40b223faa919",
   "metadata": {},
   "outputs": [
    {
     "name": "stdout",
     "output_type": "stream",
     "text": [
      "/media/emuro/Wes/results/geneLength/outputInputFiles/analysis/some_statistics/stat_description/taxid_merged/stat_description.taxid_merged.ensembl_and_ref_proteome.tsv\n"
     ]
    }
   ],
   "source": [
    "print(stat_f)"
   ]
  },
  {
   "cell_type": "markdown",
   "id": "101243f5-2c78-4f40-a996-554f28c3ee7e",
   "metadata": {},
   "source": [
    "#### Saccharomyces cervisae\n",
    "```{note}\n",
    "tax_id = 4932\n",
    "```"
   ]
  },
  {
   "cell_type": "markdown",
   "id": "c2440f06-107a-457e-a656-e21d5c382d61",
   "metadata": {},
   "source": [
    "#### E coli\n",
    "```{note}\n",
    "tax_id = 83333\n",
    "```"
   ]
  },
  {
   "cell_type": "code",
   "execution_count": null,
   "id": "efbd689b-15e7-475d-82ef-e98a515a718f",
   "metadata": {},
   "outputs": [],
   "source": []
  }
 ],
 "metadata": {
  "kernelspec": {
   "display_name": "Python 3 (ipykernel)",
   "language": "python",
   "name": "python3"
  },
  "language_info": {
   "codemirror_mode": {
    "name": "ipython",
    "version": 3
   },
   "file_extension": ".py",
   "mimetype": "text/x-python",
   "name": "python",
   "nbconvert_exporter": "python",
   "pygments_lexer": "ipython3",
   "version": "3.10.4"
  }
 },
 "nbformat": 4,
 "nbformat_minor": 5
}
