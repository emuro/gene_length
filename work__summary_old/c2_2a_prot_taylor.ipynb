{
 "cells": [
  {
   "cell_type": "markdown",
   "id": "c200a4f3",
   "metadata": {},
   "source": [
    "# [Taylor law](https://en.wikipedia.org/wiki/Taylor%27s_law) "
   ]
  },
  {
   "cell_type": "code",
   "execution_count": 1,
   "id": "51b0a90c",
   "metadata": {},
   "outputs": [],
   "source": [
    "import numpy as np\n",
    "from scipy import stats\n",
    "import os \n",
    "import pandas as pd\n",
    "from plotnine import *"
   ]
  },
  {
   "cell_type": "code",
   "execution_count": null,
   "id": "23d40525-65aa-4a58-881c-72a93960fcbb",
   "metadata": {
    "tags": []
   },
   "outputs": [],
   "source": []
  },
  {
   "cell_type": "markdown",
   "id": "85705a66-f9f0-40e6-80eb-ea6d5f01193f",
   "metadata": {},
   "source": [
    "## Observations: Protein length distribution in different species"
   ]
  },
  {
   "cell_type": "markdown",
   "id": "01da8852-4215-4c64-b360-99e569801bdd",
   "metadata": {},
   "source": [
    "### Retrieve the statistical description and tax_id of species"
   ]
  },
  {
   "cell_type": "markdown",
   "id": "8fd8d5f7-0461-4338-89ef-6b20f679cdad",
   "metadata": {
    "tags": []
   },
   "source": [
    "##### Statistical description data file"
   ]
  },
  {
   "cell_type": "code",
   "execution_count": 2,
   "id": "d892fcdf-a696-4cc1-9cd8-0f888c093351",
   "metadata": {},
   "outputs": [
    {
     "name": "stdout",
     "output_type": "stream",
     "text": [
      "/Volumes/Wes/results/geneLength/outputInputFiles/analysis/some_statistics/stat_description/proteins/stat_description.protein.uniprot_reference_proteome.tsv\n"
     ]
    },
    {
     "data": {
      "text/html": [
       "<div>\n",
       "<style scoped>\n",
       "    .dataframe tbody tr th:only-of-type {\n",
       "        vertical-align: middle;\n",
       "    }\n",
       "\n",
       "    .dataframe tbody tr th {\n",
       "        vertical-align: top;\n",
       "    }\n",
       "\n",
       "    .dataframe thead th {\n",
       "        text-align: right;\n",
       "    }\n",
       "</style>\n",
       "<table border=\"1\" class=\"dataframe\">\n",
       "  <thead>\n",
       "    <tr style=\"text-align: right;\">\n",
       "      <th></th>\n",
       "      <th>superregnum</th>\n",
       "      <th>species</th>\n",
       "      <th>proteome_id</th>\n",
       "      <th>tax_id</th>\n",
       "      <th>uniprot_fasta_file</th>\n",
       "      <th>count</th>\n",
       "      <th>mean</th>\n",
       "      <th>var</th>\n",
       "      <th>log10_mean</th>\n",
       "      <th>log10_var</th>\n",
       "    </tr>\n",
       "  </thead>\n",
       "  <tbody>\n",
       "    <tr>\n",
       "      <th>0</th>\n",
       "      <td>bacteria</td>\n",
       "      <td>Kurthia sp. 3B1D</td>\n",
       "      <td>UP000288623</td>\n",
       "      <td>1562256</td>\n",
       "      <td>/ftp.uniprot.org/pub/databases/uniprot/current...</td>\n",
       "      <td>3621.0</td>\n",
       "      <td>285.936205</td>\n",
       "      <td>36171.895653</td>\n",
       "      <td>2.372531</td>\n",
       "      <td>0.075378</td>\n",
       "    </tr>\n",
       "    <tr>\n",
       "      <th>1</th>\n",
       "      <td>viruses</td>\n",
       "      <td>Prochlorococcus phage P-GSP1</td>\n",
       "      <td>UP000204021</td>\n",
       "      <td>382262</td>\n",
       "      <td>/ftp.uniprot.org/pub/databases/uniprot/current...</td>\n",
       "      <td>49.0</td>\n",
       "      <td>238.285714</td>\n",
       "      <td>73651.083333</td>\n",
       "      <td>2.180820</td>\n",
       "      <td>0.155233</td>\n",
       "    </tr>\n",
       "  </tbody>\n",
       "</table>\n",
       "</div>"
      ],
      "text/plain": [
       "  superregnum                       species  proteome_id   tax_id  \\\n",
       "0    bacteria              Kurthia sp. 3B1D  UP000288623  1562256   \n",
       "1     viruses  Prochlorococcus phage P-GSP1  UP000204021   382262   \n",
       "\n",
       "                                  uniprot_fasta_file   count        mean  \\\n",
       "0  /ftp.uniprot.org/pub/databases/uniprot/current...  3621.0  285.936205   \n",
       "1  /ftp.uniprot.org/pub/databases/uniprot/current...    49.0  238.285714   \n",
       "\n",
       "            var  log10_mean  log10_var  \n",
       "0  36171.895653    2.372531   0.075378  \n",
       "1  73651.083333    2.180820   0.155233  "
      ]
     },
     "metadata": {},
     "output_type": "display_data"
    },
    {
     "name": "stdout",
     "output_type": "stream",
     "text": [
      "(19854, 10)\n"
     ]
    }
   ],
   "source": [
    "# system\n",
    "system = list(os.uname())[0]\n",
    "if system == 'Linux':\n",
    "    base_dir = \"/media/emuro/Wes/\"\n",
    "elif system == 'Darwin':\n",
    "    base_dir = \"/Volumes/Wes/\"\n",
    "    \n",
    "# statistics on length distribution for different species     \n",
    "stat_file = base_dir + \"results/geneLength/outputInputFiles/\" + \"analysis/some_statistics/stat_description/\" \n",
    "stat_file += \"proteins/stat_description.protein.uniprot_reference_proteome.tsv\"\n",
    "print(stat_file)\n",
    "\n",
    "# retrieve data\n",
    "stat_df = pd.read_csv(stat_file, low_memory=False, sep=\"\\t\")\n",
    "stat_df = stat_df[[\"superregnum\", \"species\", \"proteome_id\", \"tax_id\", \"uniprot_fasta_file\", \"count\", \"mean\", \"var\"] + [\"log10_mean\", \"log10_var\"]]\n",
    "\n",
    "# visualize data\n",
    "pd.set_option('display.max_columns', None)\n",
    "if 1:\n",
    "    display(stat_df.head(2))\n",
    "    print(stat_df.shape)"
   ]
  },
  {
   "cell_type": "code",
   "execution_count": null,
   "id": "c7ff1aed-e92e-4b2a-82c3-c6bed069e33f",
   "metadata": {},
   "outputs": [],
   "source": []
  },
  {
   "cell_type": "markdown",
   "id": "3e3a47fb-4f40-4680-86cf-f90970ba1e19",
   "metadata": {},
   "source": [
    "##### Filter some columns and species"
   ]
  },
  {
   "cell_type": "code",
   "execution_count": 3,
   "id": "90d2b7e7-99db-441c-b7d6-f6509e017fa7",
   "metadata": {},
   "outputs": [
    {
     "name": "stdout",
     "output_type": "stream",
     "text": [
      "(19854, 10)\n",
      "\n",
      "superregnum:\n",
      "viruses      9939\n",
      "bacteria     7997\n",
      "eukaryota    1588\n",
      "archaea       330\n",
      "Name: superregnum, dtype: int64\n",
      "(9915, 10)\n",
      "\n",
      "superregnum:\n",
      "bacteria     7997\n",
      "eukaryota    1588\n",
      "archaea       330\n",
      "Name: superregnum, dtype: int64\n"
     ]
    }
   ],
   "source": [
    "print(stat_df.shape)\n",
    "print(\"\\nsuperregnum:\\n\", stat_df[\"superregnum\"].value_counts(), sep=\"\") # superregnum is from Uniprot\n",
    "\n",
    "cond = stat_df[\"superregnum\"].isin([\"bacteria\", \"archaea\", \"eukaryota\"]) # avoid: empty or viruses\n",
    "stat_df = stat_df[cond]\n",
    "\n",
    "# filter viruses\n",
    "stat_df = stat_df[stat_df[\"superregnum\"] != \"viruses\"]\n",
    "\n",
    "# No hace falta eliminar Mus caroli (eliminado en la taylor de genes), porque no está en los proteomas referencia\n",
    "\n",
    "if 1:\n",
    "    #display(stat_df.head(2))\n",
    "    print(stat_df.shape)\n",
    "    print(\"\\nsuperregnum:\\n\", stat_df[\"superregnum\"].value_counts(), sep=\"\")"
   ]
  },
  {
   "cell_type": "markdown",
   "id": "2977fb4a-db1e-4c26-a949-c870b6c314aa",
   "metadata": {},
   "source": [
    "---"
   ]
  },
  {
   "cell_type": "markdown",
   "id": "b7864e7f-66e1-4115-9a45-c2d020171688",
   "metadata": {
    "tags": []
   },
   "source": [
    "## Observed Taylor law: Variance vs Length (proteins)\n",
    "$\\sigma^{2}$ is the variance  \n",
    "$\\sigma^{2} = a . \\mu^{\\beta}$  \n",
    "Because: \n",
    "- $\\log(\\sigma^{2}) = \\log(a) + \\beta log(\\mu) $\n",
    "\n",
    "### Plot it!"
   ]
  },
  {
   "cell_type": "code",
   "execution_count": 4,
   "id": "5eb1c776-894f-400a-9166-bc6a5a670389",
   "metadata": {},
   "outputs": [],
   "source": [
    "# FUNCTIONS\n",
    "###########\n",
    "def plot_taylor (df2plot, col_x, col_y, x_lab, y_lab, title, bool_show_regression): \n",
    "\n",
    "    # Calculate best fit line\n",
    "    slope, intercept, r_value, p_value, std_err = stats.linregress(np.log10(df2plot[col_x]),np.log10(df2plot[col_y]))\n",
    "    # Format the regression text\n",
    "    print('v = {:4.4} * m^{:4.4};   R^2= {:2.4f}'.format(10**intercept, slope, r_value**2))\n",
    "    if bool_show_regression:\n",
    "        txt = '$\\sigma^{2} = ' + '{:4.4} '.format(10**intercept)  + '\\t \\mu^{' + '{:4.4}'.format(slope) + '}' + ';\\tR^{2} = ' + '{:2.4f}$'.format(r_value**2)\n",
    "    else:\n",
    "        txt = ''\n",
    "        \n",
    "    # limits and tick-breaks\n",
    "    if 1: # prots (6513 merge). Manual set up\n",
    "        x_limits = [70, 2300]\n",
    "        y_limits = [500, 2700000]\n",
    "        x_text_factor = 0.085\n",
    "        y_text_factor = 0.95\n",
    "    else: # automatic\n",
    "        print( min(df2plot[col_x].to_list()), max(df2plot[col_x].to_list()) )\n",
    "        print( min(df2plot[col_y].to_list()), max(df2plot[col_y].to_list()) )\n",
    "        x_limits=[min(df2plot[col_x].to_list())/1.3, 1.3*max(df2plot[col_x].to_list())]\n",
    "        y_limits=[min(df2plot[col_y].to_list())/1.3, 1.3*max(df2plot[col_y].to_list())]\n",
    "        x_text_factor = 0.085\n",
    "        y_text_factor = 0.95\n",
    "        \n",
    "    p = (   \n",
    "        ggplot(df2plot, aes(col_x, col_y, color=legends_by)) + geom_point(size=0.1)\n",
    "        + geom_smooth(method=\"lm\", color=\"green\", size=0.25, span=.8)\n",
    "        + labs(title=title, x=x_lab, y=y_lab) \n",
    "        + scale_color_manual(values=['#D83B01', '#002050', '#A80000', '#FFA500', '#107C10','#EF008C', '#0078D7', '#B4009E']) # + scale_color_brewer() '#5C2D91'\n",
    "        + labs(color='Clade') # legend title\n",
    "        + scale_x_log10(breaks=[10 ** power for power in range(2, 4)], limits=x_limits) #, labels=scientific_format(digits=2)\n",
    "        + scale_y_log10(breaks = [10**power for power in range(3, 7)], limits=y_limits)\n",
    "    ) + theme(legend_position=(0.8,0.3), legend_key_size=5, legend_background=element_rect(fill='grey', alpha=0.01)) + annotate('text', x=x_text_factor*max(df2plot[col_x].to_list()), y=y_text_factor*max(df2plot[col_y].to_list()), label=txt,size=9,color=\"black\")\n",
    "    print(p)"
   ]
  },
  {
   "cell_type": "code",
   "execution_count": 5,
   "id": "65579e1f-b037-4b15-969a-784548fe216a",
   "metadata": {},
   "outputs": [
    {
     "name": "stdout",
     "output_type": "stream",
     "text": [
      "(9915, 3)\n",
      "v = 0.0168 * m^2.605;   R^2= 0.7336\n"
     ]
    },
    {
     "name": "stderr",
     "output_type": "stream",
     "text": [
      "/Library/Frameworks/Python.framework/Versions/3.10/lib/python3.10/site-packages/plotnine/layer.py:401: PlotnineWarning: geom_smooth : Removed 12 rows containing missing values.\n"
     ]
    },
    {
     "data": {
      "image/png": "[encoded data removed]",
      "text/plain": [
       "<Figure size 640x480 with 1 Axes>"
      ]
     },
     "metadata": {},
     "output_type": "display_data"
    },
    {
     "name": "stdout",
     "output_type": "stream",
     "text": [
      "\n"
     ]
    }
   ],
   "source": [
    "df2plot = stat_df.copy()\n",
    "df2plot.rename(columns = {\"mean\" : 'prots_mean', \"var\" : 'prots_var'}, inplace = True)\n",
    "#display(df2plot)\n",
    "\n",
    "col_x = \"prots_mean\"\n",
    "col_y = \"prots_var\"\n",
    "legends_by = \"superregnum\"\n",
    "\n",
    "title = \"Uniprot, reference proteomes (protein length)\"\n",
    "x_lab = \"Mean length (aa)\"\n",
    "y_lab = \"Variance\"\n",
    "bool_show_regression = True\n",
    "\n",
    "df2plot = df2plot[[legends_by, col_x, col_y]]\n",
    "print(df2plot.shape)\n",
    "if 0:\n",
    "    df2plot.to_csv(\"~/tmp/goingOn/taylor_Uniprot_prot_df2plot.tsv\", sep=\"\\t\", index=False) # check and erase this file\n",
    "\n",
    "\n",
    "# Sort division_8 in order to plot the clades in an order (everything can be displayed)\n",
    "if 0:\n",
    "    print(df2plot.division_8.unique())\n",
    "df2plot[legends_by] = pd.Categorical(df2plot[legends_by], \n",
    "                                categories=['bacteria', 'archaea', 'eukaryota'],\n",
    "                                ordered=True)\n",
    "df2plot.sort_values(legends_by, inplace=True)\n",
    "\n",
    "plot_taylor(df2plot, col_x, col_y, x_lab, y_lab, title, bool_show_regression)\n",
    "# geom_smooth error... do not concern!"
   ]
  },
  {
   "cell_type": "markdown",
   "id": "e34149b8-4787-496d-bb60-556e5aca7553",
   "metadata": {},
   "source": [
    "---"
   ]
  },
  {
   "cell_type": "markdown",
   "id": "2432c0b0-8633-4018-8679-c0f4f7949237",
   "metadata": {},
   "source": [
    "### Plotting clade by clade:"
   ]
  },
  {
   "cell_type": "code",
   "execution_count": 7,
   "id": "6c34ddca-dec2-40d4-88dc-065fd0563628",
   "metadata": {},
   "outputs": [],
   "source": [
    "if 0:\n",
    "    aux_df = df2plot.copy()\n",
    "    aux_df.rename(columns = {\"mean\" : 'prots_mean', \"var\" : 'prots_var'}, inplace = True)\n",
    "    legends_by = \"superregnum\"\n",
    "    print(aux_df[legends_by].unique().tolist())\n",
    "    print(\"\\nsuperregnum:\\n\", aux_df[legends_by].value_counts(), sep=\"\")\n",
    "    for clade in aux_df[legends_by].unique().tolist(): # for each division\n",
    "        df2plot = aux_df[aux_df[legends_by]==clade] \n",
    "        print(clade)\n",
    "        plot_taylor(df2plot, col_x, col_y, x_lab, y_lab, title, False) # False ->bool_show_regression = False\n",
    "        # Note: it give a geom_text error...do not worry"
   ]
  }
 ],
 "metadata": {
  "kernelspec": {
   "display_name": "Python 3 (ipykernel)",
   "language": "python",
   "name": "python3"
  },
  "language_info": {
   "codemirror_mode": {
    "name": "ipython",
    "version": 3
   },
   "file_extension": ".py",
   "mimetype": "text/x-python",
   "name": "python",
   "nbconvert_exporter": "python",
   "pygments_lexer": "ipython3",
   "version": "3.10.2"
  }
 },
 "nbformat": 4,
 "nbformat_minor": 5
}
