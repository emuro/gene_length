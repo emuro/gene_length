{
 "cells": [
  {
   "cell_type": "markdown",
   "id": "c200a4f3",
   "metadata": {},
   "source": [
    "# [Taylor law](https://en.wikipedia.org/wiki/Taylor%27s_law)"
   ]
  },
  {
   "cell_type": "code",
   "execution_count": 1,
   "id": "51b0a90c",
   "metadata": {},
   "outputs": [],
   "source": [
    "import numpy as np\n",
    "from scipy import stats\n",
    "import os \n",
    "import pandas as pd\n",
    "from plotnine import *"
   ]
  },
  {
   "cell_type": "code",
   "execution_count": null,
   "id": "23d40525-65aa-4a58-881c-72a93960fcbb",
   "metadata": {},
   "outputs": [],
   "source": []
  },
  {
   "cell_type": "markdown",
   "id": "c7b6d3b5",
   "metadata": {},
   "source": [
    "## Observations: Gene length distribution in different species"
   ]
  },
  {
   "cell_type": "markdown",
   "id": "d509543a-9bbf-4428-bb98-a287201ef79d",
   "metadata": {},
   "source": [
    "### Retrieve the statistical description and tax_id of species"
   ]
  },
  {
   "cell_type": "markdown",
   "id": "3a99f2a8-5073-440f-88be-bf0def58ea9d",
   "metadata": {
    "tags": []
   },
   "source": [
    "##### Statistical description data file"
   ]
  },
  {
   "cell_type": "code",
   "execution_count": 2,
   "id": "86b76b58-6c34-4b8a-82b3-f117e835fad0",
   "metadata": {},
   "outputs": [
    {
     "name": "stdout",
     "output_type": "stream",
     "text": [
      "/media/emuro/Wes/results/geneLength/outputInputFiles/analysis/some_statistics/stat_description/all__stat_description.ensembl_v2.0__withLineage.tsv\n"
     ]
    },
    {
     "data": {
      "text/html": [
       "<div>\n",
       "<style scoped>\n",
       "    .dataframe tbody tr th:only-of-type {\n",
       "        vertical-align: middle;\n",
       "    }\n",
       "\n",
       "    .dataframe tbody tr th {\n",
       "        vertical-align: top;\n",
       "    }\n",
       "\n",
       "    .dataframe thead th {\n",
       "        text-align: right;\n",
       "    }\n",
       "</style>\n",
       "<table border=\"1\" class=\"dataframe\">\n",
       "  <thead>\n",
       "    <tr style=\"text-align: right;\">\n",
       "      <th></th>\n",
       "      <th>division_7</th>\n",
       "      <th>division_8</th>\n",
       "      <th>species</th>\n",
       "      <th>count</th>\n",
       "      <th>mean</th>\n",
       "      <th>var</th>\n",
       "      <th>log10_mean</th>\n",
       "      <th>log10_var</th>\n",
       "    </tr>\n",
       "  </thead>\n",
       "  <tbody>\n",
       "    <tr>\n",
       "      <th>0</th>\n",
       "      <td>bacteria</td>\n",
       "      <td>archaea</td>\n",
       "      <td>methanobacterium_bryantii_gca_002287175</td>\n",
       "      <td>3168</td>\n",
       "      <td>840.404040</td>\n",
       "      <td>422343.848699</td>\n",
       "      <td>2.827684</td>\n",
       "      <td>0.082694</td>\n",
       "    </tr>\n",
       "    <tr>\n",
       "      <th>1</th>\n",
       "      <td>bacteria</td>\n",
       "      <td>archaea</td>\n",
       "      <td>methanobacterium_formicicum_gca_000762265</td>\n",
       "      <td>2352</td>\n",
       "      <td>862.427296</td>\n",
       "      <td>347239.612747</td>\n",
       "      <td>2.849723</td>\n",
       "      <td>0.076317</td>\n",
       "    </tr>\n",
       "  </tbody>\n",
       "</table>\n",
       "</div>"
      ],
      "text/plain": [
       "  division_7 division_8                                    species  count  \\\n",
       "0   bacteria    archaea    methanobacterium_bryantii_gca_002287175   3168   \n",
       "1   bacteria    archaea  methanobacterium_formicicum_gca_000762265   2352   \n",
       "\n",
       "         mean            var  log10_mean  log10_var  \n",
       "0  840.404040  422343.848699    2.827684   0.082694  \n",
       "1  862.427296  347239.612747    2.849723   0.076317  "
      ]
     },
     "metadata": {},
     "output_type": "display_data"
    },
    {
     "name": "stdout",
     "output_type": "stream",
     "text": [
      "(33630, 8)\n"
     ]
    }
   ],
   "source": [
    "# system\n",
    "system = list(os.uname())[0]\n",
    "if system == 'Linux':\n",
    "    base_dir = \"/media/emuro/Wes/\"\n",
    "elif system == 'Darwin':\n",
    "    base_dir = \"/Volumes/Wes/\"\n",
    "    \n",
    "# statistics on length distribution for different species     \n",
    "stat_file = base_dir + \"results/geneLength/outputInputFiles/\" + \"analysis/some_statistics/stat_description/\" \n",
    "#stat_file += \"all__stat_description.ensembl.tsv\"\n",
    "stat_file += \"all__stat_description.ensembl_v2.0__withLineage.tsv\"\n",
    "print(stat_file)\n",
    "\n",
    "# retrieve data\n",
    "stat_df = pd.read_csv(stat_file, low_memory=False, sep=\"\\t\")\n",
    "stat_df = stat_df[[\"division_7\", \"division_8\", \"species\", \"count\", \"mean\", \"var\"] + [\"log10_mean\", \"log10_var\"]]\n",
    "#stat_df = stat_df[[\"division_8\"]] \n",
    "# visualize data\n",
    "pd.set_option('display.max_columns', None)\n",
    "if 1:\n",
    "    display(stat_df.head(2))\n",
    "    print(stat_df.shape)"
   ]
  },
  {
   "cell_type": "markdown",
   "id": "3e3a47fb-4f40-4680-86cf-f90970ba1e19",
   "metadata": {},
   "source": [
    "##### Filter some species"
   ]
  },
  {
   "cell_type": "code",
   "execution_count": 3,
   "id": "90d2b7e7-99db-441c-b7d6-f6509e017fa7",
   "metadata": {},
   "outputs": [
    {
     "name": "stdout",
     "output_type": "stream",
     "text": [
      "(33460, 8)\n",
      "bacteria       30555\n",
      "archaea         1228\n",
      "fungi           1007\n",
      "protists         237\n",
      "vertebrates      222\n",
      "metazoa          115\n",
      "plants            96\n",
      "Name: division_8, dtype: int64\n"
     ]
    }
   ],
   "source": [
    "if 0:\n",
    "    print(stat_df[\"division_8\"].value_counts())\n",
    "cond = stat_df[\"division_8\"].isin([\"bacteria\", \"archaea\",\"protists\", \"plants\", \"fungi\", \"metazoa\", \"vertebrates\"])  # avoid: empty or viruses\n",
    "stat_df = stat_df[cond]\n",
    "\n",
    "stat_df = stat_df[stat_df[\"species\"] != \"mus_caroli\"]\n",
    "\n",
    "if 1:\n",
    "    #display(stat_df.head(2))\n",
    "    print(stat_df.shape)\n",
    "    print(stat_df[\"division_8\"].value_counts())"
   ]
  },
  {
   "cell_type": "code",
   "execution_count": null,
   "id": "6297db48-b357-4a5a-99b0-013ba7c504f2",
   "metadata": {},
   "outputs": [],
   "source": []
  },
  {
   "cell_type": "markdown",
   "id": "b7864e7f-66e1-4115-9a45-c2d020171688",
   "metadata": {
    "tags": []
   },
   "source": [
    "## Observed Taylor law: Variance vs Length (genes)\n",
    "$\\sigma^{2}$ is the variance  \n",
    "$\\sigma^{2} = a . \\mu^{\\beta}$  \n",
    "Because: \n",
    "- $\\log(\\sigma^{2}) = \\log(a) + \\beta log(\\mu) $"
   ]
  },
  {
   "cell_type": "code",
   "execution_count": 4,
   "id": "5eb1c776-894f-400a-9166-bc6a5a670389",
   "metadata": {},
   "outputs": [],
   "source": [
    "# FUNCTIONS\n",
    "###########\n",
    "def plot_taylor (df2plot, col_x, col_y, x_lab, y_lab, title, bool_show_regression): \n",
    "    #Calculate best fit line\n",
    "    slope, intercept, r_value, p_value, std_err = stats.linregress(np.log10(df2plot[col_x]),np.log10(df2plot[col_y]))\n",
    "    #Format the regression text\n",
    "    print('v = {:4.4} * m^{:4.4};   R^2= {:2.4f}'.format(10**intercept, slope, r_value**2))\n",
    "    if bool_show_regression:\n",
    "        txt = '$\\sigma^{2} = ' + '{:4.4} '.format(10**intercept)  + '\\t \\mu^{' + '{:4.4}'.format(slope) + '}' + ';\\tR^{2} = ' + '{:2.4f}$'.format(r_value**2)\n",
    "    else:\n",
    "        txt = ''\n",
    "        \n",
    "    p = (   \n",
    "        ggplot(df2plot, aes(col_x, col_y, color=legends_by)) + geom_point(size=0.1) +\n",
    "        geom_smooth(method=\"lm\", color=\"green\", size=0.25, span=.8)+\n",
    "        labs(title=title, x=x_lab, y=y_lab) \n",
    "        + scale_color_manual(values=['#D83B01', '#002050', '#A80000', '#FFA500', '#107C10','#EF008C', '#0078D7', '#B4009E']) # + scale_color_brewer() '#5C2D91'\n",
    "        + labs(color='Clade') # legend title\n",
    "        + scale_x_log10(breaks=[10 ** power for power in range(6)],\n",
    "          limits=[min(df2plot[col_x].to_list())/2, 2*max(df2plot[col_x].to_list())]) \n",
    "        + scale_y_log10(breaks = [10**power for power in range(13)], \n",
    "          limits = [min(df2plot[col_y].to_list())/2,2*max(df2plot[col_y].to_list())])#, labels=scientific_format(digits=2)\n",
    "    ) + theme(legend_position=(0.8,0.3), legend_key_size=5, legend_background=element_rect(fill='grey', alpha=0.01)) + annotate('text', x=0.015*max(df2plot[col_x].to_list()), y=0.65*max(df2plot[col_y].to_list()), label=txt,size=9,color=\"black\")\n",
    "    print(p)"
   ]
  },
  {
   "cell_type": "code",
   "execution_count": null,
   "id": "eb863055-e74d-428c-a2bf-b73f25183ddf",
   "metadata": {},
   "outputs": [],
   "source": []
  },
  {
   "cell_type": "code",
   "execution_count": 5,
   "id": "65579e1f-b037-4b15-969a-784548fe216a",
   "metadata": {},
   "outputs": [
    {
     "name": "stdout",
     "output_type": "stream",
     "text": [
      "(33460, 8)\n",
      "v = 0.01638 * m^2.508;   R^2= 0.9223\n"
     ]
    },
    {
     "data": {
      "image/png": "[encoded data removed]",
      "text/plain": [
       "<Figure size 432x288 with 1 Axes>"
      ]
     },
     "metadata": {},
     "output_type": "display_data"
    },
    {
     "name": "stdout",
     "output_type": "stream",
     "text": [
      "\n"
     ]
    }
   ],
   "source": [
    "col_x = \"mean\"  # prots_mean\n",
    "col_y = \"var\"   # prots_var\n",
    "legends_by = \"division_8\"\n",
    "\n",
    "title = \"Ensembl (protein coding gene length)\" # \"Uniprot, reference Proteomes (protein length)\"\n",
    "x_lab = \"Mean length (nt)\"   # \"mean length (aa)\"\n",
    "y_lab = \"Variance\"\n",
    "bool_show_regression = True\n",
    "\n",
    "df2plot = stat_df\n",
    "print(df2plot.shape)\n",
    "\n",
    "# Sort division_8 in order to plot the clades in an order (everything can be displayed)\n",
    "if 0:\n",
    "    print(df2plot.division_8.unique())\n",
    "df2plot.division_8 = pd.Categorical(df2plot.division_8, \n",
    "                                categories=['bacteria', 'archaea', 'fungi', 'protists', 'plants', 'metazoa', 'vertebrates'],\n",
    "                                ordered=True)\n",
    "df2plot.sort_values('division_8', inplace=True)\n",
    "\n",
    "plot_taylor(df2plot, col_x, col_y, x_lab, y_lab, title, bool_show_regression)"
   ]
  },
  {
   "cell_type": "code",
   "execution_count": null,
   "id": "aeb92b77-7306-4b0d-b960-4c31b312a9d1",
   "metadata": {},
   "outputs": [],
   "source": []
  },
  {
   "cell_type": "markdown",
   "id": "2432c0b0-8633-4018-8679-c0f4f7949237",
   "metadata": {},
   "source": [
    "### Analyzing clade by clade:"
   ]
  },
  {
   "cell_type": "code",
   "execution_count": 6,
   "id": "6c34ddca-dec2-40d4-88dc-065fd0563628",
   "metadata": {},
   "outputs": [],
   "source": [
    "for clado in stat_df[\"division_8\"].unique().tolist(): # for each division\n",
    "    df2plot = stat_df[stat_df[\"division_8\"]==clado]\n",
    "    if 0: # Set up to 1 for plotting by division \n",
    "        plot_taylor(df2plot, col_x, col_y, x_lab, y_lab, title, False) # False ->bool_show_regression = False"
   ]
  },
  {
   "cell_type": "code",
   "execution_count": null,
   "id": "1dfd7f80-9f99-45ce-ba0b-92441a0e2bd0",
   "metadata": {},
   "outputs": [],
   "source": []
  }
 ],
 "metadata": {
  "kernelspec": {
   "display_name": "Python 3 (ipykernel)",
   "language": "python",
   "name": "python3"
  },
  "language_info": {
   "codemirror_mode": {
    "name": "ipython",
    "version": 3
   },
   "file_extension": ".py",
   "mimetype": "text/x-python",
   "name": "python",
   "nbconvert_exporter": "python",
   "pygments_lexer": "ipython3",
   "version": "3.10.4"
  }
 },
 "nbformat": 4,
 "nbformat_minor": 5
}
