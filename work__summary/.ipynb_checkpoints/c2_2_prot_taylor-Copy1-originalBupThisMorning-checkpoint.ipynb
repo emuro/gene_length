{
 "cells": [
  {
   "cell_type": "markdown",
   "id": "c200a4f3",
   "metadata": {},
   "source": [
    "# [Taylor law](https://en.wikipedia.org/wiki/Taylor%27s_law)"
   ]
  },
  {
   "cell_type": "code",
   "execution_count": 1,
   "id": "51b0a90c",
   "metadata": {},
   "outputs": [],
   "source": [
    "import numpy as np\n",
    "from scipy import stats\n",
    "import os \n",
    "import pandas as pd\n",
    "from plotnine import *"
   ]
  },
  {
   "cell_type": "code",
   "execution_count": null,
   "id": "23d40525-65aa-4a58-881c-72a93960fcbb",
   "metadata": {
    "tags": []
   },
   "outputs": [],
   "source": []
  },
  {
   "cell_type": "markdown",
   "id": "85705a66-f9f0-40e6-80eb-ea6d5f01193f",
   "metadata": {},
   "source": [
    "## Observations: Protein length distribution in different species"
   ]
  },
  {
   "cell_type": "markdown",
   "id": "01da8852-4215-4c64-b360-99e569801bdd",
   "metadata": {},
   "source": [
    "### Retrieve the statistical description and tax_id of species"
   ]
  },
  {
   "cell_type": "markdown",
   "id": "8fd8d5f7-0461-4338-89ef-6b20f679cdad",
   "metadata": {
    "tags": []
   },
   "source": [
    "##### Statistical description data file"
   ]
  },
  {
   "cell_type": "code",
   "execution_count": 2,
   "id": "d892fcdf-a696-4cc1-9cd8-0f888c093351",
   "metadata": {},
   "outputs": [
    {
     "name": "stdout",
     "output_type": "stream",
     "text": [
      "/media/emuro/Wes/results/geneLength/outputInputFiles/analysis/some_statistics/stat_description/proteins/stat_description.protein.uniprot_reference_proteome__withLineage.tsv\n"
     ]
    },
    {
     "data": {
      "text/html": [
       "<div>\n",
       "<style scoped>\n",
       "    .dataframe tbody tr th:only-of-type {\n",
       "        vertical-align: middle;\n",
       "    }\n",
       "\n",
       "    .dataframe tbody tr th {\n",
       "        vertical-align: top;\n",
       "    }\n",
       "\n",
       "    .dataframe thead th {\n",
       "        text-align: right;\n",
       "    }\n",
       "</style>\n",
       "<table border=\"1\" class=\"dataframe\">\n",
       "  <thead>\n",
       "    <tr style=\"text-align: right;\">\n",
       "      <th></th>\n",
       "      <th>species</th>\n",
       "      <th>proteome_id</th>\n",
       "      <th>tax_id</th>\n",
       "      <th>superregnum</th>\n",
       "      <th>num_prot_cod_genes</th>\n",
       "      <th>uniprot_fasta_file</th>\n",
       "      <th>count</th>\n",
       "      <th>mean</th>\n",
       "      <th>std</th>\n",
       "      <th>var</th>\n",
       "      <th>min</th>\n",
       "      <th>25perc</th>\n",
       "      <th>50perc</th>\n",
       "      <th>75perc</th>\n",
       "      <th>max</th>\n",
       "      <th>log10_mean</th>\n",
       "      <th>log10_std</th>\n",
       "      <th>log10_var</th>\n",
       "      <th>log10_min</th>\n",
       "      <th>log10_25perc</th>\n",
       "      <th>log10_50perc</th>\n",
       "      <th>log10_75perc</th>\n",
       "      <th>log10_max</th>\n",
       "      <th>log_mean</th>\n",
       "      <th>log_std</th>\n",
       "      <th>log_var</th>\n",
       "      <th>log_min</th>\n",
       "      <th>log_25perc</th>\n",
       "      <th>log_50perc</th>\n",
       "      <th>log_75perc</th>\n",
       "      <th>log_max</th>\n",
       "      <th>Scientific_name</th>\n",
       "      <th>Rank</th>\n",
       "      <th>Lineage</th>\n",
       "      <th>division_4_byLineage</th>\n",
       "      <th>Virus_host</th>\n",
       "      <th>superregnum_lineage</th>\n",
       "      <th>bool_Rank</th>\n",
       "    </tr>\n",
       "  </thead>\n",
       "  <tbody>\n",
       "    <tr>\n",
       "      <th>0</th>\n",
       "      <td>Halorubrum saccharovorum</td>\n",
       "      <td>UP000053331</td>\n",
       "      <td>2248</td>\n",
       "      <td>archaea</td>\n",
       "      <td>2334</td>\n",
       "      <td>/ftp.uniprot.org/pub/databases/uniprot/current...</td>\n",
       "      <td>2334.0</td>\n",
       "      <td>250.641817</td>\n",
       "      <td>169.730987</td>\n",
       "      <td>28808.608041</td>\n",
       "      <td>29.0</td>\n",
       "      <td>127.0</td>\n",
       "      <td>208.5</td>\n",
       "      <td>330.0</td>\n",
       "      <td>1869.0</td>\n",
       "      <td>2.310023</td>\n",
       "      <td>0.280604</td>\n",
       "      <td>0.078739</td>\n",
       "      <td>1.462398</td>\n",
       "      <td>2.103804</td>\n",
       "      <td>2.319105</td>\n",
       "      <td>2.518514</td>\n",
       "      <td>3.271609</td>\n",
       "      <td>5.319025</td>\n",
       "      <td>0.646115</td>\n",
       "      <td>0.417465</td>\n",
       "      <td>3.367296</td>\n",
       "      <td>4.844187</td>\n",
       "      <td>5.339936</td>\n",
       "      <td>5.799093</td>\n",
       "      <td>7.533159</td>\n",
       "      <td>Halorubrum saccharovorum</td>\n",
       "      <td>Species</td>\n",
       "      <td>Archaea; Euryarchaeota; Stenosarchaea group; H...</td>\n",
       "      <td>Archaea</td>\n",
       "      <td>NaN</td>\n",
       "      <td>archaea</td>\n",
       "      <td>1</td>\n",
       "    </tr>\n",
       "    <tr>\n",
       "      <th>1</th>\n",
       "      <td>Pyrodictium occultum</td>\n",
       "      <td>UP000053352</td>\n",
       "      <td>2309</td>\n",
       "      <td>archaea</td>\n",
       "      <td>1602</td>\n",
       "      <td>/ftp.uniprot.org/pub/databases/uniprot/current...</td>\n",
       "      <td>1602.0</td>\n",
       "      <td>285.092385</td>\n",
       "      <td>186.591395</td>\n",
       "      <td>34816.348736</td>\n",
       "      <td>48.0</td>\n",
       "      <td>151.0</td>\n",
       "      <td>248.0</td>\n",
       "      <td>370.0</td>\n",
       "      <td>1504.0</td>\n",
       "      <td>2.372852</td>\n",
       "      <td>0.270438</td>\n",
       "      <td>0.073136</td>\n",
       "      <td>1.681241</td>\n",
       "      <td>2.178977</td>\n",
       "      <td>2.394452</td>\n",
       "      <td>2.568202</td>\n",
       "      <td>3.177248</td>\n",
       "      <td>5.463693</td>\n",
       "      <td>0.622705</td>\n",
       "      <td>0.387762</td>\n",
       "      <td>3.871201</td>\n",
       "      <td>5.017280</td>\n",
       "      <td>5.513429</td>\n",
       "      <td>5.913503</td>\n",
       "      <td>7.315884</td>\n",
       "      <td>Pyrodictium occultum</td>\n",
       "      <td>Species</td>\n",
       "      <td>Archaea; Crenarchaeota; Thermoprotei; Desulfur...</td>\n",
       "      <td>Archaea</td>\n",
       "      <td>NaN</td>\n",
       "      <td>archaea</td>\n",
       "      <td>1</td>\n",
       "    </tr>\n",
       "  </tbody>\n",
       "</table>\n",
       "</div>"
      ],
      "text/plain": [
       "                    species  proteome_id  tax_id superregnum  \\\n",
       "0  Halorubrum saccharovorum  UP000053331    2248     archaea   \n",
       "1      Pyrodictium occultum  UP000053352    2309     archaea   \n",
       "\n",
       "   num_prot_cod_genes                                 uniprot_fasta_file  \\\n",
       "0                2334  /ftp.uniprot.org/pub/databases/uniprot/current...   \n",
       "1                1602  /ftp.uniprot.org/pub/databases/uniprot/current...   \n",
       "\n",
       "    count        mean         std           var   min  25perc  50perc  75perc  \\\n",
       "0  2334.0  250.641817  169.730987  28808.608041  29.0   127.0   208.5   330.0   \n",
       "1  1602.0  285.092385  186.591395  34816.348736  48.0   151.0   248.0   370.0   \n",
       "\n",
       "      max  log10_mean  log10_std  log10_var  log10_min  log10_25perc  \\\n",
       "0  1869.0    2.310023   0.280604   0.078739   1.462398      2.103804   \n",
       "1  1504.0    2.372852   0.270438   0.073136   1.681241      2.178977   \n",
       "\n",
       "   log10_50perc  log10_75perc  log10_max  log_mean   log_std   log_var  \\\n",
       "0      2.319105      2.518514   3.271609  5.319025  0.646115  0.417465   \n",
       "1      2.394452      2.568202   3.177248  5.463693  0.622705  0.387762   \n",
       "\n",
       "    log_min  log_25perc  log_50perc  log_75perc   log_max  \\\n",
       "0  3.367296    4.844187    5.339936    5.799093  7.533159   \n",
       "1  3.871201    5.017280    5.513429    5.913503  7.315884   \n",
       "\n",
       "            Scientific_name     Rank  \\\n",
       "0  Halorubrum saccharovorum  Species   \n",
       "1      Pyrodictium occultum  Species   \n",
       "\n",
       "                                             Lineage division_4_byLineage  \\\n",
       "0  Archaea; Euryarchaeota; Stenosarchaea group; H...              Archaea   \n",
       "1  Archaea; Crenarchaeota; Thermoprotei; Desulfur...              Archaea   \n",
       "\n",
       "  Virus_host superregnum_lineage bool_Rank  \n",
       "0        NaN             archaea         1  \n",
       "1        NaN             archaea         1  "
      ]
     },
     "metadata": {},
     "output_type": "display_data"
    },
    {
     "name": "stdout",
     "output_type": "stream",
     "text": [
      "(19854, 38)\n"
     ]
    }
   ],
   "source": [
    "# system\n",
    "system = list(os.uname())[0]\n",
    "if system == 'Linux':\n",
    "    base_dir = \"/media/emuro/Wes/\"\n",
    "elif system == 'Darwin':\n",
    "    base_dir = \"/Volumes/Wes/\"\n",
    "    \n",
    "# statistics on length distribution for different species     \n",
    "stat_file = base_dir + \"results/geneLength/outputInputFiles/\" + \"analysis/some_statistics/stat_description/\" \n",
    "stat_file += \"proteins/stat_description.protein.uniprot_reference_proteome__withLineage.tsv\"\n",
    "print(stat_file)\n",
    "\n",
    "# retrieve data\n",
    "stat_df = pd.read_csv(stat_file, low_memory=False, sep=\"\\t\")\n",
    "#stat_df = stat_df[[\"superregnum\", \"species\", \"proteome_id\", \"tax_id\", \"uniprot_fasta_file\", \"count\", \"mean\", \"var\"] + [\"log10_mean\", \"log10_var\"]]\n",
    "\n",
    "# visualize data\n",
    "pd.set_option('display.max_columns', None)\n",
    "if 1:\n",
    "    display(stat_df.head(2))\n",
    "    print(stat_df.shape)"
   ]
  },
  {
   "cell_type": "code",
   "execution_count": null,
   "id": "c7ff1aed-e92e-4b2a-82c3-c6bed069e33f",
   "metadata": {},
   "outputs": [],
   "source": []
  },
  {
   "cell_type": "markdown",
   "id": "3e3a47fb-4f40-4680-86cf-f90970ba1e19",
   "metadata": {},
   "source": [
    "##### Filter some species"
   ]
  },
  {
   "cell_type": "code",
   "execution_count": 3,
   "id": "90d2b7e7-99db-441c-b7d6-f6509e017fa7",
   "metadata": {},
   "outputs": [
    {
     "name": "stdout",
     "output_type": "stream",
     "text": [
      "(19854, 38)\n",
      "viruses      9939\n",
      "bacteria     7997\n",
      "eukaryota    1588\n",
      "archaea       330\n",
      "Name: superregnum, dtype: int64\n",
      "(9915, 38)\n",
      "bacteria     7986\n",
      "eukaryota    1586\n",
      "archaea       330\n",
      "Name: superregnum_lineage, dtype: int64\n"
     ]
    }
   ],
   "source": [
    "if 1:\n",
    "    print(stat_df.shape)\n",
    "    print(stat_df[\"superregnum\"].value_counts())\n",
    "cond = stat_df[\"superregnum\"].isin([\"bacteria\", \"archaea\", \"eukaryota\"])  # avoid: empty or viruses\n",
    "stat_df = stat_df[cond]\n",
    "\n",
    "\n",
    "# filter viruses\n",
    "stat_df = stat_df[stat_df[\"superregnum\"] != \"viruses\"]\n",
    "\n",
    "# No hace falta eliminar Mus caroli (eliminado en la taylor de genes), porque no está en los proteomas referencia\n",
    "\n",
    "if 1:\n",
    "    #display(stat_df.head(2))\n",
    "    print(stat_df.shape)\n",
    "    print(stat_df[\"superregnum_lineage\"].value_counts())"
   ]
  },
  {
   "cell_type": "code",
   "execution_count": null,
   "id": "6297db48-b357-4a5a-99b0-013ba7c504f2",
   "metadata": {},
   "outputs": [],
   "source": []
  },
  {
   "cell_type": "markdown",
   "id": "b7864e7f-66e1-4115-9a45-c2d020171688",
   "metadata": {
    "tags": []
   },
   "source": [
    "## Observed Taylor law: Variance vs Length (proteins)\n",
    "$\\sigma^{2}$ is the variance  \n",
    "$\\sigma^{2} = a . \\mu^{\\beta}$  \n",
    "Because: \n",
    "- $\\log(\\sigma^{2}) = \\log(a) + \\beta log(\\mu) $"
   ]
  },
  {
   "cell_type": "code",
   "execution_count": 4,
   "id": "5eb1c776-894f-400a-9166-bc6a5a670389",
   "metadata": {},
   "outputs": [],
   "source": [
    "# FUNCTIONS\n",
    "###########\n",
    "def plot_taylor (df2plot, col_x, col_y, x_lab, y_lab, title, bool_show_regression): \n",
    "    #Calculate best fit line\n",
    "    slope, intercept, r_value, p_value, std_err = stats.linregress(np.log10(df2plot[col_x]),np.log10(df2plot[col_y]))\n",
    "    #Format the regression text\n",
    "    print('v = {:4.4} * m^{:4.4};   R^2= {:2.4f}'.format(10**intercept, slope, r_value**2))\n",
    "    if bool_show_regression:\n",
    "        txt = '$\\sigma^{2} = ' + '{:4.4} '.format(10**intercept)  + '\\t \\mu^{' + '{:4.4}'.format(slope) + '}' + ';\\tR^{2} = ' + '{:2.4f}$'.format(r_value**2)\n",
    "    else:\n",
    "        txt = ''\n",
    "        \n",
    "    p = (   \n",
    "        ggplot(df2plot, aes(col_x, col_y, color=legends_by)) + geom_point(size=0.1) +\n",
    "        geom_smooth(method=\"lm\", color=\"green\", size=0.25, span=.8)+\n",
    "        labs(title=title, x=x_lab, y=y_lab) \n",
    "        + scale_color_manual(values=['#D83B01', '#002050', '#A80000', '#FFA500', '#107C10','#EF008C', '#0078D7', '#B4009E']) # + scale_color_brewer() '#5C2D91'\n",
    "        + labs(color='Clade') # legend title\n",
    "        + scale_x_log10(breaks=[10 ** power for power in range(6)],\n",
    "          limits=[min(df2plot[col_x].to_list())/2, 2*max(df2plot[col_x].to_list())]) \n",
    "        + scale_y_log10(breaks = [10**power for power in range(13)], \n",
    "          limits = [min(df2plot[col_y].to_list())/2,2*max(df2plot[col_y].to_list())])#, labels=scientific_format(digits=2)\n",
    "    ) + theme(legend_position=(0.8,0.3), legend_key_size=5, legend_background=element_rect(fill='grey', alpha=0.01)) + annotate('text', x=0.015*max(df2plot[col_x].to_list()), y=0.65*max(df2plot[col_y].to_list()), label=txt,size=9,color=\"black\")\n",
    "    print(p)"
   ]
  },
  {
   "cell_type": "code",
   "execution_count": null,
   "id": "eb863055-e74d-428c-a2bf-b73f25183ddf",
   "metadata": {},
   "outputs": [],
   "source": []
  },
  {
   "cell_type": "code",
   "execution_count": 5,
   "id": "65579e1f-b037-4b15-969a-784548fe216a",
   "metadata": {},
   "outputs": [
    {
     "name": "stdout",
     "output_type": "stream",
     "text": [
      "(9915, 38)\n"
     ]
    },
    {
     "ename": "AttributeError",
     "evalue": "'DataFrame' object has no attribute 'division_8'",
     "output_type": "error",
     "traceback": [
      "\u001b[0;31m---------------------------------------------------------------------------\u001b[0m",
      "\u001b[0;31mAttributeError\u001b[0m                            Traceback (most recent call last)",
      "Input \u001b[0;32mIn [5]\u001b[0m, in \u001b[0;36m<cell line: 16>\u001b[0;34m()\u001b[0m\n\u001b[1;32m     14\u001b[0m \u001b[38;5;28;01mif\u001b[39;00m \u001b[38;5;241m0\u001b[39m:\n\u001b[1;32m     15\u001b[0m     \u001b[38;5;28mprint\u001b[39m(df2plot\u001b[38;5;241m.\u001b[39mdivision_8\u001b[38;5;241m.\u001b[39munique())\n\u001b[0;32m---> 16\u001b[0m df2plot\u001b[38;5;241m.\u001b[39mdivision_8 \u001b[38;5;241m=\u001b[39m pd\u001b[38;5;241m.\u001b[39mCategorical(\u001b[43mdf2plot\u001b[49m\u001b[38;5;241;43m.\u001b[39;49m\u001b[43mdivision_8\u001b[49m, \n\u001b[1;32m     17\u001b[0m                                 categories\u001b[38;5;241m=\u001b[39m[\u001b[38;5;124m'\u001b[39m\u001b[38;5;124mbacteria\u001b[39m\u001b[38;5;124m'\u001b[39m, \u001b[38;5;124m'\u001b[39m\u001b[38;5;124marchaea\u001b[39m\u001b[38;5;124m'\u001b[39m, \u001b[38;5;124m'\u001b[39m\u001b[38;5;124mfungi\u001b[39m\u001b[38;5;124m'\u001b[39m, \u001b[38;5;124m'\u001b[39m\u001b[38;5;124mprotists\u001b[39m\u001b[38;5;124m'\u001b[39m, \u001b[38;5;124m'\u001b[39m\u001b[38;5;124mplants\u001b[39m\u001b[38;5;124m'\u001b[39m, \u001b[38;5;124m'\u001b[39m\u001b[38;5;124mmetazoa\u001b[39m\u001b[38;5;124m'\u001b[39m, \u001b[38;5;124m'\u001b[39m\u001b[38;5;124mvertebrates\u001b[39m\u001b[38;5;124m'\u001b[39m],\n\u001b[1;32m     18\u001b[0m                                 ordered\u001b[38;5;241m=\u001b[39m\u001b[38;5;28;01mTrue\u001b[39;00m)\n\u001b[1;32m     19\u001b[0m df2plot\u001b[38;5;241m.\u001b[39msort_values(\u001b[38;5;124m'\u001b[39m\u001b[38;5;124mdivision_8\u001b[39m\u001b[38;5;124m'\u001b[39m, inplace\u001b[38;5;241m=\u001b[39m\u001b[38;5;28;01mTrue\u001b[39;00m)\n\u001b[1;32m     21\u001b[0m plot_taylor(df2plot, col_x, col_y, x_lab, y_lab, title, bool_show_regression)\n",
      "File \u001b[0;32m~/python-my_venv/python3.10/my_env/lib/python3.10/site-packages/pandas/core/generic.py:5575\u001b[0m, in \u001b[0;36mNDFrame.__getattr__\u001b[0;34m(self, name)\u001b[0m\n\u001b[1;32m   5568\u001b[0m \u001b[38;5;28;01mif\u001b[39;00m (\n\u001b[1;32m   5569\u001b[0m     name \u001b[38;5;129;01mnot\u001b[39;00m \u001b[38;5;129;01min\u001b[39;00m \u001b[38;5;28mself\u001b[39m\u001b[38;5;241m.\u001b[39m_internal_names_set\n\u001b[1;32m   5570\u001b[0m     \u001b[38;5;129;01mand\u001b[39;00m name \u001b[38;5;129;01mnot\u001b[39;00m \u001b[38;5;129;01min\u001b[39;00m \u001b[38;5;28mself\u001b[39m\u001b[38;5;241m.\u001b[39m_metadata\n\u001b[1;32m   5571\u001b[0m     \u001b[38;5;129;01mand\u001b[39;00m name \u001b[38;5;129;01mnot\u001b[39;00m \u001b[38;5;129;01min\u001b[39;00m \u001b[38;5;28mself\u001b[39m\u001b[38;5;241m.\u001b[39m_accessors\n\u001b[1;32m   5572\u001b[0m     \u001b[38;5;129;01mand\u001b[39;00m \u001b[38;5;28mself\u001b[39m\u001b[38;5;241m.\u001b[39m_info_axis\u001b[38;5;241m.\u001b[39m_can_hold_identifiers_and_holds_name(name)\n\u001b[1;32m   5573\u001b[0m ):\n\u001b[1;32m   5574\u001b[0m     \u001b[38;5;28;01mreturn\u001b[39;00m \u001b[38;5;28mself\u001b[39m[name]\n\u001b[0;32m-> 5575\u001b[0m \u001b[38;5;28;01mreturn\u001b[39;00m \u001b[38;5;28;43mobject\u001b[39;49m\u001b[38;5;241;43m.\u001b[39;49m\u001b[38;5;21;43m__getattribute__\u001b[39;49m\u001b[43m(\u001b[49m\u001b[38;5;28;43mself\u001b[39;49m\u001b[43m,\u001b[49m\u001b[43m \u001b[49m\u001b[43mname\u001b[49m\u001b[43m)\u001b[49m\n",
      "\u001b[0;31mAttributeError\u001b[0m: 'DataFrame' object has no attribute 'division_8'"
     ]
    }
   ],
   "source": [
    "col_x = \"mean\"  # prots_mean\n",
    "col_y = \"var\"   # prots_var\n",
    "legends_by = \"division_8\"\n",
    "\n",
    "title = \"Ensembl (protein coding gene length)\" # \"Uniprot, reference Proteomes (protein length)\"\n",
    "x_lab = \"Mean length (nt)\"   # \"mean length (aa)\"\n",
    "y_lab = \"Variance\"\n",
    "bool_show_regression = True\n",
    "\n",
    "df2plot = stat_df\n",
    "print(df2plot.shape)\n",
    "\n",
    "# Sort division_8 in order to plot the clades in an order (everything can be displayed)\n",
    "if 0:\n",
    "    print(df2plot.division_8.unique())\n",
    "df2plot.division_8 = pd.Categorical(df2plot.division_8, \n",
    "                                categories=['bacteria', 'archaea', 'fungi', 'protists', 'plants', 'metazoa', 'vertebrates'],\n",
    "                                ordered=True)\n",
    "df2plot.sort_values('division_8', inplace=True)\n",
    "\n",
    "plot_taylor(df2plot, col_x, col_y, x_lab, y_lab, title, bool_show_regression)"
   ]
  },
  {
   "cell_type": "code",
   "execution_count": null,
   "id": "aeb92b77-7306-4b0d-b960-4c31b312a9d1",
   "metadata": {},
   "outputs": [],
   "source": []
  },
  {
   "cell_type": "markdown",
   "id": "2432c0b0-8633-4018-8679-c0f4f7949237",
   "metadata": {},
   "source": [
    "### Analyzing clade by clade:"
   ]
  },
  {
   "cell_type": "code",
   "execution_count": null,
   "id": "6c34ddca-dec2-40d4-88dc-065fd0563628",
   "metadata": {},
   "outputs": [],
   "source": [
    "for clado in stat_df[\"division_8\"].unique().tolist(): # for each division\n",
    "    df2plot = stat_df[stat_df[\"division_8\"]==clado]\n",
    "    if 0: # Set up to 1 for plotting by division \n",
    "        plot_taylor(df2plot, col_x, col_y, x_lab, y_lab, title, False) # False ->bool_show_regression = False"
   ]
  },
  {
   "cell_type": "code",
   "execution_count": null,
   "id": "1dfd7f80-9f99-45ce-ba0b-92441a0e2bd0",
   "metadata": {},
   "outputs": [],
   "source": []
  }
 ],
 "metadata": {
  "kernelspec": {
   "display_name": "Python 3 (ipykernel)",
   "language": "python",
   "name": "python3"
  },
  "language_info": {
   "codemirror_mode": {
    "name": "ipython",
    "version": 3
   },
   "file_extension": ".py",
   "mimetype": "text/x-python",
   "name": "python",
   "nbconvert_exporter": "python",
   "pygments_lexer": "ipython3",
   "version": "3.10.4"
  }
 },
 "nbformat": 4,
 "nbformat_minor": 5
}
