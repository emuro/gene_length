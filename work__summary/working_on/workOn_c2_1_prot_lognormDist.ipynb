{
 "cells": [
  {
   "cell_type": "markdown",
   "id": "c200a4f3",
   "metadata": {},
   "source": [
    "# [Log-normal distribution](https://en.wikipedia.org/wiki/Log-normal_distribution)"
   ]
  },
  {
   "cell_type": "markdown",
   "id": "45a518ef",
   "metadata": {},
   "source": [
    "## Probability density function\n",
    "\n",
    "$ f(x) = \\frac{1}{ \\sigma \\sqrt{2 \\pi}} e^- \\frac{1}{2} {(\\frac{(x-\\mu)}{\\sigma})}^{2} $"
   ]
  },
  {
   "cell_type": "code",
   "execution_count": 1,
   "id": "51b0a90c",
   "metadata": {},
   "outputs": [],
   "source": [
    "import numpy as np\n",
    "import matplotlib.pyplot as plt\n",
    "from scipy import stats\n",
    "import os \n",
    "import pandas as pd\n",
    "import math"
   ]
  },
  {
   "cell_type": "code",
   "execution_count": null,
   "id": "23d40525-65aa-4a58-881c-72a93960fcbb",
   "metadata": {},
   "outputs": [],
   "source": []
  },
  {
   "cell_type": "markdown",
   "id": "c7b6d3b5",
   "metadata": {},
   "source": [
    "## Observations: Protein length distribution in different species"
   ]
  },
  {
   "cell_type": "markdown",
   "id": "d509543a-9bbf-4428-bb98-a287201ef79d",
   "metadata": {},
   "source": [
    "### Retrieve the statistical description and tax_id of species"
   ]
  },
  {
   "cell_type": "markdown",
   "id": "3a99f2a8-5073-440f-88be-bf0def58ea9d",
   "metadata": {
    "tags": []
   },
   "source": [
    "##### Statistical description data file"
   ]
  },
  {
   "cell_type": "code",
   "execution_count": 2,
   "id": "86b76b58-6c34-4b8a-82b3-f117e835fad0",
   "metadata": {},
   "outputs": [
    {
     "name": "stdout",
     "output_type": "stream",
     "text": [
      "/media/emuro/Wes/results/geneLength/outputInputFiles/analysis/some_statistics/stat_description/proteins/stat_description.protein.uniprot_reference_proteome.tsv\n"
     ]
    },
    {
     "data": {
      "text/html": [
       "<div>\n",
       "<style scoped>\n",
       "    .dataframe tbody tr th:only-of-type {\n",
       "        vertical-align: middle;\n",
       "    }\n",
       "\n",
       "    .dataframe tbody tr th {\n",
       "        vertical-align: top;\n",
       "    }\n",
       "\n",
       "    .dataframe thead th {\n",
       "        text-align: right;\n",
       "    }\n",
       "</style>\n",
       "<table border=\"1\" class=\"dataframe\">\n",
       "  <thead>\n",
       "    <tr style=\"text-align: right;\">\n",
       "      <th></th>\n",
       "      <th>superregnum</th>\n",
       "      <th>species</th>\n",
       "      <th>proteome_id</th>\n",
       "      <th>tax_id</th>\n",
       "      <th>uniprot_fasta_file</th>\n",
       "      <th>count</th>\n",
       "      <th>mean</th>\n",
       "      <th>var</th>\n",
       "      <th>log10_mean</th>\n",
       "      <th>log10_var</th>\n",
       "    </tr>\n",
       "  </thead>\n",
       "  <tbody>\n",
       "    <tr>\n",
       "      <th>0</th>\n",
       "      <td>bacteria</td>\n",
       "      <td>Kurthia sp. 3B1D</td>\n",
       "      <td>UP000288623</td>\n",
       "      <td>1562256</td>\n",
       "      <td>/ftp.uniprot.org/pub/databases/uniprot/current...</td>\n",
       "      <td>3621.0</td>\n",
       "      <td>285.936205</td>\n",
       "      <td>36171.895653</td>\n",
       "      <td>2.372531</td>\n",
       "      <td>0.075378</td>\n",
       "    </tr>\n",
       "    <tr>\n",
       "      <th>1</th>\n",
       "      <td>viruses</td>\n",
       "      <td>Prochlorococcus phage P-GSP1</td>\n",
       "      <td>UP000204021</td>\n",
       "      <td>382262</td>\n",
       "      <td>/ftp.uniprot.org/pub/databases/uniprot/current...</td>\n",
       "      <td>49.0</td>\n",
       "      <td>238.285714</td>\n",
       "      <td>73651.083333</td>\n",
       "      <td>2.180820</td>\n",
       "      <td>0.155233</td>\n",
       "    </tr>\n",
       "  </tbody>\n",
       "</table>\n",
       "</div>"
      ],
      "text/plain": [
       "  superregnum                       species  proteome_id   tax_id  \\\n",
       "0    bacteria              Kurthia sp. 3B1D  UP000288623  1562256   \n",
       "1     viruses  Prochlorococcus phage P-GSP1  UP000204021   382262   \n",
       "\n",
       "                                  uniprot_fasta_file   count        mean  \\\n",
       "0  /ftp.uniprot.org/pub/databases/uniprot/current...  3621.0  285.936205   \n",
       "1  /ftp.uniprot.org/pub/databases/uniprot/current...    49.0  238.285714   \n",
       "\n",
       "            var  log10_mean  log10_var  \n",
       "0  36171.895653    2.372531   0.075378  \n",
       "1  73651.083333    2.180820   0.155233  "
      ]
     },
     "metadata": {},
     "output_type": "display_data"
    },
    {
     "name": "stdout",
     "output_type": "stream",
     "text": [
      "(19854, 10)\n"
     ]
    }
   ],
   "source": [
    "# system\n",
    "system = list(os.uname())[0]\n",
    "if system == 'Linux':\n",
    "    base_dir = \"/media/emuro/Wes/\"\n",
    "elif system == 'Darwin':\n",
    "    base_dir = \"/Volumes/Wes/\"\n",
    "    \n",
    "# statistics on length distribution for different species     \n",
    "stat_file = base_dir + \"results/geneLength/outputInputFiles/\" + \"analysis/some_statistics/stat_description/\" \n",
    "stat_file += \"proteins/stat_description.protein.uniprot_reference_proteome.tsv\"\n",
    "print(stat_file)\n",
    "\n",
    "# retrieve data\n",
    "stat_df = pd.read_csv(stat_file, low_memory=False, sep=\"\\t\")\n",
    "stat_df = stat_df[[\"superregnum\", \"species\", \"proteome_id\", \"tax_id\", \"uniprot_fasta_file\", \"count\", \"mean\", \"var\"] + [\"log10_mean\", \"log10_var\"]]\n",
    "\n",
    "# visualize data\n",
    "pd.set_option('display.max_columns', None)\n",
    "if 1:\n",
    "    display(stat_df.head(2))\n",
    "    print(stat_df.shape)"
   ]
  },
  {
   "cell_type": "markdown",
   "id": "90f579b7-b71a-4480-a1cf-e09eb5ce6660",
   "metadata": {},
   "source": [
    "**Notes**: \n",
    "- Every species have a different tax_id\n",
    "- Lots of \"viruses\" (9,915 that can be removed from here)"
   ]
  },
  {
   "cell_type": "markdown",
   "id": "f3e0f1c2-8d19-41d5-b801-d13234bfc430",
   "metadata": {},
   "source": [
    "**Check**: A lot of species have more than one instance"
   ]
  },
  {
   "cell_type": "code",
   "execution_count": null,
   "id": "74385597-4582-4ea2-b11c-bf2f271ff573",
   "metadata": {},
   "outputs": [],
   "source": []
  },
  {
   "cell_type": "markdown",
   "id": "b7864e7f-66e1-4115-9a45-c2d020171688",
   "metadata": {
    "tags": []
   },
   "source": [
    "## Python functions"
   ]
  },
  {
   "cell_type": "code",
   "execution_count": 3,
   "id": "5eb1c776-894f-400a-9166-bc6a5a670389",
   "metadata": {},
   "outputs": [],
   "source": [
    "# Function to plot the normal distribution\n",
    "# blue: Observation\n",
    "# red: Theoretical/Simulation\n",
    "##########################################\n",
    "def plot_log_norm (log10_len, mu, sigma, N, title, subtitle, xlabel, ylabel): # N is number of \n",
    "    print(\"N:\", N, \"mu:\", mu, \"\\tsigma:\", sigma)\n",
    "    # my_normal_dist = np.random.normal(mu, sigma, N)  # no need to find a theoretical\n",
    "    count, bins, *rest = plt.hist(log10_len, 60, density=True, alpha=0.4, edgecolor='black')\n",
    "    \n",
    "    # plt.hist(my_normal_dist, 30, density=True, alpha=0.25, color=\"r\")\n",
    "    # print(count); print(bins); print(*rest)\n",
    "    plt.plot(bins, 1/(sigma * np.sqrt(2 * np.pi)) *\n",
    "             np.exp( - (bins - mu)**2 / (2 * sigma**2) ),\n",
    "             linewidth=2, color='r', alpha=0.5)\n",
    "\n",
    "    plt.vlines(x = mu, ymin = 0, ymax = 0.2, colors = 'white', label = 'mean') # mean\n",
    "    plt.xlim([1,7]); plt.ylim([0,1.5])\n",
    "    plt.suptitle(title); plt.title(subtitle + \" (N=\" + str(int(N)) +\")\")\n",
    "    plt.xlabel(xlabel); plt.ylabel(ylabel)\n",
    "    plt.show()"
   ]
  },
  {
   "cell_type": "code",
   "execution_count": 4,
   "id": "af6c0ad2-9985-4285-887a-c413505d46e6",
   "metadata": {},
   "outputs": [],
   "source": [
    "# species' stats for length distribution\n",
    "def get_df_for_taxid(df, taxid):\n",
    "     return df.loc[df[\"tax_id\"]==taxid].copy()"
   ]
  },
  {
   "cell_type": "code",
   "execution_count": 5,
   "id": "ee7bf25c-d0a0-4028-9af0-2e8f7979a15f",
   "metadata": {},
   "outputs": [],
   "source": [
    "def does_it_fits_normal(data_observed): \n",
    "    # Kurtosis and Skewness\n",
    "    # =====================\n",
    "    print('Kurtosis:', stats.kurtosis(data_observed))\n",
    "    print('Skewness:', stats.skew(data_observed))\n",
    "    # D'Agostino's K-squared test\n",
    "    # ===========================\n",
    "    k2, p_value = stats.normaltest(data_observed)\n",
    "    print(f\"D'Agostino's K-squared test(Estadístico={k2}, p-value={p_value})\")"
   ]
  },
  {
   "cell_type": "markdown",
   "id": "3145b8ee-4157-412a-af50-701540a82d35",
   "metadata": {},
   "source": [
    "Deja de ser una log-normal (teóricamente)\n",
    "- Kurtosis o Skewness: $\\leq -1$ o $\\geq 1$ \n",
    "- D'Agostino's K-squared test: p-value $ \\leq 0.05 $, porque rechaza la hipótesis nula "
   ]
  },
  {
   "cell_type": "code",
   "execution_count": null,
   "id": "1748a542-61bb-4e2c-9ab3-ef32b0ffd77b",
   "metadata": {},
   "outputs": [],
   "source": []
  },
  {
   "cell_type": "code",
   "execution_count": 6,
   "id": "1bcc7a1e-2408-46a8-af94-026a08044e94",
   "metadata": {},
   "outputs": [],
   "source": [
    "# The next function performs the whole analysis\n",
    "def species_length_distribution__retrieve_plot_and_fit(stat_taxid_df, tax_id):\n",
    "    species_df = get_df_for_taxid(stat_taxid_df, tax_id)\n",
    "    species_df.drop_duplicates(subset=['tax_id'], inplace=True, keep='last')\n",
    "    display(species_df)\n",
    "    \n",
    "    lengths_f = base_dir + \"results/geneLength/\" + species_df[\"uniprot_fasta_file\"].item() \n",
    "    lengths_f = lengths_f.replace(\".fasta.gz\", \".length.tsv\") # I get the \n",
    "    print(lengths_f)\n",
    "\n",
    "    # retrieve data\n",
    "    lens_df = pd.read_csv(lengths_f, sep=\"\\t\")\n",
    "    lens_df = lens_df[[\"length\"]]\n",
    "    lens_df[\"log10_length\"] = lens_df[\"length\"].apply(np.log10)\n",
    "\n",
    "    # visualize data\n",
    "    pd.set_option('display.max_columns', None)\n",
    "    if 0:\n",
    "        display(lens_df.head(2))\n",
    "        print(lens_df.shape)\n",
    "    \n",
    "    # plot the distributions: observed and theoretical\n",
    "    title = species_df[\"species\"].item().capitalize(); subtitle = \"Observation\";  xlabel = \"Gene length\"; ylabel = \"PDF\"\n",
    "    plot_log_norm (lens_df[\"log10_length\"], species_df[\"log10_mean\"].item(), math.sqrt(species_df[\"log10_var\"].item()), int(species_df[\"count\"].item()), \n",
    "                   title, subtitle, xlabel, ylabel)  \n",
    "    # fit to normal\n",
    "    does_it_fits_normal(lens_df[\"log10_length\"])"
   ]
  },
  {
   "cell_type": "markdown",
   "id": "864ddff5-d741-472e-97cc-bce1c026c002",
   "metadata": {},
   "source": [
    "## Species:"
   ]
  },
  {
   "cell_type": "markdown",
   "id": "02d86cba-90c3-420a-a342-effebd787c95",
   "metadata": {},
   "source": [
    "### Homo sapiens\n",
    "```{note}\n",
    "tax_id = 9606\n",
    "```"
   ]
  },
  {
   "cell_type": "markdown",
   "id": "0866ec4e-b56f-45c2-9858-b517c8481d26",
   "metadata": {},
   "source": [
    "#### Retrieve statistical description"
   ]
  },
  {
   "cell_type": "code",
   "execution_count": 7,
   "id": "4cd3536d-1829-4625-9dbf-234606f1c6e2",
   "metadata": {},
   "outputs": [
    {
     "data": {
      "text/html": [
       "<div>\n",
       "<style scoped>\n",
       "    .dataframe tbody tr th:only-of-type {\n",
       "        vertical-align: middle;\n",
       "    }\n",
       "\n",
       "    .dataframe tbody tr th {\n",
       "        vertical-align: top;\n",
       "    }\n",
       "\n",
       "    .dataframe thead th {\n",
       "        text-align: right;\n",
       "    }\n",
       "</style>\n",
       "<table border=\"1\" class=\"dataframe\">\n",
       "  <thead>\n",
       "    <tr style=\"text-align: right;\">\n",
       "      <th></th>\n",
       "      <th>superregnum</th>\n",
       "      <th>species</th>\n",
       "      <th>proteome_id</th>\n",
       "      <th>tax_id</th>\n",
       "      <th>uniprot_fasta_file</th>\n",
       "      <th>count</th>\n",
       "      <th>mean</th>\n",
       "      <th>var</th>\n",
       "      <th>log10_mean</th>\n",
       "      <th>log10_var</th>\n",
       "    </tr>\n",
       "  </thead>\n",
       "  <tbody>\n",
       "    <tr>\n",
       "      <th>18085</th>\n",
       "      <td>eukaryota</td>\n",
       "      <td>Homo sapiens (Human)</td>\n",
       "      <td>UP000005640</td>\n",
       "      <td>9606</td>\n",
       "      <td>/ftp.uniprot.org/pub/databases/uniprot/current...</td>\n",
       "      <td>20614.0</td>\n",
       "      <td>552.845105</td>\n",
       "      <td>354913.157154</td>\n",
       "      <td>2.601146</td>\n",
       "      <td>0.125239</td>\n",
       "    </tr>\n",
       "  </tbody>\n",
       "</table>\n",
       "</div>"
      ],
      "text/plain": [
       "      superregnum               species  proteome_id  tax_id  \\\n",
       "18085   eukaryota  Homo sapiens (Human)  UP000005640    9606   \n",
       "\n",
       "                                      uniprot_fasta_file    count        mean  \\\n",
       "18085  /ftp.uniprot.org/pub/databases/uniprot/current...  20614.0  552.845105   \n",
       "\n",
       "                 var  log10_mean  log10_var  \n",
       "18085  354913.157154    2.601146   0.125239  "
      ]
     },
     "metadata": {},
     "output_type": "display_data"
    }
   ],
   "source": [
    "tax_id = 9696\n",
    "human_df = get_df_for_taxid(stat_df, 9606)\n",
    "display(human_df)"
   ]
  },
  {
   "cell_type": "markdown",
   "id": "8b65e339-703e-448f-ad07-04b1ce596bea",
   "metadata": {},
   "source": [
    "#### Retrieve genes"
   ]
  },
  {
   "cell_type": "code",
   "execution_count": 8,
   "id": "4ed4b6e0-09b4-4b13-9989-511ad6e908b1",
   "metadata": {},
   "outputs": [
    {
     "name": "stdout",
     "output_type": "stream",
     "text": [
      "/media/emuro/Wes/results/geneLength//ftp.uniprot.org/pub/databases/uniprot/current_release/knowledgebase/reference_proteomes/Eukaryota/UP000005640/UP000005640_9606.length.tsv\n"
     ]
    },
    {
     "data": {
      "text/html": [
       "<div>\n",
       "<style scoped>\n",
       "    .dataframe tbody tr th:only-of-type {\n",
       "        vertical-align: middle;\n",
       "    }\n",
       "\n",
       "    .dataframe tbody tr th {\n",
       "        vertical-align: top;\n",
       "    }\n",
       "\n",
       "    .dataframe thead th {\n",
       "        text-align: right;\n",
       "    }\n",
       "</style>\n",
       "<table border=\"1\" class=\"dataframe\">\n",
       "  <thead>\n",
       "    <tr style=\"text-align: right;\">\n",
       "      <th></th>\n",
       "      <th>length</th>\n",
       "    </tr>\n",
       "  </thead>\n",
       "  <tbody>\n",
       "    <tr>\n",
       "      <th>0</th>\n",
       "      <td>2</td>\n",
       "    </tr>\n",
       "    <tr>\n",
       "      <th>1</th>\n",
       "      <td>4</td>\n",
       "    </tr>\n",
       "  </tbody>\n",
       "</table>\n",
       "</div>"
      ],
      "text/plain": [
       "   length\n",
       "0       2\n",
       "1       4"
      ]
     },
     "metadata": {},
     "output_type": "display_data"
    },
    {
     "name": "stdout",
     "output_type": "stream",
     "text": [
      "(20614, 1)\n"
     ]
    }
   ],
   "source": [
    "prots_f = base_dir + \"results/geneLength/\" + human_df[\"uniprot_fasta_file\"].item() \n",
    "prots_f = prots_f.replace(\".fasta.gz\", \".length.tsv\") # I get the \n",
    "print(prots_f)\n",
    "# retrieve data\n",
    "prots_df = pd.read_csv(prots_f, sep=\"\\t\")\n",
    "prots_df = prots_df[[\"length\"]]\n",
    "\n",
    "# visualize data\n",
    "pd.set_option('display.max_columns', None)\n",
    "if 1:\n",
    "    display(prots_df.head(2))\n",
    "    print(prots_df.shape)"
   ]
  },
  {
   "cell_type": "markdown",
   "id": "0f99eb42-9c12-40ca-a2fd-10bd57b53360",
   "metadata": {},
   "source": [
    "#### Plot the log-normal"
   ]
  },
  {
   "cell_type": "code",
   "execution_count": 9,
   "id": "c8e44cba-d963-47ec-acf1-d5165a7b4c9f",
   "metadata": {},
   "outputs": [
    {
     "name": "stdout",
     "output_type": "stream",
     "text": [
      "2.6011463573824893 0.3538905693139241 20614.0 Homo sapiens (human) Observation Protein length PDF\n",
      "N: 20614 mu: 2.6011463573824893 \tsigma: 0.3538905693139241\n"
     ]
    },
    {
     "data": {
      "image/png": "[encoded data removed]",
      "text/plain": [
       "<Figure size 432x288 with 1 Axes>"
      ]
     },
     "metadata": {
      "needs_background": "light"
     },
     "output_type": "display_data"
    }
   ],
   "source": [
    "prots_df[\"log10_length\"] = prots_df[\"length\"].apply(np.log10)\n",
    "title = human_df[\"species\"].item().capitalize(); subtitle = \"Observation\";  xlabel = \"Protein length\"; ylabel = \"PDF\"\n",
    "print(human_df[\"log10_mean\"].item(), math.sqrt(human_df[\"log10_var\"].item()), human_df[\"count\"].item(), title, subtitle, xlabel, ylabel)  \n",
    "plot_log_norm (prots_df[\"log10_length\"], human_df[\"log10_mean\"].item(), math.sqrt(human_df[\"log10_var\"].item()), int(human_df[\"count\"].item()), title, subtitle, xlabel, ylabel)  "
   ]
  },
  {
   "cell_type": "markdown",
   "id": "1ee437a1-566a-4aed-9f9c-ce652635d399",
   "metadata": {},
   "source": [
    "#### Does the distribution fits the normal distribution?"
   ]
  },
  {
   "cell_type": "code",
   "execution_count": 10,
   "id": "05c41cfc",
   "metadata": {},
   "outputs": [
    {
     "name": "stdout",
     "output_type": "stream",
     "text": [
      "Kurtosis: 1.163832716732534\n",
      "Skewness: -0.26039124808735764\n",
      "D'Agostino's K-squared test(Estadístico=717.1684257602484, p-value=1.8571844920422435e-156)\n"
     ]
    }
   ],
   "source": [
    "does_it_fits_normal(prots_df[\"log10_length\"]) "
   ]
  },
  {
   "cell_type": "code",
   "execution_count": null,
   "id": "be0479b0-1139-415a-8bea-126d90ae7113",
   "metadata": {},
   "outputs": [],
   "source": []
  },
  {
   "cell_type": "markdown",
   "id": "22946f97",
   "metadata": {},
   "source": [
    "### Danio rerio"
   ]
  },
  {
   "cell_type": "code",
   "execution_count": 11,
   "id": "9e1f27f0-352e-44b7-bac4-6278b6c508f1",
   "metadata": {},
   "outputs": [
    {
     "data": {
      "text/html": [
       "<div>\n",
       "<style scoped>\n",
       "    .dataframe tbody tr th:only-of-type {\n",
       "        vertical-align: middle;\n",
       "    }\n",
       "\n",
       "    .dataframe tbody tr th {\n",
       "        vertical-align: top;\n",
       "    }\n",
       "\n",
       "    .dataframe thead th {\n",
       "        text-align: right;\n",
       "    }\n",
       "</style>\n",
       "<table border=\"1\" class=\"dataframe\">\n",
       "  <thead>\n",
       "    <tr style=\"text-align: right;\">\n",
       "      <th></th>\n",
       "      <th>superregnum</th>\n",
       "      <th>species</th>\n",
       "      <th>proteome_id</th>\n",
       "      <th>tax_id</th>\n",
       "      <th>uniprot_fasta_file</th>\n",
       "      <th>count</th>\n",
       "      <th>mean</th>\n",
       "      <th>var</th>\n",
       "      <th>log10_mean</th>\n",
       "      <th>log10_var</th>\n",
       "    </tr>\n",
       "  </thead>\n",
       "  <tbody>\n",
       "    <tr>\n",
       "      <th>15373</th>\n",
       "      <td>eukaryota</td>\n",
       "      <td>Danio rerio (Zebrafish) (Brachydanio rerio)</td>\n",
       "      <td>UP000000437</td>\n",
       "      <td>7955</td>\n",
       "      <td>/ftp.uniprot.org/pub/databases/uniprot/current...</td>\n",
       "      <td>25706.0</td>\n",
       "      <td>538.158329</td>\n",
       "      <td>315453.463435</td>\n",
       "      <td>2.599115</td>\n",
       "      <td>0.114029</td>\n",
       "    </tr>\n",
       "  </tbody>\n",
       "</table>\n",
       "</div>"
      ],
      "text/plain": [
       "      superregnum                                      species  proteome_id  \\\n",
       "15373   eukaryota  Danio rerio (Zebrafish) (Brachydanio rerio)  UP000000437   \n",
       "\n",
       "       tax_id                                 uniprot_fasta_file    count  \\\n",
       "15373    7955  /ftp.uniprot.org/pub/databases/uniprot/current...  25706.0   \n",
       "\n",
       "             mean            var  log10_mean  log10_var  \n",
       "15373  538.158329  315453.463435    2.599115   0.114029  "
      ]
     },
     "metadata": {},
     "output_type": "display_data"
    },
    {
     "name": "stdout",
     "output_type": "stream",
     "text": [
      "/media/emuro/Wes/results/geneLength//ftp.uniprot.org/pub/databases/uniprot/current_release/knowledgebase/reference_proteomes/Eukaryota/UP000000437/UP000000437_7955.length.tsv\n",
      "N: 25706 mu: 2.599115440779346 \tsigma: 0.3376817874330292\n"
     ]
    },
    {
     "data": {
      "image/png": "[encoded data removed]",
      "text/plain": [
       "<Figure size 432x288 with 1 Axes>"
      ]
     },
     "metadata": {
      "needs_background": "light"
     },
     "output_type": "display_data"
    },
    {
     "name": "stdout",
     "output_type": "stream",
     "text": [
      "Kurtosis: 0.8752018347236281\n",
      "Skewness: -0.138739152539118\n",
      "D'Agostino's K-squared test(Estadístico=494.0354527107476, p-value=5.267014471006957e-108)\n"
     ]
    }
   ],
   "source": [
    "tax_id = 7955\n",
    "species_length_distribution__retrieve_plot_and_fit(stat_df, 7955)"
   ]
  },
  {
   "cell_type": "code",
   "execution_count": null,
   "id": "d2142fd1-8925-49a8-ae44-210bcdb9c96d",
   "metadata": {},
   "outputs": [],
   "source": []
  },
  {
   "cell_type": "markdown",
   "id": "5f3bd0f1-05e3-4b60-b425-eff9b1e14aa0",
   "metadata": {},
   "source": [
    "### Drosophila melanogaster"
   ]
  },
  {
   "cell_type": "code",
   "execution_count": 12,
   "id": "1d783600-b9dd-4f72-ae9b-0ebc61013d35",
   "metadata": {},
   "outputs": [
    {
     "data": {
      "text/html": [
       "<div>\n",
       "<style scoped>\n",
       "    .dataframe tbody tr th:only-of-type {\n",
       "        vertical-align: middle;\n",
       "    }\n",
       "\n",
       "    .dataframe tbody tr th {\n",
       "        vertical-align: top;\n",
       "    }\n",
       "\n",
       "    .dataframe thead th {\n",
       "        text-align: right;\n",
       "    }\n",
       "</style>\n",
       "<table border=\"1\" class=\"dataframe\">\n",
       "  <thead>\n",
       "    <tr style=\"text-align: right;\">\n",
       "      <th></th>\n",
       "      <th>superregnum</th>\n",
       "      <th>species</th>\n",
       "      <th>proteome_id</th>\n",
       "      <th>tax_id</th>\n",
       "      <th>uniprot_fasta_file</th>\n",
       "      <th>count</th>\n",
       "      <th>mean</th>\n",
       "      <th>var</th>\n",
       "      <th>log10_mean</th>\n",
       "      <th>log10_var</th>\n",
       "    </tr>\n",
       "  </thead>\n",
       "  <tbody>\n",
       "    <tr>\n",
       "      <th>7340</th>\n",
       "      <td>eukaryota</td>\n",
       "      <td>Drosophila melanogaster (Fruit fly)</td>\n",
       "      <td>UP000000803</td>\n",
       "      <td>7227</td>\n",
       "      <td>/ftp.uniprot.org/pub/databases/uniprot/current...</td>\n",
       "      <td>13821.0</td>\n",
       "      <td>535.649085</td>\n",
       "      <td>376540.881915</td>\n",
       "      <td>2.577192</td>\n",
       "      <td>0.131373</td>\n",
       "    </tr>\n",
       "  </tbody>\n",
       "</table>\n",
       "</div>"
      ],
      "text/plain": [
       "     superregnum                              species  proteome_id  tax_id  \\\n",
       "7340   eukaryota  Drosophila melanogaster (Fruit fly)  UP000000803    7227   \n",
       "\n",
       "                                     uniprot_fasta_file    count        mean  \\\n",
       "7340  /ftp.uniprot.org/pub/databases/uniprot/current...  13821.0  535.649085   \n",
       "\n",
       "                var  log10_mean  log10_var  \n",
       "7340  376540.881915    2.577192   0.131373  "
      ]
     },
     "metadata": {},
     "output_type": "display_data"
    },
    {
     "name": "stdout",
     "output_type": "stream",
     "text": [
      "/media/emuro/Wes/results/geneLength//ftp.uniprot.org/pub/databases/uniprot/current_release/knowledgebase/reference_proteomes/Eukaryota/UP000000803/UP000000803_7227.length.tsv\n",
      "N: 13821 mu: 2.5771919612400653 \tsigma: 0.3624537280491678\n"
     ]
    },
    {
     "data": {
      "image/png": "[encoded data removed]",
      "text/plain": [
       "<Figure size 432x288 with 1 Axes>"
      ]
     },
     "metadata": {
      "needs_background": "light"
     },
     "output_type": "display_data"
    },
    {
     "name": "stdout",
     "output_type": "stream",
     "text": [
      "Kurtosis: 0.3248347849271651\n",
      "Skewness: -0.08267683943107461\n",
      "D'Agostino's K-squared test(Estadístico=61.497348374203234, p-value=4.4260923856861545e-14)\n"
     ]
    }
   ],
   "source": [
    "tax_id = 7227\n",
    "species_length_distribution__retrieve_plot_and_fit(stat_df, 7227) # tax_id=7227"
   ]
  },
  {
   "cell_type": "markdown",
   "id": "c609b4ab-c94a-4a2c-a107-26e7d57e91aa",
   "metadata": {},
   "source": [
    "### Arabidopsis thaliana"
   ]
  },
  {
   "cell_type": "code",
   "execution_count": 13,
   "id": "6f5ac606-f3da-4454-82a1-bee94dc747da",
   "metadata": {},
   "outputs": [
    {
     "data": {
      "text/html": [
       "<div>\n",
       "<style scoped>\n",
       "    .dataframe tbody tr th:only-of-type {\n",
       "        vertical-align: middle;\n",
       "    }\n",
       "\n",
       "    .dataframe tbody tr th {\n",
       "        vertical-align: top;\n",
       "    }\n",
       "\n",
       "    .dataframe thead th {\n",
       "        text-align: right;\n",
       "    }\n",
       "</style>\n",
       "<table border=\"1\" class=\"dataframe\">\n",
       "  <thead>\n",
       "    <tr style=\"text-align: right;\">\n",
       "      <th></th>\n",
       "      <th>superregnum</th>\n",
       "      <th>species</th>\n",
       "      <th>proteome_id</th>\n",
       "      <th>tax_id</th>\n",
       "      <th>uniprot_fasta_file</th>\n",
       "      <th>count</th>\n",
       "      <th>mean</th>\n",
       "      <th>var</th>\n",
       "      <th>log10_mean</th>\n",
       "      <th>log10_var</th>\n",
       "    </tr>\n",
       "  </thead>\n",
       "  <tbody>\n",
       "    <tr>\n",
       "      <th>9526</th>\n",
       "      <td>eukaryota</td>\n",
       "      <td>Arabidopsis thaliana (Mouse-ear cress)</td>\n",
       "      <td>UP000006548</td>\n",
       "      <td>3702</td>\n",
       "      <td>/ftp.uniprot.org/pub/databases/uniprot/current...</td>\n",
       "      <td>27468.0</td>\n",
       "      <td>404.901267</td>\n",
       "      <td>90791.833554</td>\n",
       "      <td>2.499364</td>\n",
       "      <td>0.103077</td>\n",
       "    </tr>\n",
       "  </tbody>\n",
       "</table>\n",
       "</div>"
      ],
      "text/plain": [
       "     superregnum                                 species  proteome_id  tax_id  \\\n",
       "9526   eukaryota  Arabidopsis thaliana (Mouse-ear cress)  UP000006548    3702   \n",
       "\n",
       "                                     uniprot_fasta_file    count        mean  \\\n",
       "9526  /ftp.uniprot.org/pub/databases/uniprot/current...  27468.0  404.901267   \n",
       "\n",
       "               var  log10_mean  log10_var  \n",
       "9526  90791.833554    2.499364   0.103077  "
      ]
     },
     "metadata": {},
     "output_type": "display_data"
    },
    {
     "name": "stdout",
     "output_type": "stream",
     "text": [
      "/media/emuro/Wes/results/geneLength//ftp.uniprot.org/pub/databases/uniprot/current_release/knowledgebase/reference_proteomes/Eukaryota/UP000006548/UP000006548_3702.length.tsv\n",
      "N: 27468 mu: 2.499363643151627 \tsigma: 0.3210561738747564\n"
     ]
    },
    {
     "data": {
      "image/png": "[encoded data removed]",
      "text/plain": [
       "<Figure size 432x288 with 1 Axes>"
      ]
     },
     "metadata": {
      "needs_background": "light"
     },
     "output_type": "display_data"
    },
    {
     "name": "stdout",
     "output_type": "stream",
     "text": [
      "Kurtosis: 0.243976066210577\n",
      "Skewness: -0.42554673286488875\n",
      "D'Agostino's K-squared test(Estadístico=818.4263474448735, p-value=1.9097509301707898e-178)\n"
     ]
    }
   ],
   "source": [
    "tax_id = 3702\n",
    "species_length_distribution__retrieve_plot_and_fit(stat_df, tax_id)"
   ]
  },
  {
   "cell_type": "code",
   "execution_count": null,
   "id": "04961645-821d-4611-96c7-0acdd9599927",
   "metadata": {},
   "outputs": [],
   "source": []
  },
  {
   "cell_type": "markdown",
   "id": "101243f5-2c78-4f40-a996-554f28c3ee7e",
   "metadata": {},
   "source": [
    "### Saccharomyces cerevisae"
   ]
  },
  {
   "cell_type": "code",
   "execution_count": 14,
   "id": "427336ea-2d5e-4f2b-b2d7-e11a49980697",
   "metadata": {},
   "outputs": [
    {
     "data": {
      "text/html": [
       "<div>\n",
       "<style scoped>\n",
       "    .dataframe tbody tr th:only-of-type {\n",
       "        vertical-align: middle;\n",
       "    }\n",
       "\n",
       "    .dataframe tbody tr th {\n",
       "        vertical-align: top;\n",
       "    }\n",
       "\n",
       "    .dataframe thead th {\n",
       "        text-align: right;\n",
       "    }\n",
       "</style>\n",
       "<table border=\"1\" class=\"dataframe\">\n",
       "  <thead>\n",
       "    <tr style=\"text-align: right;\">\n",
       "      <th></th>\n",
       "      <th>superregnum</th>\n",
       "      <th>species</th>\n",
       "      <th>proteome_id</th>\n",
       "      <th>tax_id</th>\n",
       "      <th>uniprot_fasta_file</th>\n",
       "      <th>count</th>\n",
       "      <th>mean</th>\n",
       "      <th>var</th>\n",
       "      <th>log10_mean</th>\n",
       "      <th>log10_var</th>\n",
       "    </tr>\n",
       "  </thead>\n",
       "  <tbody>\n",
       "    <tr>\n",
       "      <th>1912</th>\n",
       "      <td>eukaryota</td>\n",
       "      <td>Saccharomyces cerevisiae (strain ATCC 204508 /...</td>\n",
       "      <td>UP000002311</td>\n",
       "      <td>559292</td>\n",
       "      <td>/ftp.uniprot.org/pub/databases/uniprot/current...</td>\n",
       "      <td>6050.0</td>\n",
       "      <td>485.36876</td>\n",
       "      <td>147051.60891</td>\n",
       "      <td>2.562528</td>\n",
       "      <td>0.118795</td>\n",
       "    </tr>\n",
       "  </tbody>\n",
       "</table>\n",
       "</div>"
      ],
      "text/plain": [
       "     superregnum                                            species  \\\n",
       "1912   eukaryota  Saccharomyces cerevisiae (strain ATCC 204508 /...   \n",
       "\n",
       "      proteome_id  tax_id                                 uniprot_fasta_file  \\\n",
       "1912  UP000002311  559292  /ftp.uniprot.org/pub/databases/uniprot/current...   \n",
       "\n",
       "       count       mean           var  log10_mean  log10_var  \n",
       "1912  6050.0  485.36876  147051.60891    2.562528   0.118795  "
      ]
     },
     "metadata": {},
     "output_type": "display_data"
    },
    {
     "name": "stdout",
     "output_type": "stream",
     "text": [
      "/media/emuro/Wes/results/geneLength//ftp.uniprot.org/pub/databases/uniprot/current_release/knowledgebase/reference_proteomes/Eukaryota/UP000002311/UP000002311_559292.length.tsv\n",
      "N: 6050 mu: 2.562527686292433 \tsigma: 0.3446669522663496\n"
     ]
    },
    {
     "data": {
      "image/png": "[encoded data removed]",
      "text/plain": [
       "<Figure size 432x288 with 1 Axes>"
      ]
     },
     "metadata": {
      "needs_background": "light"
     },
     "output_type": "display_data"
    },
    {
     "name": "stdout",
     "output_type": "stream",
     "text": [
      "Kurtosis: 0.22362305398155113\n",
      "Skewness: -0.4208344672192193\n",
      "D'Agostino's K-squared test(Estadístico=175.7163528021762, p-value=6.977161873319256e-39)\n"
     ]
    }
   ],
   "source": [
    "tax_id = 559292 #ensembl: 4932 (no esta en uniprot)\n",
    "species_length_distribution__retrieve_plot_and_fit(stat_df, tax_id)"
   ]
  },
  {
   "cell_type": "code",
   "execution_count": null,
   "id": "aab7c5ef-0f23-4faa-873d-9e687ed9b98d",
   "metadata": {},
   "outputs": [],
   "source": []
  },
  {
   "cell_type": "markdown",
   "id": "c2440f06-107a-457e-a656-e21d5c382d61",
   "metadata": {},
   "source": [
    "### Escherichia coli"
   ]
  },
  {
   "cell_type": "code",
   "execution_count": 15,
   "id": "df582095-3786-468f-8647-10d972e22b53",
   "metadata": {},
   "outputs": [
    {
     "data": {
      "text/html": [
       "<div>\n",
       "<style scoped>\n",
       "    .dataframe tbody tr th:only-of-type {\n",
       "        vertical-align: middle;\n",
       "    }\n",
       "\n",
       "    .dataframe tbody tr th {\n",
       "        vertical-align: top;\n",
       "    }\n",
       "\n",
       "    .dataframe thead th {\n",
       "        text-align: right;\n",
       "    }\n",
       "</style>\n",
       "<table border=\"1\" class=\"dataframe\">\n",
       "  <thead>\n",
       "    <tr style=\"text-align: right;\">\n",
       "      <th></th>\n",
       "      <th>superregnum</th>\n",
       "      <th>species</th>\n",
       "      <th>proteome_id</th>\n",
       "      <th>tax_id</th>\n",
       "      <th>uniprot_fasta_file</th>\n",
       "      <th>count</th>\n",
       "      <th>mean</th>\n",
       "      <th>var</th>\n",
       "      <th>log10_mean</th>\n",
       "      <th>log10_var</th>\n",
       "    </tr>\n",
       "  </thead>\n",
       "  <tbody>\n",
       "    <tr>\n",
       "      <th>13878</th>\n",
       "      <td>bacteria</td>\n",
       "      <td>Escherichia coli O157:H7</td>\n",
       "      <td>UP000000558</td>\n",
       "      <td>83334</td>\n",
       "      <td>/ftp.uniprot.org/pub/databases/uniprot/current...</td>\n",
       "      <td>5062.0</td>\n",
       "      <td>308.446859</td>\n",
       "      <td>57190.175698</td>\n",
       "      <td>2.38364</td>\n",
       "      <td>0.096586</td>\n",
       "    </tr>\n",
       "  </tbody>\n",
       "</table>\n",
       "</div>"
      ],
      "text/plain": [
       "      superregnum                   species  proteome_id  tax_id  \\\n",
       "13878    bacteria  Escherichia coli O157:H7  UP000000558   83334   \n",
       "\n",
       "                                      uniprot_fasta_file   count        mean  \\\n",
       "13878  /ftp.uniprot.org/pub/databases/uniprot/current...  5062.0  308.446859   \n",
       "\n",
       "                var  log10_mean  log10_var  \n",
       "13878  57190.175698     2.38364   0.096586  "
      ]
     },
     "metadata": {},
     "output_type": "display_data"
    },
    {
     "name": "stdout",
     "output_type": "stream",
     "text": [
      "/media/emuro/Wes/results/geneLength//ftp.uniprot.org/pub/databases/uniprot/current_release/knowledgebase/reference_proteomes/Bacteria/UP000000558/UP000000558_83334.length.tsv\n",
      "N: 5062 mu: 2.383639936200562 \tsigma: 0.3107836062504229\n"
     ]
    },
    {
     "data": {
      "image/png": "[encoded data removed]",
      "text/plain": [
       "<Figure size 432x288 with 1 Axes>"
      ]
     },
     "metadata": {
      "needs_background": "light"
     },
     "output_type": "display_data"
    },
    {
     "name": "stdout",
     "output_type": "stream",
     "text": [
      "Kurtosis: -0.010812589593093058\n",
      "Skewness: -0.2353062649782213\n",
      "D'Agostino's K-squared test(Estadístico=45.62522286350297, p-value=1.2376810381172777e-10)\n"
     ]
    }
   ],
   "source": [
    "tax_id = 83334 # uniprot: 83333 (k12), 83334(0157:h7 disease), 1408285 (otra, this is not in ensembl) # ensembl: 562 (not in ref. uniprot)\n",
    "species_length_distribution__retrieve_plot_and_fit(stat_df, tax_id)"
   ]
  },
  {
   "cell_type": "code",
   "execution_count": null,
   "id": "efbd689b-15e7-475d-82ef-e98a515a718f",
   "metadata": {},
   "outputs": [],
   "source": []
  },
  {
   "cell_type": "markdown",
   "id": "9487548b-7972-4963-932a-5fbb5eb624fd",
   "metadata": {},
   "source": [
    "##  Test species"
   ]
  },
  {
   "cell_type": "code",
   "execution_count": 16,
   "id": "0882c2c7-92b5-4be1-9898-48d12cbd4dc6",
   "metadata": {},
   "outputs": [
    {
     "data": {
      "text/html": [
       "<div>\n",
       "<style scoped>\n",
       "    .dataframe tbody tr th:only-of-type {\n",
       "        vertical-align: middle;\n",
       "    }\n",
       "\n",
       "    .dataframe tbody tr th {\n",
       "        vertical-align: top;\n",
       "    }\n",
       "\n",
       "    .dataframe thead th {\n",
       "        text-align: right;\n",
       "    }\n",
       "</style>\n",
       "<table border=\"1\" class=\"dataframe\">\n",
       "  <thead>\n",
       "    <tr style=\"text-align: right;\">\n",
       "      <th></th>\n",
       "      <th>superregnum</th>\n",
       "      <th>species</th>\n",
       "      <th>proteome_id</th>\n",
       "      <th>tax_id</th>\n",
       "      <th>uniprot_fasta_file</th>\n",
       "      <th>count</th>\n",
       "      <th>mean</th>\n",
       "      <th>var</th>\n",
       "      <th>log10_mean</th>\n",
       "      <th>log10_var</th>\n",
       "    </tr>\n",
       "  </thead>\n",
       "  <tbody>\n",
       "  </tbody>\n",
       "</table>\n",
       "</div>"
      ],
      "text/plain": [
       "Empty DataFrame\n",
       "Columns: [superregnum, species, proteome_id, tax_id, uniprot_fasta_file, count, mean, var, log10_mean, log10_var]\n",
       "Index: []"
      ]
     },
     "metadata": {},
     "output_type": "display_data"
    },
    {
     "ename": "ValueError",
     "evalue": "can only convert an array of size 1 to a Python scalar",
     "output_type": "error",
     "traceback": [
      "\u001b[0;31m---------------------------------------------------------------------------\u001b[0m",
      "\u001b[0;31mValueError\u001b[0m                                Traceback (most recent call last)",
      "Input \u001b[0;32mIn [16]\u001b[0m, in \u001b[0;36m<cell line: 5>\u001b[0;34m()\u001b[0m\n\u001b[1;32m      1\u001b[0m tax_id \u001b[38;5;241m=\u001b[39m \u001b[38;5;241m10089\u001b[39m  \u001b[38;5;66;03m# E. coli: 83333 (k12), 83334(0157:h7 disease), 1408285 (otra, this is not in ensembl)\u001b[39;00m\n\u001b[1;32m      2\u001b[0m                 \u001b[38;5;66;03m# mus_caroli: 10089\u001b[39;00m\n\u001b[1;32m      3\u001b[0m                 \u001b[38;5;66;03m# Richelia_intracelularis (genes cortos): 1165094\u001b[39;00m\n\u001b[0;32m----> 5\u001b[0m \u001b[43mspecies_length_distribution__retrieve_plot_and_fit\u001b[49m\u001b[43m(\u001b[49m\u001b[43mstat_df\u001b[49m\u001b[43m,\u001b[49m\u001b[43m \u001b[49m\u001b[43mtax_id\u001b[49m\u001b[43m)\u001b[49m\n",
      "Input \u001b[0;32mIn [6]\u001b[0m, in \u001b[0;36mspecies_length_distribution__retrieve_plot_and_fit\u001b[0;34m(stat_taxid_df, tax_id)\u001b[0m\n\u001b[1;32m      4\u001b[0m species_df\u001b[38;5;241m.\u001b[39mdrop_duplicates(subset\u001b[38;5;241m=\u001b[39m[\u001b[38;5;124m'\u001b[39m\u001b[38;5;124mtax_id\u001b[39m\u001b[38;5;124m'\u001b[39m], inplace\u001b[38;5;241m=\u001b[39m\u001b[38;5;28;01mTrue\u001b[39;00m, keep\u001b[38;5;241m=\u001b[39m\u001b[38;5;124m'\u001b[39m\u001b[38;5;124mlast\u001b[39m\u001b[38;5;124m'\u001b[39m)\n\u001b[1;32m      5\u001b[0m display(species_df)\n\u001b[0;32m----> 7\u001b[0m lengths_f \u001b[38;5;241m=\u001b[39m base_dir \u001b[38;5;241m+\u001b[39m \u001b[38;5;124m\"\u001b[39m\u001b[38;5;124mresults/geneLength/\u001b[39m\u001b[38;5;124m\"\u001b[39m \u001b[38;5;241m+\u001b[39m \u001b[43mspecies_df\u001b[49m\u001b[43m[\u001b[49m\u001b[38;5;124;43m\"\u001b[39;49m\u001b[38;5;124;43muniprot_fasta_file\u001b[39;49m\u001b[38;5;124;43m\"\u001b[39;49m\u001b[43m]\u001b[49m\u001b[38;5;241;43m.\u001b[39;49m\u001b[43mitem\u001b[49m\u001b[43m(\u001b[49m\u001b[43m)\u001b[49m \n\u001b[1;32m      8\u001b[0m lengths_f \u001b[38;5;241m=\u001b[39m lengths_f\u001b[38;5;241m.\u001b[39mreplace(\u001b[38;5;124m\"\u001b[39m\u001b[38;5;124m.fasta.gz\u001b[39m\u001b[38;5;124m\"\u001b[39m, \u001b[38;5;124m\"\u001b[39m\u001b[38;5;124m.length.tsv\u001b[39m\u001b[38;5;124m\"\u001b[39m) \u001b[38;5;66;03m# I get the \u001b[39;00m\n\u001b[1;32m      9\u001b[0m \u001b[38;5;28mprint\u001b[39m(lengths_f)\n",
      "File \u001b[0;32m~/python-my_venv/python3.10/my_env/lib/python3.10/site-packages/pandas/core/base.py:349\u001b[0m, in \u001b[0;36mIndexOpsMixin.item\u001b[0;34m(self)\u001b[0m\n\u001b[1;32m    347\u001b[0m \u001b[38;5;28;01mif\u001b[39;00m \u001b[38;5;28mlen\u001b[39m(\u001b[38;5;28mself\u001b[39m) \u001b[38;5;241m==\u001b[39m \u001b[38;5;241m1\u001b[39m:\n\u001b[1;32m    348\u001b[0m     \u001b[38;5;28;01mreturn\u001b[39;00m \u001b[38;5;28mnext\u001b[39m(\u001b[38;5;28miter\u001b[39m(\u001b[38;5;28mself\u001b[39m))\n\u001b[0;32m--> 349\u001b[0m \u001b[38;5;28;01mraise\u001b[39;00m \u001b[38;5;167;01mValueError\u001b[39;00m(\u001b[38;5;124m\"\u001b[39m\u001b[38;5;124mcan only convert an array of size 1 to a Python scalar\u001b[39m\u001b[38;5;124m\"\u001b[39m)\n",
      "\u001b[0;31mValueError\u001b[0m: can only convert an array of size 1 to a Python scalar"
     ]
    }
   ],
   "source": [
    "tax_id = 10089  # E. coli: 83333 (k12), 83334(0157:h7 disease), 1408285 (otra, this is not in ensembl)\n",
    "                # mus_caroli: 10089\n",
    "                # Richelia_intracelularis (genes cortos): 1165094\n",
    "\n",
    "species_length_distribution__retrieve_plot_and_fit(stat_df, tax_id)"
   ]
  },
  {
   "cell_type": "code",
   "execution_count": null,
   "id": "b2dda10f-5884-4370-a317-a0fd64efedc8",
   "metadata": {},
   "outputs": [],
   "source": []
  },
  {
   "cell_type": "markdown",
   "id": "eefc5c68-e08a-425d-be28-29dbe1b9ef28",
   "metadata": {},
   "source": [
    "## Select a set of species and show the distributions"
   ]
  },
  {
   "cell_type": "code",
   "execution_count": null,
   "id": "8034ab01-4eb7-4eee-9eb5-3bc1e04e1ad6",
   "metadata": {},
   "outputs": [],
   "source": [
    "bee = stat_df.copy()\n",
    "bee = bee[(bee[\"species\"].str.contains(\"Apis\")) |(bee[\"species\"].str.contains(\"Bombus\"))] # Some bees\n",
    "bee = bee[(bee[\"superregnum\"]==\"eukaryota\")]\n",
    "display(bee)\n",
    "\n",
    "for t in bee[\"tax_id\"]:\n",
    "    species_length_distribution__retrieve_plot_and_fit(stat_df, t)"
   ]
  },
  {
   "cell_type": "code",
   "execution_count": null,
   "id": "2635d6e7-bf03-462f-b7bb-7a97b67643b5",
   "metadata": {},
   "outputs": [],
   "source": []
  }
 ],
 "metadata": {
  "kernelspec": {
   "display_name": "Python 3 (ipykernel)",
   "language": "python",
   "name": "python3"
  },
  "language_info": {
   "codemirror_mode": {
    "name": "ipython",
    "version": 3
   },
   "file_extension": ".py",
   "mimetype": "text/x-python",
   "name": "python",
   "nbconvert_exporter": "python",
   "pygments_lexer": "ipython3",
   "version": "3.10.4"
  }
 },
 "nbformat": 4,
 "nbformat_minor": 5
}
