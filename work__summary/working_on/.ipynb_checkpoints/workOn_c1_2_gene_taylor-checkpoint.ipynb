{
 "cells": [
  {
   "cell_type": "markdown",
   "id": "c200a4f3",
   "metadata": {},
   "source": [
    "# [Taylor law](https://en.wikipedia.org/wiki/Taylor%27s_law)"
   ]
  },
  {
   "cell_type": "code",
   "execution_count": 1,
   "id": "51b0a90c",
   "metadata": {},
   "outputs": [],
   "source": [
    "import numpy as np\n",
    "from scipy import stats\n",
    "import os \n",
    "import pandas as pd\n",
    "from plotnine import *"
   ]
  },
  {
   "cell_type": "code",
   "execution_count": null,
   "id": "23d40525-65aa-4a58-881c-72a93960fcbb",
   "metadata": {},
   "outputs": [],
   "source": []
  },
  {
   "cell_type": "markdown",
   "id": "c7b6d3b5",
   "metadata": {},
   "source": [
    "## Observations: Gene length distribution in different species"
   ]
  },
  {
   "cell_type": "markdown",
   "id": "d509543a-9bbf-4428-bb98-a287201ef79d",
   "metadata": {},
   "source": [
    "### Retrieve the statistical description and tax_id of species"
   ]
  },
  {
   "cell_type": "markdown",
   "id": "3a99f2a8-5073-440f-88be-bf0def58ea9d",
   "metadata": {
    "tags": []
   },
   "source": [
    "##### Statistical description data file"
   ]
  },
  {
   "cell_type": "code",
   "execution_count": 2,
   "id": "86b76b58-6c34-4b8a-82b3-f117e835fad0",
   "metadata": {},
   "outputs": [
    {
     "name": "stdout",
     "output_type": "stream",
     "text": [
      "/media/emuro/Wes/results/geneLength/outputInputFiles/analysis/some_statistics/stat_description/all__stat_description.ensembl_v2.0__withLineage.tsv\n"
     ]
    },
    {
     "data": {
      "text/html": [
       "<div>\n",
       "<style scoped>\n",
       "    .dataframe tbody tr th:only-of-type {\n",
       "        vertical-align: middle;\n",
       "    }\n",
       "\n",
       "    .dataframe tbody tr th {\n",
       "        vertical-align: top;\n",
       "    }\n",
       "\n",
       "    .dataframe thead th {\n",
       "        text-align: right;\n",
       "    }\n",
       "</style>\n",
       "<table border=\"1\" class=\"dataframe\">\n",
       "  <thead>\n",
       "    <tr style=\"text-align: right;\">\n",
       "      <th></th>\n",
       "      <th>division_7</th>\n",
       "      <th>division_8</th>\n",
       "      <th>species</th>\n",
       "      <th>count</th>\n",
       "      <th>mean</th>\n",
       "      <th>var</th>\n",
       "      <th>log10_mean</th>\n",
       "      <th>log10_var</th>\n",
       "    </tr>\n",
       "  </thead>\n",
       "  <tbody>\n",
       "    <tr>\n",
       "      <th>0</th>\n",
       "      <td>bacteria</td>\n",
       "      <td>archaea</td>\n",
       "      <td>methanobacterium_bryantii_gca_002287175</td>\n",
       "      <td>3168</td>\n",
       "      <td>840.404040</td>\n",
       "      <td>422343.848699</td>\n",
       "      <td>2.827684</td>\n",
       "      <td>0.082694</td>\n",
       "    </tr>\n",
       "    <tr>\n",
       "      <th>1</th>\n",
       "      <td>bacteria</td>\n",
       "      <td>archaea</td>\n",
       "      <td>methanobacterium_formicicum_gca_000762265</td>\n",
       "      <td>2352</td>\n",
       "      <td>862.427296</td>\n",
       "      <td>347239.612747</td>\n",
       "      <td>2.849723</td>\n",
       "      <td>0.076317</td>\n",
       "    </tr>\n",
       "  </tbody>\n",
       "</table>\n",
       "</div>"
      ],
      "text/plain": [
       "  division_7 division_8                                    species  count  \\\n",
       "0   bacteria    archaea    methanobacterium_bryantii_gca_002287175   3168   \n",
       "1   bacteria    archaea  methanobacterium_formicicum_gca_000762265   2352   \n",
       "\n",
       "         mean            var  log10_mean  log10_var  \n",
       "0  840.404040  422343.848699    2.827684   0.082694  \n",
       "1  862.427296  347239.612747    2.849723   0.076317  "
      ]
     },
     "metadata": {},
     "output_type": "display_data"
    },
    {
     "name": "stdout",
     "output_type": "stream",
     "text": [
      "(33630, 8)\n"
     ]
    }
   ],
   "source": [
    "# system\n",
    "system = list(os.uname())[0]\n",
    "if system == 'Linux':\n",
    "    base_dir = \"/media/emuro/Wes/\"\n",
    "elif system == 'Darwin':\n",
    "    base_dir = \"/Volumes/Wes/\"\n",
    "    \n",
    "# statistics on length distribution for different species     \n",
    "stat_file = base_dir + \"results/geneLength/outputInputFiles/\" + \"analysis/some_statistics/stat_description/\" \n",
    "#stat_file += \"all__stat_description.ensembl.tsv\"\n",
    "stat_file += \"all__stat_description.ensembl_v2.0__withLineage.tsv\"\n",
    "print(stat_file)\n",
    "\n",
    "# retrieve data\n",
    "stat_df = pd.read_csv(stat_file, low_memory=False, sep=\"\\t\")\n",
    "stat_df = stat_df[[\"division_7\", \"division_8\", \"species\", \"count\", \"mean\", \"var\"] + [\"log10_mean\", \"log10_var\"]]\n",
    "#stat_df = stat_df[[\"division_8\"]] \n",
    "# visualize data\n",
    "pd.set_option('display.max_columns', None)\n",
    "if 1:\n",
    "    display(stat_df.head(2))\n",
    "    print(stat_df.shape)"
   ]
  },
  {
   "cell_type": "markdown",
   "id": "3e3a47fb-4f40-4680-86cf-f90970ba1e19",
   "metadata": {},
   "source": [
    "##### Filter some species"
   ]
  },
  {
   "cell_type": "code",
   "execution_count": 3,
   "id": "90d2b7e7-99db-441c-b7d6-f6509e017fa7",
   "metadata": {},
   "outputs": [
    {
     "name": "stdout",
     "output_type": "stream",
     "text": [
      "(33460, 8)\n",
      "bacteria       30555\n",
      "archaea         1228\n",
      "fungi           1007\n",
      "protists         237\n",
      "vertebrates      222\n",
      "metazoa          115\n",
      "plants            96\n",
      "Name: division_8, dtype: int64\n"
     ]
    }
   ],
   "source": [
    "if 0:\n",
    "    print(stat_df[\"division_8\"].value_counts())\n",
    "cond = stat_df[\"division_8\"].isin([\"bacteria\", \"archaea\",\"protists\", \"plants\", \"fungi\", \"metazoa\", \"vertebrates\"])  # avoid: empty or viruses\n",
    "stat_df = stat_df[cond]\n",
    "\n",
    "stat_df = stat_df[stat_df[\"species\"] != \"mus_caroli\"]\n",
    "\n",
    "if 1:\n",
    "    #display(stat_df.head(2))\n",
    "    print(stat_df.shape)\n",
    "    print(stat_df[\"division_8\"].value_counts())"
   ]
  },
  {
   "cell_type": "code",
   "execution_count": null,
   "id": "6297db48-b357-4a5a-99b0-013ba7c504f2",
   "metadata": {},
   "outputs": [],
   "source": []
  },
  {
   "cell_type": "markdown",
   "id": "b7864e7f-66e1-4115-9a45-c2d020171688",
   "metadata": {
    "tags": []
   },
   "source": [
    "## Observed Taylor law: Variance vs Length (genes)\n",
    "$\\sigma^{2}$ is the variance  \n",
    "$\\sigma^{2} = a . \\mu^{\\beta}$  \n",
    "Because: \n",
    "- $\\log(\\sigma^{2}) = \\log(a) + \\beta log(\\mu) $"
   ]
  },
  {
   "cell_type": "code",
   "execution_count": 4,
   "id": "5eb1c776-894f-400a-9166-bc6a5a670389",
   "metadata": {},
   "outputs": [],
   "source": [
    "# FUNCTIONS\n",
    "###########\n",
    "def plot_taylor (df2plot, col_x, col_y, x_lab, y_lab, title, bool_show_regression): \n",
    "    #Calculate best fit line\n",
    "    slope, intercept, r_value, p_value, std_err = stats.linregress(np.log10(df2plot[col_x]),np.log10(df2plot[col_y]))\n",
    "    #Format the regression text\n",
    "    print('v = {:4.4} * m^{:4.4};   R^2= {:2.4f}'.format(10**intercept, slope, r_value**2))\n",
    "    if bool_show_regression:\n",
    "        txt = '$\\sigma^{2} = ' + '{:4.4} '.format(10**intercept)  + '\\t \\mu^{' + '{:4.4}'.format(slope) + '}' + ';\\tR^{2} = ' + '{:2.4f}$'.format(r_value**2)\n",
    "    else:\n",
    "        txt = ''\n",
    "        \n",
    "    p = (   \n",
    "        ggplot(df2plot, aes(col_x, col_y, color=legends_by)) + geom_point(size=0.1) +\n",
    "        geom_smooth(method=\"lm\", color=\"green\", size=0.25, span=.8)+\n",
    "        labs(title=title, x=x_lab, y=y_lab) \n",
    "        + scale_color_manual(values=['#D83B01', '#002050', '#A80000', '#FFA500', '#107C10','#EF008C', '#0078D7', '#B4009E']) # + scale_color_brewer() '#5C2D91'\n",
    "        + labs(color='Clade') # legend title\n",
    "        + scale_x_log10(breaks=[10 ** power for power in range(6)],\n",
    "          limits=[min(df2plot[col_x].to_list())/2, 2*max(df2plot[col_x].to_list())]) \n",
    "        + scale_y_log10(breaks = [10**power for power in range(13)], \n",
    "          limits = [min(df2plot[col_y].to_list())/2,2*max(df2plot[col_y].to_list())])#, labels=scientific_format(digits=2)\n",
    "    ) + theme(legend_position=(0.8,0.3), legend_key_size=5, legend_background=element_rect(fill='grey', alpha=0.01)) + annotate('text', x=0.015*max(df2plot[col_x].to_list()), y=0.65*max(df2plot[col_y].to_list()), label=txt,size=9,color=\"black\")\n",
    "    print(p)"
   ]
  },
  {
   "cell_type": "code",
   "execution_count": null,
   "id": "eb863055-e74d-428c-a2bf-b73f25183ddf",
   "metadata": {},
   "outputs": [],
   "source": []
  },
  {
   "cell_type": "code",
   "execution_count": 5,
   "id": "65579e1f-b037-4b15-969a-784548fe216a",
   "metadata": {},
   "outputs": [
    {
     "name": "stdout",
     "output_type": "stream",
     "text": [
      "v = 0.01638 * m^2.508;   R^2= 0.9223\n"
     ]
    },
    {
     "data": {
      "image/png": "[encoded data removed]",
      "text/plain": [
       "<Figure size 640x480 with 1 Axes>"
      ]
     },
     "metadata": {},
     "output_type": "display_data"
    },
    {
     "name": "stdout",
     "output_type": "stream",
     "text": [
      "\n"
     ]
    }
   ],
   "source": [
    "col_x = \"mean\"  # prots_mean\n",
    "col_y = \"var\"   # prots_var\n",
    "legends_by = \"division_8\"\n",
    "\n",
    "title = \"Ensembl (protein coding gene length)\" # \"Uniprot, reference Proteomes (protein length)\"\n",
    "x_lab = \"Mean length (nt)\"   # \"mean length (aa)\"\n",
    "y_lab = \"Variance\"\n",
    "bool_show_regression = True\n",
    "\n",
    "df2plot = stat_df\n",
    "\n",
    "# Sort division_8 in order to plot the clades in an order (everything can be displayed)\n",
    "if 0:\n",
    "    print(df2plot.division_8.unique())\n",
    "df2plot.division_8 = pd.Categorical(df2plot.division_8, \n",
    "                                categories=['bacteria', 'archaea', 'fungi', 'protists', 'plants', 'metazoa', 'vertebrates'],\n",
    "                                ordered=True)\n",
    "df2plot.sort_values('division_8', inplace=True)\n",
    "\n",
    "plot_taylor(df2plot, col_x, col_y, x_lab, y_lab, title, bool_show_regression)"
   ]
  },
  {
   "cell_type": "markdown",
   "id": "7144f096-6b74-4b9d-8492-3614b105ebd8",
   "metadata": {},
   "source": [
    "##  It can be interactions plants-insects or with human-interaction. I see : trigo, piña, cacao, cebada, mosca de fruta, abejas"
   ]
  },
  {
   "cell_type": "code",
   "execution_count": 6,
   "id": "aeb92b77-7306-4b0d-b960-4c31b312a9d1",
   "metadata": {},
   "outputs": [
    {
     "data": {
      "text/html": [
       "<div>\n",
       "<style scoped>\n",
       "    .dataframe tbody tr th:only-of-type {\n",
       "        vertical-align: middle;\n",
       "    }\n",
       "\n",
       "    .dataframe tbody tr th {\n",
       "        vertical-align: top;\n",
       "    }\n",
       "\n",
       "    .dataframe thead th {\n",
       "        text-align: right;\n",
       "    }\n",
       "</style>\n",
       "<table border=\"1\" class=\"dataframe\">\n",
       "  <thead>\n",
       "    <tr style=\"text-align: right;\">\n",
       "      <th></th>\n",
       "      <th>division_7</th>\n",
       "      <th>division_8</th>\n",
       "      <th>species</th>\n",
       "      <th>count</th>\n",
       "      <th>mean</th>\n",
       "      <th>var</th>\n",
       "      <th>log10_mean</th>\n",
       "      <th>log10_var</th>\n",
       "    </tr>\n",
       "  </thead>\n",
       "  <tbody>\n",
       "    <tr>\n",
       "      <th>32949</th>\n",
       "      <td>plants</td>\n",
       "      <td>plants</td>\n",
       "      <td>triticum_turgidum</td>\n",
       "      <td>66545</td>\n",
       "      <td>6678.550094</td>\n",
       "      <td>1.138801e+09</td>\n",
       "      <td>3.329821</td>\n",
       "      <td>0.270627</td>\n",
       "    </tr>\n",
       "    <tr>\n",
       "      <th>32952</th>\n",
       "      <td>plants</td>\n",
       "      <td>plants</td>\n",
       "      <td>ananas_comosus</td>\n",
       "      <td>25783</td>\n",
       "      <td>5769.999418</td>\n",
       "      <td>9.624401e+08</td>\n",
       "      <td>3.394614</td>\n",
       "      <td>0.250585</td>\n",
       "    </tr>\n",
       "    <tr>\n",
       "      <th>32912</th>\n",
       "      <td>plants</td>\n",
       "      <td>plants</td>\n",
       "      <td>theobroma_cacao_matina</td>\n",
       "      <td>29188</td>\n",
       "      <td>5990.093977</td>\n",
       "      <td>8.912635e+08</td>\n",
       "      <td>3.523885</td>\n",
       "      <td>0.159221</td>\n",
       "    </tr>\n",
       "    <tr>\n",
       "      <th>32988</th>\n",
       "      <td>plants</td>\n",
       "      <td>plants</td>\n",
       "      <td>hordeum_vulgare</td>\n",
       "      <td>37704</td>\n",
       "      <td>6081.790951</td>\n",
       "      <td>4.218797e+08</td>\n",
       "      <td>3.338974</td>\n",
       "      <td>0.312401</td>\n",
       "    </tr>\n",
       "    <tr>\n",
       "      <th>32989</th>\n",
       "      <td>plants</td>\n",
       "      <td>plants</td>\n",
       "      <td>hordeum_vulgare_goldenpromise</td>\n",
       "      <td>58815</td>\n",
       "      <td>3170.770722</td>\n",
       "      <td>1.161034e+09</td>\n",
       "      <td>3.012265</td>\n",
       "      <td>0.240172</td>\n",
       "    </tr>\n",
       "    <tr>\n",
       "      <th>32992</th>\n",
       "      <td>plants</td>\n",
       "      <td>plants</td>\n",
       "      <td>aegilops_tauschii</td>\n",
       "      <td>39614</td>\n",
       "      <td>7988.273085</td>\n",
       "      <td>7.407813e+08</td>\n",
       "      <td>3.424281</td>\n",
       "      <td>0.307793</td>\n",
       "    </tr>\n",
       "    <tr>\n",
       "      <th>32909</th>\n",
       "      <td>plants</td>\n",
       "      <td>plants</td>\n",
       "      <td>cannabis_sativa_female</td>\n",
       "      <td>27236</td>\n",
       "      <td>3648.587348</td>\n",
       "      <td>3.836057e+08</td>\n",
       "      <td>3.333295</td>\n",
       "      <td>0.195676</td>\n",
       "    </tr>\n",
       "    <tr>\n",
       "      <th>32982</th>\n",
       "      <td>plants</td>\n",
       "      <td>plants</td>\n",
       "      <td>triticum_dicoccoides</td>\n",
       "      <td>62569</td>\n",
       "      <td>6074.696000</td>\n",
       "      <td>3.943210e+08</td>\n",
       "      <td>3.428533</td>\n",
       "      <td>0.220531</td>\n",
       "    </tr>\n",
       "    <tr>\n",
       "      <th>32817</th>\n",
       "      <td>metazoa</td>\n",
       "      <td>metazoa</td>\n",
       "      <td>drosophila_melanogaster</td>\n",
       "      <td>13947</td>\n",
       "      <td>6953.272030</td>\n",
       "      <td>5.892690e+08</td>\n",
       "      <td>3.430466</td>\n",
       "      <td>0.261970</td>\n",
       "    </tr>\n",
       "    <tr>\n",
       "      <th>32802</th>\n",
       "      <td>metazoa</td>\n",
       "      <td>metazoa</td>\n",
       "      <td>acyrthosiphon_pisum</td>\n",
       "      <td>36195</td>\n",
       "      <td>8663.945877</td>\n",
       "      <td>4.109519e+08</td>\n",
       "      <td>3.583851</td>\n",
       "      <td>0.278122</td>\n",
       "    </tr>\n",
       "    <tr>\n",
       "      <th>32814</th>\n",
       "      <td>metazoa</td>\n",
       "      <td>metazoa</td>\n",
       "      <td>drosophila_ananassae</td>\n",
       "      <td>14365</td>\n",
       "      <td>6510.951619</td>\n",
       "      <td>4.178158e+08</td>\n",
       "      <td>3.391679</td>\n",
       "      <td>0.259998</td>\n",
       "    </tr>\n",
       "    <tr>\n",
       "      <th>32882</th>\n",
       "      <td>metazoa</td>\n",
       "      <td>metazoa</td>\n",
       "      <td>bombus_impatiens</td>\n",
       "      <td>15896</td>\n",
       "      <td>7095.112229</td>\n",
       "      <td>4.567260e+08</td>\n",
       "      <td>3.350071</td>\n",
       "      <td>0.334799</td>\n",
       "    </tr>\n",
       "    <tr>\n",
       "      <th>32875</th>\n",
       "      <td>metazoa</td>\n",
       "      <td>metazoa</td>\n",
       "      <td>cimex_lectularius</td>\n",
       "      <td>14083</td>\n",
       "      <td>7585.804161</td>\n",
       "      <td>3.789608e+08</td>\n",
       "      <td>3.518150</td>\n",
       "      <td>0.303108</td>\n",
       "    </tr>\n",
       "  </tbody>\n",
       "</table>\n",
       "</div>"
      ],
      "text/plain": [
       "      division_7 division_8                        species  count  \\\n",
       "32949     plants     plants              triticum_turgidum  66545   \n",
       "32952     plants     plants                 ananas_comosus  25783   \n",
       "32912     plants     plants         theobroma_cacao_matina  29188   \n",
       "32988     plants     plants                hordeum_vulgare  37704   \n",
       "32989     plants     plants  hordeum_vulgare_goldenpromise  58815   \n",
       "32992     plants     plants              aegilops_tauschii  39614   \n",
       "32909     plants     plants         cannabis_sativa_female  27236   \n",
       "32982     plants     plants           triticum_dicoccoides  62569   \n",
       "32817    metazoa    metazoa        drosophila_melanogaster  13947   \n",
       "32802    metazoa    metazoa            acyrthosiphon_pisum  36195   \n",
       "32814    metazoa    metazoa           drosophila_ananassae  14365   \n",
       "32882    metazoa    metazoa               bombus_impatiens  15896   \n",
       "32875    metazoa    metazoa              cimex_lectularius  14083   \n",
       "\n",
       "              mean           var  log10_mean  log10_var  \n",
       "32949  6678.550094  1.138801e+09    3.329821   0.270627  \n",
       "32952  5769.999418  9.624401e+08    3.394614   0.250585  \n",
       "32912  5990.093977  8.912635e+08    3.523885   0.159221  \n",
       "32988  6081.790951  4.218797e+08    3.338974   0.312401  \n",
       "32989  3170.770722  1.161034e+09    3.012265   0.240172  \n",
       "32992  7988.273085  7.407813e+08    3.424281   0.307793  \n",
       "32909  3648.587348  3.836057e+08    3.333295   0.195676  \n",
       "32982  6074.696000  3.943210e+08    3.428533   0.220531  \n",
       "32817  6953.272030  5.892690e+08    3.430466   0.261970  \n",
       "32802  8663.945877  4.109519e+08    3.583851   0.278122  \n",
       "32814  6510.951619  4.178158e+08    3.391679   0.259998  \n",
       "32882  7095.112229  4.567260e+08    3.350071   0.334799  \n",
       "32875  7585.804161  3.789608e+08    3.518150   0.303108  "
      ]
     },
     "metadata": {},
     "output_type": "display_data"
    },
    {
     "name": "stdout",
     "output_type": "stream",
     "text": [
      "v = 2.294e+10 * m^-0.4209;   R^2= 0.0756\n"
     ]
    },
    {
     "name": "stderr",
     "output_type": "stream",
     "text": [
      "/home/emuro/python-my_venv/python3.10/my_env/lib/python3.10/site-packages/plotnine/layer.py:401: PlotnineWarning: geom_text : Removed 1 rows containing missing values.\n"
     ]
    },
    {
     "data": {
      "image/png": "[encoded data removed]",
      "text/plain": [
       "<Figure size 640x480 with 1 Axes>"
      ]
     },
     "metadata": {},
     "output_type": "display_data"
    },
    {
     "name": "stdout",
     "output_type": "stream",
     "text": [
      "\n"
     ]
    }
   ],
   "source": [
    "df2plot = stat_df.copy()\n",
    "df2plot = df2plot[(df2plot[\"mean\"]>2000) & (df2plot[\"mean\"]<9000)]\n",
    "df2plot = df2plot[(df2plot[\"var\"]>3.75*10**8) & (df2plot[\"var\"]<10**10)]\n",
    "display(df2plot)\n",
    "\n",
    "\n",
    "# Sort division_8 in order to plot the clades in an order (everything can be displayed)\n",
    "if 0:\n",
    "    print(df2plot.division_8.unique())\n",
    "df2plot.division_8 = pd.Categorical(df2plot.division_8, \n",
    "                                categories=['bacteria', 'archaea', 'fungi', 'protists', 'plants', 'metazoa', 'vertebrates'],\n",
    "                                ordered=True)\n",
    "df2plot.sort_values('division_8', inplace=True)\n",
    "\n",
    "plot_taylor(df2plot, col_x, col_y, x_lab, y_lab, title, bool_show_regression)"
   ]
  },
  {
   "cell_type": "code",
   "execution_count": null,
   "id": "8b9f0366-ecbc-4e89-9514-f357f45530c4",
   "metadata": {},
   "outputs": [],
   "source": []
  },
  {
   "cell_type": "code",
   "execution_count": 9,
   "id": "e6366921-f167-4f92-805a-39fd8db3e4db",
   "metadata": {},
   "outputs": [
    {
     "data": {
      "text/html": [
       "<div>\n",
       "<style scoped>\n",
       "    .dataframe tbody tr th:only-of-type {\n",
       "        vertical-align: middle;\n",
       "    }\n",
       "\n",
       "    .dataframe tbody tr th {\n",
       "        vertical-align: top;\n",
       "    }\n",
       "\n",
       "    .dataframe thead th {\n",
       "        text-align: right;\n",
       "    }\n",
       "</style>\n",
       "<table border=\"1\" class=\"dataframe\">\n",
       "  <thead>\n",
       "    <tr style=\"text-align: right;\">\n",
       "      <th></th>\n",
       "      <th>division_7</th>\n",
       "      <th>division_8</th>\n",
       "      <th>species</th>\n",
       "      <th>count</th>\n",
       "      <th>mean</th>\n",
       "      <th>var</th>\n",
       "      <th>log10_mean</th>\n",
       "      <th>log10_var</th>\n",
       "    </tr>\n",
       "  </thead>\n",
       "  <tbody>\n",
       "    <tr>\n",
       "      <th>32845</th>\n",
       "      <td>metazoa</td>\n",
       "      <td>metazoa</td>\n",
       "      <td>bombus_terrestris</td>\n",
       "      <td>10581</td>\n",
       "      <td>16661.281448</td>\n",
       "      <td>2.204330e+09</td>\n",
       "      <td>3.713088</td>\n",
       "      <td>0.311522</td>\n",
       "    </tr>\n",
       "    <tr>\n",
       "      <th>32882</th>\n",
       "      <td>metazoa</td>\n",
       "      <td>metazoa</td>\n",
       "      <td>bombus_impatiens</td>\n",
       "      <td>15896</td>\n",
       "      <td>7095.112229</td>\n",
       "      <td>4.567260e+08</td>\n",
       "      <td>3.350071</td>\n",
       "      <td>0.334799</td>\n",
       "    </tr>\n",
       "  </tbody>\n",
       "</table>\n",
       "</div>"
      ],
      "text/plain": [
       "      division_7 division_8            species  count          mean  \\\n",
       "32845    metazoa    metazoa  bombus_terrestris  10581  16661.281448   \n",
       "32882    metazoa    metazoa   bombus_impatiens  15896   7095.112229   \n",
       "\n",
       "                var  log10_mean  log10_var  \n",
       "32845  2.204330e+09    3.713088   0.311522  \n",
       "32882  4.567260e+08    3.350071   0.334799  "
      ]
     },
     "metadata": {},
     "output_type": "display_data"
    }
   ],
   "source": [
    "df2plot = stat_df.copy()\n",
    "df2plot = df2plot[(df2plot[\"species\"].str.contains(\"bombus_\"))]\n",
    "display(df2plot)\n",
    "\n",
    "\n",
    "# Sort division_8 in order to plot the clades in an order (everything can be displayed)\n",
    "if 0:\n",
    "    print(df2plot.division_8.unique())\n",
    "df2plot.division_8 = pd.Categorical(df2plot.division_8, \n",
    "                                categories=['bacteria', 'archaea', 'fungi', 'protists', 'plants', 'metazoa', 'vertebrates'],\n",
    "                                ordered=True)\n",
    "df2plot.sort_values('division_8', inplace=True)\n",
    "\n",
    "# plot_taylor(df2plot, col_x, col_y, x_lab, y_lab, title, bool_show_regression)"
   ]
  },
  {
   "cell_type": "code",
   "execution_count": null,
   "id": "7568f34d-faa6-4ab0-a707-53fc6d2f154b",
   "metadata": {},
   "outputs": [],
   "source": []
  },
  {
   "cell_type": "markdown",
   "id": "2432c0b0-8633-4018-8679-c0f4f7949237",
   "metadata": {},
   "source": [
    "### Analyzing clade by clade:"
   ]
  },
  {
   "cell_type": "code",
   "execution_count": 8,
   "id": "6c34ddca-dec2-40d4-88dc-065fd0563628",
   "metadata": {},
   "outputs": [],
   "source": [
    "for clado in stat_df[\"division_8\"].unique().tolist(): # for each division\n",
    "    df2plot = stat_df[stat_df[\"division_8\"]==clado]\n",
    "    if 0: # Set up to 1 for plotting by division \n",
    "        plot_taylor(df2plot, col_x, col_y, x_lab, y_lab, title, False) # False ->bool_show_regression = False"
   ]
  },
  {
   "cell_type": "code",
   "execution_count": null,
   "id": "1dfd7f80-9f99-45ce-ba0b-92441a0e2bd0",
   "metadata": {},
   "outputs": [],
   "source": []
  }
 ],
 "metadata": {
  "kernelspec": {
   "display_name": "Python 3 (ipykernel)",
   "language": "python",
   "name": "python3"
  },
  "language_info": {
   "codemirror_mode": {
    "name": "ipython",
    "version": 3
   },
   "file_extension": ".py",
   "mimetype": "text/x-python",
   "name": "python",
   "nbconvert_exporter": "python",
   "pygments_lexer": "ipython3",
   "version": "3.10.4"
  }
 },
 "nbformat": 4,
 "nbformat_minor": 5
}
