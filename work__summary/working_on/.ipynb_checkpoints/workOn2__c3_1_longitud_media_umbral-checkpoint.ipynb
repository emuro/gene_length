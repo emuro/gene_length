{
 "cells": [
  {
   "cell_type": "markdown",
   "id": "2f77bb76-61ea-453d-9f21-7bb5cc53ecdf",
   "metadata": {},
   "source": [
    "# Longitud media umbral"
   ]
  },
  {
   "cell_type": "markdown",
   "id": "cd315034-9785-4ff0-a79c-82df247d587e",
   "metadata": {},
   "source": [
    "## Description\n",
    "Si representamos $L_g$ frente a $L_p$, para las **6521** especies de las que tenemos datos de genes y proteínas cruzadas (Figura 6), vemos que hasta un valor umbral \n",
    "$L_g = L_c$, la longitud media de los genes es 3 veces más grande que la de las proteínas y si representamos las varianzas ($\\sigma^2$) hasta un valor $\\sigma^2_g=\\sigma^2_c$, la varianza de los genes es 9 veces mayor. Las distribuciones están simplemente escaladas."
   ]
  },
  {
   "cell_type": "markdown",
   "id": "a866a2b0-d449-48e0-a8ed-ec4d483af112",
   "metadata": {},
   "source": [
    "### Modules"
   ]
  },
  {
   "cell_type": "code",
   "execution_count": 1,
   "id": "410da562-c9f2-44de-998d-96b7f0ff0d69",
   "metadata": {},
   "outputs": [],
   "source": [
    "import os\n",
    "import pandas as pd\n",
    "#import plotnine as p9\n",
    "from plotnine import *\n",
    "import matplotlib.pyplot as plt"
   ]
  },
  {
   "cell_type": "markdown",
   "id": "9adf0dd1-5ebe-413b-9b11-d7c2341db40d",
   "metadata": {},
   "source": [
    "## Observations: Statistical description of gene (and protein) length distributions in different species\n",
    "### Retrieve the statistical description of the distributions\n"
   ]
  },
  {
   "cell_type": "code",
   "execution_count": 2,
   "id": "7f9fa014-2e7a-403d-b4ac-ced03b6ddb18",
   "metadata": {},
   "outputs": [
    {
     "name": "stdout",
     "output_type": "stream",
     "text": [
      "/media/emuro/Wes/results/geneLength/outputInputFiles/analysis/some_statistics/stat_description/taxid_merged/stat_description.taxid_merged.ensembl_and_ref_proteome.tsv\n",
      "(6521, 66)\n"
     ]
    },
    {
     "data": {
      "text/html": [
       "<div>\n",
       "<style scoped>\n",
       "    .dataframe tbody tr th:only-of-type {\n",
       "        vertical-align: middle;\n",
       "    }\n",
       "\n",
       "    .dataframe tbody tr th {\n",
       "        vertical-align: top;\n",
       "    }\n",
       "\n",
       "    .dataframe thead th {\n",
       "        text-align: right;\n",
       "    }\n",
       "</style>\n",
       "<table border=\"1\" class=\"dataframe\">\n",
       "  <thead>\n",
       "    <tr style=\"text-align: right;\">\n",
       "      <th></th>\n",
       "      <th>genes_species</th>\n",
       "      <th>genes_assembly</th>\n",
       "      <th>genes_trunk_genes_path</th>\n",
       "      <th>genes_genes_file</th>\n",
       "      <th>genes_count</th>\n",
       "      <th>genes_mean</th>\n",
       "      <th>genes_std</th>\n",
       "      <th>genes_var</th>\n",
       "      <th>genes_min</th>\n",
       "      <th>genes_25perc</th>\n",
       "      <th>genes_50perc</th>\n",
       "      <th>genes_75perc</th>\n",
       "      <th>genes_max</th>\n",
       "      <th>genes_log10_mean</th>\n",
       "      <th>genes_log10_std</th>\n",
       "      <th>genes_log10_var</th>\n",
       "      <th>genes_log10_min</th>\n",
       "      <th>genes_log10_25perc</th>\n",
       "      <th>genes_log10_50perc</th>\n",
       "      <th>genes_log10_75perc</th>\n",
       "      <th>genes_log10_max</th>\n",
       "      <th>genes_log_mean</th>\n",
       "      <th>genes_log_std</th>\n",
       "      <th>genes_log_var</th>\n",
       "      <th>genes_log_min</th>\n",
       "      <th>genes_log_25perc</th>\n",
       "      <th>genes_log_50perc</th>\n",
       "      <th>genes_log_75perc</th>\n",
       "      <th>genes_log_max</th>\n",
       "      <th>genes_division</th>\n",
       "      <th>tax_id</th>\n",
       "      <th>prots_species</th>\n",
       "      <th>prots_proteome_id</th>\n",
       "      <th>prots_superregnum</th>\n",
       "      <th>prots_num_prot_cod_genes</th>\n",
       "      <th>prots_uniprot_fasta_file</th>\n",
       "      <th>prots_count</th>\n",
       "      <th>prots_mean</th>\n",
       "      <th>prots_std</th>\n",
       "      <th>prots_var</th>\n",
       "      <th>prots_min</th>\n",
       "      <th>prots_25perc</th>\n",
       "      <th>prots_50perc</th>\n",
       "      <th>prots_75perc</th>\n",
       "      <th>prots_max</th>\n",
       "      <th>prots_log10_mean</th>\n",
       "      <th>prots_log10_std</th>\n",
       "      <th>prots_log10_var</th>\n",
       "      <th>prots_log10_min</th>\n",
       "      <th>prots_log10_25perc</th>\n",
       "      <th>prots_log10_50perc</th>\n",
       "      <th>prots_log10_75perc</th>\n",
       "      <th>prots_log10_max</th>\n",
       "      <th>prots_log_mean</th>\n",
       "      <th>prots_log_std</th>\n",
       "      <th>prots_log_var</th>\n",
       "      <th>prots_log_min</th>\n",
       "      <th>prots_log_25perc</th>\n",
       "      <th>prots_log_50perc</th>\n",
       "      <th>prots_log_75perc</th>\n",
       "      <th>prots_log_max</th>\n",
       "      <th>Clades</th>\n",
       "      <th>ratio_mean_prots_genes</th>\n",
       "      <th>diff_prots_genes</th>\n",
       "      <th>abs_diff</th>\n",
       "      <th>ratio_prots_genes</th>\n",
       "    </tr>\n",
       "  </thead>\n",
       "  <tbody>\n",
       "    <tr>\n",
       "      <th>0</th>\n",
       "      <td>archangium_gephyra_gca_001027285</td>\n",
       "      <td>ASM102728v1</td>\n",
       "      <td>ftp.ensemblgenomes.org/pub/bacteria/release-49...</td>\n",
       "      <td>protein_coding.genes.archangium_gephyra_gca_00...</td>\n",
       "      <td>10119.0</td>\n",
       "      <td>1103.871035</td>\n",
       "      <td>1127.066255</td>\n",
       "      <td>1.270278e+06</td>\n",
       "      <td>113.0</td>\n",
       "      <td>524.0</td>\n",
       "      <td>887.0</td>\n",
       "      <td>1388.0</td>\n",
       "      <td>36653.0</td>\n",
       "      <td>2.919254</td>\n",
       "      <td>0.333869</td>\n",
       "      <td>0.111468</td>\n",
       "      <td>2.053078</td>\n",
       "      <td>2.719331</td>\n",
       "      <td>2.947924</td>\n",
       "      <td>3.142389</td>\n",
       "      <td>4.56411</td>\n",
       "      <td>6.721831</td>\n",
       "      <td>0.768762</td>\n",
       "      <td>0.590995</td>\n",
       "      <td>4.727388</td>\n",
       "      <td>6.261492</td>\n",
       "      <td>6.787845</td>\n",
       "      <td>7.235619</td>\n",
       "      <td>10.509251</td>\n",
       "      <td>bacteria</td>\n",
       "      <td>48</td>\n",
       "      <td>Archangium gephyra</td>\n",
       "      <td>UP000035579</td>\n",
       "      <td>bacteria</td>\n",
       "      <td>10110</td>\n",
       "      <td>/ftp.uniprot.org/pub/databases/uniprot/current...</td>\n",
       "      <td>10110.0</td>\n",
       "      <td>367.499703</td>\n",
       "      <td>375.772244</td>\n",
       "      <td>141204.779058</td>\n",
       "      <td>37.0</td>\n",
       "      <td>174.0</td>\n",
       "      <td>295.0</td>\n",
       "      <td>462.0</td>\n",
       "      <td>12217.0</td>\n",
       "      <td>2.441094</td>\n",
       "      <td>0.334836</td>\n",
       "      <td>0.112115</td>\n",
       "      <td>1.568202</td>\n",
       "      <td>2.240549</td>\n",
       "      <td>2.469822</td>\n",
       "      <td>2.664642</td>\n",
       "      <td>4.086965</td>\n",
       "      <td>5.620827</td>\n",
       "      <td>0.770987</td>\n",
       "      <td>0.594422</td>\n",
       "      <td>3.610918</td>\n",
       "      <td>5.159055</td>\n",
       "      <td>5.686975</td>\n",
       "      <td>6.135565</td>\n",
       "      <td>9.410584</td>\n",
       "      <td>bacteria</td>\n",
       "      <td>0.998757</td>\n",
       "      <td>-9.0</td>\n",
       "      <td>9.0</td>\n",
       "      <td>0.999111</td>\n",
       "    </tr>\n",
       "  </tbody>\n",
       "</table>\n",
       "</div>"
      ],
      "text/plain": [
       "                      genes_species genes_assembly  \\\n",
       "0  archangium_gephyra_gca_001027285    ASM102728v1   \n",
       "\n",
       "                              genes_trunk_genes_path  \\\n",
       "0  ftp.ensemblgenomes.org/pub/bacteria/release-49...   \n",
       "\n",
       "                                    genes_genes_file  genes_count  \\\n",
       "0  protein_coding.genes.archangium_gephyra_gca_00...      10119.0   \n",
       "\n",
       "    genes_mean    genes_std     genes_var  genes_min  genes_25perc  \\\n",
       "0  1103.871035  1127.066255  1.270278e+06      113.0         524.0   \n",
       "\n",
       "   genes_50perc  genes_75perc  genes_max  genes_log10_mean  genes_log10_std  \\\n",
       "0         887.0        1388.0    36653.0          2.919254         0.333869   \n",
       "\n",
       "   genes_log10_var  genes_log10_min  genes_log10_25perc  genes_log10_50perc  \\\n",
       "0         0.111468         2.053078            2.719331            2.947924   \n",
       "\n",
       "   genes_log10_75perc  genes_log10_max  genes_log_mean  genes_log_std  \\\n",
       "0            3.142389          4.56411        6.721831       0.768762   \n",
       "\n",
       "   genes_log_var  genes_log_min  genes_log_25perc  genes_log_50perc  \\\n",
       "0       0.590995       4.727388          6.261492          6.787845   \n",
       "\n",
       "   genes_log_75perc  genes_log_max genes_division  tax_id       prots_species  \\\n",
       "0          7.235619      10.509251       bacteria      48  Archangium gephyra   \n",
       "\n",
       "  prots_proteome_id prots_superregnum  prots_num_prot_cod_genes  \\\n",
       "0       UP000035579          bacteria                     10110   \n",
       "\n",
       "                            prots_uniprot_fasta_file  prots_count  prots_mean  \\\n",
       "0  /ftp.uniprot.org/pub/databases/uniprot/current...      10110.0  367.499703   \n",
       "\n",
       "    prots_std      prots_var  prots_min  prots_25perc  prots_50perc  \\\n",
       "0  375.772244  141204.779058       37.0         174.0         295.0   \n",
       "\n",
       "   prots_75perc  prots_max  prots_log10_mean  prots_log10_std  \\\n",
       "0         462.0    12217.0          2.441094         0.334836   \n",
       "\n",
       "   prots_log10_var  prots_log10_min  prots_log10_25perc  prots_log10_50perc  \\\n",
       "0         0.112115         1.568202            2.240549            2.469822   \n",
       "\n",
       "   prots_log10_75perc  prots_log10_max  prots_log_mean  prots_log_std  \\\n",
       "0            2.664642         4.086965        5.620827       0.770987   \n",
       "\n",
       "   prots_log_var  prots_log_min  prots_log_25perc  prots_log_50perc  \\\n",
       "0       0.594422       3.610918          5.159055          5.686975   \n",
       "\n",
       "   prots_log_75perc  prots_log_max    Clades  ratio_mean_prots_genes  \\\n",
       "0          6.135565       9.410584  bacteria                0.998757   \n",
       "\n",
       "   diff_prots_genes  abs_diff  ratio_prots_genes  \n",
       "0              -9.0       9.0           0.999111  "
      ]
     },
     "metadata": {},
     "output_type": "display_data"
    },
    {
     "name": "stdout",
     "output_type": "stream",
     "text": [
      "\n",
      "Clades:\n",
      "bacteria       5468\n",
      "fungi           533\n",
      "archaea         227\n",
      "vertebrates      94\n",
      "protist          91\n",
      "plants           59\n",
      "metazoa          49\n",
      "Name: Clades, dtype: int64\n"
     ]
    }
   ],
   "source": [
    "# data file\n",
    "system = list(os.uname())[0]\n",
    "if system == 'Linux':\n",
    "    merged_6521_file = \"/media/emuro/Wes/\"\n",
    "elif system == 'Darwin':\n",
    "    pass # Fix this!\n",
    "merged_6521_file = merged_6521_file + \"results/geneLength/outputInputFiles/analysis/some_statistics/stat_description/taxid_merged/\"\n",
    "merged_6521_file = merged_6521_file + \"stat_description.taxid_merged.ensembl_and_ref_proteome.tsv\"\n",
    "print(merged_6521_file)\n",
    "\n",
    "# retrieve data\n",
    "merged = pd.read_csv(merged_6521_file, sep=\"\\t\")\n",
    "merged.rename(columns = {\"merged_division_superregnum\" : 'Clades'}, inplace = True)\n",
    " \n",
    "# visualize data\n",
    "print(merged.shape)\n",
    "pd.set_option('display.max_columns', None)\n",
    "if 1:\n",
    "    display(merged.head(1))\n",
    "    print(\"\\nClades:\\n\", merged[\"Clades\"].value_counts(), sep=\"\")\n"
   ]
  },
  {
   "cell_type": "code",
   "execution_count": null,
   "id": "115163c1-0452-4c57-9fce-bea10e6c1d34",
   "metadata": {},
   "outputs": [],
   "source": []
  },
  {
   "cell_type": "markdown",
   "id": "51f29549-c1cb-485f-bbe8-2858f5af3dd1",
   "metadata": {},
   "source": [
    "#### Filter columns and clades"
   ]
  },
  {
   "cell_type": "code",
   "execution_count": 3,
   "id": "5d8a4722-4a89-44fc-8c2f-67085071a63e",
   "metadata": {},
   "outputs": [
    {
     "name": "stdout",
     "output_type": "stream",
     "text": [
      "capture a reference: (1, 7)\n"
     ]
    },
    {
     "data": {
      "text/html": [
       "<div>\n",
       "<style scoped>\n",
       "    .dataframe tbody tr th:only-of-type {\n",
       "        vertical-align: middle;\n",
       "    }\n",
       "\n",
       "    .dataframe tbody tr th {\n",
       "        vertical-align: top;\n",
       "    }\n",
       "\n",
       "    .dataframe thead th {\n",
       "        text-align: right;\n",
       "    }\n",
       "</style>\n",
       "<table border=\"1\" class=\"dataframe\">\n",
       "  <thead>\n",
       "    <tr style=\"text-align: right;\">\n",
       "      <th></th>\n",
       "      <th>genes_species</th>\n",
       "      <th>Clades</th>\n",
       "      <th>tax_id</th>\n",
       "      <th>genes_mean</th>\n",
       "      <th>prots_mean</th>\n",
       "      <th>genes_var</th>\n",
       "      <th>prots_var</th>\n",
       "    </tr>\n",
       "  </thead>\n",
       "  <tbody>\n",
       "    <tr>\n",
       "      <th>3043</th>\n",
       "      <td>kazachstania_naganishii_cbs_8797_gca_000348985</td>\n",
       "      <td>fungi</td>\n",
       "      <td>1071383</td>\n",
       "      <td>1503.940237</td>\n",
       "      <td>499.711187</td>\n",
       "      <td>1.203042e+06</td>\n",
       "      <td>134805.486571</td>\n",
       "    </tr>\n",
       "  </tbody>\n",
       "</table>\n",
       "</div>"
      ],
      "text/plain": [
       "                                       genes_species Clades   tax_id  \\\n",
       "3043  kazachstania_naganishii_cbs_8797_gca_000348985  fungi  1071383   \n",
       "\n",
       "       genes_mean  prots_mean     genes_var      prots_var  \n",
       "3043  1503.940237  499.711187  1.203042e+06  134805.486571  "
      ]
     },
     "metadata": {},
     "output_type": "display_data"
    },
    {
     "name": "stdout",
     "output_type": "stream",
     "text": [
      "(6521, 7)\n"
     ]
    },
    {
     "data": {
      "text/html": [
       "<div>\n",
       "<style scoped>\n",
       "    .dataframe tbody tr th:only-of-type {\n",
       "        vertical-align: middle;\n",
       "    }\n",
       "\n",
       "    .dataframe tbody tr th {\n",
       "        vertical-align: top;\n",
       "    }\n",
       "\n",
       "    .dataframe thead th {\n",
       "        text-align: right;\n",
       "    }\n",
       "</style>\n",
       "<table border=\"1\" class=\"dataframe\">\n",
       "  <thead>\n",
       "    <tr style=\"text-align: right;\">\n",
       "      <th></th>\n",
       "      <th>genes_species</th>\n",
       "      <th>Clades</th>\n",
       "      <th>tax_id</th>\n",
       "      <th>genes_mean</th>\n",
       "      <th>prots_mean</th>\n",
       "      <th>genes_var</th>\n",
       "      <th>prots_var</th>\n",
       "    </tr>\n",
       "  </thead>\n",
       "  <tbody>\n",
       "    <tr>\n",
       "      <th>0</th>\n",
       "      <td>archangium_gephyra_gca_001027285</td>\n",
       "      <td>bacteria</td>\n",
       "      <td>48</td>\n",
       "      <td>1103.871035</td>\n",
       "      <td>367.499703</td>\n",
       "      <td>1.270278e+06</td>\n",
       "      <td>141204.779058</td>\n",
       "    </tr>\n",
       "    <tr>\n",
       "      <th>1</th>\n",
       "      <td>chondromyces_crocatus_gca_001189295</td>\n",
       "      <td>bacteria</td>\n",
       "      <td>52</td>\n",
       "      <td>1211.514450</td>\n",
       "      <td>403.466555</td>\n",
       "      <td>1.105460e+06</td>\n",
       "      <td>122906.027917</td>\n",
       "    </tr>\n",
       "    <tr>\n",
       "      <th>2</th>\n",
       "      <td>nannocystis_exedens_gca_900112715</td>\n",
       "      <td>bacteria</td>\n",
       "      <td>54</td>\n",
       "      <td>1078.663863</td>\n",
       "      <td>358.985125</td>\n",
       "      <td>6.671474e+05</td>\n",
       "      <td>74145.723034</td>\n",
       "    </tr>\n",
       "    <tr>\n",
       "      <th>3</th>\n",
       "      <td>lysobacter_enzymogenes_gca_001442515</td>\n",
       "      <td>bacteria</td>\n",
       "      <td>69</td>\n",
       "      <td>955.797070</td>\n",
       "      <td>318.117519</td>\n",
       "      <td>1.206769e+06</td>\n",
       "      <td>134350.408099</td>\n",
       "    </tr>\n",
       "    <tr>\n",
       "      <th>4</th>\n",
       "      <td>stella_humosa_gca_003751345</td>\n",
       "      <td>bacteria</td>\n",
       "      <td>94</td>\n",
       "      <td>998.770749</td>\n",
       "      <td>332.257470</td>\n",
       "      <td>3.667197e+05</td>\n",
       "      <td>40746.238069</td>\n",
       "    </tr>\n",
       "    <tr>\n",
       "      <th>...</th>\n",
       "      <td>...</td>\n",
       "      <td>...</td>\n",
       "      <td>...</td>\n",
       "      <td>...</td>\n",
       "      <td>...</td>\n",
       "      <td>...</td>\n",
       "      <td>...</td>\n",
       "    </tr>\n",
       "    <tr>\n",
       "      <th>6516</th>\n",
       "      <td>rhodobacteraceae_bacterium_sh_1_gca_003008555</td>\n",
       "      <td>bacteria</td>\n",
       "      <td>2605946</td>\n",
       "      <td>958.938653</td>\n",
       "      <td>318.607411</td>\n",
       "      <td>3.693746e+05</td>\n",
       "      <td>41108.419840</td>\n",
       "    </tr>\n",
       "    <tr>\n",
       "      <th>6517</th>\n",
       "      <td>isoptericola_sp_pw21_gca_003244315</td>\n",
       "      <td>bacteria</td>\n",
       "      <td>2607479</td>\n",
       "      <td>998.542149</td>\n",
       "      <td>332.182111</td>\n",
       "      <td>4.889844e+05</td>\n",
       "      <td>54333.535541</td>\n",
       "    </tr>\n",
       "    <tr>\n",
       "      <th>6518</th>\n",
       "      <td>rhodospirillaceae_bacterium_gca_003344765</td>\n",
       "      <td>bacteria</td>\n",
       "      <td>2661937</td>\n",
       "      <td>961.226040</td>\n",
       "      <td>319.827559</td>\n",
       "      <td>5.610666e+05</td>\n",
       "      <td>62361.695366</td>\n",
       "    </tr>\n",
       "    <tr>\n",
       "      <th>6519</th>\n",
       "      <td>glaciihabitans_sp_rp_3_7_gca_004310685</td>\n",
       "      <td>bacteria</td>\n",
       "      <td>2668039</td>\n",
       "      <td>989.170912</td>\n",
       "      <td>329.057641</td>\n",
       "      <td>6.527328e+05</td>\n",
       "      <td>72525.912868</td>\n",
       "    </tr>\n",
       "    <tr>\n",
       "      <th>6520</th>\n",
       "      <td>methylophilaceae_bacterium_gca_003730115</td>\n",
       "      <td>bacteria</td>\n",
       "      <td>2676064</td>\n",
       "      <td>955.882083</td>\n",
       "      <td>318.421712</td>\n",
       "      <td>4.859626e+05</td>\n",
       "      <td>53962.744391</td>\n",
       "    </tr>\n",
       "  </tbody>\n",
       "</table>\n",
       "<p>6521 rows × 7 columns</p>\n",
       "</div>"
      ],
      "text/plain": [
       "                                      genes_species    Clades   tax_id  \\\n",
       "0                  archangium_gephyra_gca_001027285  bacteria       48   \n",
       "1               chondromyces_crocatus_gca_001189295  bacteria       52   \n",
       "2                 nannocystis_exedens_gca_900112715  bacteria       54   \n",
       "3              lysobacter_enzymogenes_gca_001442515  bacteria       69   \n",
       "4                       stella_humosa_gca_003751345  bacteria       94   \n",
       "...                                             ...       ...      ...   \n",
       "6516  rhodobacteraceae_bacterium_sh_1_gca_003008555  bacteria  2605946   \n",
       "6517             isoptericola_sp_pw21_gca_003244315  bacteria  2607479   \n",
       "6518      rhodospirillaceae_bacterium_gca_003344765  bacteria  2661937   \n",
       "6519         glaciihabitans_sp_rp_3_7_gca_004310685  bacteria  2668039   \n",
       "6520       methylophilaceae_bacterium_gca_003730115  bacteria  2676064   \n",
       "\n",
       "       genes_mean  prots_mean     genes_var      prots_var  \n",
       "0     1103.871035  367.499703  1.270278e+06  141204.779058  \n",
       "1     1211.514450  403.466555  1.105460e+06  122906.027917  \n",
       "2     1078.663863  358.985125  6.671474e+05   74145.723034  \n",
       "3      955.797070  318.117519  1.206769e+06  134350.408099  \n",
       "4      998.770749  332.257470  3.667197e+05   40746.238069  \n",
       "...           ...         ...           ...            ...  \n",
       "6516   958.938653  318.607411  3.693746e+05   41108.419840  \n",
       "6517   998.542149  332.182111  4.889844e+05   54333.535541  \n",
       "6518   961.226040  319.827559  5.610666e+05   62361.695366  \n",
       "6519   989.170912  329.057641  6.527328e+05   72525.912868  \n",
       "6520   955.882083  318.421712  4.859626e+05   53962.744391  \n",
       "\n",
       "[6521 rows x 7 columns]"
      ]
     },
     "metadata": {},
     "output_type": "display_data"
    }
   ],
   "source": [
    "# Filter columns\n",
    "merged = merged[[\"genes_species\", \"Clades\", \"tax_id\", \"genes_mean\", \"prots_mean\"] + [\"genes_var\", \"prots_var\"]]\n",
    "\n",
    "# Captura una referencia    \n",
    "if 1: # tb. podría capturar varias\n",
    "    captured = merged[(merged[\"genes_mean\"]<=1506) & (merged[\"genes_mean\"]>=1497)]\n",
    "    captured = captured[(captured[\"prots_mean\"]<=502) & (captured[\"prots_mean\"]>=499)]\n",
    "    captured = captured.sort_values(by='genes_mean')\n",
    "    captured_species = \"kazachstania_naganishii_cbs_8797_gca_000348985\"\n",
    "print(\"capture a reference:\", captured.shape)\n",
    "display(captured)\n",
    "\n",
    "# Filter some clades if you want it\n",
    "if 1:\n",
    "    pass\n",
    "elif 0:\n",
    "    merged = merged.loc[merged[\"Clades\"].isin([\"bacteria\", \"archaea\", \"protist\"])]\n",
    "elif 0:\n",
    "    merged = merged.loc[merged[\"Clades\"].isin([\"fungi\", \"metazoa\", \"vertebrates\"])]\n",
    "elif 0:\n",
    "    merged = merged.loc[merged[\"Clades\"].isin([\"protist\", \"plants\"])]\n",
    "elif 1:\n",
    "    merged = merged.loc[merged[\"Clades\"].isin([\"vertebrates\"])]\n",
    "elif 0:\n",
    "    merged = merged.loc[merged[\"Clades\"].isin([\"bacteria\", \"protist\"])]\n",
    "elif 0:\n",
    "    merged = merged.loc[merged[\"Clades\"].isin([\"bacteria\", \"fungi\"])] \n",
    "elif 0:\n",
    "    merged = merged.loc[merged[\"Clades\"].isin([\"bacteria\", \"plants\"])] \n",
    "elif 0:\n",
    "    merged = merged.loc[merged[\"Clades\"].isin([\"bacteria\", \"vertebrates\"])] \n",
    "#     kazachstania_naganishii_cbs_8797_gca_000348985\n",
    "print(merged.shape)\n",
    "display(merged)"
   ]
  },
  {
   "cell_type": "code",
   "execution_count": null,
   "id": "9d6588af-8fc6-42cc-b9b1-a65cd0e5372f",
   "metadata": {},
   "outputs": [],
   "source": []
  },
  {
   "cell_type": "code",
   "execution_count": 4,
   "id": "a0cae4e4-8b54-4462-b995-d6468534d620",
   "metadata": {},
   "outputs": [],
   "source": [
    "# Function to plot the distribution\n",
    "# blue: Observation\n",
    "##########################################\n",
    "def plot_distribution (dist, title, subtitle, xlabel, ylabel, bool_mean, hist_num_boxes): \n",
    "    count, bins, *rest = plt.hist(dist, hist_num_boxes, density=True, alpha=0.4, edgecolor='black')\n",
    "    N = len(dist)\n",
    "\n",
    "    mu = dist.mean()\n",
    "    #plt.vlines(x = mu, ymin = 0, ymax = 0.005, colors = 'white', label = 'mean') # mean\n",
    "    #plt.vlines(x = mu, colors = 'white', label = 'mean') # mean\n",
    "    if bool_mean:\n",
    "        plt.xlim([100,700]); plt.ylim([0,0.02])\n",
    "        plt.vlines(x = mu, ymin = 0, ymax = 0.005, colors = 'green', label = 'mean') # mean\n",
    "    else:\n",
    "        plt.xlim([10**4, 1*10**6]); #plt.ylim([0,0.02])\n",
    "        plt.vlines(x = mu, ymin = 0, ymax = 1/10**5, colors = 'green', label = 'mean') # mean\n",
    "            \n",
    "    plt.suptitle(title); plt.title( \"mean=\" + str(mu) + \"; \" + \"N=\" + str(int(N)) + \"; \" + \"boxes=\" + str(int(hist_num_boxes)) )\n",
    "    plt.xlabel(xlabel); plt.ylabel(ylabel)\n",
    "    plt.show()"
   ]
  },
  {
   "cell_type": "code",
   "execution_count": null,
   "id": "87512922-06e1-44c2-a7ef-a31b6aa13d32",
   "metadata": {},
   "outputs": [],
   "source": []
  },
  {
   "cell_type": "markdown",
   "id": "12ef38b7-faaa-46eb-aa68-4dcd30ba5305",
   "metadata": {},
   "source": [
    "## $\\mu_p$"
   ]
  },
  {
   "cell_type": "code",
   "execution_count": 5,
   "id": "503b7edb-6aa5-4d78-a0b6-31014f2477d7",
   "metadata": {},
   "outputs": [
    {
     "name": "stdout",
     "output_type": "stream",
     "text": [
      "plants\n"
     ]
    },
    {
     "data": {
      "image/png": "[encoded data removed]",
      "text/plain": [
       "<Figure size 432x288 with 1 Axes>"
      ]
     },
     "metadata": {
      "needs_background": "light"
     },
     "output_type": "display_data"
    },
    {
     "name": "stdout",
     "output_type": "stream",
     "text": [
      "metazoa\n"
     ]
    },
    {
     "data": {
      "image/png": "[encoded data removed]",
      "text/plain": [
       "<Figure size 432x288 with 1 Axes>"
      ]
     },
     "metadata": {
      "needs_background": "light"
     },
     "output_type": "display_data"
    },
    {
     "name": "stdout",
     "output_type": "stream",
     "text": [
      "vertebrates\n"
     ]
    },
    {
     "data": {
      "image/png": "[encoded data removed]",
      "text/plain": [
       "<Figure size 432x288 with 1 Axes>"
      ]
     },
     "metadata": {
      "needs_background": "light"
     },
     "output_type": "display_data"
    },
    {
     "name": "stdout",
     "output_type": "stream",
     "text": [
      "fungi\n"
     ]
    },
    {
     "data": {
      "image/png": "[encoded data removed]",
      "text/plain": [
       "<Figure size 432x288 with 1 Axes>"
      ]
     },
     "metadata": {
      "needs_background": "light"
     },
     "output_type": "display_data"
    },
    {
     "name": "stdout",
     "output_type": "stream",
     "text": [
      "protist\n"
     ]
    },
    {
     "data": {
      "image/png": "[encoded data removed]",
      "text/plain": [
       "<Figure size 432x288 with 1 Axes>"
      ]
     },
     "metadata": {
      "needs_background": "light"
     },
     "output_type": "display_data"
    }
   ],
   "source": [
    "if 1:\n",
    "    aux_df = merged.copy()\n",
    "    legends_by = \"Clades\"\n",
    "    if 0:\n",
    "        print(aux_df[legends_by].unique().tolist())\n",
    "        print(\"\\nClades:\\n\", aux_df[legends_by].value_counts(), sep=\"\")\n",
    "    clades_to_see = [\"plants\", \"metazoa\", \"vertebrates\", \"fungi\", \"protist\"]\n",
    "    for clade in clades_to_see: # for each division\n",
    "        df2plot = aux_df[aux_df[legends_by]==clade] \n",
    "        print(clade)\n",
    "        \n",
    "        dist = df2plot.prots_mean\n",
    "        #\n",
    "        title = clade.capitalize()\n",
    "        subtitle = \"\"\n",
    "        x_lab = \"$\\mu_p$ (aa)\"\n",
    "        y_lab = \"PDF\"\n",
    "        bool_mean = True\n",
    "        hist_num_boxes = 30\n",
    "        \n",
    "        plot_distribution (dist, title, subtitle, x_lab, y_lab, bool_mean, hist_num_boxes)\n",
    "        # Note: it give a error...do not worry"
   ]
  },
  {
   "cell_type": "markdown",
   "id": "c3a8ad3a-41d3-4950-95f1-e6749036a453",
   "metadata": {},
   "source": [
    "<!--\n",
    "#### Calculate Taylor variance\n",
    "As reference\n",
    "For some lengths \n",
    "(Lg, Vg): (1500, )  \n",
    "(Lp, Vp): (500, )\n",
    "--> "
   ]
  },
  {
   "cell_type": "code",
   "execution_count": null,
   "id": "8cbe2bd7-0908-4e3a-92c1-88717a3ae690",
   "metadata": {},
   "outputs": [],
   "source": []
  },
  {
   "cell_type": "markdown",
   "id": "269704bc-654e-42ae-90e9-4bde6293a22c",
   "metadata": {},
   "source": [
    "## $\\sigma^2_p$"
   ]
  },
  {
   "cell_type": "code",
   "execution_count": 6,
   "id": "9955af69-0af9-4a3c-9932-8114cfae1ff0",
   "metadata": {},
   "outputs": [
    {
     "name": "stdout",
     "output_type": "stream",
     "text": [
      "['bacteria', 'archaea', 'plants', 'protist', 'fungi', 'metazoa', 'vertebrates']\n",
      "\n",
      "Clades:\n",
      "bacteria       5468\n",
      "fungi           533\n",
      "archaea         227\n",
      "vertebrates      94\n",
      "protist          91\n",
      "plants           59\n",
      "metazoa          49\n",
      "Name: Clades, dtype: int64\n",
      "plants\n"
     ]
    },
    {
     "data": {
      "image/png": "[encoded data removed]",
      "text/plain": [
       "<Figure size 432x288 with 1 Axes>"
      ]
     },
     "metadata": {
      "needs_background": "light"
     },
     "output_type": "display_data"
    },
    {
     "name": "stdout",
     "output_type": "stream",
     "text": [
      "metazoa\n"
     ]
    },
    {
     "data": {
      "image/png": "[encoded data removed]",
      "text/plain": [
       "<Figure size 432x288 with 1 Axes>"
      ]
     },
     "metadata": {
      "needs_background": "light"
     },
     "output_type": "display_data"
    },
    {
     "name": "stdout",
     "output_type": "stream",
     "text": [
      "vertebrates\n"
     ]
    },
    {
     "data": {
      "image/png": "[encoded data removed]",
      "text/plain": [
       "<Figure size 432x288 with 1 Axes>"
      ]
     },
     "metadata": {
      "needs_background": "light"
     },
     "output_type": "display_data"
    },
    {
     "name": "stdout",
     "output_type": "stream",
     "text": [
      "fungi\n"
     ]
    },
    {
     "data": {
      "image/png": "[encoded data removed]",
      "text/plain": [
       "<Figure size 432x288 with 1 Axes>"
      ]
     },
     "metadata": {
      "needs_background": "light"
     },
     "output_type": "display_data"
    },
    {
     "name": "stdout",
     "output_type": "stream",
     "text": [
      "protist\n"
     ]
    },
    {
     "data": {
      "image/png": "[encoded data removed]",
      "text/plain": [
       "<Figure size 432x288 with 1 Axes>"
      ]
     },
     "metadata": {
      "needs_background": "light"
     },
     "output_type": "display_data"
    }
   ],
   "source": [
    "if 1:\n",
    "    aux_df = merged.copy()\n",
    "    legends_by = \"Clades\"\n",
    "    if 1:\n",
    "        print(aux_df[legends_by].unique().tolist())\n",
    "        print(\"\\nClades:\\n\", aux_df[legends_by].value_counts(), sep=\"\")\n",
    "    clades_to_see = [\"plants\", \"metazoa\", \"vertebrates\", \"fungi\", \"protist\"]\n",
    "    for clade in clades_to_see: # for each division\n",
    "        df2plot = aux_df[aux_df[legends_by]==clade] \n",
    "        print(clade)\n",
    "        \n",
    "        dist = df2plot.prots_var\n",
    "        #\n",
    "        title = clade.capitalize()\n",
    "        subtitle = \"\"\n",
    "        x_lab = \"$\\sigma^2_p$ (aa^2)\"\n",
    "        y_lab = \"PDF\"\n",
    "        bool_mean = False\n",
    "        hist_num_boxes = 40\n",
    "        \n",
    "        plot_distribution (dist, title, subtitle, x_lab, y_lab, bool_mean, hist_num_boxes)"
   ]
  },
  {
   "cell_type": "code",
   "execution_count": null,
   "id": "c56972c2-6188-4e0f-b820-2f75e625eb87",
   "metadata": {},
   "outputs": [],
   "source": []
  },
  {
   "cell_type": "code",
   "execution_count": null,
   "id": "730cc75a-adf9-42ad-b726-ed9fd7eb8783",
   "metadata": {},
   "outputs": [],
   "source": []
  },
  {
   "cell_type": "code",
   "execution_count": null,
   "id": "f3b5a9d0-a80f-43fc-9c38-8e90c01f981c",
   "metadata": {},
   "outputs": [],
   "source": []
  }
 ],
 "metadata": {
  "kernelspec": {
   "display_name": "Python 3 (ipykernel)",
   "language": "python",
   "name": "python3"
  },
  "language_info": {
   "codemirror_mode": {
    "name": "ipython",
    "version": 3
   },
   "file_extension": ".py",
   "mimetype": "text/x-python",
   "name": "python",
   "nbconvert_exporter": "python",
   "pygments_lexer": "ipython3",
   "version": "3.10.4"
  },
  "toc-autonumbering": false,
  "toc-showcode": false,
  "toc-showmarkdowntxt": true
 },
 "nbformat": 4,
 "nbformat_minor": 5
}
