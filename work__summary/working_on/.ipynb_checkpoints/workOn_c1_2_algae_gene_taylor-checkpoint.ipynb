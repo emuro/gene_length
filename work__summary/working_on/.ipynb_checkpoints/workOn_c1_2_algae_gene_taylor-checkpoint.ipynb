{
 "cells": [
  {
   "cell_type": "markdown",
   "id": "c200a4f3",
   "metadata": {},
   "source": [
    "# [Taylor law](https://en.wikipedia.org/wiki/Taylor%27s_law)"
   ]
  },
  {
   "cell_type": "code",
   "execution_count": 1,
   "id": "51b0a90c",
   "metadata": {},
   "outputs": [],
   "source": [
    "import numpy as np\n",
    "from scipy import stats\n",
    "import os \n",
    "import pandas as pd\n",
    "from plotnine import *"
   ]
  },
  {
   "cell_type": "code",
   "execution_count": null,
   "id": "23d40525-65aa-4a58-881c-72a93960fcbb",
   "metadata": {},
   "outputs": [],
   "source": []
  },
  {
   "cell_type": "markdown",
   "id": "c7b6d3b5",
   "metadata": {},
   "source": [
    "## Observations: Gene length distribution in different species"
   ]
  },
  {
   "cell_type": "markdown",
   "id": "d509543a-9bbf-4428-bb98-a287201ef79d",
   "metadata": {},
   "source": [
    "### Retrieve the statistical description and tax_id of species"
   ]
  },
  {
   "cell_type": "markdown",
   "id": "3a99f2a8-5073-440f-88be-bf0def58ea9d",
   "metadata": {
    "tags": []
   },
   "source": [
    "##### Statistical description data file"
   ]
  },
  {
   "cell_type": "code",
   "execution_count": 2,
   "id": "86b76b58-6c34-4b8a-82b3-f117e835fad0",
   "metadata": {},
   "outputs": [
    {
     "name": "stdout",
     "output_type": "stream",
     "text": [
      "/media/emuro/Wes/results/geneLength/outputInputFiles/analysis/some_statistics/stat_description/all__stat_description.ensembl_v2.0__withLineage.tsv\n"
     ]
    },
    {
     "data": {
      "text/html": [
       "<div>\n",
       "<style scoped>\n",
       "    .dataframe tbody tr th:only-of-type {\n",
       "        vertical-align: middle;\n",
       "    }\n",
       "\n",
       "    .dataframe tbody tr th {\n",
       "        vertical-align: top;\n",
       "    }\n",
       "\n",
       "    .dataframe thead th {\n",
       "        text-align: right;\n",
       "    }\n",
       "</style>\n",
       "<table border=\"1\" class=\"dataframe\">\n",
       "  <thead>\n",
       "    <tr style=\"text-align: right;\">\n",
       "      <th></th>\n",
       "      <th>division_7</th>\n",
       "      <th>division_8</th>\n",
       "      <th>species</th>\n",
       "      <th>taxonomy_id</th>\n",
       "      <th>Lineage</th>\n",
       "      <th>Scientific_name</th>\n",
       "      <th>count</th>\n",
       "      <th>mean</th>\n",
       "      <th>var</th>\n",
       "      <th>log10_mean</th>\n",
       "      <th>log10_var</th>\n",
       "    </tr>\n",
       "  </thead>\n",
       "  <tbody>\n",
       "    <tr>\n",
       "      <th>0</th>\n",
       "      <td>bacteria</td>\n",
       "      <td>archaea</td>\n",
       "      <td>methanobacterium_bryantii_gca_002287175</td>\n",
       "      <td>2161</td>\n",
       "      <td>Archaea; Euryarchaeota; Methanomada group; Met...</td>\n",
       "      <td>Methanobacterium bryantii</td>\n",
       "      <td>3168</td>\n",
       "      <td>840.404040</td>\n",
       "      <td>422343.848699</td>\n",
       "      <td>2.827684</td>\n",
       "      <td>0.082694</td>\n",
       "    </tr>\n",
       "    <tr>\n",
       "      <th>1</th>\n",
       "      <td>bacteria</td>\n",
       "      <td>archaea</td>\n",
       "      <td>methanobacterium_formicicum_gca_000762265</td>\n",
       "      <td>2162</td>\n",
       "      <td>Archaea; Euryarchaeota; Methanomada group; Met...</td>\n",
       "      <td>Methanobacterium formicicum</td>\n",
       "      <td>2352</td>\n",
       "      <td>862.427296</td>\n",
       "      <td>347239.612747</td>\n",
       "      <td>2.849723</td>\n",
       "      <td>0.076317</td>\n",
       "    </tr>\n",
       "  </tbody>\n",
       "</table>\n",
       "</div>"
      ],
      "text/plain": [
       "  division_7 division_8                                    species  \\\n",
       "0   bacteria    archaea    methanobacterium_bryantii_gca_002287175   \n",
       "1   bacteria    archaea  methanobacterium_formicicum_gca_000762265   \n",
       "\n",
       "   taxonomy_id                                            Lineage  \\\n",
       "0         2161  Archaea; Euryarchaeota; Methanomada group; Met...   \n",
       "1         2162  Archaea; Euryarchaeota; Methanomada group; Met...   \n",
       "\n",
       "               Scientific_name  count        mean            var  log10_mean  \\\n",
       "0    Methanobacterium bryantii   3168  840.404040  422343.848699    2.827684   \n",
       "1  Methanobacterium formicicum   2352  862.427296  347239.612747    2.849723   \n",
       "\n",
       "   log10_var  \n",
       "0   0.082694  \n",
       "1   0.076317  "
      ]
     },
     "metadata": {},
     "output_type": "display_data"
    },
    {
     "name": "stdout",
     "output_type": "stream",
     "text": [
      "(33630, 11)\n"
     ]
    }
   ],
   "source": [
    "# system\n",
    "system = list(os.uname())[0]\n",
    "if system == 'Linux':\n",
    "    base_dir = \"/media/emuro/Wes/\"\n",
    "elif system == 'Darwin':\n",
    "    base_dir = \"/Volumes/Wes/\"\n",
    "    \n",
    "# statistics on length distribution for different species     \n",
    "stat_file = base_dir + \"results/geneLength/outputInputFiles/\" + \"analysis/some_statistics/stat_description/\" \n",
    "#stat_file += \"all__stat_description.ensembl.tsv\"\n",
    "stat_file += \"all__stat_description.ensembl_v2.0__withLineage.tsv\"\n",
    "print(stat_file)\n",
    "\n",
    "# retrieve data\n",
    "stat_df = pd.read_csv(stat_file, low_memory=False, sep=\"\\t\")\n",
    "stat_df = stat_df[[\"division_7\", \"division_8\", \"species\", \"taxonomy_id\", \"Lineage\", \"Scientific_name\", \"count\", \"mean\", \"var\"] + [\"log10_mean\", \"log10_var\"]]\n",
    "#stat_df = stat_df[[\"division_8\"]] \n",
    "# visualize data\n",
    "pd.set_option('display.max_columns', None)\n",
    "if 1:\n",
    "    display(stat_df.head(2))\n",
    "    print(stat_df.shape)"
   ]
  },
  {
   "cell_type": "markdown",
   "id": "3e3a47fb-4f40-4680-86cf-f90970ba1e19",
   "metadata": {},
   "source": [
    "##### Filter some species"
   ]
  },
  {
   "cell_type": "code",
   "execution_count": 3,
   "id": "90d2b7e7-99db-441c-b7d6-f6509e017fa7",
   "metadata": {},
   "outputs": [
    {
     "name": "stdout",
     "output_type": "stream",
     "text": [
      "(33460, 11)\n",
      "bacteria       30555\n",
      "archaea         1228\n",
      "fungi           1007\n",
      "protists         237\n",
      "vertebrates      222\n",
      "metazoa          115\n",
      "plants            96\n",
      "Name: division_8, dtype: int64\n"
     ]
    }
   ],
   "source": [
    "if 0:\n",
    "    print(stat_df[\"division_8\"].value_counts())\n",
    "cond = stat_df[\"division_8\"].isin([\"bacteria\", \"archaea\",\"protists\", \"plants\", \"fungi\", \"metazoa\", \"vertebrates\"])  # avoid: empty or viruses\n",
    "stat_df = stat_df[cond]\n",
    "\n",
    "stat_df = stat_df[stat_df[\"species\"] != \"mus_caroli\"]\n",
    "\n",
    "if 1:\n",
    "    #display(stat_df.head(2))\n",
    "    print(stat_df.shape)\n",
    "    print(stat_df[\"division_8\"].value_counts())"
   ]
  },
  {
   "cell_type": "code",
   "execution_count": null,
   "id": "6297db48-b357-4a5a-99b0-013ba7c504f2",
   "metadata": {},
   "outputs": [],
   "source": []
  },
  {
   "cell_type": "markdown",
   "id": "b7864e7f-66e1-4115-9a45-c2d020171688",
   "metadata": {
    "tags": []
   },
   "source": [
    "## Observed Taylor law: Variance vs Length (genes)\n",
    "$\\sigma^{2}$ is the variance  \n",
    "$\\sigma^{2} = a . \\mu^{\\beta}$  \n",
    "Because: \n",
    "- $\\log(\\sigma^{2}) = \\log(a) + \\beta log(\\mu) $"
   ]
  },
  {
   "cell_type": "code",
   "execution_count": 4,
   "id": "5eb1c776-894f-400a-9166-bc6a5a670389",
   "metadata": {},
   "outputs": [],
   "source": [
    "# FUNCTIONS\n",
    "###########\n",
    "def plot_taylor (df2plot, col_x, col_y, x_lab, y_lab, title, bool_show_regression, bool_limits_breaks): \n",
    "    #Calculate best fit line\n",
    "    slope, intercept, r_value, p_value, std_err = stats.linregress(np.log10(df2plot[col_x]),np.log10(df2plot[col_y]))\n",
    "    #Format the regression text\n",
    "    print('v = {:4.4} * m^{:4.4};   R^2= {:2.4f}'.format(10**intercept, slope, r_value**2))\n",
    "    if bool_show_regression:\n",
    "        txt = '$\\sigma^{2} = ' + '{:4.4} '.format(10**intercept)  + '\\t \\mu^{' + '{:4.4}'.format(slope) + '}' + ';\\tR^{2} = ' + '{:2.4f}$'.format(r_value**2)\n",
    "    else:\n",
    "        txt = ''\n",
    " \n",
    "\n",
    "    # limits and tick-breaks\n",
    "    if 1: # limits. 1:Manual set up\n",
    "          #         0:Automatic set up\n",
    "        if bool_limits_breaks: # cmp means\n",
    "            pass\n",
    "            #x_limits = [300, 90000]\n",
    "            #y_limits = [100, 1100]\n",
    "        else: # comp vars\n",
    "            x_limits = [200, 35000]# [226.342425431711, 31542.1807707818]\n",
    "            y_limits = [35000, 2500000000 ]# [38813.0212837739, 2322067489.28396]           \n",
    "    else: # automatic\n",
    "        x_limits=[min(df2plot[col_x].to_list())/2., 2.*max(df2plot[col_x].to_list())]\n",
    "        y_limits=[min(df2plot[col_y].to_list())/2., 2.*max(df2plot[col_y].to_list())]\n",
    "    if 1:\n",
    "            print(x_limits, y_limits)\n",
    "        \n",
    "    if bool_limits_breaks: # mean\n",
    "        pass\n",
    "        #x_breaks = [500, 1000, 1500, 2000, 2500, 5000, 7500, 10000, 15000, 20000, 30000, 40000, 50000, 80000]\n",
    "        #y_breaks = [100*x for x in range(1, 11)]\n",
    "    else: # var\n",
    "        x_breaks = [10**power for power in range(6)]\n",
    "        y_breaks = [10**power for power in range(13)]\n",
    "        if 1:\n",
    "            print(x_breaks, y_breaks)\n",
    "\n",
    "    p = (   \n",
    "        ggplot(df2plot, aes(col_x, col_y, color=legends_by)) + geom_point(size=0.1) +\n",
    "        geom_smooth(method=\"lm\", color=\"green\", size=0.25, span=.8)+\n",
    "        labs(title=title, x=x_lab, y=y_lab)  # #A80000\n",
    "        + scale_color_manual(values=['#D83B01', '#002050', '#000000', '#FFA500', '#107C10','#EF008C', '#0078D7', '#B4009E']) # + scale_color_brewer() '#5C2D91'\n",
    "        + labs(color='Clade') # legend title\n",
    "        + scale_x_log10(breaks=x_breaks,\n",
    "          limits = x_limits) \n",
    "        + scale_y_log10(breaks = y_breaks, \n",
    "          limits = y_limits)#, labels=scientific_format(digits=2)\n",
    "    ) + theme(legend_position=(0.8,0.3), legend_key_size=5, legend_background=element_rect(fill='grey', alpha=0.01)) + annotate('text', x=0.015*max(df2plot[col_x].to_list()), y=0.65*max(df2plot[col_y].to_list()), label=txt,size=9,color=\"black\")\n",
    "    return p"
   ]
  },
  {
   "cell_type": "code",
   "execution_count": null,
   "id": "eb863055-e74d-428c-a2bf-b73f25183ddf",
   "metadata": {},
   "outputs": [],
   "source": []
  },
  {
   "cell_type": "code",
   "execution_count": 5,
   "id": "65579e1f-b037-4b15-969a-784548fe216a",
   "metadata": {},
   "outputs": [
    {
     "name": "stdout",
     "output_type": "stream",
     "text": [
      "(33460, 11)\n",
      "v = 0.01638 * m^2.508;   R^2= 0.9223\n",
      "[200, 35000] [35000, 2500000000]\n",
      "[1, 10, 100, 1000, 10000, 100000] [1, 10, 100, 1000, 10000, 100000, 1000000, 10000000, 100000000, 1000000000, 10000000000, 100000000000, 1000000000000]\n"
     ]
    },
    {
     "name": "stderr",
     "output_type": "stream",
     "text": [
      "/home/emuro/python-my_venv/python3.8/my_env/lib/python3.8/site-packages/plotnine/layer.py:401: PlotnineWarning: geom_point : Removed 143 rows containing missing values.\n",
      "/home/emuro/python-my_venv/python3.8/my_env/lib/python3.8/site-packages/plotnine/layer.py:401: PlotnineWarning: geom_smooth : Removed 1 rows containing missing values.\n",
      "/home/emuro/python-my_venv/python3.8/my_env/lib/python3.8/site-packages/plotnine/layer.py:401: PlotnineWarning: geom_text : Removed 1 rows containing missing values.\n"
     ]
    },
    {
     "data": {
      "image/png": "[encoded data removed]",
      "text/plain": [
       "<Figure size 432x288 with 1 Axes>"
      ]
     },
     "metadata": {},
     "output_type": "display_data"
    },
    {
     "data": {
      "text/plain": [
       "<ggplot: (8767467510013)>"
      ]
     },
     "execution_count": 5,
     "metadata": {},
     "output_type": "execute_result"
    }
   ],
   "source": [
    "col_x = \"mean\"  # prots_mean\n",
    "col_y = \"var\"   # prots_var\n",
    "legends_by = \"division_8\"\n",
    "\n",
    "title = \"Ensembl (protein coding gene length)\" # \"Uniprot, reference Proteomes (protein length)\"\n",
    "x_lab = \"Mean length (nt)\"   # \"mean length (aa)\"\n",
    "y_lab = \"Variance\"\n",
    "bool_show_regression = True\n",
    "bool_limits_breaks = False\n",
    "\n",
    "df2plot = stat_df.copy()\n",
    "\n",
    "# Sort division_8 in order to plot the clades in an order (everything can be displayed)\n",
    "if 0:\n",
    "    print(df2plot.division_8.unique())\n",
    "df2plot.division_8 = pd.Categorical(df2plot.division_8, \n",
    "                                categories=['bacteria', 'archaea', 'fungi', 'protists', 'plants', 'metazoa', 'vertebrates'],\n",
    "                                ordered=True)\n",
    "df2plot.sort_values('division_8', inplace=True)\n",
    "print(df2plot.shape)\n",
    "\n",
    "plot_taylor(df2plot, col_x, col_y, x_lab, y_lab, title, bool_show_regression, bool_limits_breaks)"
   ]
  },
  {
   "cell_type": "markdown",
   "id": "7144f096-6b74-4b9d-8492-3614b105ebd8",
   "metadata": {},
   "source": [
    "## Llama la atención: Los puntos de plantas y metazoa que se alejan de la Taylor\n",
    "It can be interactions plants-insects or with human-interaction. I see : trigo, piña, cacao, cebada, mosca de fruta, abejas.  \n",
    "**Need more testing**"
   ]
  },
  {
   "cell_type": "code",
   "execution_count": 6,
   "id": "aeb92b77-7306-4b0d-b960-4c31b312a9d1",
   "metadata": {},
   "outputs": [],
   "source": [
    "if 0:\n",
    "    df2plot = stat_df.copy()\n",
    "    df2plot = df2plot[(df2plot[\"mean\"]>2000) & (df2plot[\"mean\"]<9000)]\n",
    "    df2plot = df2plot[(df2plot[\"var\"]>3.75*10**8) & (df2plot[\"var\"]<10**10)]\n",
    "    display(df2plot)\n",
    "\n",
    "\n",
    "    # Sort division_8 in order to plot the clades in an order (everything can be displayed)\n",
    "    if 0:\n",
    "        print(df2plot.division_8.unique())\n",
    "    df2plot.division_8 = pd.Categorical(df2plot.division_8, \n",
    "                                    categories=['bacteria', 'archaea', 'fungi', 'protists', 'plants', 'metazoa', 'vertebrates'],\n",
    "                                    ordered=True)\n",
    "    df2plot.sort_values('division_8', inplace=True)\n",
    "\n",
    "    plot_taylor(df2plot, col_x, col_y, x_lab, y_lab, title, bool_show_regression,bool_limits_breaks)"
   ]
  },
  {
   "cell_type": "code",
   "execution_count": null,
   "id": "8b9f0366-ecbc-4e89-9514-f357f45530c4",
   "metadata": {},
   "outputs": [],
   "source": []
  },
  {
   "cell_type": "code",
   "execution_count": 7,
   "id": "e6366921-f167-4f92-805a-39fd8db3e4db",
   "metadata": {},
   "outputs": [
    {
     "data": {
      "text/html": [
       "<div>\n",
       "<style scoped>\n",
       "    .dataframe tbody tr th:only-of-type {\n",
       "        vertical-align: middle;\n",
       "    }\n",
       "\n",
       "    .dataframe tbody tr th {\n",
       "        vertical-align: top;\n",
       "    }\n",
       "\n",
       "    .dataframe thead th {\n",
       "        text-align: right;\n",
       "    }\n",
       "</style>\n",
       "<table border=\"1\" class=\"dataframe\">\n",
       "  <thead>\n",
       "    <tr style=\"text-align: right;\">\n",
       "      <th></th>\n",
       "      <th>division_7</th>\n",
       "      <th>division_8</th>\n",
       "      <th>species</th>\n",
       "      <th>taxonomy_id</th>\n",
       "      <th>Lineage</th>\n",
       "      <th>Scientific_name</th>\n",
       "      <th>count</th>\n",
       "      <th>mean</th>\n",
       "      <th>var</th>\n",
       "      <th>log10_mean</th>\n",
       "      <th>log10_var</th>\n",
       "    </tr>\n",
       "  </thead>\n",
       "  <tbody>\n",
       "    <tr>\n",
       "      <th>32845</th>\n",
       "      <td>metazoa</td>\n",
       "      <td>metazoa</td>\n",
       "      <td>bombus_terrestris</td>\n",
       "      <td>30195</td>\n",
       "      <td>Eukaryota; Metazoa; Ecdysozoa; Arthropoda; Hex...</td>\n",
       "      <td>Bombus terrestris</td>\n",
       "      <td>10581</td>\n",
       "      <td>16661.281448</td>\n",
       "      <td>2.204330e+09</td>\n",
       "      <td>3.713088</td>\n",
       "      <td>0.311522</td>\n",
       "    </tr>\n",
       "    <tr>\n",
       "      <th>32882</th>\n",
       "      <td>metazoa</td>\n",
       "      <td>metazoa</td>\n",
       "      <td>bombus_impatiens</td>\n",
       "      <td>132113</td>\n",
       "      <td>Eukaryota; Metazoa; Ecdysozoa; Arthropoda; Hex...</td>\n",
       "      <td>Bombus impatiens</td>\n",
       "      <td>15896</td>\n",
       "      <td>7095.112229</td>\n",
       "      <td>4.567260e+08</td>\n",
       "      <td>3.350071</td>\n",
       "      <td>0.334799</td>\n",
       "    </tr>\n",
       "  </tbody>\n",
       "</table>\n",
       "</div>"
      ],
      "text/plain": [
       "      division_7 division_8            species  taxonomy_id  \\\n",
       "32845    metazoa    metazoa  bombus_terrestris        30195   \n",
       "32882    metazoa    metazoa   bombus_impatiens       132113   \n",
       "\n",
       "                                                 Lineage    Scientific_name  \\\n",
       "32845  Eukaryota; Metazoa; Ecdysozoa; Arthropoda; Hex...  Bombus terrestris   \n",
       "32882  Eukaryota; Metazoa; Ecdysozoa; Arthropoda; Hex...   Bombus impatiens   \n",
       "\n",
       "       count          mean           var  log10_mean  log10_var  \n",
       "32845  10581  16661.281448  2.204330e+09    3.713088   0.311522  \n",
       "32882  15896   7095.112229  4.567260e+08    3.350071   0.334799  "
      ]
     },
     "metadata": {},
     "output_type": "display_data"
    }
   ],
   "source": [
    "df2plot = stat_df.copy()\n",
    "df2plot = df2plot[(df2plot[\"species\"].str.contains(\"bombus_\"))]\n",
    "display(df2plot)\n",
    "\n",
    "\n",
    "# Sort division_8 in order to plot the clades in an order (everything can be displayed)\n",
    "if 0:\n",
    "    print(df2plot.division_8.unique())\n",
    "df2plot.division_8 = pd.Categorical(df2plot.division_8, \n",
    "                                categories=['bacteria', 'archaea', 'fungi', 'protists', 'plants', 'metazoa', 'vertebrates'],\n",
    "                                ordered=True)\n",
    "df2plot.sort_values('division_8', inplace=True)\n",
    "\n",
    "# plot_taylor(df2plot, col_x, col_y, x_lab, y_lab, title, bool_show_regression)"
   ]
  },
  {
   "cell_type": "code",
   "execution_count": null,
   "id": "7568f34d-faa6-4ab0-a707-53fc6d2f154b",
   "metadata": {},
   "outputs": [],
   "source": []
  },
  {
   "cell_type": "markdown",
   "id": "2432c0b0-8633-4018-8679-c0f4f7949237",
   "metadata": {},
   "source": [
    "### Analyzing clade by clade:"
   ]
  },
  {
   "cell_type": "code",
   "execution_count": 8,
   "id": "6c34ddca-dec2-40d4-88dc-065fd0563628",
   "metadata": {},
   "outputs": [],
   "source": [
    "for clado in stat_df[\"division_8\"].unique().tolist(): # for each division\n",
    "    df2plot = stat_df[stat_df[\"division_8\"]==clado]\n",
    "    if 0: # Set up to 1 for plotting by division \n",
    "        plot_taylor(df2plot, col_x, col_y, x_lab, y_lab, title, False, False) # False -> bool_show_regression = False\n",
    "                                                                              # False -> bool_limits_breaks"
   ]
  },
  {
   "cell_type": "code",
   "execution_count": null,
   "id": "1dfd7f80-9f99-45ce-ba0b-92441a0e2bd0",
   "metadata": {},
   "outputs": [],
   "source": []
  },
  {
   "cell_type": "markdown",
   "id": "9d863794-da23-4c01-a595-b8a80dfb5105",
   "metadata": {},
   "source": [
    "## Y si analizo por separado las lineas evolutivas?:\n",
    "- 'bacteria' < 'archaea' < 'fungi' < 'protists' < 'metazoa' < 'vertebrates'  \n",
    "- 'bacteria' < 'archaea' < 'protists' < 'plants'  \n",
    "Observo que se mantienen muy bien frente a la que tiene todas las especies. "
   ]
  },
  {
   "cell_type": "code",
   "execution_count": 9,
   "id": "90734935-906b-4966-9603-96e39ca9c4c1",
   "metadata": {},
   "outputs": [
    {
     "name": "stdout",
     "output_type": "stream",
     "text": [
      "['bacteria' 'plants' 'protists']\n",
      "v = 0.01992 * m^2.48;   R^2= 0.6438\n",
      "[200, 35000] [35000, 2500000000]\n",
      "[1, 10, 100, 1000, 10000, 100000] [1, 10, 100, 1000, 10000, 100000, 1000000, 10000000, 100000000, 1000000000, 10000000000, 100000000000, 1000000000000]\n"
     ]
    },
    {
     "data": {
      "image/png": "[encoded data removed]",
      "text/plain": [
       "<Figure size 640x480 with 1 Axes>"
      ]
     },
     "metadata": {},
     "output_type": "display_data"
    },
    {
     "name": "stdout",
     "output_type": "stream",
     "text": [
      "\n"
     ]
    }
   ],
   "source": [
    "col_x = \"mean\"  # prots_mean\n",
    "col_y = \"var\"   # prots_var\n",
    "legends_by = \"division_8\"\n",
    "\n",
    "title = \"Ensembl (protein coding gene length)\" # \"Uniprot, reference Proteomes (protein length)\"\n",
    "x_lab = \"Mean length (nt)\"   # \"mean length (aa)\"\n",
    "y_lab = \"Variance\"\n",
    "bool_show_regression = True\n",
    "bool_limits_breaks   = False\n",
    "\n",
    "df2plot = stat_df.copy()\n",
    "\n",
    "if 1: # todos\n",
    "    pass\n",
    "elif 0:  # 'bacteria' < 'archaea' < 'protists' < 'metazoa' < 'vertebrates'\n",
    "    df2plot = df2plot[ (df2plot[\"division_8\"] != \"plants\") & (df2plot[\"division_8\"] != \"fungi\")  ] \n",
    "elif 0: # 'bacteria' < 'archaea' < 'fungi' < 'protists' < 'metazoa' < 'vertebrates'\n",
    "    df2plot = df2plot[ (df2plot[\"division_8\"] != \"plants\")  ] \n",
    "elif 0: # 'bacteria' < 'archaea' < 'protists' < 'plants' \n",
    "    df2plot = df2plot[ ~df2plot[\"division_8\"].isin([\"fungi\", \"metazoa\", \"vertebrates\"])]  \n",
    "\n",
    "    \n",
    "# Otros filtros de las lineas evolutivas en detalle\n",
    "# el anterior filtro ha de estar con todos:\n",
    "#\n",
    "# bacteria, protists, fungi\n",
    "###########################\n",
    "if 1: # lo anterior (todos)\n",
    "    pass\n",
    "elif 0: # solo bacteria, protist, fungi\n",
    "    df2plot = df2plot[ df2plot[\"division_8\"].isin([\"protists\", \"bacteria\", \"fungi\"])]\n",
    "elif 0: # solo bacteria y protist\n",
    "    df2plot = df2plot[ df2plot[\"division_8\"].isin([\"protists\", \"bacteria\"])]\n",
    "elif 0: # solo bacteria y fungi\n",
    "    df2plot = df2plot[ df2plot[\"division_8\"].isin([\"fungi\", \"bacteria\"])]   # No hay continuidad!\n",
    "elif 0: # solo protista y fungi\n",
    "    df2plot = df2plot[ df2plot[\"division_8\"].isin([\"fungi\", \"protists\"])]   # No hay continuidad!\n",
    "    \n",
    "# Otros filtros de las lineas evolutivas en detalle\n",
    "# el anterior filtro ha de estar con todos:\n",
    "#\n",
    "# bacteria, protists, plants\n",
    "############################\n",
    "if 0: # lo anterior (todos)\n",
    "    pass\n",
    "elif 1: # solo bacteria, protist, plants\n",
    "    df2plot = df2plot[ df2plot[\"division_8\"].isin([\"plants\", \"protists\", \"bacteria\"])]\n",
    "elif 0: # solo \n",
    "    df2plot = df2plot[ df2plot[\"division_8\"].isin([\"plants\", \"protists\"])]   # hay continuidad!\n",
    "elif 0: # solo bacteria y protist\n",
    "    df2plot = df2plot[ df2plot[\"division_8\"].isin([\"protists\", \"bacteria\"])]\n",
    "\n",
    "    \n",
    "# Otros filtros de las lineas evolutivas en detalle\n",
    "# el anterior filtro ha de estar con todos:\n",
    "#\n",
    "# bacteria, protists, metazoa, vertebrates\n",
    "##########################################\n",
    "if 1: # lo anterior (todos)\n",
    "    pass\n",
    "elif 0: # solo bacteria, protist, metazoa, vertebrates\n",
    "    df2plot = df2plot[ df2plot[\"division_8\"].isin([\"vertebrates\", \"metazoa\", \"protists\", \"bacteria\"])]\n",
    "elif 0: # solo vertebrates, metazoa\n",
    "    df2plot = df2plot[ df2plot[\"division_8\"].isin([\"vertebrates\", \"metazoa\"])]\n",
    "elif 0: # solo metazoa, protist\n",
    "    df2plot = df2plot[ df2plot[\"division_8\"].isin([\"metazoa\", \"protists\"])]  \n",
    "elif 0: # solo protist, bacteria\n",
    "    df2plot = df2plot[ df2plot[\"division_8\"].isin([\"protists\", \"bacteria\"])]  \n",
    "    \n",
    "    \n",
    "    \n",
    "# Sort division_8 in order to plot the clades in an order (everything can be displayed)\n",
    "if 1:\n",
    "    print(df2plot.division_8.unique())\n",
    "df2plot.division_8 = pd.Categorical(df2plot.division_8, \n",
    "                                categories=['bacteria', 'archaea', 'fungi', 'protists', 'plants', 'metazoa', 'vertebrates'],\n",
    "                                ordered=True)\n",
    "df2plot.sort_values('division_8', inplace=True)\n",
    "\n",
    "p = plot_taylor(df2plot, col_x, col_y, x_lab, y_lab, title, bool_show_regression, bool_limits_breaks)\n",
    "if 1:\n",
    "    print(p)"
   ]
  },
  {
   "cell_type": "code",
   "execution_count": null,
   "id": "5abc4894-7db5-4475-9a87-e1eda3c6b64e",
   "metadata": {},
   "outputs": [],
   "source": []
  },
  {
   "cell_type": "markdown",
   "id": "d5baf824-1e26-4523-8dda-bf95bb5e81b5",
   "metadata": {},
   "source": [
    "## Algae: Are they plants? protists?"
   ]
  },
  {
   "cell_type": "code",
   "execution_count": 10,
   "id": "60e7b79b-e15c-42ab-a8d3-5645c42d77ad",
   "metadata": {},
   "outputs": [
    {
     "data": {
      "text/html": [
       "<div>\n",
       "<style scoped>\n",
       "    .dataframe tbody tr th:only-of-type {\n",
       "        vertical-align: middle;\n",
       "    }\n",
       "\n",
       "    .dataframe tbody tr th {\n",
       "        vertical-align: top;\n",
       "    }\n",
       "\n",
       "    .dataframe thead th {\n",
       "        text-align: right;\n",
       "    }\n",
       "</style>\n",
       "<table border=\"1\" class=\"dataframe\">\n",
       "  <thead>\n",
       "    <tr style=\"text-align: right;\">\n",
       "      <th></th>\n",
       "      <th>division_7</th>\n",
       "      <th>division_8</th>\n",
       "      <th>species</th>\n",
       "      <th>taxonomy_id</th>\n",
       "      <th>Lineage</th>\n",
       "      <th>Scientific_name</th>\n",
       "      <th>count</th>\n",
       "      <th>mean</th>\n",
       "      <th>var</th>\n",
       "      <th>log10_mean</th>\n",
       "      <th>log10_var</th>\n",
       "    </tr>\n",
       "  </thead>\n",
       "  <tbody>\n",
       "    <tr>\n",
       "      <th>32905</th>\n",
       "      <td>plants</td>\n",
       "      <td>plants</td>\n",
       "      <td>chondrus_crispus</td>\n",
       "      <td>2769</td>\n",
       "      <td>Eukaryota; Rhodophyta; Florideophyceae; Rhodym...</td>\n",
       "      <td>Chondrus crispus</td>\n",
       "      <td>9807</td>\n",
       "      <td>1237.444580</td>\n",
       "      <td>1.375793e+06</td>\n",
       "      <td>2.909912</td>\n",
       "      <td>0.183225</td>\n",
       "    </tr>\n",
       "    <tr>\n",
       "      <th>32998</th>\n",
       "      <td>plants</td>\n",
       "      <td>plants</td>\n",
       "      <td>ostreococcus_lucimarinus</td>\n",
       "      <td>436017</td>\n",
       "      <td>Eukaryota; Viridiplantae; Chlorophyta; Mamiell...</td>\n",
       "      <td>Ostreococcus lucimarinus (strain CCE9901)</td>\n",
       "      <td>7603</td>\n",
       "      <td>1301.220571</td>\n",
       "      <td>1.559273e+06</td>\n",
       "      <td>3.005187</td>\n",
       "      <td>0.093030</td>\n",
       "    </tr>\n",
       "    <tr>\n",
       "      <th>32997</th>\n",
       "      <td>plants</td>\n",
       "      <td>plants</td>\n",
       "      <td>cyanidioschyzon_merolae</td>\n",
       "      <td>280699</td>\n",
       "      <td>Eukaryota; Rhodophyta; Bangiophyceae; Cyanidia...</td>\n",
       "      <td>Cyanidioschyzon merolae (strain 10D)</td>\n",
       "      <td>4973</td>\n",
       "      <td>1511.302031</td>\n",
       "      <td>1.453511e+06</td>\n",
       "      <td>3.076062</td>\n",
       "      <td>0.093180</td>\n",
       "    </tr>\n",
       "    <tr>\n",
       "      <th>32990</th>\n",
       "      <td>plants</td>\n",
       "      <td>plants</td>\n",
       "      <td>galdieria_sulphuraria</td>\n",
       "      <td>130081</td>\n",
       "      <td>Eukaryota; Rhodophyta; Bangiophyceae; Cyanidia...</td>\n",
       "      <td>Galdieria sulphuraria</td>\n",
       "      <td>6622</td>\n",
       "      <td>1604.177288</td>\n",
       "      <td>1.053213e+06</td>\n",
       "      <td>3.138280</td>\n",
       "      <td>0.056639</td>\n",
       "    </tr>\n",
       "    <tr>\n",
       "      <th>32983</th>\n",
       "      <td>plants</td>\n",
       "      <td>plants</td>\n",
       "      <td>selaginella_moellendorffii</td>\n",
       "      <td>88036</td>\n",
       "      <td>Eukaryota; Viridiplantae; Streptophyta; Embryo...</td>\n",
       "      <td>Selaginella moellendorffii</td>\n",
       "      <td>34799</td>\n",
       "      <td>1700.960315</td>\n",
       "      <td>2.408066e+06</td>\n",
       "      <td>3.119836</td>\n",
       "      <td>0.098352</td>\n",
       "    </tr>\n",
       "    <tr>\n",
       "      <th>32986</th>\n",
       "      <td>plants</td>\n",
       "      <td>plants</td>\n",
       "      <td>brassica_oleracea</td>\n",
       "      <td>109376</td>\n",
       "      <td>Eukaryota; Viridiplantae; Streptophyta; Embryo...</td>\n",
       "      <td>Brassica oleracea var. oleracea</td>\n",
       "      <td>59220</td>\n",
       "      <td>1748.696437</td>\n",
       "      <td>2.524853e+06</td>\n",
       "      <td>3.093886</td>\n",
       "      <td>0.139627</td>\n",
       "    </tr>\n",
       "    <tr>\n",
       "      <th>32918</th>\n",
       "      <td>plants</td>\n",
       "      <td>plants</td>\n",
       "      <td>brassica_napus</td>\n",
       "      <td>3708</td>\n",
       "      <td>Eukaryota; Viridiplantae; Streptophyta; Embryo...</td>\n",
       "      <td>Brassica napus</td>\n",
       "      <td>101040</td>\n",
       "      <td>1952.134610</td>\n",
       "      <td>2.884792e+06</td>\n",
       "      <td>3.139611</td>\n",
       "      <td>0.153245</td>\n",
       "    </tr>\n",
       "  </tbody>\n",
       "</table>\n",
       "</div>"
      ],
      "text/plain": [
       "      division_7 division_8                     species  taxonomy_id  \\\n",
       "32905     plants     plants            chondrus_crispus         2769   \n",
       "32998     plants     plants    ostreococcus_lucimarinus       436017   \n",
       "32997     plants     plants     cyanidioschyzon_merolae       280699   \n",
       "32990     plants     plants       galdieria_sulphuraria       130081   \n",
       "32983     plants     plants  selaginella_moellendorffii        88036   \n",
       "32986     plants     plants           brassica_oleracea       109376   \n",
       "32918     plants     plants              brassica_napus         3708   \n",
       "\n",
       "                                                 Lineage  \\\n",
       "32905  Eukaryota; Rhodophyta; Florideophyceae; Rhodym...   \n",
       "32998  Eukaryota; Viridiplantae; Chlorophyta; Mamiell...   \n",
       "32997  Eukaryota; Rhodophyta; Bangiophyceae; Cyanidia...   \n",
       "32990  Eukaryota; Rhodophyta; Bangiophyceae; Cyanidia...   \n",
       "32983  Eukaryota; Viridiplantae; Streptophyta; Embryo...   \n",
       "32986  Eukaryota; Viridiplantae; Streptophyta; Embryo...   \n",
       "32918  Eukaryota; Viridiplantae; Streptophyta; Embryo...   \n",
       "\n",
       "                                 Scientific_name   count         mean  \\\n",
       "32905                           Chondrus crispus    9807  1237.444580   \n",
       "32998  Ostreococcus lucimarinus (strain CCE9901)    7603  1301.220571   \n",
       "32997       Cyanidioschyzon merolae (strain 10D)    4973  1511.302031   \n",
       "32990                      Galdieria sulphuraria    6622  1604.177288   \n",
       "32983                 Selaginella moellendorffii   34799  1700.960315   \n",
       "32986            Brassica oleracea var. oleracea   59220  1748.696437   \n",
       "32918                             Brassica napus  101040  1952.134610   \n",
       "\n",
       "                var  log10_mean  log10_var  \n",
       "32905  1.375793e+06    2.909912   0.183225  \n",
       "32998  1.559273e+06    3.005187   0.093030  \n",
       "32997  1.453511e+06    3.076062   0.093180  \n",
       "32990  1.053213e+06    3.138280   0.056639  \n",
       "32983  2.408066e+06    3.119836   0.098352  \n",
       "32986  2.524853e+06    3.093886   0.139627  \n",
       "32918  2.884792e+06    3.139611   0.153245  "
      ]
     },
     "metadata": {},
     "output_type": "display_data"
    },
    {
     "name": "stdout",
     "output_type": "stream",
     "text": [
      "(7, 11)\n",
      "tax_id [2769, 436017, 280699, 130081, 88036, 109376, 3708]\n"
     ]
    }
   ],
   "source": [
    "if 0:\n",
    "    algae_df = df2plot[ df2plot.species.str.contains(\"lgae\")  ] # 5 bacterias\n",
    "elif 1:\n",
    "    algae_df = df2plot[ (df2plot.division_8.isin([\"plants\"])) & (df2plot[\"mean\"] < 2000)] \n",
    "    #algae_df = df2plot[ (df2plot.division_8.isin([\"plants\"])) & (df2plot[\"mean\"] > 2000) & (df2plot[\"mean\"] < 2500)] # genial ni un alga!\n",
    "elif 0:\n",
    "    algae_df = df2plot[ (df2plot.division_8.isin([\"protists\"])) & (df2plot[\"mean\"] < 1700)]      \n",
    "    algae_df = df2plot[ (df2plot[\"mean\"] > 1400) ]\n",
    "elif 0:\n",
    "    algae_df = df2plot[ (df2plot.division_8.isin([\"protists\"])) ]      \n",
    "    algae_df = df2plot[ df2plot[\"Lineage\"].str.contains(\"flagel\") ]\n",
    "    \n",
    "algae_df = algae_df.sort_values(by=\"mean\")\n",
    "\n",
    "display(algae_df)\n",
    "print(algae_df.shape)\n",
    "print(\"tax_id\", algae_df.taxonomy_id.to_list()) "
   ]
  },
  {
   "cell_type": "code",
   "execution_count": 11,
   "id": "29b25ec3-1930-4ff2-b9da-79cdc5c52672",
   "metadata": {},
   "outputs": [
    {
     "name": "stdout",
     "output_type": "stream",
     "text": [
      "v = 17.34 * m^1.569;   R^2= 0.4628\n",
      "[200, 35000] [35000, 2500000000]\n",
      "[1, 10, 100, 1000, 10000, 100000] [1, 10, 100, 1000, 10000, 100000, 1000000, 10000000, 100000000, 1000000000, 10000000000, 100000000000, 1000000000000]\n"
     ]
    },
    {
     "name": "stderr",
     "output_type": "stream",
     "text": [
      "/home/emuro/python-my_venv/python3.8/my_env/lib/python3.8/site-packages/plotnine/layer.py:401: PlotnineWarning: geom_text : Removed 1 rows containing missing values.\n"
     ]
    },
    {
     "data": {
      "image/png": "[encoded data removed]",
      "text/plain": [
       "<Figure size 640x480 with 1 Axes>"
      ]
     },
     "metadata": {},
     "output_type": "display_data"
    },
    {
     "data": {
      "text/plain": [
       "<ggplot: (8767467593837)>"
      ]
     },
     "execution_count": 11,
     "metadata": {},
     "output_type": "execute_result"
    }
   ],
   "source": [
    "col_x = \"mean\"  # prots_mean\n",
    "col_y = \"var\"   # prots_var\n",
    "legends_by = \"division_8\"\n",
    "\n",
    "title = \"Ensembl (protein coding gene length)\" # \"Uniprot, reference Proteomes (protein length)\"\n",
    "x_lab = \"Mean length (nt)\"   # \"mean length (aa)\"\n",
    "y_lab = \"Variance\"\n",
    "bool_show_regression = False\n",
    "bool_limits_breaks = False\n",
    "\n",
    "df2plot = algae_df.copy()\n",
    "\n",
    "plot_taylor(df2plot, col_x, col_y, x_lab, y_lab, title, bool_show_regression, bool_limits_breaks)"
   ]
  },
  {
   "cell_type": "code",
   "execution_count": null,
   "id": "42a578d8-d437-4702-9a41-01956c2613a7",
   "metadata": {},
   "outputs": [],
   "source": []
  }
 ],
 "metadata": {
  "kernelspec": {
   "display_name": "Python 3 (ipykernel)",
   "language": "python",
   "name": "python3"
  },
  "language_info": {
   "codemirror_mode": {
    "name": "ipython",
    "version": 3
   },
   "file_extension": ".py",
   "mimetype": "text/x-python",
   "name": "python",
   "nbconvert_exporter": "python",
   "pygments_lexer": "ipython3",
   "version": "3.8.10"
  }
 },
 "nbformat": 4,
 "nbformat_minor": 5
}
