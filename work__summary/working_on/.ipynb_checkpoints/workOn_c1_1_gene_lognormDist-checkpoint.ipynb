{
 "cells": [
  {
   "cell_type": "markdown",
   "id": "c200a4f3",
   "metadata": {},
   "source": [
    "# [Log-normal distribution](https://en.wikipedia.org/wiki/Log-normal_distribution)"
   ]
  },
  {
   "cell_type": "markdown",
   "id": "45a518ef",
   "metadata": {},
   "source": [
    "## Probability density function\n",
    "\n",
    "$ f(x) = \\frac{1}{ \\sigma \\sqrt{2 \\pi}} e^- \\frac{1}{2} {(\\frac{(x-\\mu)}{\\sigma})}^{2} $"
   ]
  },
  {
   "cell_type": "code",
   "execution_count": 1,
   "id": "51b0a90c",
   "metadata": {},
   "outputs": [],
   "source": [
    "import numpy as np\n",
    "import matplotlib.pyplot as plt\n",
    "from scipy import stats\n",
    "import os \n",
    "import pandas as pd\n",
    "import math"
   ]
  },
  {
   "cell_type": "code",
   "execution_count": null,
   "id": "23d40525-65aa-4a58-881c-72a93960fcbb",
   "metadata": {},
   "outputs": [],
   "source": []
  },
  {
   "cell_type": "markdown",
   "id": "c7b6d3b5",
   "metadata": {},
   "source": [
    "## Observations: Gene length distribution in different species"
   ]
  },
  {
   "cell_type": "markdown",
   "id": "d509543a-9bbf-4428-bb98-a287201ef79d",
   "metadata": {},
   "source": [
    "### Retrieve the statistical description and tax_id of species"
   ]
  },
  {
   "cell_type": "markdown",
   "id": "3a99f2a8-5073-440f-88be-bf0def58ea9d",
   "metadata": {
    "tags": []
   },
   "source": [
    "##### Statistical description data file"
   ]
  },
  {
   "cell_type": "code",
   "execution_count": 2,
   "id": "86b76b58-6c34-4b8a-82b3-f117e835fad0",
   "metadata": {},
   "outputs": [
    {
     "name": "stdout",
     "output_type": "stream",
     "text": [
      "/media/emuro/Wes/results/geneLength/outputInputFiles/analysis/some_statistics/stat_description/all__stat_description.ensembl_v2.0__withLineage.tsv\n"
     ]
    },
    {
     "data": {
      "text/html": [
       "<div>\n",
       "<style scoped>\n",
       "    .dataframe tbody tr th:only-of-type {\n",
       "        vertical-align: middle;\n",
       "    }\n",
       "\n",
       "    .dataframe tbody tr th {\n",
       "        vertical-align: top;\n",
       "    }\n",
       "\n",
       "    .dataframe thead th {\n",
       "        text-align: right;\n",
       "    }\n",
       "</style>\n",
       "<table border=\"1\" class=\"dataframe\">\n",
       "  <thead>\n",
       "    <tr style=\"text-align: right;\">\n",
       "      <th></th>\n",
       "      <th>division_7</th>\n",
       "      <th>species</th>\n",
       "      <th>trunk_genes_path</th>\n",
       "      <th>genes_file</th>\n",
       "      <th>count</th>\n",
       "      <th>mean</th>\n",
       "      <th>var</th>\n",
       "      <th>log10_mean</th>\n",
       "      <th>log10_var</th>\n",
       "    </tr>\n",
       "  </thead>\n",
       "  <tbody>\n",
       "    <tr>\n",
       "      <th>0</th>\n",
       "      <td>bacteria</td>\n",
       "      <td>methanobacterium_bryantii_gca_002287175</td>\n",
       "      <td>ftp.ensemblgenomes.org/pub/bacteria/release-49...</td>\n",
       "      <td>protein_coding.genes.methanobacterium_bryantii...</td>\n",
       "      <td>3168</td>\n",
       "      <td>840.404040</td>\n",
       "      <td>422343.848699</td>\n",
       "      <td>2.827684</td>\n",
       "      <td>0.082694</td>\n",
       "    </tr>\n",
       "    <tr>\n",
       "      <th>1</th>\n",
       "      <td>bacteria</td>\n",
       "      <td>methanobacterium_formicicum_gca_000762265</td>\n",
       "      <td>ftp.ensemblgenomes.org/pub/bacteria/release-49...</td>\n",
       "      <td>protein_coding.genes.methanobacterium_formicic...</td>\n",
       "      <td>2352</td>\n",
       "      <td>862.427296</td>\n",
       "      <td>347239.612747</td>\n",
       "      <td>2.849723</td>\n",
       "      <td>0.076317</td>\n",
       "    </tr>\n",
       "  </tbody>\n",
       "</table>\n",
       "</div>"
      ],
      "text/plain": [
       "  division_7                                    species  \\\n",
       "0   bacteria    methanobacterium_bryantii_gca_002287175   \n",
       "1   bacteria  methanobacterium_formicicum_gca_000762265   \n",
       "\n",
       "                                    trunk_genes_path  \\\n",
       "0  ftp.ensemblgenomes.org/pub/bacteria/release-49...   \n",
       "1  ftp.ensemblgenomes.org/pub/bacteria/release-49...   \n",
       "\n",
       "                                          genes_file  count        mean  \\\n",
       "0  protein_coding.genes.methanobacterium_bryantii...   3168  840.404040   \n",
       "1  protein_coding.genes.methanobacterium_formicic...   2352  862.427296   \n",
       "\n",
       "             var  log10_mean  log10_var  \n",
       "0  422343.848699    2.827684   0.082694  \n",
       "1  347239.612747    2.849723   0.076317  "
      ]
     },
     "metadata": {},
     "output_type": "display_data"
    },
    {
     "name": "stdout",
     "output_type": "stream",
     "text": [
      "(33630, 9)\n"
     ]
    }
   ],
   "source": [
    "# system\n",
    "system = list(os.uname())[0]\n",
    "if system == 'Linux':\n",
    "    base_dir = \"/media/emuro/Wes/\"\n",
    "elif system == 'Darwin':\n",
    "    base_dir = \"/Volumes/Wes/\"\n",
    "    \n",
    "# statistics on length distribution for different species     \n",
    "stat_file = base_dir + \"results/geneLength/outputInputFiles/\" + \"analysis/some_statistics/stat_description/\" \n",
    "#stat_file += \"all__stat_description.ensembl.tsv\" # old\n",
    "stat_file += \"all__stat_description.ensembl_v2.0__withLineage.tsv\"\n",
    "print(stat_file)\n",
    "\n",
    "# retrieve data\n",
    "stat_df = pd.read_csv(stat_file, low_memory=False, sep=\"\\t\")\n",
    "stat_df = stat_df[[\"division_7\", \"species\", \"trunk_genes_path\", \"genes_file\", \"count\", \"mean\", \"var\"] + [\"log10_mean\", \"log10_var\"]]\n",
    "\n",
    "# visualize data\n",
    "pd.set_option('display.max_columns', None)\n",
    "if 1:\n",
    "    display(stat_df.head(2))\n",
    "    print(stat_df.shape)"
   ]
  },
  {
   "cell_type": "markdown",
   "id": "10892804-3a07-4451-a8c5-72a6720cd153",
   "metadata": {},
   "source": [
    "##### ENSEMBL (Tax id)"
   ]
  },
  {
   "cell_type": "code",
   "execution_count": 3,
   "id": "171e31a8-0661-4dc9-bfac-6b4c42c01a87",
   "metadata": {},
   "outputs": [
    {
     "name": "stdout",
     "output_type": "stream",
     "text": [
      "/media/emuro/Wes/results/geneLength/outputInputFiles/some_tables/species_Ensembl_taxid/species_Ensembl_EMv2.0.tsv\n"
     ]
    },
    {
     "data": {
      "text/html": [
       "<div>\n",
       "<style scoped>\n",
       "    .dataframe tbody tr th:only-of-type {\n",
       "        vertical-align: middle;\n",
       "    }\n",
       "\n",
       "    .dataframe tbody tr th {\n",
       "        vertical-align: top;\n",
       "    }\n",
       "\n",
       "    .dataframe thead th {\n",
       "        text-align: right;\n",
       "    }\n",
       "</style>\n",
       "<table border=\"1\" class=\"dataframe\">\n",
       "  <thead>\n",
       "    <tr style=\"text-align: right;\">\n",
       "      <th></th>\n",
       "      <th>name</th>\n",
       "      <th>species</th>\n",
       "      <th>tax_id</th>\n",
       "    </tr>\n",
       "  </thead>\n",
       "  <tbody>\n",
       "    <tr>\n",
       "      <th>0</th>\n",
       "      <td>Spiny chromis</td>\n",
       "      <td>acanthochromis_polyacanthus</td>\n",
       "      <td>80966</td>\n",
       "    </tr>\n",
       "    <tr>\n",
       "      <th>1</th>\n",
       "      <td>Panda</td>\n",
       "      <td>ailuropoda_melanoleuca</td>\n",
       "      <td>9646</td>\n",
       "    </tr>\n",
       "  </tbody>\n",
       "</table>\n",
       "</div>"
      ],
      "text/plain": [
       "            name                      species  tax_id\n",
       "0  Spiny chromis  acanthochromis_polyacanthus   80966\n",
       "1          Panda       ailuropoda_melanoleuca    9646"
      ]
     },
     "metadata": {},
     "output_type": "display_data"
    },
    {
     "name": "stdout",
     "output_type": "stream",
     "text": [
      "(33022, 3)\n"
     ]
    }
   ],
   "source": [
    "# ENSEMBL tax_id     \n",
    "ensembl_taxId_file = base_dir + \"results/geneLength/outputInputFiles/\" + \"some_tables/species_Ensembl_taxid/\" + \"species_Ensembl_EMv2.0.tsv\" # with covid\n",
    "print(ensembl_taxId_file)\n",
    "\n",
    "# retrieve data\n",
    "taxid_df = pd.read_csv(ensembl_taxId_file, sep=\"\\t\")\n",
    "taxid_df = taxid_df[[\"#name\", \"species\", \"taxonomy_id\"]]\n",
    "taxid_df.rename(columns = {\"#name\" : 'name', \"taxonomy_id\" : 'tax_id'}, inplace = True)\n",
    "\n",
    "# visualize data\n",
    "pd.set_option('display.max_columns', None)\n",
    "if 1:\n",
    "    display(taxid_df.head(2))\n",
    "    print(taxid_df.shape)"
   ]
  },
  {
   "cell_type": "code",
   "execution_count": 4,
   "id": "c8b00dd3-85b7-4e13-8245-55406669aafb",
   "metadata": {},
   "outputs": [
    {
     "data": {
      "text/html": [
       "<div>\n",
       "<style scoped>\n",
       "    .dataframe tbody tr th:only-of-type {\n",
       "        vertical-align: middle;\n",
       "    }\n",
       "\n",
       "    .dataframe tbody tr th {\n",
       "        vertical-align: top;\n",
       "    }\n",
       "\n",
       "    .dataframe thead th {\n",
       "        text-align: right;\n",
       "    }\n",
       "</style>\n",
       "<table border=\"1\" class=\"dataframe\">\n",
       "  <thead>\n",
       "    <tr style=\"text-align: right;\">\n",
       "      <th></th>\n",
       "      <th>division_7</th>\n",
       "      <th>species</th>\n",
       "      <th>trunk_genes_path</th>\n",
       "      <th>genes_file</th>\n",
       "      <th>count</th>\n",
       "      <th>mean</th>\n",
       "      <th>var</th>\n",
       "      <th>log10_mean</th>\n",
       "      <th>log10_var</th>\n",
       "      <th>name</th>\n",
       "      <th>tax_id</th>\n",
       "    </tr>\n",
       "  </thead>\n",
       "  <tbody>\n",
       "    <tr>\n",
       "      <th>0</th>\n",
       "      <td>bacteria</td>\n",
       "      <td>methanobacterium_bryantii_gca_002287175</td>\n",
       "      <td>ftp.ensemblgenomes.org/pub/bacteria/release-49...</td>\n",
       "      <td>protein_coding.genes.methanobacterium_bryantii...</td>\n",
       "      <td>3168</td>\n",
       "      <td>840.404040</td>\n",
       "      <td>422343.848699</td>\n",
       "      <td>2.827684</td>\n",
       "      <td>0.082694</td>\n",
       "      <td>Methanobacterium bryantii str. M.o.H. (GCA_002...</td>\n",
       "      <td>2161</td>\n",
       "    </tr>\n",
       "    <tr>\n",
       "      <th>1</th>\n",
       "      <td>bacteria</td>\n",
       "      <td>methanobacterium_formicicum_gca_000762265</td>\n",
       "      <td>ftp.ensemblgenomes.org/pub/bacteria/release-49...</td>\n",
       "      <td>protein_coding.genes.methanobacterium_formicic...</td>\n",
       "      <td>2352</td>\n",
       "      <td>862.427296</td>\n",
       "      <td>347239.612747</td>\n",
       "      <td>2.849723</td>\n",
       "      <td>0.076317</td>\n",
       "      <td>Methanobacterium formicicum str. BRM9 (GCA_000...</td>\n",
       "      <td>2162</td>\n",
       "    </tr>\n",
       "  </tbody>\n",
       "</table>\n",
       "</div>"
      ],
      "text/plain": [
       "  division_7                                    species  \\\n",
       "0   bacteria    methanobacterium_bryantii_gca_002287175   \n",
       "1   bacteria  methanobacterium_formicicum_gca_000762265   \n",
       "\n",
       "                                    trunk_genes_path  \\\n",
       "0  ftp.ensemblgenomes.org/pub/bacteria/release-49...   \n",
       "1  ftp.ensemblgenomes.org/pub/bacteria/release-49...   \n",
       "\n",
       "                                          genes_file  count        mean  \\\n",
       "0  protein_coding.genes.methanobacterium_bryantii...   3168  840.404040   \n",
       "1  protein_coding.genes.methanobacterium_formicic...   2352  862.427296   \n",
       "\n",
       "             var  log10_mean  log10_var  \\\n",
       "0  422343.848699    2.827684   0.082694   \n",
       "1  347239.612747    2.849723   0.076317   \n",
       "\n",
       "                                                name  tax_id  \n",
       "0  Methanobacterium bryantii str. M.o.H. (GCA_002...    2161  \n",
       "1  Methanobacterium formicicum str. BRM9 (GCA_000...    2162  "
      ]
     },
     "metadata": {},
     "output_type": "display_data"
    },
    {
     "name": "stdout",
     "output_type": "stream",
     "text": [
      "(33633, 11)\n"
     ]
    }
   ],
   "source": [
    "# Use pandas.merge() on multiple columns\n",
    "stat_taxid_df = pd.merge(stat_df, taxid_df, on=['species'])\n",
    "stat_taxid_df = stat_taxid_df[stat_taxid_df['tax_id'].notna()]\n",
    "if 1:\n",
    "    display(stat_taxid_df.head(2))\n",
    "    print(stat_taxid_df.shape)"
   ]
  },
  {
   "cell_type": "code",
   "execution_count": null,
   "id": "fd448a80-822a-4baa-985f-6441590f4511",
   "metadata": {},
   "outputs": [],
   "source": []
  },
  {
   "cell_type": "markdown",
   "id": "f3e0f1c2-8d19-41d5-b801-d13234bfc430",
   "metadata": {},
   "source": [
    "**Check**: A lot of species have more than one instance"
   ]
  },
  {
   "cell_type": "code",
   "execution_count": 5,
   "id": "12ffd837-78f7-4069-a798-54a35186e424",
   "metadata": {},
   "outputs": [],
   "source": [
    "aux_stat_taxid_df = stat_taxid_df[[\"name\", \"species\", \"tax_id\"]]\n",
    "if 0:\n",
    "    stat_df.to_csv(\"~/tmp/goingOn/stat_df.tsv\", sep=\"\\t\", index=False) # check and erase this file\n",
    "    taxid_df.to_csv(\"~/tmp/goingOn/taxid_df.tsv\", sep=\"\\t\", index=False) # check and erase this file\n",
    "    aux_stat_taxid_df.to_csv(\"~/tmp/goingOn/stat_taxid_df.tsv\", sep=\"\\t\", index=False) # check and erase this file"
   ]
  },
  {
   "cell_type": "code",
   "execution_count": null,
   "id": "74385597-4582-4ea2-b11c-bf2f271ff573",
   "metadata": {},
   "outputs": [],
   "source": []
  },
  {
   "cell_type": "markdown",
   "id": "b7864e7f-66e1-4115-9a45-c2d020171688",
   "metadata": {
    "tags": []
   },
   "source": [
    "## Python functions"
   ]
  },
  {
   "cell_type": "code",
   "execution_count": 6,
   "id": "5eb1c776-894f-400a-9166-bc6a5a670389",
   "metadata": {},
   "outputs": [],
   "source": [
    "# Function to plot the normal distribution\n",
    "# blue: Observation\n",
    "# red: Theoretical/Simulation\n",
    "##########################################\n",
    "def plot_log_norm (log10_len, mu, sigma, N, title, subtitle, xlabel, ylabel): # N is number of \n",
    "    print(\"mu:\", mu, \"\\tsigma:\", sigma)\n",
    "    my_normal_dist = np.random.normal(mu, sigma, N)\n",
    "    count, bins, *rest = plt.hist(log10_len, 60, density=True, alpha=0.8, edgecolor='black')\n",
    "\n",
    "    # plt.hist(my_normal_dist, 30, density=True, alpha=0.25, color=\"r\")\n",
    "    # print(count); print(bins); print(*rest)\n",
    "    \n",
    "    plt.plot(bins, 1/(sigma * np.sqrt(2 * np.pi)) *\n",
    "             np.exp( - (bins - mu)**2 / (2 * sigma**2) ),\n",
    "             linewidth=2, color='r', alpha=0.5)\n",
    "     \n",
    "    # mean\n",
    "    plt.vlines(x = mu, ymin = 0, ymax = 0.2, colors = 'white', label = 'mean')\n",
    "    plt.xlim([1,7]); plt.ylim([0,1.5])\n",
    "    plt.suptitle(title); plt.title(subtitle + \" (N=\" + str(int(N)) +\")\")\n",
    "    plt.xlabel(xlabel); plt.ylabel(ylabel)\n",
    "    plt.show()"
   ]
  },
  {
   "cell_type": "code",
   "execution_count": 7,
   "id": "af6c0ad2-9985-4285-887a-c413505d46e6",
   "metadata": {},
   "outputs": [],
   "source": [
    "# species' stats for length distribution\n",
    "def get_df_for_taxid(df, taxid):\n",
    "     return df.loc[df[\"tax_id\"]==taxid].copy()"
   ]
  },
  {
   "cell_type": "code",
   "execution_count": 8,
   "id": "ee7bf25c-d0a0-4028-9af0-2e8f7979a15f",
   "metadata": {},
   "outputs": [],
   "source": [
    "def does_it_fits_normal(data_observed): \n",
    "    # Kurtosis and Skewness\n",
    "    # =====================\n",
    "    print('Kurtosis:', stats.kurtosis(data_observed))\n",
    "    print('Skewness:', stats.skew(data_observed))\n",
    "    # D'Agostino's K-squared test\n",
    "    # ===========================\n",
    "    k2, p_value = stats.normaltest(data_observed)\n",
    "    print(f\"D'Agostino's K-squared test(Estadístico={k2}, p-value={p_value})\")"
   ]
  },
  {
   "cell_type": "markdown",
   "id": "3145b8ee-4157-412a-af50-701540a82d35",
   "metadata": {},
   "source": [
    "Deja de ser una log-normal (teóricamente)\n",
    "- Kurtosis o Skewness: $\\leq -1$ o $\\geq 1$ \n",
    "- D'Agostino's K-squared test: p-value $ \\leq 0.05 $, porque rechaza la hipótesis nula "
   ]
  },
  {
   "cell_type": "code",
   "execution_count": null,
   "id": "1748a542-61bb-4e2c-9ab3-ef32b0ffd77b",
   "metadata": {},
   "outputs": [],
   "source": []
  },
  {
   "cell_type": "code",
   "execution_count": 9,
   "id": "1bcc7a1e-2408-46a8-af94-026a08044e94",
   "metadata": {},
   "outputs": [],
   "source": [
    "# The next function performs the whole analysis\n",
    "def species_gene_distribution__retrieve_plot_and_fit(stat_taxid_df, tax_id):\n",
    "    species_df = get_df_for_taxid(stat_taxid_df, tax_id)\n",
    "    species_df.drop_duplicates(subset=['tax_id'], inplace=True, keep='last')\n",
    "    display(species_df)\n",
    "    \n",
    "    genes_f = base_dir + \"results/geneLength/\" + species_df[\"trunk_genes_path\"].item() + species_df[\"genes_file\"].item()\n",
    "    print(genes_f)\n",
    "    # retrieve data\n",
    "    genes_df = pd.read_csv(genes_f, sep=\"\\t\")\n",
    "    genes_df = genes_df[[\"length\"]]\n",
    "    # visualize data\n",
    "    pd.set_option('display.max_columns', None)\n",
    "    if 0:\n",
    "        display(genes_df.head(2))\n",
    "        print(genes_df.shape)\n",
    "    \n",
    "    # plot the distributions: observed and theoretical\n",
    "    genes_df[\"log10_length\"] = genes_df[\"length\"].apply(np.log10)\n",
    "    title = species_df[\"species\"].item().capitalize(); subtitle = \"Observation\";  xlabel = \"Gene length\"; ylabel = \"PDF\"\n",
    "    plot_log_norm (genes_df[\"log10_length\"], species_df[\"log10_mean\"].item(), math.sqrt(species_df[\"log10_var\"].item()), species_df[\"count\"].item(), \n",
    "                   title, subtitle, xlabel, ylabel)  \n",
    "    # fit to normal\n",
    "    does_it_fits_normal(genes_df[\"log10_length\"])"
   ]
  },
  {
   "cell_type": "code",
   "execution_count": null,
   "id": "4ae16880-5bb1-4961-b601-d3d34b7296e5",
   "metadata": {},
   "outputs": [],
   "source": []
  },
  {
   "cell_type": "markdown",
   "id": "2111fd8f-02db-4b6b-b70d-50d386b34b0c",
   "metadata": {},
   "source": [
    "## Species:"
   ]
  },
  {
   "cell_type": "markdown",
   "id": "02d86cba-90c3-420a-a342-effebd787c95",
   "metadata": {},
   "source": [
    "### Homo sapiens\n",
    "```{note}\n",
    "tax_id = 9606\n",
    "```"
   ]
  },
  {
   "cell_type": "markdown",
   "id": "0866ec4e-b56f-45c2-9858-b517c8481d26",
   "metadata": {},
   "source": [
    "#### Retrieve statistical description"
   ]
  },
  {
   "cell_type": "code",
   "execution_count": 10,
   "id": "4cd3536d-1829-4625-9dbf-234606f1c6e2",
   "metadata": {},
   "outputs": [
    {
     "data": {
      "text/html": [
       "<div>\n",
       "<style scoped>\n",
       "    .dataframe tbody tr th:only-of-type {\n",
       "        vertical-align: middle;\n",
       "    }\n",
       "\n",
       "    .dataframe tbody tr th {\n",
       "        vertical-align: top;\n",
       "    }\n",
       "\n",
       "    .dataframe thead th {\n",
       "        text-align: right;\n",
       "    }\n",
       "</style>\n",
       "<table border=\"1\" class=\"dataframe\">\n",
       "  <thead>\n",
       "    <tr style=\"text-align: right;\">\n",
       "      <th></th>\n",
       "      <th>division_7</th>\n",
       "      <th>species</th>\n",
       "      <th>trunk_genes_path</th>\n",
       "      <th>genes_file</th>\n",
       "      <th>count</th>\n",
       "      <th>mean</th>\n",
       "      <th>var</th>\n",
       "      <th>log10_mean</th>\n",
       "      <th>log10_var</th>\n",
       "      <th>name</th>\n",
       "      <th>tax_id</th>\n",
       "    </tr>\n",
       "  </thead>\n",
       "  <tbody>\n",
       "    <tr>\n",
       "      <th>33298</th>\n",
       "      <td>vertebrates</td>\n",
       "      <td>homo_sapiens</td>\n",
       "      <td>ftp.ensembl.org/pub/release-98/genes/homo_sapi...</td>\n",
       "      <td>protein_coding.genes.homo_sapiens.nan.ensembl....</td>\n",
       "      <td>19976</td>\n",
       "      <td>68287.089808</td>\n",
       "      <td>1.753600e+10</td>\n",
       "      <td>4.40396</td>\n",
       "      <td>0.415191</td>\n",
       "      <td>Human</td>\n",
       "      <td>9606</td>\n",
       "    </tr>\n",
       "  </tbody>\n",
       "</table>\n",
       "</div>"
      ],
      "text/plain": [
       "        division_7       species  \\\n",
       "33298  vertebrates  homo_sapiens   \n",
       "\n",
       "                                        trunk_genes_path  \\\n",
       "33298  ftp.ensembl.org/pub/release-98/genes/homo_sapi...   \n",
       "\n",
       "                                              genes_file  count          mean  \\\n",
       "33298  protein_coding.genes.homo_sapiens.nan.ensembl....  19976  68287.089808   \n",
       "\n",
       "                var  log10_mean  log10_var   name  tax_id  \n",
       "33298  1.753600e+10     4.40396   0.415191  Human    9606  "
      ]
     },
     "metadata": {},
     "output_type": "display_data"
    }
   ],
   "source": [
    "tax_id = 9696\n",
    "human_df = get_df_for_taxid(stat_taxid_df, 9606)\n",
    "display(human_df)"
   ]
  },
  {
   "cell_type": "markdown",
   "id": "8b65e339-703e-448f-ad07-04b1ce596bea",
   "metadata": {},
   "source": [
    "#### Retrieve genes"
   ]
  },
  {
   "cell_type": "code",
   "execution_count": 11,
   "id": "4ed4b6e0-09b4-4b13-9989-511ad6e908b1",
   "metadata": {},
   "outputs": [
    {
     "name": "stdout",
     "output_type": "stream",
     "text": [
      "/media/emuro/Wes/results/geneLength/ftp.ensembl.org/pub/release-98/genes/homo_sapiens/protein_coding.genes.homo_sapiens.nan.ensembl.98.tsv\n"
     ]
    },
    {
     "data": {
      "text/html": [
       "<div>\n",
       "<style scoped>\n",
       "    .dataframe tbody tr th:only-of-type {\n",
       "        vertical-align: middle;\n",
       "    }\n",
       "\n",
       "    .dataframe tbody tr th {\n",
       "        vertical-align: top;\n",
       "    }\n",
       "\n",
       "    .dataframe thead th {\n",
       "        text-align: right;\n",
       "    }\n",
       "</style>\n",
       "<table border=\"1\" class=\"dataframe\">\n",
       "  <thead>\n",
       "    <tr style=\"text-align: right;\">\n",
       "      <th></th>\n",
       "      <th>length</th>\n",
       "    </tr>\n",
       "  </thead>\n",
       "  <tbody>\n",
       "    <tr>\n",
       "      <th>0</th>\n",
       "      <td>116</td>\n",
       "    </tr>\n",
       "    <tr>\n",
       "      <th>1</th>\n",
       "      <td>134</td>\n",
       "    </tr>\n",
       "  </tbody>\n",
       "</table>\n",
       "</div>"
      ],
      "text/plain": [
       "   length\n",
       "0     116\n",
       "1     134"
      ]
     },
     "metadata": {},
     "output_type": "display_data"
    },
    {
     "name": "stdout",
     "output_type": "stream",
     "text": [
      "(19976, 1)\n"
     ]
    }
   ],
   "source": [
    "genes_f = base_dir + \"results/geneLength/\" + human_df[\"trunk_genes_path\"].item() + human_df[\"genes_file\"].item()\n",
    "print(genes_f)\n",
    "# retrieve data\n",
    "genes_df = pd.read_csv(genes_f, sep=\"\\t\")\n",
    "genes_df = genes_df[[\"length\"]]\n",
    "\n",
    "# visualize data\n",
    "pd.set_option('display.max_columns', None)\n",
    "if 1:\n",
    "    display(genes_df.head(2))\n",
    "    print(genes_df.shape)"
   ]
  },
  {
   "cell_type": "markdown",
   "id": "0f99eb42-9c12-40ca-a2fd-10bd57b53360",
   "metadata": {},
   "source": [
    "#### Plot the log-normal"
   ]
  },
  {
   "cell_type": "code",
   "execution_count": 12,
   "id": "c8e44cba-d963-47ec-acf1-d5165a7b4c9f",
   "metadata": {},
   "outputs": [
    {
     "name": "stdout",
     "output_type": "stream",
     "text": [
      "mu: 4.40396048586088 \tsigma: 0.644352861905651\n"
     ]
    },
    {
     "data": {
      "image/png": "[encoded data removed]",
      "text/plain": [
       "<Figure size 432x288 with 1 Axes>"
      ]
     },
     "metadata": {
      "needs_background": "light"
     },
     "output_type": "display_data"
    }
   ],
   "source": [
    "\n",
    "genes_df[\"log10_length\"] = genes_df[\"length\"].apply(np.log10)\n",
    "title = human_df[\"species\"].item().capitalize(); subtitle = \"Observation\";  xlabel = \"Gene length\"; ylabel = \"PDF\"\n",
    "plot_log_norm (genes_df[\"log10_length\"], human_df[\"log10_mean\"].item(), math.sqrt(human_df[\"log10_var\"].item()), human_df[\"count\"].item(), \n",
    "               title, subtitle, xlabel, ylabel)  "
   ]
  },
  {
   "cell_type": "markdown",
   "id": "1ee437a1-566a-4aed-9f9c-ce652635d399",
   "metadata": {},
   "source": [
    "#### Does the distribution fits the normal distribution?"
   ]
  },
  {
   "cell_type": "code",
   "execution_count": 13,
   "id": "05c41cfc",
   "metadata": {},
   "outputs": [
    {
     "name": "stdout",
     "output_type": "stream",
     "text": [
      "Kurtosis: -0.1116735171105625\n",
      "Skewness: -0.19274087219104544\n",
      "D'Agostino's K-squared test(Estadístico=133.03487000453904, p-value=1.293734108353449e-29)\n"
     ]
    }
   ],
   "source": [
    "does_it_fits_normal(genes_df[\"log10_length\"]) "
   ]
  },
  {
   "cell_type": "code",
   "execution_count": null,
   "id": "be0479b0-1139-415a-8bea-126d90ae7113",
   "metadata": {},
   "outputs": [],
   "source": []
  },
  {
   "cell_type": "markdown",
   "id": "22946f97",
   "metadata": {},
   "source": [
    "### Danio rerio"
   ]
  },
  {
   "cell_type": "code",
   "execution_count": 14,
   "id": "9e1f27f0-352e-44b7-bac4-6278b6c508f1",
   "metadata": {},
   "outputs": [
    {
     "data": {
      "text/html": [
       "<div>\n",
       "<style scoped>\n",
       "    .dataframe tbody tr th:only-of-type {\n",
       "        vertical-align: middle;\n",
       "    }\n",
       "\n",
       "    .dataframe tbody tr th {\n",
       "        vertical-align: top;\n",
       "    }\n",
       "\n",
       "    .dataframe thead th {\n",
       "        text-align: right;\n",
       "    }\n",
       "</style>\n",
       "<table border=\"1\" class=\"dataframe\">\n",
       "  <thead>\n",
       "    <tr style=\"text-align: right;\">\n",
       "      <th></th>\n",
       "      <th>division_7</th>\n",
       "      <th>species</th>\n",
       "      <th>trunk_genes_path</th>\n",
       "      <th>genes_file</th>\n",
       "      <th>count</th>\n",
       "      <th>mean</th>\n",
       "      <th>var</th>\n",
       "      <th>log10_mean</th>\n",
       "      <th>log10_var</th>\n",
       "      <th>name</th>\n",
       "      <th>tax_id</th>\n",
       "    </tr>\n",
       "  </thead>\n",
       "  <tbody>\n",
       "    <tr>\n",
       "      <th>33248</th>\n",
       "      <td>vertebrates</td>\n",
       "      <td>danio_rerio</td>\n",
       "      <td>ftp.ensembl.org/pub/release-98/genes/danio_rerio/</td>\n",
       "      <td>protein_coding.genes.danio_rerio.nan.ensembl.9...</td>\n",
       "      <td>25432</td>\n",
       "      <td>31084.050802</td>\n",
       "      <td>2.666395e+09</td>\n",
       "      <td>4.137251</td>\n",
       "      <td>0.330834</td>\n",
       "      <td>Zebrafish</td>\n",
       "      <td>7955</td>\n",
       "    </tr>\n",
       "  </tbody>\n",
       "</table>\n",
       "</div>"
      ],
      "text/plain": [
       "        division_7      species  \\\n",
       "33248  vertebrates  danio_rerio   \n",
       "\n",
       "                                        trunk_genes_path  \\\n",
       "33248  ftp.ensembl.org/pub/release-98/genes/danio_rerio/   \n",
       "\n",
       "                                              genes_file  count          mean  \\\n",
       "33248  protein_coding.genes.danio_rerio.nan.ensembl.9...  25432  31084.050802   \n",
       "\n",
       "                var  log10_mean  log10_var       name  tax_id  \n",
       "33248  2.666395e+09    4.137251   0.330834  Zebrafish    7955  "
      ]
     },
     "metadata": {},
     "output_type": "display_data"
    },
    {
     "name": "stdout",
     "output_type": "stream",
     "text": [
      "/media/emuro/Wes/results/geneLength/ftp.ensembl.org/pub/release-98/genes/danio_rerio/protein_coding.genes.danio_rerio.nan.ensembl.98.tsv\n",
      "mu: 4.1372512074567 \tsigma: 0.5751817206250265\n"
     ]
    },
    {
     "data": {
      "image/png": "[encoded data removed]",
      "text/plain": [
       "<Figure size 432x288 with 1 Axes>"
      ]
     },
     "metadata": {
      "needs_background": "light"
     },
     "output_type": "display_data"
    },
    {
     "name": "stdout",
     "output_type": "stream",
     "text": [
      "Kurtosis: 0.13464961203755843\n",
      "Skewness: -0.15265070017727597\n",
      "D'Agostino's K-squared test(Estadístico=114.79272415546741, p-value=1.1832504227909413e-25)\n"
     ]
    }
   ],
   "source": [
    "tax_id = 7955\n",
    "species_gene_distribution__retrieve_plot_and_fit(stat_taxid_df, 7955)"
   ]
  },
  {
   "cell_type": "code",
   "execution_count": null,
   "id": "d2142fd1-8925-49a8-ae44-210bcdb9c96d",
   "metadata": {},
   "outputs": [],
   "source": []
  },
  {
   "cell_type": "markdown",
   "id": "5f3bd0f1-05e3-4b60-b425-eff9b1e14aa0",
   "metadata": {},
   "source": [
    "### Drosophila melanogaster"
   ]
  },
  {
   "cell_type": "code",
   "execution_count": 15,
   "id": "1d783600-b9dd-4f72-ae9b-0ebc61013d35",
   "metadata": {},
   "outputs": [
    {
     "data": {
      "text/html": [
       "<div>\n",
       "<style scoped>\n",
       "    .dataframe tbody tr th:only-of-type {\n",
       "        vertical-align: middle;\n",
       "    }\n",
       "\n",
       "    .dataframe tbody tr th {\n",
       "        vertical-align: top;\n",
       "    }\n",
       "\n",
       "    .dataframe thead th {\n",
       "        text-align: right;\n",
       "    }\n",
       "</style>\n",
       "<table border=\"1\" class=\"dataframe\">\n",
       "  <thead>\n",
       "    <tr style=\"text-align: right;\">\n",
       "      <th></th>\n",
       "      <th>division_7</th>\n",
       "      <th>species</th>\n",
       "      <th>trunk_genes_path</th>\n",
       "      <th>genes_file</th>\n",
       "      <th>count</th>\n",
       "      <th>mean</th>\n",
       "      <th>var</th>\n",
       "      <th>log10_mean</th>\n",
       "      <th>log10_var</th>\n",
       "      <th>name</th>\n",
       "      <th>tax_id</th>\n",
       "    </tr>\n",
       "  </thead>\n",
       "  <tbody>\n",
       "    <tr>\n",
       "      <th>32820</th>\n",
       "      <td>metazoa</td>\n",
       "      <td>drosophila_melanogaster</td>\n",
       "      <td>ftp.ensemblgenomes.org/pub/metazoa/release-49/...</td>\n",
       "      <td>protein_coding.genes.drosophila_melanogaster.m...</td>\n",
       "      <td>13947</td>\n",
       "      <td>6953.27203</td>\n",
       "      <td>5.892690e+08</td>\n",
       "      <td>3.430466</td>\n",
       "      <td>0.26197</td>\n",
       "      <td>Drosophila melanogaster</td>\n",
       "      <td>7227</td>\n",
       "    </tr>\n",
       "  </tbody>\n",
       "</table>\n",
       "</div>"
      ],
      "text/plain": [
       "      division_7                  species  \\\n",
       "32820    metazoa  drosophila_melanogaster   \n",
       "\n",
       "                                        trunk_genes_path  \\\n",
       "32820  ftp.ensemblgenomes.org/pub/metazoa/release-49/...   \n",
       "\n",
       "                                              genes_file  count        mean  \\\n",
       "32820  protein_coding.genes.drosophila_melanogaster.m...  13947  6953.27203   \n",
       "\n",
       "                var  log10_mean  log10_var                     name  tax_id  \n",
       "32820  5.892690e+08    3.430466    0.26197  Drosophila melanogaster    7227  "
      ]
     },
     "metadata": {},
     "output_type": "display_data"
    },
    {
     "name": "stdout",
     "output_type": "stream",
     "text": [
      "/media/emuro/Wes/results/geneLength/ftp.ensemblgenomes.org/pub/metazoa/release-49/genes/drosophila_melanogaster/protein_coding.genes.drosophila_melanogaster.metazoa.ensemblgenomes.49.tsv\n",
      "mu: 3.43046561066054 \tsigma: 0.5118295836225989\n"
     ]
    },
    {
     "data": {
      "image/png": "[encoded data removed]",
      "text/plain": [
       "<Figure size 432x288 with 1 Axes>"
      ]
     },
     "metadata": {
      "needs_background": "light"
     },
     "output_type": "display_data"
    },
    {
     "name": "stdout",
     "output_type": "stream",
     "text": [
      "Kurtosis: 0.7006851092488566\n",
      "Skewness: 0.8779483795938732\n",
      "D'Agostino's K-squared test(Estadístico=1514.1399175368922, p-value=0.0)\n"
     ]
    }
   ],
   "source": [
    "tax_id = 7227\n",
    "species_gene_distribution__retrieve_plot_and_fit(stat_taxid_df, 7227) # tax_id=7227"
   ]
  },
  {
   "cell_type": "markdown",
   "id": "c609b4ab-c94a-4a2c-a107-26e7d57e91aa",
   "metadata": {},
   "source": [
    "### Arabidopsis thaliana"
   ]
  },
  {
   "cell_type": "code",
   "execution_count": 16,
   "id": "6f5ac606-f3da-4454-82a1-bee94dc747da",
   "metadata": {},
   "outputs": [
    {
     "data": {
      "text/html": [
       "<div>\n",
       "<style scoped>\n",
       "    .dataframe tbody tr th:only-of-type {\n",
       "        vertical-align: middle;\n",
       "    }\n",
       "\n",
       "    .dataframe tbody tr th {\n",
       "        vertical-align: top;\n",
       "    }\n",
       "\n",
       "    .dataframe thead th {\n",
       "        text-align: right;\n",
       "    }\n",
       "</style>\n",
       "<table border=\"1\" class=\"dataframe\">\n",
       "  <thead>\n",
       "    <tr style=\"text-align: right;\">\n",
       "      <th></th>\n",
       "      <th>division_7</th>\n",
       "      <th>species</th>\n",
       "      <th>trunk_genes_path</th>\n",
       "      <th>genes_file</th>\n",
       "      <th>count</th>\n",
       "      <th>mean</th>\n",
       "      <th>var</th>\n",
       "      <th>log10_mean</th>\n",
       "      <th>log10_var</th>\n",
       "      <th>name</th>\n",
       "      <th>tax_id</th>\n",
       "    </tr>\n",
       "  </thead>\n",
       "  <tbody>\n",
       "    <tr>\n",
       "      <th>32920</th>\n",
       "      <td>plants</td>\n",
       "      <td>arabidopsis_thaliana</td>\n",
       "      <td>ftp.ensemblgenomes.org/pub/plants/release-49/g...</td>\n",
       "      <td>protein_coding.genes.arabidopsis_thaliana.plan...</td>\n",
       "      <td>27628</td>\n",
       "      <td>2371.752932</td>\n",
       "      <td>2.676062e+06</td>\n",
       "      <td>3.277692</td>\n",
       "      <td>0.097997</td>\n",
       "      <td>Arabidopsis thaliana</td>\n",
       "      <td>3702</td>\n",
       "    </tr>\n",
       "  </tbody>\n",
       "</table>\n",
       "</div>"
      ],
      "text/plain": [
       "      division_7               species  \\\n",
       "32920     plants  arabidopsis_thaliana   \n",
       "\n",
       "                                        trunk_genes_path  \\\n",
       "32920  ftp.ensemblgenomes.org/pub/plants/release-49/g...   \n",
       "\n",
       "                                              genes_file  count         mean  \\\n",
       "32920  protein_coding.genes.arabidopsis_thaliana.plan...  27628  2371.752932   \n",
       "\n",
       "                var  log10_mean  log10_var                  name  tax_id  \n",
       "32920  2.676062e+06    3.277692   0.097997  Arabidopsis thaliana    3702  "
      ]
     },
     "metadata": {},
     "output_type": "display_data"
    },
    {
     "name": "stdout",
     "output_type": "stream",
     "text": [
      "/media/emuro/Wes/results/geneLength/ftp.ensemblgenomes.org/pub/plants/release-49/genes/arabidopsis_thaliana/protein_coding.genes.arabidopsis_thaliana.plants.ensemblgenomes.49.tsv\n",
      "mu: 3.27769212335358 \tsigma: 0.313044095685159\n"
     ]
    },
    {
     "data": {
      "image/png": "[encoded data removed]",
      "text/plain": [
       "<Figure size 432x288 with 1 Axes>"
      ]
     },
     "metadata": {
      "needs_background": "light"
     },
     "output_type": "display_data"
    },
    {
     "name": "stdout",
     "output_type": "stream",
     "text": [
      "Kurtosis: 2.0687251985740804\n",
      "Skewness: -0.838796770338856\n",
      "D'Agostino's K-squared test(Estadístico=3819.8068409312245, p-value=0.0)\n"
     ]
    }
   ],
   "source": [
    "tax_id = 3702\n",
    "species_gene_distribution__retrieve_plot_and_fit(stat_taxid_df, tax_id)"
   ]
  },
  {
   "cell_type": "code",
   "execution_count": null,
   "id": "04961645-821d-4611-96c7-0acdd9599927",
   "metadata": {},
   "outputs": [],
   "source": []
  },
  {
   "cell_type": "markdown",
   "id": "101243f5-2c78-4f40-a996-554f28c3ee7e",
   "metadata": {},
   "source": [
    "### Saccharomyces cerevisae"
   ]
  },
  {
   "cell_type": "code",
   "execution_count": 17,
   "id": "427336ea-2d5e-4f2b-b2d7-e11a49980697",
   "metadata": {},
   "outputs": [
    {
     "data": {
      "text/html": [
       "<div>\n",
       "<style scoped>\n",
       "    .dataframe tbody tr th:only-of-type {\n",
       "        vertical-align: middle;\n",
       "    }\n",
       "\n",
       "    .dataframe tbody tr th {\n",
       "        vertical-align: top;\n",
       "    }\n",
       "\n",
       "    .dataframe thead th {\n",
       "        text-align: right;\n",
       "    }\n",
       "</style>\n",
       "<table border=\"1\" class=\"dataframe\">\n",
       "  <thead>\n",
       "    <tr style=\"text-align: right;\">\n",
       "      <th></th>\n",
       "      <th>division_7</th>\n",
       "      <th>species</th>\n",
       "      <th>trunk_genes_path</th>\n",
       "      <th>genes_file</th>\n",
       "      <th>count</th>\n",
       "      <th>mean</th>\n",
       "      <th>var</th>\n",
       "      <th>log10_mean</th>\n",
       "      <th>log10_var</th>\n",
       "      <th>name</th>\n",
       "      <th>tax_id</th>\n",
       "    </tr>\n",
       "  </thead>\n",
       "  <tbody>\n",
       "    <tr>\n",
       "      <th>31796</th>\n",
       "      <td>fungi</td>\n",
       "      <td>saccharomyces_cerevisiae_gca_002804325</td>\n",
       "      <td>ftp.ensemblgenomes.org/pub/fungi/release-49/ge...</td>\n",
       "      <td>protein_coding.genes.saccharomyces_cerevisiae_...</td>\n",
       "      <td>5327</td>\n",
       "      <td>1541.857331</td>\n",
       "      <td>1.211917e+06</td>\n",
       "      <td>3.096198</td>\n",
       "      <td>0.08144</td>\n",
       "      <td>Saccharomyces cerevisiae (GCA_002804325)</td>\n",
       "      <td>4932</td>\n",
       "    </tr>\n",
       "  </tbody>\n",
       "</table>\n",
       "</div>"
      ],
      "text/plain": [
       "      division_7                                 species  \\\n",
       "31796      fungi  saccharomyces_cerevisiae_gca_002804325   \n",
       "\n",
       "                                        trunk_genes_path  \\\n",
       "31796  ftp.ensemblgenomes.org/pub/fungi/release-49/ge...   \n",
       "\n",
       "                                              genes_file  count         mean  \\\n",
       "31796  protein_coding.genes.saccharomyces_cerevisiae_...   5327  1541.857331   \n",
       "\n",
       "                var  log10_mean  log10_var  \\\n",
       "31796  1.211917e+06    3.096198    0.08144   \n",
       "\n",
       "                                           name  tax_id  \n",
       "31796  Saccharomyces cerevisiae (GCA_002804325)    4932  "
      ]
     },
     "metadata": {},
     "output_type": "display_data"
    },
    {
     "name": "stdout",
     "output_type": "stream",
     "text": [
      "/media/emuro/Wes/results/geneLength/ftp.ensemblgenomes.org/pub/fungi/release-49/genes/fungi_ascomycota3_collection/saccharomyces_cerevisiae_gca_002804325/protein_coding.genes.saccharomyces_cerevisiae_gca_002804325.fungi.ensemblgenomes.49.tsv\n",
      "mu: 3.09619766989994 \tsigma: 0.28537773965710955\n"
     ]
    },
    {
     "data": {
      "image/png": "[encoded data removed]",
      "text/plain": [
       "<Figure size 432x288 with 1 Axes>"
      ]
     },
     "metadata": {
      "needs_background": "light"
     },
     "output_type": "display_data"
    },
    {
     "name": "stdout",
     "output_type": "stream",
     "text": [
      "Kurtosis: -0.053208841914179406\n",
      "Skewness: -0.09501085795453858\n",
      "D'Agostino's K-squared test(Estadístico=8.587637885758141, p-value=0.01365268678193424)\n"
     ]
    }
   ],
   "source": [
    "tax_id = 4932 #uniprot: 559292 (not in ensembl) \n",
    "species_gene_distribution__retrieve_plot_and_fit(stat_taxid_df, tax_id)"
   ]
  },
  {
   "cell_type": "code",
   "execution_count": null,
   "id": "aab7c5ef-0f23-4faa-873d-9e687ed9b98d",
   "metadata": {},
   "outputs": [],
   "source": []
  },
  {
   "cell_type": "markdown",
   "id": "c2440f06-107a-457e-a656-e21d5c382d61",
   "metadata": {},
   "source": [
    "### Escherichia coli"
   ]
  },
  {
   "cell_type": "code",
   "execution_count": 18,
   "id": "df582095-3786-468f-8647-10d972e22b53",
   "metadata": {},
   "outputs": [
    {
     "data": {
      "text/html": [
       "<div>\n",
       "<style scoped>\n",
       "    .dataframe tbody tr th:only-of-type {\n",
       "        vertical-align: middle;\n",
       "    }\n",
       "\n",
       "    .dataframe tbody tr th {\n",
       "        vertical-align: top;\n",
       "    }\n",
       "\n",
       "    .dataframe thead th {\n",
       "        text-align: right;\n",
       "    }\n",
       "</style>\n",
       "<table border=\"1\" class=\"dataframe\">\n",
       "  <thead>\n",
       "    <tr style=\"text-align: right;\">\n",
       "      <th></th>\n",
       "      <th>division_7</th>\n",
       "      <th>species</th>\n",
       "      <th>trunk_genes_path</th>\n",
       "      <th>genes_file</th>\n",
       "      <th>count</th>\n",
       "      <th>mean</th>\n",
       "      <th>var</th>\n",
       "      <th>log10_mean</th>\n",
       "      <th>log10_var</th>\n",
       "      <th>name</th>\n",
       "      <th>tax_id</th>\n",
       "    </tr>\n",
       "  </thead>\n",
       "  <tbody>\n",
       "    <tr>\n",
       "      <th>10992</th>\n",
       "      <td>bacteria</td>\n",
       "      <td>escherichia_coli_o157_h7_gca_005037735</td>\n",
       "      <td>ftp.ensemblgenomes.org/pub/bacteria/release-49...</td>\n",
       "      <td>protein_coding.genes.escherichia_coli_o157_h7_...</td>\n",
       "      <td>5418</td>\n",
       "      <td>871.979328</td>\n",
       "      <td>464214.913363</td>\n",
       "      <td>2.819873</td>\n",
       "      <td>0.114521</td>\n",
       "      <td>Escherichia coli O157:H7 (GCA_005037735)</td>\n",
       "      <td>83334</td>\n",
       "    </tr>\n",
       "  </tbody>\n",
       "</table>\n",
       "</div>"
      ],
      "text/plain": [
       "      division_7                                 species  \\\n",
       "10992   bacteria  escherichia_coli_o157_h7_gca_005037735   \n",
       "\n",
       "                                        trunk_genes_path  \\\n",
       "10992  ftp.ensemblgenomes.org/pub/bacteria/release-49...   \n",
       "\n",
       "                                              genes_file  count        mean  \\\n",
       "10992  protein_coding.genes.escherichia_coli_o157_h7_...   5418  871.979328   \n",
       "\n",
       "                 var  log10_mean  log10_var  \\\n",
       "10992  464214.913363    2.819873   0.114521   \n",
       "\n",
       "                                           name  tax_id  \n",
       "10992  Escherichia coli O157:H7 (GCA_005037735)   83334  "
      ]
     },
     "metadata": {},
     "output_type": "display_data"
    },
    {
     "name": "stdout",
     "output_type": "stream",
     "text": [
      "/media/emuro/Wes/results/geneLength/ftp.ensemblgenomes.org/pub/bacteria/release-49/genes/bacteria_99_collection/escherichia_coli_o157_h7_gca_005037735/protein_coding.genes.escherichia_coli_o157_h7_gca_005037735.bacteria.ensemblgenomes.49.tsv\n",
      "mu: 2.8198730680679 \tsigma: 0.33840929435500733\n"
     ]
    },
    {
     "data": {
      "image/png": "[encoded data removed]",
      "text/plain": [
       "<Figure size 432x288 with 1 Axes>"
      ]
     },
     "metadata": {
      "needs_background": "light"
     },
     "output_type": "display_data"
    },
    {
     "name": "stdout",
     "output_type": "stream",
     "text": [
      "Kurtosis: -0.2198001646727299\n",
      "Skewness: -0.3175512565686581\n",
      "D'Agostino's K-squared test(Estadístico=100.56334168543023, p-value=1.4552841929326762e-22)\n"
     ]
    }
   ],
   "source": [
    "tax_id = 83334 #562 uniprot: 83333 (k12), 83334(0157:h7 disease), 1408285 (otra, this is not in ensembl)\n",
    "species_gene_distribution__retrieve_plot_and_fit(stat_taxid_df, tax_id)"
   ]
  },
  {
   "cell_type": "code",
   "execution_count": null,
   "id": "a07a4423-01f7-40bf-8f53-6b0c6e8e3095",
   "metadata": {},
   "outputs": [],
   "source": []
  },
  {
   "cell_type": "markdown",
   "id": "a69e3f95-5601-43e4-9fa6-ac26c1221579",
   "metadata": {},
   "source": [
    "## Test species"
   ]
  },
  {
   "cell_type": "code",
   "execution_count": 27,
   "id": "4792ed57-097f-4a4a-8def-1f7ca267d4ff",
   "metadata": {},
   "outputs": [
    {
     "data": {
      "text/html": [
       "<div>\n",
       "<style scoped>\n",
       "    .dataframe tbody tr th:only-of-type {\n",
       "        vertical-align: middle;\n",
       "    }\n",
       "\n",
       "    .dataframe tbody tr th {\n",
       "        vertical-align: top;\n",
       "    }\n",
       "\n",
       "    .dataframe thead th {\n",
       "        text-align: right;\n",
       "    }\n",
       "</style>\n",
       "<table border=\"1\" class=\"dataframe\">\n",
       "  <thead>\n",
       "    <tr style=\"text-align: right;\">\n",
       "      <th></th>\n",
       "      <th>division_7</th>\n",
       "      <th>species</th>\n",
       "      <th>trunk_genes_path</th>\n",
       "      <th>genes_file</th>\n",
       "      <th>count</th>\n",
       "      <th>mean</th>\n",
       "      <th>var</th>\n",
       "      <th>log10_mean</th>\n",
       "      <th>log10_var</th>\n",
       "      <th>name</th>\n",
       "      <th>tax_id</th>\n",
       "    </tr>\n",
       "  </thead>\n",
       "  <tbody>\n",
       "    <tr>\n",
       "      <th>19195</th>\n",
       "      <td>bacteria</td>\n",
       "      <td>richelia_intracellularis_hh01_gca_000350105</td>\n",
       "      <td>ftp.ensemblgenomes.org/pub/bacteria/release-49...</td>\n",
       "      <td>protein_coding.genes.richelia_intracellularis_...</td>\n",
       "      <td>2278</td>\n",
       "      <td>794.595259</td>\n",
       "      <td>448634.111914</td>\n",
       "      <td>2.747687</td>\n",
       "      <td>0.149104</td>\n",
       "      <td>Richelia intracellularis HH01 (GCA_000350105)</td>\n",
       "      <td>1165094</td>\n",
       "    </tr>\n",
       "  </tbody>\n",
       "</table>\n",
       "</div>"
      ],
      "text/plain": [
       "      division_7                                      species  \\\n",
       "19195   bacteria  richelia_intracellularis_hh01_gca_000350105   \n",
       "\n",
       "                                        trunk_genes_path  \\\n",
       "19195  ftp.ensemblgenomes.org/pub/bacteria/release-49...   \n",
       "\n",
       "                                              genes_file  count        mean  \\\n",
       "19195  protein_coding.genes.richelia_intracellularis_...   2278  794.595259   \n",
       "\n",
       "                 var  log10_mean  log10_var  \\\n",
       "19195  448634.111914    2.747687   0.149104   \n",
       "\n",
       "                                                name   tax_id  \n",
       "19195  Richelia intracellularis HH01 (GCA_000350105)  1165094  "
      ]
     },
     "metadata": {},
     "output_type": "display_data"
    },
    {
     "name": "stdout",
     "output_type": "stream",
     "text": [
      "/media/emuro/Wes/results/geneLength/ftp.ensemblgenomes.org/pub/bacteria/release-49/genes/bacteria_114_collection/richelia_intracellularis_hh01_gca_000350105/protein_coding.genes.richelia_intracellularis_hh01_gca_000350105.bacteria.ensemblgenomes.49.tsv\n",
      "mu: 2.74768747163771 \tsigma: 0.3861402851455543\n"
     ]
    },
    {
     "data": {
      "image/png": "[encoded data removed]",
      "text/plain": [
       "<Figure size 432x288 with 1 Axes>"
      ]
     },
     "metadata": {
      "needs_background": "light"
     },
     "output_type": "display_data"
    },
    {
     "name": "stdout",
     "output_type": "stream",
     "text": [
      "Kurtosis: -0.9059206438193219\n",
      "Skewness: -0.2591104121704471\n",
      "D'Agostino's K-squared test(Estadístico=339.5470061940551, p-value=1.8548313667818206e-74)\n"
     ]
    }
   ],
   "source": [
    "tax_id = 1165094  # E. coli: 83333 (k12), 83334(0157:h7 disease), 1408285 (otra, this is not in ensembl)\n",
    "                  # mus_caroli: 10089\n",
    "                  # Richelia_intracelularis (genes cortos): 1165094\n",
    "species_gene_distribution__retrieve_plot_and_fit(stat_taxid_df, tax_id)"
   ]
  },
  {
   "cell_type": "code",
   "execution_count": null,
   "id": "d90dc5d8-20f9-46a1-b17a-d55f8877e706",
   "metadata": {},
   "outputs": [],
   "source": []
  },
  {
   "cell_type": "code",
   "execution_count": null,
   "id": "b44ebfe7-0a2c-4316-8e62-404827f8e7e1",
   "metadata": {},
   "outputs": [],
   "source": []
  },
  {
   "cell_type": "markdown",
   "id": "230c3ba9-432b-4ab6-bc8a-ccf0b9994b32",
   "metadata": {},
   "source": [
    "## Select a set of species and show the distributions"
   ]
  },
  {
   "cell_type": "code",
   "execution_count": 20,
   "id": "390d94e6-78c4-468b-9f69-cd75bbaee862",
   "metadata": {},
   "outputs": [
    {
     "data": {
      "text/html": [
       "<div>\n",
       "<style scoped>\n",
       "    .dataframe tbody tr th:only-of-type {\n",
       "        vertical-align: middle;\n",
       "    }\n",
       "\n",
       "    .dataframe tbody tr th {\n",
       "        vertical-align: top;\n",
       "    }\n",
       "\n",
       "    .dataframe thead th {\n",
       "        text-align: right;\n",
       "    }\n",
       "</style>\n",
       "<table border=\"1\" class=\"dataframe\">\n",
       "  <thead>\n",
       "    <tr style=\"text-align: right;\">\n",
       "      <th></th>\n",
       "      <th>division_7</th>\n",
       "      <th>species</th>\n",
       "      <th>trunk_genes_path</th>\n",
       "      <th>genes_file</th>\n",
       "      <th>count</th>\n",
       "      <th>mean</th>\n",
       "      <th>var</th>\n",
       "      <th>log10_mean</th>\n",
       "      <th>log10_var</th>\n",
       "      <th>name</th>\n",
       "      <th>tax_id</th>\n",
       "    </tr>\n",
       "  </thead>\n",
       "  <tbody>\n",
       "    <tr>\n",
       "      <th>32833</th>\n",
       "      <td>metazoa</td>\n",
       "      <td>apis_mellifera</td>\n",
       "      <td>ftp.ensemblgenomes.org/pub/metazoa/release-49/...</td>\n",
       "      <td>protein_coding.genes.apis_mellifera.metazoa.en...</td>\n",
       "      <td>9935</td>\n",
       "      <td>16884.968193</td>\n",
       "      <td>2.281640e+09</td>\n",
       "      <td>3.721639</td>\n",
       "      <td>0.309712</td>\n",
       "      <td>Apis mellifera (DH4)</td>\n",
       "      <td>7460</td>\n",
       "    </tr>\n",
       "    <tr>\n",
       "      <th>32848</th>\n",
       "      <td>metazoa</td>\n",
       "      <td>bombus_terrestris</td>\n",
       "      <td>ftp.ensemblgenomes.org/pub/metazoa/release-49/...</td>\n",
       "      <td>protein_coding.genes.bombus_terrestris.metazoa...</td>\n",
       "      <td>10581</td>\n",
       "      <td>16661.281448</td>\n",
       "      <td>2.204330e+09</td>\n",
       "      <td>3.713088</td>\n",
       "      <td>0.311522</td>\n",
       "      <td>Bombus terrestris</td>\n",
       "      <td>30195</td>\n",
       "    </tr>\n",
       "    <tr>\n",
       "      <th>32885</th>\n",
       "      <td>metazoa</td>\n",
       "      <td>bombus_impatiens</td>\n",
       "      <td>ftp.ensemblgenomes.org/pub/metazoa/release-49/...</td>\n",
       "      <td>protein_coding.genes.bombus_impatiens.metazoa....</td>\n",
       "      <td>15896</td>\n",
       "      <td>7095.112229</td>\n",
       "      <td>4.567260e+08</td>\n",
       "      <td>3.350071</td>\n",
       "      <td>0.334799</td>\n",
       "      <td>Bombus impatiens</td>\n",
       "      <td>132113</td>\n",
       "    </tr>\n",
       "  </tbody>\n",
       "</table>\n",
       "</div>"
      ],
      "text/plain": [
       "      division_7            species  \\\n",
       "32833    metazoa     apis_mellifera   \n",
       "32848    metazoa  bombus_terrestris   \n",
       "32885    metazoa   bombus_impatiens   \n",
       "\n",
       "                                        trunk_genes_path  \\\n",
       "32833  ftp.ensemblgenomes.org/pub/metazoa/release-49/...   \n",
       "32848  ftp.ensemblgenomes.org/pub/metazoa/release-49/...   \n",
       "32885  ftp.ensemblgenomes.org/pub/metazoa/release-49/...   \n",
       "\n",
       "                                              genes_file  count          mean  \\\n",
       "32833  protein_coding.genes.apis_mellifera.metazoa.en...   9935  16884.968193   \n",
       "32848  protein_coding.genes.bombus_terrestris.metazoa...  10581  16661.281448   \n",
       "32885  protein_coding.genes.bombus_impatiens.metazoa....  15896   7095.112229   \n",
       "\n",
       "                var  log10_mean  log10_var                  name  tax_id  \n",
       "32833  2.281640e+09    3.721639   0.309712  Apis mellifera (DH4)    7460  \n",
       "32848  2.204330e+09    3.713088   0.311522     Bombus terrestris   30195  \n",
       "32885  4.567260e+08    3.350071   0.334799      Bombus impatiens  132113  "
      ]
     },
     "metadata": {},
     "output_type": "display_data"
    },
    {
     "data": {
      "text/html": [
       "<div>\n",
       "<style scoped>\n",
       "    .dataframe tbody tr th:only-of-type {\n",
       "        vertical-align: middle;\n",
       "    }\n",
       "\n",
       "    .dataframe tbody tr th {\n",
       "        vertical-align: top;\n",
       "    }\n",
       "\n",
       "    .dataframe thead th {\n",
       "        text-align: right;\n",
       "    }\n",
       "</style>\n",
       "<table border=\"1\" class=\"dataframe\">\n",
       "  <thead>\n",
       "    <tr style=\"text-align: right;\">\n",
       "      <th></th>\n",
       "      <th>division_7</th>\n",
       "      <th>species</th>\n",
       "      <th>trunk_genes_path</th>\n",
       "      <th>genes_file</th>\n",
       "      <th>count</th>\n",
       "      <th>mean</th>\n",
       "      <th>var</th>\n",
       "      <th>log10_mean</th>\n",
       "      <th>log10_var</th>\n",
       "      <th>name</th>\n",
       "      <th>tax_id</th>\n",
       "    </tr>\n",
       "  </thead>\n",
       "  <tbody>\n",
       "    <tr>\n",
       "      <th>32833</th>\n",
       "      <td>metazoa</td>\n",
       "      <td>apis_mellifera</td>\n",
       "      <td>ftp.ensemblgenomes.org/pub/metazoa/release-49/...</td>\n",
       "      <td>protein_coding.genes.apis_mellifera.metazoa.en...</td>\n",
       "      <td>9935</td>\n",
       "      <td>16884.968193</td>\n",
       "      <td>2.281640e+09</td>\n",
       "      <td>3.721639</td>\n",
       "      <td>0.309712</td>\n",
       "      <td>Apis mellifera (DH4)</td>\n",
       "      <td>7460</td>\n",
       "    </tr>\n",
       "  </tbody>\n",
       "</table>\n",
       "</div>"
      ],
      "text/plain": [
       "      division_7         species  \\\n",
       "32833    metazoa  apis_mellifera   \n",
       "\n",
       "                                        trunk_genes_path  \\\n",
       "32833  ftp.ensemblgenomes.org/pub/metazoa/release-49/...   \n",
       "\n",
       "                                              genes_file  count          mean  \\\n",
       "32833  protein_coding.genes.apis_mellifera.metazoa.en...   9935  16884.968193   \n",
       "\n",
       "                var  log10_mean  log10_var                  name  tax_id  \n",
       "32833  2.281640e+09    3.721639   0.309712  Apis mellifera (DH4)    7460  "
      ]
     },
     "metadata": {},
     "output_type": "display_data"
    },
    {
     "name": "stdout",
     "output_type": "stream",
     "text": [
      "/media/emuro/Wes/results/geneLength/ftp.ensemblgenomes.org/pub/metazoa/release-49/genes/apis_mellifera/protein_coding.genes.apis_mellifera.metazoa.ensemblgenomes.49.tsv\n",
      "mu: 3.72163871928406 \tsigma: 0.5565177363210763\n"
     ]
    },
    {
     "data": {
      "image/png": "[encoded data removed]",
      "text/plain": [
       "<Figure size 432x288 with 1 Axes>"
      ]
     },
     "metadata": {
      "needs_background": "light"
     },
     "output_type": "display_data"
    },
    {
     "name": "stdout",
     "output_type": "stream",
     "text": [
      "Kurtosis: 0.9506792450508534\n",
      "Skewness: 1.0211383052353278\n",
      "D'Agostino's K-squared test(Estadístico=1395.2039279995872, p-value=1.0847170584931521e-303)\n"
     ]
    },
    {
     "data": {
      "text/html": [
       "<div>\n",
       "<style scoped>\n",
       "    .dataframe tbody tr th:only-of-type {\n",
       "        vertical-align: middle;\n",
       "    }\n",
       "\n",
       "    .dataframe tbody tr th {\n",
       "        vertical-align: top;\n",
       "    }\n",
       "\n",
       "    .dataframe thead th {\n",
       "        text-align: right;\n",
       "    }\n",
       "</style>\n",
       "<table border=\"1\" class=\"dataframe\">\n",
       "  <thead>\n",
       "    <tr style=\"text-align: right;\">\n",
       "      <th></th>\n",
       "      <th>division_7</th>\n",
       "      <th>species</th>\n",
       "      <th>trunk_genes_path</th>\n",
       "      <th>genes_file</th>\n",
       "      <th>count</th>\n",
       "      <th>mean</th>\n",
       "      <th>var</th>\n",
       "      <th>log10_mean</th>\n",
       "      <th>log10_var</th>\n",
       "      <th>name</th>\n",
       "      <th>tax_id</th>\n",
       "    </tr>\n",
       "  </thead>\n",
       "  <tbody>\n",
       "    <tr>\n",
       "      <th>32848</th>\n",
       "      <td>metazoa</td>\n",
       "      <td>bombus_terrestris</td>\n",
       "      <td>ftp.ensemblgenomes.org/pub/metazoa/release-49/...</td>\n",
       "      <td>protein_coding.genes.bombus_terrestris.metazoa...</td>\n",
       "      <td>10581</td>\n",
       "      <td>16661.281448</td>\n",
       "      <td>2.204330e+09</td>\n",
       "      <td>3.713088</td>\n",
       "      <td>0.311522</td>\n",
       "      <td>Bombus terrestris</td>\n",
       "      <td>30195</td>\n",
       "    </tr>\n",
       "  </tbody>\n",
       "</table>\n",
       "</div>"
      ],
      "text/plain": [
       "      division_7            species  \\\n",
       "32848    metazoa  bombus_terrestris   \n",
       "\n",
       "                                        trunk_genes_path  \\\n",
       "32848  ftp.ensemblgenomes.org/pub/metazoa/release-49/...   \n",
       "\n",
       "                                              genes_file  count          mean  \\\n",
       "32848  protein_coding.genes.bombus_terrestris.metazoa...  10581  16661.281448   \n",
       "\n",
       "                var  log10_mean  log10_var               name  tax_id  \n",
       "32848  2.204330e+09    3.713088   0.311522  Bombus terrestris   30195  "
      ]
     },
     "metadata": {},
     "output_type": "display_data"
    },
    {
     "name": "stdout",
     "output_type": "stream",
     "text": [
      "/media/emuro/Wes/results/geneLength/ftp.ensemblgenomes.org/pub/metazoa/release-49/genes/bombus_terrestris/protein_coding.genes.bombus_terrestris.metazoa.ensemblgenomes.49.tsv\n",
      "mu: 3.71308780016114 \tsigma: 0.5581416563016238\n"
     ]
    },
    {
     "data": {
      "image/png": "[encoded data removed]",
      "text/plain": [
       "<Figure size 432x288 with 1 Axes>"
      ]
     },
     "metadata": {
      "needs_background": "light"
     },
     "output_type": "display_data"
    },
    {
     "name": "stdout",
     "output_type": "stream",
     "text": [
      "Kurtosis: 0.9958195079743284\n",
      "Skewness: 1.0069406064376183\n",
      "D'Agostino's K-squared test(Estadístico=1471.7430671565198, p-value=0.0)\n"
     ]
    },
    {
     "data": {
      "text/html": [
       "<div>\n",
       "<style scoped>\n",
       "    .dataframe tbody tr th:only-of-type {\n",
       "        vertical-align: middle;\n",
       "    }\n",
       "\n",
       "    .dataframe tbody tr th {\n",
       "        vertical-align: top;\n",
       "    }\n",
       "\n",
       "    .dataframe thead th {\n",
       "        text-align: right;\n",
       "    }\n",
       "</style>\n",
       "<table border=\"1\" class=\"dataframe\">\n",
       "  <thead>\n",
       "    <tr style=\"text-align: right;\">\n",
       "      <th></th>\n",
       "      <th>division_7</th>\n",
       "      <th>species</th>\n",
       "      <th>trunk_genes_path</th>\n",
       "      <th>genes_file</th>\n",
       "      <th>count</th>\n",
       "      <th>mean</th>\n",
       "      <th>var</th>\n",
       "      <th>log10_mean</th>\n",
       "      <th>log10_var</th>\n",
       "      <th>name</th>\n",
       "      <th>tax_id</th>\n",
       "    </tr>\n",
       "  </thead>\n",
       "  <tbody>\n",
       "    <tr>\n",
       "      <th>32885</th>\n",
       "      <td>metazoa</td>\n",
       "      <td>bombus_impatiens</td>\n",
       "      <td>ftp.ensemblgenomes.org/pub/metazoa/release-49/...</td>\n",
       "      <td>protein_coding.genes.bombus_impatiens.metazoa....</td>\n",
       "      <td>15896</td>\n",
       "      <td>7095.112229</td>\n",
       "      <td>4.567260e+08</td>\n",
       "      <td>3.350071</td>\n",
       "      <td>0.334799</td>\n",
       "      <td>Bombus impatiens</td>\n",
       "      <td>132113</td>\n",
       "    </tr>\n",
       "  </tbody>\n",
       "</table>\n",
       "</div>"
      ],
      "text/plain": [
       "      division_7           species  \\\n",
       "32885    metazoa  bombus_impatiens   \n",
       "\n",
       "                                        trunk_genes_path  \\\n",
       "32885  ftp.ensemblgenomes.org/pub/metazoa/release-49/...   \n",
       "\n",
       "                                              genes_file  count         mean  \\\n",
       "32885  protein_coding.genes.bombus_impatiens.metazoa....  15896  7095.112229   \n",
       "\n",
       "                var  log10_mean  log10_var              name  tax_id  \n",
       "32885  4.567260e+08    3.350071   0.334799  Bombus impatiens  132113  "
      ]
     },
     "metadata": {},
     "output_type": "display_data"
    },
    {
     "name": "stdout",
     "output_type": "stream",
     "text": [
      "/media/emuro/Wes/results/geneLength/ftp.ensemblgenomes.org/pub/metazoa/release-49/genes/bombus_impatiens/protein_coding.genes.bombus_impatiens.metazoa.ensemblgenomes.49.tsv\n",
      "mu: 3.35007142739348 \tsigma: 0.5786185345593243\n"
     ]
    },
    {
     "data": {
      "image/png": "[encoded data removed]",
      "text/plain": [
       "<Figure size 432x288 with 1 Axes>"
      ]
     },
     "metadata": {
      "needs_background": "light"
     },
     "output_type": "display_data"
    },
    {
     "name": "stdout",
     "output_type": "stream",
     "text": [
      "Kurtosis: 0.6940794543625928\n",
      "Skewness: 0.5952925215177927\n",
      "D'Agostino's K-squared test(Estadístico=990.0987535146351, p-value=1.0064388774175518e-215)\n"
     ]
    }
   ],
   "source": [
    "bee = stat_taxid_df.copy()\n",
    "bee = bee[(bee[\"species\"].str.contains(\"apis_m\")) | (bee[\"species\"].str.contains(\"bombus_\"))]\n",
    "display(bee)\n",
    "\n",
    "for t in bee[\"tax_id\"]:\n",
    "    if 1:\n",
    "        species_gene_distribution__retrieve_plot_and_fit(stat_taxid_df, t)"
   ]
  },
  {
   "cell_type": "code",
   "execution_count": null,
   "id": "4c8b1afd-6a0f-445a-972b-308fdfd9be04",
   "metadata": {},
   "outputs": [],
   "source": []
  }
 ],
 "metadata": {
  "kernelspec": {
   "display_name": "Python 3 (ipykernel)",
   "language": "python",
   "name": "python3"
  },
  "language_info": {
   "codemirror_mode": {
    "name": "ipython",
    "version": 3
   },
   "file_extension": ".py",
   "mimetype": "text/x-python",
   "name": "python",
   "nbconvert_exporter": "python",
   "pygments_lexer": "ipython3",
   "version": "3.10.4"
  }
 },
 "nbformat": 4,
 "nbformat_minor": 5
}
