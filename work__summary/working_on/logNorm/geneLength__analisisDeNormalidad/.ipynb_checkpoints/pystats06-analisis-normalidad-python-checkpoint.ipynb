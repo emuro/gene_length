{
 "cells": [
  {
   "cell_type": "markdown",
   "id": "64cf7863",
   "metadata": {},
   "source": [
    "# Análisis de normalidad con python\n",
    "Sacado de:   \n",
    "https://www.cienciadedatos.net/documentos/pystats06-analisis-normalidad-python.html"
   ]
  },
  {
   "cell_type": "markdown",
   "id": "53ddff33",
   "metadata": {},
   "source": [
    "## Modules"
   ]
  },
  {
   "cell_type": "code",
   "execution_count": 35,
   "id": "ccf358f5",
   "metadata": {},
   "outputs": [],
   "source": [
    "# Tratamiento de datos\n",
    "# ==============================================================================\n",
    "import pandas as pd\n",
    "import numpy as np\n",
    "\n",
    "# Gráficos\n",
    "# ==============================================================================\n",
    "import matplotlib.pyplot as plt\n",
    "from matplotlib import style\n",
    "import seaborn as sns\n",
    "\n",
    "# Preprocesado y análisis\n",
    "# ==============================================================================\n",
    "import statsmodels.api as sm\n",
    "from scipy import stats\n",
    "\n",
    "# Configuración matplotlib\n",
    "# ==============================================================================\n",
    "plt.style.use('ggplot') # EM, me gusta menos: lo comento\n",
    "\n",
    "# Configuración warnings\n",
    "# ==============================================================================\n",
    "import warnings\n",
    "warnings.filterwarnings('ignore')"
   ]
  },
  {
   "cell_type": "markdown",
   "id": "de748e28",
   "metadata": {},
   "source": [
    "## Data used"
   ]
  },
  {
   "cell_type": "code",
   "execution_count": 36,
   "id": "5c9b95f3",
   "metadata": {},
   "outputs": [
    {
     "name": "stdout",
     "output_type": "stream",
     "text": [
      "<class 'pandas.core.frame.DataFrame'>\n",
      "RangeIndex: 544 entries, 0 to 543\n",
      "Data columns (total 4 columns):\n",
      " #   Column  Non-Null Count  Dtype  \n",
      "---  ------  --------------  -----  \n",
      " 0   height  544 non-null    float64\n",
      " 1   weight  544 non-null    float64\n",
      " 2   age     544 non-null    float64\n",
      " 3   male    544 non-null    int64  \n",
      "dtypes: float64(3), int64(1)\n",
      "memory usage: 17.1 KB\n",
      "None\n"
     ]
    },
    {
     "data": {
      "text/html": [
       "<div>\n",
       "<style scoped>\n",
       "    .dataframe tbody tr th:only-of-type {\n",
       "        vertical-align: middle;\n",
       "    }\n",
       "\n",
       "    .dataframe tbody tr th {\n",
       "        vertical-align: top;\n",
       "    }\n",
       "\n",
       "    .dataframe thead th {\n",
       "        text-align: right;\n",
       "    }\n",
       "</style>\n",
       "<table border=\"1\" class=\"dataframe\">\n",
       "  <thead>\n",
       "    <tr style=\"text-align: right;\">\n",
       "      <th></th>\n",
       "      <th>height</th>\n",
       "      <th>weight</th>\n",
       "      <th>age</th>\n",
       "      <th>male</th>\n",
       "    </tr>\n",
       "  </thead>\n",
       "  <tbody>\n",
       "    <tr>\n",
       "      <th>0</th>\n",
       "      <td>151.765</td>\n",
       "      <td>47.825606</td>\n",
       "      <td>63.0</td>\n",
       "      <td>1</td>\n",
       "    </tr>\n",
       "    <tr>\n",
       "      <th>1</th>\n",
       "      <td>139.700</td>\n",
       "      <td>36.485807</td>\n",
       "      <td>63.0</td>\n",
       "      <td>0</td>\n",
       "    </tr>\n",
       "    <tr>\n",
       "      <th>2</th>\n",
       "      <td>136.525</td>\n",
       "      <td>31.864838</td>\n",
       "      <td>65.0</td>\n",
       "      <td>0</td>\n",
       "    </tr>\n",
       "    <tr>\n",
       "      <th>3</th>\n",
       "      <td>156.845</td>\n",
       "      <td>53.041914</td>\n",
       "      <td>41.0</td>\n",
       "      <td>1</td>\n",
       "    </tr>\n",
       "  </tbody>\n",
       "</table>\n",
       "</div>"
      ],
      "text/plain": [
       "    height     weight   age  male\n",
       "0  151.765  47.825606  63.0     1\n",
       "1  139.700  36.485807  63.0     0\n",
       "2  136.525  31.864838  65.0     0\n",
       "3  156.845  53.041914  41.0     1"
      ]
     },
     "execution_count": 36,
     "metadata": {},
     "output_type": "execute_result"
    }
   ],
   "source": [
    "# Datos\n",
    "# ==============================================================================\n",
    "url = ('https://raw.githubusercontent.com/JoaquinAmatRodrigo/' +\n",
    "       'Estadistica-machine-learning-python/master/data/Howell1.csv')\n",
    "datos = pd.read_csv(url)\n",
    "print(datos.info())\n",
    "datos.head(4)"
   ]
  },
  {
   "cell_type": "code",
   "execution_count": 47,
   "id": "fe38c81f",
   "metadata": {},
   "outputs": [
    {
     "name": "stdout",
     "output_type": "stream",
     "text": [
      "<class 'pandas.core.series.Series'>\n",
      "Int64Index: 198 entries, 1 to 541\n",
      "Series name: weight\n",
      "Non-Null Count  Dtype  \n",
      "--------------  -----  \n",
      "198 non-null    float64\n",
      "dtypes: float64(1)\n",
      "memory usage: 3.1 KB\n"
     ]
    },
    {
     "data": {
      "text/plain": [
       "1    36.485807\n",
       "2    31.864838\n",
       "4    41.276872\n",
       "6    38.243476\n",
       "Name: weight, dtype: float64"
      ]
     },
     "execution_count": 47,
     "metadata": {},
     "output_type": "execute_result"
    }
   ],
   "source": [
    "# Select a subset\n",
    "# only women / age>15\n",
    "datos = datos[(datos.age > 15) & (datos.male ==0)]\n",
    "peso = datos['weight']\n",
    "peso.info()\n",
    "peso.head(4)"
   ]
  },
  {
   "cell_type": "code",
   "execution_count": 38,
   "id": "cf14b23f",
   "metadata": {},
   "outputs": [
    {
     "data": {
      "image/png": "[encoded data removed]",
      "text/plain": [
       "<Figure size 504x288 with 1 Axes>"
      ]
     },
     "metadata": {},
     "output_type": "display_data"
    }
   ],
   "source": [
    "# Histograma + curva normal teórica\n",
    "# ==============================================================================\n",
    "\n",
    "# Valores de la media (mu) y desviación típica (sigma) de los datos\n",
    "mu, sigma, = stats.norm.fit(peso)\n",
    "\n",
    "# Valores teóricos de la normal en el rango observado\n",
    "x_hat = np.linspace(min(peso), max(peso), num=198) # original was 100\n",
    "y_hat = stats.norm.pdf(x_hat, mu, sigma)\n",
    "\n",
    "# Gráfico\n",
    "fig, ax = plt.subplots(figsize=(7,4))\n",
    "ax.plot(x_hat, y_hat, linewidth=2, label='normal')                 # Theoretical\n",
    "ax.hist(x=peso, density=True, bins=30, color=\"#3182bd\", alpha=0.5) # Observed\n",
    "ax.plot(peso, np.full_like(peso, -0.01), '|k', markeredgewidth=1)  # Esto muestra los pesos en x-label\n",
    "ax.set_title('Distribución peso mujeres mayores de 15 años')\n",
    "ax.set_xlabel('peso')\n",
    "ax.set_ylabel('Densidad de probabilidad')\n",
    "ax.legend();"
   ]
  },
  {
   "cell_type": "markdown",
   "id": "004fd17c",
   "metadata": {},
   "source": [
    "## Gráfico Q-Q"
   ]
  },
  {
   "cell_type": "code",
   "execution_count": 44,
   "id": "1a49ef33",
   "metadata": {},
   "outputs": [
    {
     "data": {
      "image/png": "[encoded data removed]",
      "text/plain": [
       "<Figure size 504x288 with 1 Axes>"
      ]
     },
     "metadata": {},
     "output_type": "display_data"
    }
   ],
   "source": [
    "# Gráfico Q-Q\n",
    "# ==============================================================================\n",
    "fig, ax = plt.subplots(figsize=(7,4))\n",
    "sm.qqplot(\n",
    "    peso,\n",
    "    fit   = True,\n",
    "    line  = 'q',\n",
    "    alpha = 0.4,\n",
    "    lw    = 2,\n",
    "    ax    = ax\n",
    ")\n",
    "ax.set_title('Gráfico Q-Q del peso mujeres mayores de 15 años', fontsize = 10,\n",
    "             fontweight = \"bold\")\n",
    "ax.tick_params(labelsize = 7)"
   ]
  },
  {
   "cell_type": "markdown",
   "id": "456a3439",
   "metadata": {},
   "source": [
    "# Métodos analíticos: asimetría y curtosis\n",
    "Un valor de curtosis y/o coeficiente de asimetría entre -1 y 1, es generalmente considerada una ligera desviación de la normalidad (Bulmer, 1979), (Brown, n.d.). Entre -2 y 2 hay una evidente desviación de la normal pero no extrema."
   ]
  },
  {
   "cell_type": "code",
   "execution_count": 50,
   "id": "aeccfdbc",
   "metadata": {},
   "outputs": [
    {
     "name": "stdout",
     "output_type": "stream",
     "text": [
      "Kursotis: 0.05524614843093856\n",
      "Skewness: 0.032122514283202334\n",
      "Kurtosis test: is a normal\n",
      "Skew test: is a normal\n"
     ]
    }
   ],
   "source": [
    "kurtosis = stats.kurtosis(peso)\n",
    "skew     = stats.skew(peso)\n",
    "print('Kursotis:', kurtosis)\n",
    "print('Skewness:', skew)\n",
    "if -1<=kurtosis<=1:\n",
    "    print(\"Kurtosis test: is a normal\")\n",
    "elif -2<=kurtosis<=2:\n",
    "    print(\"Kurtosis test: still is a normal\")\n",
    "\n",
    "if -1<=skew<=1:\n",
    "    print(\"Skew test: is a normal\")\n",
    "elif -2<=skew<=2:\n",
    "    print(\"Skew test: still is a normal\")"
   ]
  },
  {
   "cell_type": "markdown",
   "id": "bb4b3efa",
   "metadata": {},
   "source": [
    "##  Shapiro-Wilk test  \n",
    "El test de Shapiro-Wilk se desaconseja cuando se dispone de muchos datos (más de $50$) por su elevada sensibilidad a pequeñas desviaciones de la normal."
   ]
  },
  {
   "cell_type": "code",
   "execution_count": 60,
   "id": "24c38de9",
   "metadata": {},
   "outputs": [
    {
     "data": {
      "text/plain": [
       "ShapiroResult(statistic=0.9963726997375488, pvalue=0.9239704012870789)"
      ]
     },
     "execution_count": 60,
     "metadata": {},
     "output_type": "execute_result"
    }
   ],
   "source": [
    "# Shapiro-Wilk test\n",
    "# ==============================================================================\n",
    "shapiro_test = stats.shapiro(peso)\n",
    "shapiro_test"
   ]
  },
  {
   "cell_type": "markdown",
   "id": "9f9878ec",
   "metadata": {},
   "source": [
    "Si el pvalue > 0.05 $\\implies$ No rechaza la hipótesis de que sea una normal"
   ]
  },
  {
   "cell_type": "markdown",
   "id": "86239a9c",
   "metadata": {},
   "source": [
    "## D'Agostino's K-squared test"
   ]
  },
  {
   "cell_type": "code",
   "execution_count": 62,
   "id": "f9260479",
   "metadata": {},
   "outputs": [
    {
     "name": "stdout",
     "output_type": "stream",
     "text": [
      "Estadístico = 0.19896549779904893, p-value = 0.9053055672511008\n"
     ]
    }
   ],
   "source": [
    "# D'Agostino's K-squared test\n",
    "# ==============================================================================\n",
    "k2, p_value = stats.normaltest(peso)\n",
    "print(f\"Estadístico = {k2}, p-value = {p_value}\")"
   ]
  },
  {
   "cell_type": "markdown",
   "id": "578d8880",
   "metadata": {},
   "source": [
    "Si el pvalue > 0.05 $\\implies$ No rechaza la hipótesis de que sea una normal"
   ]
  },
  {
   "cell_type": "code",
   "execution_count": null,
   "id": "513ca491",
   "metadata": {},
   "outputs": [],
   "source": []
  }
 ],
 "metadata": {
  "kernelspec": {
   "display_name": "Python 3 (ipykernel)",
   "language": "python",
   "name": "python3"
  },
  "language_info": {
   "codemirror_mode": {
    "name": "ipython",
    "version": 3
   },
   "file_extension": ".py",
   "mimetype": "text/x-python",
   "name": "python",
   "nbconvert_exporter": "python",
   "pygments_lexer": "ipython3",
   "version": "3.8.10"
  }
 },
 "nbformat": 4,
 "nbformat_minor": 5
}
