{
 "cells": [
  {
   "cell_type": "markdown",
   "id": "c200a4f3",
   "metadata": {},
   "source": [
    "# [Taylor law](https://en.wikipedia.org/wiki/Taylor%27s_law) "
   ]
  },
  {
   "cell_type": "code",
   "execution_count": 1,
   "id": "51b0a90c",
   "metadata": {},
   "outputs": [],
   "source": [
    "import numpy as np\n",
    "from scipy import stats\n",
    "import os \n",
    "import pandas as pd\n",
    "from plotnine import *"
   ]
  },
  {
   "cell_type": "code",
   "execution_count": null,
   "id": "23d40525-65aa-4a58-881c-72a93960fcbb",
   "metadata": {
    "tags": []
   },
   "outputs": [],
   "source": []
  },
  {
   "cell_type": "markdown",
   "id": "85705a66-f9f0-40e6-80eb-ea6d5f01193f",
   "metadata": {},
   "source": [
    "## Observations: Protein length distribution in different species"
   ]
  },
  {
   "cell_type": "markdown",
   "id": "01da8852-4215-4c64-b360-99e569801bdd",
   "metadata": {},
   "source": [
    "### Retrieve the statistical description and tax_id of species"
   ]
  },
  {
   "cell_type": "markdown",
   "id": "8fd8d5f7-0461-4338-89ef-6b20f679cdad",
   "metadata": {
    "tags": []
   },
   "source": [
    "##### Statistical description data file"
   ]
  },
  {
   "cell_type": "code",
   "execution_count": 2,
   "id": "d892fcdf-a696-4cc1-9cd8-0f888c093351",
   "metadata": {},
   "outputs": [
    {
     "name": "stdout",
     "output_type": "stream",
     "text": [
      "/media/emuro/Wes/results/geneLength/outputInputFiles/analysis/some_statistics/stat_description/taxid_merged/stat_description.taxid_merged.ensembl_and_ref_proteome.tsv\n",
      "(6521, 66)\n"
     ]
    }
   ],
   "source": [
    "# system\n",
    "system = list(os.uname())[0]\n",
    "if system == 'Linux':\n",
    "    base_dir = \"/media/emuro/Wes/\"\n",
    "elif system == 'Darwin':\n",
    "    base_dir = \"/Volumes/Wes/\"\n",
    "    \n",
    "# statistics on length distribution for different species     \n",
    "stat_file = base_dir + \"results/geneLength/outputInputFiles/\" + \"analysis/some_statistics/stat_description/\" \n",
    "stat_file += \"taxid_merged/stat_description.taxid_merged.ensembl_and_ref_proteome.tsv\"\n",
    "print(stat_file)\n",
    "\n",
    "# retrieve data\n",
    "stat_df = pd.read_csv(stat_file, low_memory=False, sep=\"\\t\")\n",
    "print(stat_df.shape)\n",
    "\n",
    "# visualize data\n",
    "pd.set_option('display.max_columns', None)\n",
    "if 0:\n",
    "    display(stat_df.head(2))\n",
    "    print(stat_df.shape)"
   ]
  },
  {
   "cell_type": "code",
   "execution_count": null,
   "id": "c7ff1aed-e92e-4b2a-82c3-c6bed069e33f",
   "metadata": {},
   "outputs": [],
   "source": []
  },
  {
   "cell_type": "markdown",
   "id": "3e3a47fb-4f40-4680-86cf-f90970ba1e19",
   "metadata": {},
   "source": [
    "##### Filter some columns and species"
   ]
  },
  {
   "cell_type": "code",
   "execution_count": 3,
   "id": "90d2b7e7-99db-441c-b7d6-f6509e017fa7",
   "metadata": {},
   "outputs": [
    {
     "name": "stdout",
     "output_type": "stream",
     "text": [
      "(6521, 12)\n"
     ]
    },
    {
     "data": {
      "text/html": [
       "<div>\n",
       "<style scoped>\n",
       "    .dataframe tbody tr th:only-of-type {\n",
       "        vertical-align: middle;\n",
       "    }\n",
       "\n",
       "    .dataframe tbody tr th {\n",
       "        vertical-align: top;\n",
       "    }\n",
       "\n",
       "    .dataframe thead th {\n",
       "        text-align: right;\n",
       "    }\n",
       "</style>\n",
       "<table border=\"1\" class=\"dataframe\">\n",
       "  <thead>\n",
       "    <tr style=\"text-align: right;\">\n",
       "      <th></th>\n",
       "      <th>prots_superregnum</th>\n",
       "      <th>division_8</th>\n",
       "      <th>genes_species</th>\n",
       "      <th>prots_species</th>\n",
       "      <th>prots_proteome_id</th>\n",
       "      <th>taxonomy_id</th>\n",
       "      <th>prots_uniprot_fasta_file</th>\n",
       "      <th>prots_count</th>\n",
       "      <th>prots_mean</th>\n",
       "      <th>prots_var</th>\n",
       "      <th>prots_log10_mean</th>\n",
       "      <th>prots_log10_var</th>\n",
       "    </tr>\n",
       "  </thead>\n",
       "  <tbody>\n",
       "    <tr>\n",
       "      <th>0</th>\n",
       "      <td>bacteria</td>\n",
       "      <td>bacteria</td>\n",
       "      <td>archangium_gephyra_gca_001027285</td>\n",
       "      <td>Archangium gephyra</td>\n",
       "      <td>UP000035579</td>\n",
       "      <td>48</td>\n",
       "      <td>/ftp.uniprot.org/pub/databases/uniprot/current...</td>\n",
       "      <td>10110.0</td>\n",
       "      <td>367.499703</td>\n",
       "      <td>141204.779058</td>\n",
       "      <td>2.441094</td>\n",
       "      <td>0.112115</td>\n",
       "    </tr>\n",
       "    <tr>\n",
       "      <th>1</th>\n",
       "      <td>bacteria</td>\n",
       "      <td>bacteria</td>\n",
       "      <td>chondromyces_crocatus_gca_001189295</td>\n",
       "      <td>Chondromyces crocatus</td>\n",
       "      <td>UP000067626</td>\n",
       "      <td>52</td>\n",
       "      <td>/ftp.uniprot.org/pub/databases/uniprot/current...</td>\n",
       "      <td>8327.0</td>\n",
       "      <td>403.466555</td>\n",
       "      <td>122906.027917</td>\n",
       "      <td>2.501095</td>\n",
       "      <td>0.090591</td>\n",
       "    </tr>\n",
       "  </tbody>\n",
       "</table>\n",
       "</div>"
      ],
      "text/plain": [
       "  prots_superregnum division_8                        genes_species  \\\n",
       "0          bacteria   bacteria     archangium_gephyra_gca_001027285   \n",
       "1          bacteria   bacteria  chondromyces_crocatus_gca_001189295   \n",
       "\n",
       "           prots_species prots_proteome_id  taxonomy_id  \\\n",
       "0     Archangium gephyra       UP000035579           48   \n",
       "1  Chondromyces crocatus       UP000067626           52   \n",
       "\n",
       "                            prots_uniprot_fasta_file  prots_count  prots_mean  \\\n",
       "0  /ftp.uniprot.org/pub/databases/uniprot/current...      10110.0  367.499703   \n",
       "1  /ftp.uniprot.org/pub/databases/uniprot/current...       8327.0  403.466555   \n",
       "\n",
       "       prots_var  prots_log10_mean  prots_log10_var  \n",
       "0  141204.779058          2.441094         0.112115  \n",
       "1  122906.027917          2.501095         0.090591  "
      ]
     },
     "metadata": {},
     "output_type": "display_data"
    },
    {
     "name": "stdout",
     "output_type": "stream",
     "text": [
      "\n",
      "division_8:\n",
      "bacteria       5468\n",
      "fungi           533\n",
      "archaea         227\n",
      "vertebrates      94\n",
      "protist          91\n",
      "plants           59\n",
      "metazoa          49\n",
      "Name: division_8, dtype: int64\n",
      "\n",
      "prots_superregnum:\n",
      "bacteria     5468\n",
      "eukaryota     826\n",
      "archaea       227\n",
      "Name: prots_superregnum, dtype: int64\n"
     ]
    }
   ],
   "source": [
    "stat_df.rename(columns={'merged_division_superregnum': 'division_8',\n",
    "                        'tax_id': 'taxonomy_id'},\n",
    "               inplace=True)\n",
    "\n",
    "stat_df = stat_df[[\"prots_superregnum\", \"division_8\", \"genes_species\", \"prots_species\", \"prots_proteome_id\", \"taxonomy_id\", \"prots_uniprot_fasta_file\", \"prots_count\", \"prots_mean\", \"prots_var\"] + [\"prots_log10_mean\", \"prots_log10_var\"]]\n",
    "print(stat_df.shape)\n",
    "\n",
    "# filter empty values in column \"division_8\"\n",
    "if 0:\n",
    "    print(stat_df[\"division_8\"].unique().tolist())\n",
    "    count_null = stat_df['division_8'].shape[0] - stat_df['division_8'].notnull().sum() # hay 8 que no tienen definido 'division_8'\n",
    "    print(count_null, \"have no defined division_8. Proceed to eliminate them\")\n",
    "    stat_df.dropna(subset=['division_8'], inplace=True)\n",
    "    print(stat_df[\"division_8\"].unique().tolist())\n",
    "    print(stat_df.shape)\n",
    "\n",
    "#\n",
    "# No hace falta filtrar virus porque ya han sido filtrados al hacer el merge ensembl, uniprot (ref.proteomes)\n",
    "#\n",
    "# No hace falta eliminar Mus caroli (eliminado en la taylor de genes), porque no está en los proteomas referencia\n",
    "\n",
    "if 1: # visualize data\n",
    "    display(stat_df.head(2))\n",
    "    print(\"\\ndivision_8:\\n\", stat_df[\"division_8\"].value_counts(), sep=\"\")\n",
    "    if 1:\n",
    "        print(\"\\nprots_superregnum:\\n\", stat_df[\"prots_superregnum\"].value_counts(), sep=\"\")"
   ]
  },
  {
   "cell_type": "markdown",
   "id": "2977fb4a-db1e-4c26-a949-c870b6c314aa",
   "metadata": {},
   "source": [
    "---"
   ]
  },
  {
   "cell_type": "markdown",
   "id": "b7864e7f-66e1-4115-9a45-c2d020171688",
   "metadata": {
    "tags": []
   },
   "source": [
    "## Observed Taylor law: Variance vs Length (proteins)\n",
    "$\\sigma^{2}$ is the variance  \n",
    "$\\sigma^{2} = a . \\mu^{\\beta}$  \n",
    "Because: \n",
    "- $\\log(\\sigma^{2}) = \\log(a) + \\beta log(\\mu) $\n",
    "\n",
    "### Plot it!"
   ]
  },
  {
   "cell_type": "code",
   "execution_count": 4,
   "id": "5eb1c776-894f-400a-9166-bc6a5a670389",
   "metadata": {},
   "outputs": [],
   "source": [
    "# FUNCTIONS\n",
    "###########\n",
    "def plot_taylor (df2plot, col_x, col_y, x_lab, y_lab, title, bool_show_regression): \n",
    "\n",
    "    # Calculate best fit line\n",
    "    slope, intercept, r_value, p_value, std_err = stats.linregress(np.log10(df2plot[col_x]),np.log10(df2plot[col_y]))\n",
    "    # Format the regression text\n",
    "    print('v = {:4.4} * m^{:4.4};   R^2= {:2.4f}'.format(10**intercept, slope, r_value**2))\n",
    "    if bool_show_regression:\n",
    "        txt = '$\\sigma^{2} = ' + '{:4.4} '.format(10**intercept)  + '\\t \\mu^{' + '{:4.4}'.format(slope) + '}' + ';\\tR^{2} = ' + '{:2.4f}$'.format(r_value**2)\n",
    "    else:\n",
    "        txt = ''\n",
    "        \n",
    "    # limits and tick-breaks\n",
    "    if 1: # prots (6513 merge). Manual set up\n",
    "        x_limits = [100, 1000]\n",
    "        y_limits = [7000, 1200000]\n",
    "        x_text_factor = 0.225\n",
    "        y_text_factor = 0.95\n",
    "\n",
    "    else: # automatic\n",
    "        x_limits=[min(df2plot[col_x].to_list())/1.3, 1.3*max(df2plot[col_x].to_list())]\n",
    "        y_limits=[min(df2plot[col_y].to_list())/1.3, 1.3*max(df2plot[col_y].to_list())]\n",
    "        x_text_factor = 0.225\n",
    "        y_text_factor = 0.95\n",
    "        \n",
    "    p = (   \n",
    "        ggplot(df2plot, aes(col_x, col_y, color=legends_by)) + geom_point(size=0.1)\n",
    "        + geom_smooth(method=\"lm\", color=\"green\", size=0.25, span=.8)\n",
    "        + labs(title=title, x=x_lab, y=y_lab) \n",
    "        + scale_color_manual(values=['#D83B01', '#002050', '#A80000', '#FFA500', '#107C10','#EF008C', '#0078D7', '#B4009E']) # + scale_color_brewer() '#5C2D91'\n",
    "        + labs(color='Clade') # legend title\n",
    "        + scale_x_log10(breaks=[10 ** power for power in range(2, 4)], limits=x_limits) #, labels=scientific_format(digits=2)\n",
    "        + scale_y_log10(breaks = [10**power for power in range(3, 7)], limits=y_limits)\n",
    "    ) + theme(legend_position=(0.8,0.3), legend_key_size=5, legend_background=element_rect(fill='grey', alpha=0.01)) + annotate('text', x=x_text_factor*max(df2plot[col_x].to_list()), y=y_text_factor*max(df2plot[col_y].to_list()), label=txt,size=9,color=\"black\")\n",
    "    print(p)"
   ]
  },
  {
   "cell_type": "code",
   "execution_count": 5,
   "id": "65579e1f-b037-4b15-969a-784548fe216a",
   "metadata": {},
   "outputs": [
    {
     "name": "stdout",
     "output_type": "stream",
     "text": [
      "(6521, 3)\n",
      "v = 0.01321 * m^2.641;   R^2= 0.7225\n"
     ]
    },
    {
     "data": {
      "image/png": "[encoded data removed]",
      "text/plain": [
       "<Figure size 432x288 with 1 Axes>"
      ]
     },
     "metadata": {},
     "output_type": "display_data"
    },
    {
     "name": "stdout",
     "output_type": "stream",
     "text": [
      "\n"
     ]
    }
   ],
   "source": [
    "col_x = \"prots_mean\"\n",
    "col_y = \"prots_var\"\n",
    "legends_by = \"division_8\"\n",
    "\n",
    "title = \"Uniprot, reference proteomes (protein length)\"\n",
    "x_lab = \"Mean length (aa)\"\n",
    "y_lab = \"Variance\"\n",
    "bool_show_regression = True\n",
    "\n",
    "df2plot = stat_df[[legends_by, col_x, col_y]].copy()\n",
    "print(df2plot.shape)\n",
    "if 1:\n",
    "    df2plot.to_csv(\"~/tmp/goingOn/taylor_prot_df2plot.tsv\", sep=\"\\t\", index=False) # check and erase this file\n",
    "\n",
    "\n",
    "# Sort division_8 in order to plot the clades in an order (everything can be displayed)\n",
    "if 0:\n",
    "    print(df2plot.division_8.unique())\n",
    "df2plot.division_8 = pd.Categorical(df2plot.division_8, \n",
    "                                categories=['bacteria', 'archaea', 'fungi', 'protist', 'plants', 'metazoa', 'vertebrates'],\n",
    "                                ordered=True)\n",
    "df2plot.sort_values('division_8', inplace=True)\n",
    "\n",
    "plot_taylor(df2plot, col_x, col_y, x_lab, y_lab, title, bool_show_regression)"
   ]
  },
  {
   "cell_type": "markdown",
   "id": "e34149b8-4787-496d-bb60-556e5aca7553",
   "metadata": {},
   "source": [
    "---"
   ]
  },
  {
   "cell_type": "markdown",
   "id": "2432c0b0-8633-4018-8679-c0f4f7949237",
   "metadata": {},
   "source": [
    "### Plotting clade by clade:"
   ]
  },
  {
   "cell_type": "code",
   "execution_count": 7,
   "id": "6c34ddca-dec2-40d4-88dc-065fd0563628",
   "metadata": {},
   "outputs": [],
   "source": [
    "if 0:\n",
    "    print(stat_df[\"division_8\"].unique().tolist())\n",
    "    print(\"\\ndivision_8:\\n\", stat_df[\"division_8\"].value_counts(), sep=\"\")\n",
    "    for clade in stat_df[\"division_8\"].unique().tolist(): # for each division\n",
    "        df2plot = stat_df[stat_df[\"division_8\"]==clade] \n",
    "        print(clade)\n",
    "        plot_taylor(df2plot, col_x, col_y, x_lab, y_lab, title, False) # False ->bool_show_regression = False\n",
    "        # Note: it give a geom_text error...do not worry"
   ]
  },
  {
   "cell_type": "code",
   "execution_count": null,
   "id": "2f0682c7-5cc6-481a-aa39-bd4318701e90",
   "metadata": {},
   "outputs": [],
   "source": []
  }
 ],
 "metadata": {
  "kernelspec": {
   "display_name": "Python 3 (ipykernel)",
   "language": "python",
   "name": "python3"
  },
  "language_info": {
   "codemirror_mode": {
    "name": "ipython",
    "version": 3
   },
   "file_extension": ".py",
   "mimetype": "text/x-python",
   "name": "python",
   "nbconvert_exporter": "python",
   "pygments_lexer": "ipython3",
   "version": "3.10.6"
  }
 },
 "nbformat": 4,
 "nbformat_minor": 5
}
