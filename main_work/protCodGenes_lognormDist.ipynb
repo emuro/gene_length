{
 "cells": [
  {
   "cell_type": "markdown",
   "id": "819bd65b-f5b5-4644-a058-0a8c843d4fe8",
   "metadata": {},
   "source": [
    "# Distribution of the lengths of the protein coding genes \n",
    "**for the different species**"
   ]
  },
  {
   "cell_type": "markdown",
   "id": "c200a4f3",
   "metadata": {},
   "source": [
    "## [Log-normal distribution](https://en.wikipedia.org/wiki/Log-normal_distribution)\n",
    "It is a continuous probability distribution of a random variable whose logarithm is normally distributed. For human-readability the decimal logarithm (log10) is used.\n",
    "  \n",
    "**The PDF (Probability Density Function) of a normal distribution is**  \n",
    "$ f(x) = \\frac{1}{ \\sigma \\sqrt{2 \\pi}} e^- \\frac{1}{2} {(\\frac{(x-\\mu)}{\\sigma})}^{2} $"
   ]
  },
  {
   "cell_type": "markdown",
   "id": "8046a185-31f3-48b1-83f7-947911a96d15",
   "metadata": {},
   "source": [
    "## Import python modules"
   ]
  },
  {
   "cell_type": "code",
   "execution_count": 1,
   "id": "51b0a90c",
   "metadata": {},
   "outputs": [],
   "source": [
    "import numpy as np\n",
    "import matplotlib.pyplot as plt\n",
    "from scipy import stats\n",
    "import os \n",
    "import pandas as pd\n",
    "import math"
   ]
  },
  {
   "cell_type": "markdown",
   "id": "c7b6d3b5",
   "metadata": {},
   "source": [
    "## The protein coding gene length distributions for the different species"
   ]
  },
  {
   "cell_type": "markdown",
   "id": "d509543a-9bbf-4428-bb98-a287201ef79d",
   "metadata": {},
   "source": [
    "### Retrieving the statistical descriptions of the gene length's distributions and the taxonomy ids"
   ]
  },
  {
   "cell_type": "markdown",
   "id": "3a99f2a8-5073-440f-88be-bf0def58ea9d",
   "metadata": {
    "tags": []
   },
   "source": [
    "#### Statistical description "
   ]
  },
  {
   "cell_type": "code",
   "execution_count": 2,
   "id": "e96ab72e-e702-4020-814a-625c86dd44ee",
   "metadata": {},
   "outputs": [
    {
     "name": "stdout",
     "output_type": "stream",
     "text": [
      "The statistical descriptions of the protein coding gene distributions for the different species is in:\n",
      " ../main_tables/stat_protCodGenes.tsv \n",
      "\n"
     ]
    },
    {
     "data": {
      "text/html": [
       "<div>\n",
       "<style scoped>\n",
       "    .dataframe tbody tr th:only-of-type {\n",
       "        vertical-align: middle;\n",
       "    }\n",
       "\n",
       "    .dataframe tbody tr th {\n",
       "        vertical-align: top;\n",
       "    }\n",
       "\n",
       "    .dataframe thead th {\n",
       "        text-align: right;\n",
       "    }\n",
       "</style>\n",
       "<table border=\"1\" class=\"dataframe\">\n",
       "  <thead>\n",
       "    <tr style=\"text-align: right;\">\n",
       "      <th></th>\n",
       "      <th>division_8</th>\n",
       "      <th>species</th>\n",
       "      <th>trunk_genes_path</th>\n",
       "      <th>genes_file</th>\n",
       "      <th>count</th>\n",
       "      <th>mean</th>\n",
       "      <th>var</th>\n",
       "      <th>log10_mean</th>\n",
       "      <th>log10_var</th>\n",
       "    </tr>\n",
       "  </thead>\n",
       "  <tbody>\n",
       "    <tr>\n",
       "      <th>0</th>\n",
       "      <td>archaea</td>\n",
       "      <td>methanobacterium_bryantii_gca_002287175</td>\n",
       "      <td>ftp.ensemblgenomes.org/pub/bacteria/release-49...</td>\n",
       "      <td>protein_coding.genes.methanobacterium_bryantii...</td>\n",
       "      <td>3168</td>\n",
       "      <td>840.404040</td>\n",
       "      <td>422343.848699</td>\n",
       "      <td>2.827684</td>\n",
       "      <td>0.082694</td>\n",
       "    </tr>\n",
       "    <tr>\n",
       "      <th>1</th>\n",
       "      <td>archaea</td>\n",
       "      <td>methanobacterium_formicicum_gca_000762265</td>\n",
       "      <td>ftp.ensemblgenomes.org/pub/bacteria/release-49...</td>\n",
       "      <td>protein_coding.genes.methanobacterium_formicic...</td>\n",
       "      <td>2352</td>\n",
       "      <td>862.427296</td>\n",
       "      <td>347239.612747</td>\n",
       "      <td>2.849723</td>\n",
       "      <td>0.076317</td>\n",
       "    </tr>\n",
       "  </tbody>\n",
       "</table>\n",
       "</div>"
      ],
      "text/plain": [
       "  division_8                                    species  \\\n",
       "0    archaea    methanobacterium_bryantii_gca_002287175   \n",
       "1    archaea  methanobacterium_formicicum_gca_000762265   \n",
       "\n",
       "                                    trunk_genes_path  \\\n",
       "0  ftp.ensemblgenomes.org/pub/bacteria/release-49...   \n",
       "1  ftp.ensemblgenomes.org/pub/bacteria/release-49...   \n",
       "\n",
       "                                          genes_file  count        mean  \\\n",
       "0  protein_coding.genes.methanobacterium_bryantii...   3168  840.404040   \n",
       "1  protein_coding.genes.methanobacterium_formicic...   2352  862.427296   \n",
       "\n",
       "             var  log10_mean  log10_var  \n",
       "0  422343.848699    2.827684   0.082694  \n",
       "1  347239.612747    2.849723   0.076317  "
      ]
     },
     "metadata": {},
     "output_type": "display_data"
    },
    {
     "name": "stdout",
     "output_type": "stream",
     "text": [
      "(33629, 9)\n"
     ]
    }
   ],
   "source": [
    "# statistics on length distribution for different species     \n",
    "stat_file = \"../main_tables/stat_protCodGenes.tsv\"\n",
    "print(\"The statistical descriptions of the protein coding gene distributions for the different species is in:\\n\", stat_file, \"\\n\")\n",
    "\n",
    "# retrieve data and diminish the number of columns\n",
    "stat_df = pd.read_csv(stat_file, low_memory=False, sep=\"\\t\")\n",
    "stat_df = stat_df[[\"division_8\", \"species\", \"trunk_genes_path\", \"genes_file\", \"count\", \"mean\", \"var\"] + [\"log10_mean\", \"log10_var\"]]\n",
    "\n",
    "# visualize data\n",
    "pd.set_option('display.max_columns', None)\n",
    "if 1:\n",
    "    display(stat_df.head(2))\n",
    "    print(stat_df.shape)"
   ]
  },
  {
   "cell_type": "markdown",
   "id": "67606c91-2073-46be-8c74-644a8e1512be",
   "metadata": {},
   "source": [
    "#### Taxonomy id for each species from Ensembl"
   ]
  },
  {
   "cell_type": "code",
   "execution_count": 3,
   "id": "171e31a8-0661-4dc9-bfac-6b4c42c01a87",
   "metadata": {},
   "outputs": [
    {
     "data": {
      "text/html": [
       "<div>\n",
       "<style scoped>\n",
       "    .dataframe tbody tr th:only-of-type {\n",
       "        vertical-align: middle;\n",
       "    }\n",
       "\n",
       "    .dataframe tbody tr th {\n",
       "        vertical-align: top;\n",
       "    }\n",
       "\n",
       "    .dataframe thead th {\n",
       "        text-align: right;\n",
       "    }\n",
       "</style>\n",
       "<table border=\"1\" class=\"dataframe\">\n",
       "  <thead>\n",
       "    <tr style=\"text-align: right;\">\n",
       "      <th></th>\n",
       "      <th>name</th>\n",
       "      <th>species</th>\n",
       "      <th>tax_id</th>\n",
       "    </tr>\n",
       "  </thead>\n",
       "  <tbody>\n",
       "    <tr>\n",
       "      <th>0</th>\n",
       "      <td>Spiny chromis</td>\n",
       "      <td>acanthochromis_polyacanthus</td>\n",
       "      <td>80966</td>\n",
       "    </tr>\n",
       "    <tr>\n",
       "      <th>1</th>\n",
       "      <td>Panda</td>\n",
       "      <td>ailuropoda_melanoleuca</td>\n",
       "      <td>9646</td>\n",
       "    </tr>\n",
       "  </tbody>\n",
       "</table>\n",
       "</div>"
      ],
      "text/plain": [
       "            name                      species  tax_id\n",
       "0  Spiny chromis  acanthochromis_polyacanthus   80966\n",
       "1          Panda       ailuropoda_melanoleuca    9646"
      ]
     },
     "metadata": {},
     "output_type": "display_data"
    },
    {
     "name": "stdout",
     "output_type": "stream",
     "text": [
      "(33021, 3)\n"
     ]
    }
   ],
   "source": [
    "# ENSEMBL tax_id     \n",
    "ensembl_taxId_file = \"../main_tables/extra_tables/species_Ensembl.tsv\" \n",
    "\n",
    "# retrieve data\n",
    "taxid_df = pd.read_csv(ensembl_taxId_file, sep=\"\\t\")\n",
    "taxid_df = taxid_df[[\"#name\", \"species\", \"taxonomy_id\"]]\n",
    "taxid_df.rename(columns = {\"#name\" : 'name', \"taxonomy_id\" : 'tax_id'}, inplace = True)\n",
    "\n",
    "# visualize data\n",
    "pd.set_option('display.max_columns', None)\n",
    "if 1:\n",
    "    display(taxid_df.head(2))\n",
    "    print(taxid_df.shape)"
   ]
  },
  {
   "cell_type": "code",
   "execution_count": 4,
   "id": "c8b00dd3-85b7-4e13-8245-55406669aafb",
   "metadata": {},
   "outputs": [],
   "source": [
    "# Use pandas.merge() on multiple columns\n",
    "stat_taxid_df = pd.merge(stat_df, taxid_df, on=['species'])\n",
    "stat_taxid_df = stat_taxid_df[stat_taxid_df['tax_id'].notna()]\n",
    "if 0:\n",
    "    display(stat_taxid_df.head(2))\n",
    "    print(stat_taxid_df.shape)"
   ]
  },
  {
   "cell_type": "markdown",
   "id": "b7864e7f-66e1-4115-9a45-c2d020171688",
   "metadata": {
    "tags": []
   },
   "source": [
    "## Python functions"
   ]
  },
  {
   "cell_type": "code",
   "execution_count": 5,
   "id": "af6c0ad2-9985-4285-887a-c413505d46e6",
   "metadata": {},
   "outputs": [],
   "source": [
    "# species' stats for length distribution\n",
    "def get_df_for_taxid(df, taxid):\n",
    "     return df.loc[df[\"tax_id\"]==taxid].copy()"
   ]
  },
  {
   "cell_type": "code",
   "execution_count": 6,
   "id": "1371569f-3901-448e-871a-828de23bd9d9",
   "metadata": {},
   "outputs": [],
   "source": [
    "#### Function to plot the log-normal distribution\n",
    "# blue: Observation\n",
    "# red: Theoretical/Simulation\n",
    "##########################################\n",
    "def plot_log_norm (log10_len, mu, sigma, N, title, subtitle, xlabel, ylabel): # N is number of \n",
    "    print(\"µ:\", mu, \"\\tσ:\", sigma)\n",
    "    my_normal_dist = np.random.normal(mu, sigma, N)\n",
    "    count, bins, *rest = plt.hist(log10_len, 60, density=True, alpha=0.8, edgecolor='black') # plot 60 bins\n",
    "\n",
    "    # plt.hist(my_normal_dist, 30, density=True, alpha=0.25, color=\"r\")\n",
    "    # print(count); print(bins); print(*rest)\n",
    "    \n",
    "    plt.plot(bins, 1/(sigma * np.sqrt(2 * np.pi)) *\n",
    "             np.exp( - (bins - mu)**2 / (2 * sigma**2) ),\n",
    "             linewidth=2, color='r', alpha=0.5)\n",
    "     \n",
    "    # mean\n",
    "    plt.vlines(x = mu, ymin = 0, ymax = 0.2, colors = 'white', label = 'mean')\n",
    "    plt.xlim([1,7]); plt.ylim([0,2.0])\n",
    "    plt.suptitle(title, style='italic'); plt.title(subtitle + \" (\" + str(int(N)) +\")\")\n",
    "    plt.xlabel(xlabel); plt.ylabel(ylabel)\n",
    "    plt.show()"
   ]
  },
  {
   "cell_type": "code",
   "execution_count": 7,
   "id": "ee7bf25c-d0a0-4028-9af0-2e8f7979a15f",
   "metadata": {},
   "outputs": [],
   "source": [
    "def does_it_fits_normal(data_observed): \n",
    "    # Kurtosis and Skewness\n",
    "    # =====================\n",
    "    print('Kurtosis:', stats.kurtosis(data_observed))\n",
    "    print('Skewness:', stats.skew(data_observed))\n",
    "    # D'Agostino's K-squared test\n",
    "    # ===========================\n",
    "    k2, p_value = stats.normaltest(data_observed)\n",
    "    print(f\"D'Agostino's K-squared test(statistics={k2}, p-value={p_value})\")\n",
    "    #\n",
    "    # Mathematicaly it ends up beeing a theoretical log-normal when.\n",
    "    #    - Kurtosis o Skewness: $\\leq -1$ o $\\geq 1$ \n",
    "    #    - D'Agostino's K-squared test: p-value $ \\leq 0.05 $, becuase it rejects the null hypothesis "
   ]
  },
  {
   "cell_type": "code",
   "execution_count": 8,
   "id": "1bcc7a1e-2408-46a8-af94-026a08044e94",
   "metadata": {},
   "outputs": [],
   "source": [
    "# The next function performs the whole analysis for a tax_id\n",
    "def species_distribution__retrieve_plot_and_fit(stat_taxid_df, tax_id):\n",
    "    species_df = get_df_for_taxid(stat_taxid_df, tax_id)\n",
    "    species_df.drop_duplicates(subset=['tax_id'], inplace=True, keep='last')\n",
    "    display(species_df)\n",
    "    \n",
    "    # system dependencies\n",
    "    system = list(os.uname())[0]\n",
    "    if system == 'Linux':\n",
    "        our_mnt_dir = \"/media/emuro/Nubya/\" # my disks: Nubya, Wes\n",
    "    elif system == 'Darwin':\n",
    "        our_mnt_dir = \"/Volumes/Wes/\" # my disks: Wes, Nubya \n",
    "    genes_f = our_mnt_dir + \"results/geneLength/\" + species_df[\"trunk_genes_path\"].item() + species_df[\"genes_file\"].item()    \n",
    "    # retrieve data\n",
    "    genes_df = pd.read_csv(genes_f, sep=\"\\t\")\n",
    "\n",
    "    # visualize data\n",
    "    pd.set_option('display.max_columns', None)\n",
    "    if 0:\n",
    "        display(genes_df.head(2))\n",
    "        print(genes_df.shape)\n",
    "    \n",
    "    # plot the distributions: observed and theoretical\n",
    "    genes_df[\"log10_length\"] = genes_df[\"length\"].apply(np.log10)\n",
    "    title = species_df[\"species\"].item().capitalize(); subtitle = \"Protein coding genes\";  xlabel = \"$log_{10}(length)$\"; ylabel = \"Probability density function\"\n",
    "    plot_log_norm (genes_df[\"log10_length\"], species_df[\"log10_mean\"].item(), math.sqrt(species_df[\"log10_var\"].item()), species_df[\"count\"].item(), \n",
    "                   title, subtitle, xlabel, ylabel)  \n",
    "    # fit to normal\n",
    "    does_it_fits_normal(genes_df[\"log10_length\"])"
   ]
  },
  {
   "cell_type": "markdown",
   "id": "2111fd8f-02db-4b6b-b70d-50d386b34b0c",
   "metadata": {},
   "source": [
    "## Distributions for different species:"
   ]
  },
  {
   "cell_type": "markdown",
   "id": "02d86cba-90c3-420a-a342-effebd787c95",
   "metadata": {},
   "source": [
    "### _Homo sapiens_ (tax_id = 9606)"
   ]
  },
  {
   "cell_type": "markdown",
   "id": "0866ec4e-b56f-45c2-9858-b517c8481d26",
   "metadata": {},
   "source": [
    "#### Retrieve its statistical description"
   ]
  },
  {
   "cell_type": "code",
   "execution_count": 9,
   "id": "4cd3536d-1829-4625-9dbf-234606f1c6e2",
   "metadata": {},
   "outputs": [
    {
     "data": {
      "text/html": [
       "<div>\n",
       "<style scoped>\n",
       "    .dataframe tbody tr th:only-of-type {\n",
       "        vertical-align: middle;\n",
       "    }\n",
       "\n",
       "    .dataframe tbody tr th {\n",
       "        vertical-align: top;\n",
       "    }\n",
       "\n",
       "    .dataframe thead th {\n",
       "        text-align: right;\n",
       "    }\n",
       "</style>\n",
       "<table border=\"1\" class=\"dataframe\">\n",
       "  <thead>\n",
       "    <tr style=\"text-align: right;\">\n",
       "      <th></th>\n",
       "      <th>division_8</th>\n",
       "      <th>species</th>\n",
       "      <th>trunk_genes_path</th>\n",
       "      <th>genes_file</th>\n",
       "      <th>count</th>\n",
       "      <th>mean</th>\n",
       "      <th>var</th>\n",
       "      <th>log10_mean</th>\n",
       "      <th>log10_var</th>\n",
       "      <th>name</th>\n",
       "      <th>tax_id</th>\n",
       "    </tr>\n",
       "  </thead>\n",
       "  <tbody>\n",
       "    <tr>\n",
       "      <th>33298</th>\n",
       "      <td>vertebrates</td>\n",
       "      <td>homo_sapiens</td>\n",
       "      <td>ftp.ensembl.org/pub/release-98/genes/homo_sapi...</td>\n",
       "      <td>protein_coding.genes.homo_sapiens.nan.ensembl....</td>\n",
       "      <td>19976</td>\n",
       "      <td>68287.089808</td>\n",
       "      <td>1.753600e+10</td>\n",
       "      <td>4.40396</td>\n",
       "      <td>0.415191</td>\n",
       "      <td>Human</td>\n",
       "      <td>9606</td>\n",
       "    </tr>\n",
       "  </tbody>\n",
       "</table>\n",
       "</div>"
      ],
      "text/plain": [
       "        division_8       species  \\\n",
       "33298  vertebrates  homo_sapiens   \n",
       "\n",
       "                                        trunk_genes_path  \\\n",
       "33298  ftp.ensembl.org/pub/release-98/genes/homo_sapi...   \n",
       "\n",
       "                                              genes_file  count          mean  \\\n",
       "33298  protein_coding.genes.homo_sapiens.nan.ensembl....  19976  68287.089808   \n",
       "\n",
       "                var  log10_mean  log10_var   name  tax_id  \n",
       "33298  1.753600e+10     4.40396   0.415191  Human    9606  "
      ]
     },
     "metadata": {},
     "output_type": "display_data"
    },
    {
     "name": "stdout",
     "output_type": "stream",
     "text": [
      "µ: 4.40396048586088 \tσ: 0.644352861905651\n"
     ]
    },
    {
     "data": {
      "image/png": "[encoded data removed]",
      "text/plain": [
       "<Figure size 432x288 with 1 Axes>"
      ]
     },
     "metadata": {
      "needs_background": "light"
     },
     "output_type": "display_data"
    },
    {
     "name": "stdout",
     "output_type": "stream",
     "text": [
      "Kurtosis: -0.1116735171105625\n",
      "Skewness: -0.19274087219104544\n",
      "D'Agostino's K-squared test(statistics=133.03487000453904, p-value=1.293734108353449e-29)\n"
     ]
    }
   ],
   "source": [
    "tax_id = 9606\n",
    "species_distribution__retrieve_plot_and_fit(stat_taxid_df, tax_id)"
   ]
  },
  {
   "cell_type": "markdown",
   "id": "45cc3497-9902-4714-a7c1-76bc14dc0a95",
   "metadata": {},
   "source": [
    "## Fig. 1"
   ]
  },
  {
   "cell_type": "markdown",
   "id": "3cea303e-22c0-4353-b1d3-8609aacffb0c",
   "metadata": {},
   "source": [
    "### _Danio rerio_ (tax_id = 7955)"
   ]
  },
  {
   "cell_type": "code",
   "execution_count": 10,
   "id": "00572d37-eca3-4dd6-b056-6b109b2054f0",
   "metadata": {},
   "outputs": [
    {
     "data": {
      "text/html": [
       "<div>\n",
       "<style scoped>\n",
       "    .dataframe tbody tr th:only-of-type {\n",
       "        vertical-align: middle;\n",
       "    }\n",
       "\n",
       "    .dataframe tbody tr th {\n",
       "        vertical-align: top;\n",
       "    }\n",
       "\n",
       "    .dataframe thead th {\n",
       "        text-align: right;\n",
       "    }\n",
       "</style>\n",
       "<table border=\"1\" class=\"dataframe\">\n",
       "  <thead>\n",
       "    <tr style=\"text-align: right;\">\n",
       "      <th></th>\n",
       "      <th>division_8</th>\n",
       "      <th>species</th>\n",
       "      <th>trunk_genes_path</th>\n",
       "      <th>genes_file</th>\n",
       "      <th>count</th>\n",
       "      <th>mean</th>\n",
       "      <th>var</th>\n",
       "      <th>log10_mean</th>\n",
       "      <th>log10_var</th>\n",
       "      <th>name</th>\n",
       "      <th>tax_id</th>\n",
       "    </tr>\n",
       "  </thead>\n",
       "  <tbody>\n",
       "    <tr>\n",
       "      <th>33248</th>\n",
       "      <td>vertebrates</td>\n",
       "      <td>danio_rerio</td>\n",
       "      <td>ftp.ensembl.org/pub/release-98/genes/danio_rerio/</td>\n",
       "      <td>protein_coding.genes.danio_rerio.nan.ensembl.9...</td>\n",
       "      <td>25432</td>\n",
       "      <td>31084.050802</td>\n",
       "      <td>2.666395e+09</td>\n",
       "      <td>4.137251</td>\n",
       "      <td>0.330834</td>\n",
       "      <td>Zebrafish</td>\n",
       "      <td>7955</td>\n",
       "    </tr>\n",
       "  </tbody>\n",
       "</table>\n",
       "</div>"
      ],
      "text/plain": [
       "        division_8      species  \\\n",
       "33248  vertebrates  danio_rerio   \n",
       "\n",
       "                                        trunk_genes_path  \\\n",
       "33248  ftp.ensembl.org/pub/release-98/genes/danio_rerio/   \n",
       "\n",
       "                                              genes_file  count          mean  \\\n",
       "33248  protein_coding.genes.danio_rerio.nan.ensembl.9...  25432  31084.050802   \n",
       "\n",
       "                var  log10_mean  log10_var       name  tax_id  \n",
       "33248  2.666395e+09    4.137251   0.330834  Zebrafish    7955  "
      ]
     },
     "metadata": {},
     "output_type": "display_data"
    },
    {
     "name": "stdout",
     "output_type": "stream",
     "text": [
      "µ: 4.1372512074567 \tσ: 0.5751817206250265\n"
     ]
    },
    {
     "data": {
      "image/png": "[encoded data removed]",
      "text/plain": [
       "<Figure size 432x288 with 1 Axes>"
      ]
     },
     "metadata": {
      "needs_background": "light"
     },
     "output_type": "display_data"
    },
    {
     "name": "stdout",
     "output_type": "stream",
     "text": [
      "Kurtosis: 0.13464961203755843\n",
      "Skewness: -0.15265070017727597\n",
      "D'Agostino's K-squared test(statistics=114.79272415546741, p-value=1.1832504227909413e-25)\n"
     ]
    }
   ],
   "source": [
    "tax_id = 7955\n",
    "species_distribution__retrieve_plot_and_fit(stat_taxid_df, tax_id)"
   ]
  },
  {
   "cell_type": "markdown",
   "id": "3bc91201-24a6-43ca-afcf-0c40b47da573",
   "metadata": {},
   "source": [
    "## Fig S1"
   ]
  },
  {
   "cell_type": "markdown",
   "id": "a097cd5e-8078-4c42-995c-1f9730e86d5c",
   "metadata": {},
   "source": [
    "### _Acanthochromis polyacanthus_ (tax_id = 80966)"
   ]
  },
  {
   "cell_type": "code",
   "execution_count": 11,
   "id": "4618cdf7-b6d5-43a3-9f62-4b418eb02811",
   "metadata": {},
   "outputs": [
    {
     "data": {
      "text/html": [
       "<div>\n",
       "<style scoped>\n",
       "    .dataframe tbody tr th:only-of-type {\n",
       "        vertical-align: middle;\n",
       "    }\n",
       "\n",
       "    .dataframe tbody tr th {\n",
       "        vertical-align: top;\n",
       "    }\n",
       "\n",
       "    .dataframe thead th {\n",
       "        text-align: right;\n",
       "    }\n",
       "</style>\n",
       "<table border=\"1\" class=\"dataframe\">\n",
       "  <thead>\n",
       "    <tr style=\"text-align: right;\">\n",
       "      <th></th>\n",
       "      <th>division_8</th>\n",
       "      <th>species</th>\n",
       "      <th>trunk_genes_path</th>\n",
       "      <th>genes_file</th>\n",
       "      <th>count</th>\n",
       "      <th>mean</th>\n",
       "      <th>var</th>\n",
       "      <th>log10_mean</th>\n",
       "      <th>log10_var</th>\n",
       "      <th>name</th>\n",
       "      <th>tax_id</th>\n",
       "    </tr>\n",
       "  </thead>\n",
       "  <tbody>\n",
       "    <tr>\n",
       "      <th>33419</th>\n",
       "      <td>vertebrates</td>\n",
       "      <td>acanthochromis_polyacanthus</td>\n",
       "      <td>ftp.ensembl.org/pub/release-98/genes/acanthoch...</td>\n",
       "      <td>protein_coding.genes.acanthochromis_polyacanth...</td>\n",
       "      <td>24016</td>\n",
       "      <td>17577.741964</td>\n",
       "      <td>7.636914e+08</td>\n",
       "      <td>3.93983</td>\n",
       "      <td>0.283414</td>\n",
       "      <td>Spiny chromis</td>\n",
       "      <td>80966</td>\n",
       "    </tr>\n",
       "  </tbody>\n",
       "</table>\n",
       "</div>"
      ],
      "text/plain": [
       "        division_8                      species  \\\n",
       "33419  vertebrates  acanthochromis_polyacanthus   \n",
       "\n",
       "                                        trunk_genes_path  \\\n",
       "33419  ftp.ensembl.org/pub/release-98/genes/acanthoch...   \n",
       "\n",
       "                                              genes_file  count          mean  \\\n",
       "33419  protein_coding.genes.acanthochromis_polyacanth...  24016  17577.741964   \n",
       "\n",
       "                var  log10_mean  log10_var           name  tax_id  \n",
       "33419  7.636914e+08     3.93983   0.283414  Spiny chromis   80966  "
      ]
     },
     "metadata": {},
     "output_type": "display_data"
    },
    {
     "name": "stdout",
     "output_type": "stream",
     "text": [
      "µ: 3.93982998775739 \tσ: 0.5323666774485448\n"
     ]
    },
    {
     "data": {
      "image/png": "[encoded data removed]",
      "text/plain": [
       "<Figure size 432x288 with 1 Axes>"
      ]
     },
     "metadata": {
      "needs_background": "light"
     },
     "output_type": "display_data"
    },
    {
     "name": "stdout",
     "output_type": "stream",
     "text": [
      "Kurtosis: 0.42030888797885346\n",
      "Skewness: -0.2579638939752618\n",
      "D'Agostino's K-squared test(statistics=380.77633533999034, p-value=2.0676135100958134e-83)\n"
     ]
    }
   ],
   "source": [
    "tax_id = 80966\n",
    "species_distribution__retrieve_plot_and_fit(stat_taxid_df, tax_id)"
   ]
  },
  {
   "cell_type": "markdown",
   "id": "c8c75578-1091-410d-a308-852f6303537d",
   "metadata": {},
   "source": [
    "### _Apteryx owenii_ (tax_id = 8824)"
   ]
  },
  {
   "cell_type": "code",
   "execution_count": 12,
   "id": "c6913dff-8906-4fb1-ab6f-2c0e473c9e9f",
   "metadata": {},
   "outputs": [
    {
     "data": {
      "text/html": [
       "<div>\n",
       "<style scoped>\n",
       "    .dataframe tbody tr th:only-of-type {\n",
       "        vertical-align: middle;\n",
       "    }\n",
       "\n",
       "    .dataframe tbody tr th {\n",
       "        vertical-align: top;\n",
       "    }\n",
       "\n",
       "    .dataframe thead th {\n",
       "        text-align: right;\n",
       "    }\n",
       "</style>\n",
       "<table border=\"1\" class=\"dataframe\">\n",
       "  <thead>\n",
       "    <tr style=\"text-align: right;\">\n",
       "      <th></th>\n",
       "      <th>division_8</th>\n",
       "      <th>species</th>\n",
       "      <th>trunk_genes_path</th>\n",
       "      <th>genes_file</th>\n",
       "      <th>count</th>\n",
       "      <th>mean</th>\n",
       "      <th>var</th>\n",
       "      <th>log10_mean</th>\n",
       "      <th>log10_var</th>\n",
       "      <th>name</th>\n",
       "      <th>tax_id</th>\n",
       "    </tr>\n",
       "  </thead>\n",
       "  <tbody>\n",
       "    <tr>\n",
       "      <th>33272</th>\n",
       "      <td>vertebrates</td>\n",
       "      <td>apteryx_owenii</td>\n",
       "      <td>ftp.ensembl.org/pub/release-98/genes/apteryx_o...</td>\n",
       "      <td>protein_coding.genes.apteryx_owenii.nan.ensemb...</td>\n",
       "      <td>16196</td>\n",
       "      <td>27013.371635</td>\n",
       "      <td>1.942660e+09</td>\n",
       "      <td>4.061432</td>\n",
       "      <td>0.349542</td>\n",
       "      <td>Little spotted kiwi</td>\n",
       "      <td>8824</td>\n",
       "    </tr>\n",
       "  </tbody>\n",
       "</table>\n",
       "</div>"
      ],
      "text/plain": [
       "        division_8         species  \\\n",
       "33272  vertebrates  apteryx_owenii   \n",
       "\n",
       "                                        trunk_genes_path  \\\n",
       "33272  ftp.ensembl.org/pub/release-98/genes/apteryx_o...   \n",
       "\n",
       "                                              genes_file  count          mean  \\\n",
       "33272  protein_coding.genes.apteryx_owenii.nan.ensemb...  16196  27013.371635   \n",
       "\n",
       "                var  log10_mean  log10_var                 name  tax_id  \n",
       "33272  1.942660e+09    4.061432   0.349542  Little spotted kiwi    8824  "
      ]
     },
     "metadata": {},
     "output_type": "display_data"
    },
    {
     "name": "stdout",
     "output_type": "stream",
     "text": [
      "µ: 4.06143212159683 \tσ: 0.5912211118722343\n"
     ]
    },
    {
     "data": {
      "image/png": "[encoded data removed]",
      "text/plain": [
       "<Figure size 432x288 with 1 Axes>"
      ]
     },
     "metadata": {
      "needs_background": "light"
     },
     "output_type": "display_data"
    },
    {
     "name": "stdout",
     "output_type": "stream",
     "text": [
      "Kurtosis: -0.10656389889003348\n",
      "Skewness: -0.13692417062331863\n",
      "D'Agostino's K-squared test(statistics=58.58800417183088, p-value=1.895730254744762e-13)\n"
     ]
    }
   ],
   "source": [
    "tax_id = 8824\n",
    "species_distribution__retrieve_plot_and_fit(stat_taxid_df, tax_id)"
   ]
  },
  {
   "cell_type": "markdown",
   "id": "e1977cf2-5b33-46cb-8fd9-72e5bb88e8bd",
   "metadata": {},
   "source": [
    "### _Equus asinus asinus_ (tax_id = 83772)"
   ]
  },
  {
   "cell_type": "code",
   "execution_count": 13,
   "id": "69389a33-a9a9-4ea6-9632-fc16e61f50bc",
   "metadata": {},
   "outputs": [
    {
     "data": {
      "text/html": [
       "<div>\n",
       "<style scoped>\n",
       "    .dataframe tbody tr th:only-of-type {\n",
       "        vertical-align: middle;\n",
       "    }\n",
       "\n",
       "    .dataframe tbody tr th {\n",
       "        vertical-align: top;\n",
       "    }\n",
       "\n",
       "    .dataframe thead th {\n",
       "        text-align: right;\n",
       "    }\n",
       "</style>\n",
       "<table border=\"1\" class=\"dataframe\">\n",
       "  <thead>\n",
       "    <tr style=\"text-align: right;\">\n",
       "      <th></th>\n",
       "      <th>division_8</th>\n",
       "      <th>species</th>\n",
       "      <th>trunk_genes_path</th>\n",
       "      <th>genes_file</th>\n",
       "      <th>count</th>\n",
       "      <th>mean</th>\n",
       "      <th>var</th>\n",
       "      <th>log10_mean</th>\n",
       "      <th>log10_var</th>\n",
       "      <th>name</th>\n",
       "      <th>tax_id</th>\n",
       "    </tr>\n",
       "  </thead>\n",
       "  <tbody>\n",
       "    <tr>\n",
       "      <th>33421</th>\n",
       "      <td>vertebrates</td>\n",
       "      <td>equus_asinus_asinus</td>\n",
       "      <td>ftp.ensembl.org/pub/release-98/genes/equus_asi...</td>\n",
       "      <td>protein_coding.genes.equus_asinus_asinus.nan.e...</td>\n",
       "      <td>19922</td>\n",
       "      <td>38350.468879</td>\n",
       "      <td>5.261993e+09</td>\n",
       "      <td>4.080104</td>\n",
       "      <td>0.506864</td>\n",
       "      <td>Donkey</td>\n",
       "      <td>83772</td>\n",
       "    </tr>\n",
       "  </tbody>\n",
       "</table>\n",
       "</div>"
      ],
      "text/plain": [
       "        division_8              species  \\\n",
       "33421  vertebrates  equus_asinus_asinus   \n",
       "\n",
       "                                        trunk_genes_path  \\\n",
       "33421  ftp.ensembl.org/pub/release-98/genes/equus_asi...   \n",
       "\n",
       "                                              genes_file  count          mean  \\\n",
       "33421  protein_coding.genes.equus_asinus_asinus.nan.e...  19922  38350.468879   \n",
       "\n",
       "                var  log10_mean  log10_var    name  tax_id  \n",
       "33421  5.261993e+09    4.080104   0.506864  Donkey   83772  "
      ]
     },
     "metadata": {},
     "output_type": "display_data"
    },
    {
     "name": "stdout",
     "output_type": "stream",
     "text": [
      "µ: 4.08010374287238 \tσ: 0.7119438680979533\n"
     ]
    },
    {
     "data": {
      "image/png": "[encoded data removed]",
      "text/plain": [
       "<Figure size 432x288 with 1 Axes>"
      ]
     },
     "metadata": {
      "needs_background": "light"
     },
     "output_type": "display_data"
    },
    {
     "name": "stdout",
     "output_type": "stream",
     "text": [
      "Kurtosis: -0.4968881798624136\n",
      "Skewness: -0.1308309001466365\n",
      "D'Agostino's K-squared test(statistics=430.974640559165, p-value=2.6004342800239943e-94)\n"
     ]
    }
   ],
   "source": [
    "tax_id = 83772\n",
    "species_distribution__retrieve_plot_and_fit(stat_taxid_df, tax_id)"
   ]
  },
  {
   "cell_type": "markdown",
   "id": "28b2575a-089a-47bf-883a-da16a4a82496",
   "metadata": {},
   "source": [
    "### _Vitis vinifera_ (tax\\_id = 29760)"
   ]
  },
  {
   "cell_type": "code",
   "execution_count": 14,
   "id": "168a2993-c279-4e6d-abc6-850924bc9c6f",
   "metadata": {},
   "outputs": [
    {
     "data": {
      "text/html": [
       "<div>\n",
       "<style scoped>\n",
       "    .dataframe tbody tr th:only-of-type {\n",
       "        vertical-align: middle;\n",
       "    }\n",
       "\n",
       "    .dataframe tbody tr th {\n",
       "        vertical-align: top;\n",
       "    }\n",
       "\n",
       "    .dataframe thead th {\n",
       "        text-align: right;\n",
       "    }\n",
       "</style>\n",
       "<table border=\"1\" class=\"dataframe\">\n",
       "  <thead>\n",
       "    <tr style=\"text-align: right;\">\n",
       "      <th></th>\n",
       "      <th>division_8</th>\n",
       "      <th>species</th>\n",
       "      <th>trunk_genes_path</th>\n",
       "      <th>genes_file</th>\n",
       "      <th>count</th>\n",
       "      <th>mean</th>\n",
       "      <th>var</th>\n",
       "      <th>log10_mean</th>\n",
       "      <th>log10_var</th>\n",
       "      <th>name</th>\n",
       "      <th>tax_id</th>\n",
       "    </tr>\n",
       "  </thead>\n",
       "  <tbody>\n",
       "    <tr>\n",
       "      <th>32959</th>\n",
       "      <td>plants</td>\n",
       "      <td>vitis_vinifera</td>\n",
       "      <td>ftp.ensemblgenomes.org/pub/plants/release-49/g...</td>\n",
       "      <td>protein_coding.genes.vitis_vinifera.plants.ens...</td>\n",
       "      <td>29927</td>\n",
       "      <td>5130.068032</td>\n",
       "      <td>5.891958e+07</td>\n",
       "      <td>3.424509</td>\n",
       "      <td>0.257295</td>\n",
       "      <td>Vitis vinifera</td>\n",
       "      <td>29760</td>\n",
       "    </tr>\n",
       "  </tbody>\n",
       "</table>\n",
       "</div>"
      ],
      "text/plain": [
       "      division_8         species  \\\n",
       "32959     plants  vitis_vinifera   \n",
       "\n",
       "                                        trunk_genes_path  \\\n",
       "32959  ftp.ensemblgenomes.org/pub/plants/release-49/g...   \n",
       "\n",
       "                                              genes_file  count         mean  \\\n",
       "32959  protein_coding.genes.vitis_vinifera.plants.ens...  29927  5130.068032   \n",
       "\n",
       "                var  log10_mean  log10_var            name  tax_id  \n",
       "32959  5.891958e+07    3.424509   0.257295  Vitis vinifera   29760  "
      ]
     },
     "metadata": {},
     "output_type": "display_data"
    },
    {
     "name": "stdout",
     "output_type": "stream",
     "text": [
      "µ: 3.42450856444256 \tσ: 0.5072424656357845\n"
     ]
    },
    {
     "data": {
      "image/png": "[encoded data removed]",
      "text/plain": [
       "<Figure size 432x288 with 1 Axes>"
      ]
     },
     "metadata": {
      "needs_background": "light"
     },
     "output_type": "display_data"
    },
    {
     "name": "stdout",
     "output_type": "stream",
     "text": [
      "Kurtosis: -0.11615923649822468\n",
      "Skewness: -0.06492750869776981\n",
      "D'Agostino's K-squared test(statistics=39.80747144130329, p-value=2.2694332172693754e-09)\n"
     ]
    }
   ],
   "source": [
    "tax_id = 29760\n",
    "species_distribution__retrieve_plot_and_fit(stat_taxid_df, tax_id)"
   ]
  },
  {
   "cell_type": "markdown",
   "id": "0787946e-ad3a-458e-93b8-67579893e863",
   "metadata": {},
   "source": [
    "### _Acinetobacter baumannii_ (tax\\_id = 1310800)"
   ]
  },
  {
   "cell_type": "code",
   "execution_count": 15,
   "id": "45e20fea-6f0c-45a1-9656-96f83673c790",
   "metadata": {},
   "outputs": [
    {
     "data": {
      "text/html": [
       "<div>\n",
       "<style scoped>\n",
       "    .dataframe tbody tr th:only-of-type {\n",
       "        vertical-align: middle;\n",
       "    }\n",
       "\n",
       "    .dataframe tbody tr th {\n",
       "        vertical-align: top;\n",
       "    }\n",
       "\n",
       "    .dataframe thead th {\n",
       "        text-align: right;\n",
       "    }\n",
       "</style>\n",
       "<table border=\"1\" class=\"dataframe\">\n",
       "  <thead>\n",
       "    <tr style=\"text-align: right;\">\n",
       "      <th></th>\n",
       "      <th>division_8</th>\n",
       "      <th>species</th>\n",
       "      <th>trunk_genes_path</th>\n",
       "      <th>genes_file</th>\n",
       "      <th>count</th>\n",
       "      <th>mean</th>\n",
       "      <th>var</th>\n",
       "      <th>log10_mean</th>\n",
       "      <th>log10_var</th>\n",
       "      <th>name</th>\n",
       "      <th>tax_id</th>\n",
       "    </tr>\n",
       "  </thead>\n",
       "  <tbody>\n",
       "    <tr>\n",
       "      <th>20848</th>\n",
       "      <td>bacteria</td>\n",
       "      <td>acinetobacter_baumannii_1000160_gca_000588715</td>\n",
       "      <td>ftp.ensemblgenomes.org/pub/bacteria/release-49...</td>\n",
       "      <td>protein_coding.genes.acinetobacter_baumannii_1...</td>\n",
       "      <td>3793</td>\n",
       "      <td>907.272607</td>\n",
       "      <td>511523.644547</td>\n",
       "      <td>2.854921</td>\n",
       "      <td>0.0964</td>\n",
       "      <td>Acinetobacter sp. 1000160 (GCA_000588715)</td>\n",
       "      <td>1310800</td>\n",
       "    </tr>\n",
       "  </tbody>\n",
       "</table>\n",
       "</div>"
      ],
      "text/plain": [
       "      division_8                                        species  \\\n",
       "20848   bacteria  acinetobacter_baumannii_1000160_gca_000588715   \n",
       "\n",
       "                                        trunk_genes_path  \\\n",
       "20848  ftp.ensemblgenomes.org/pub/bacteria/release-49...   \n",
       "\n",
       "                                              genes_file  count        mean  \\\n",
       "20848  protein_coding.genes.acinetobacter_baumannii_1...   3793  907.272607   \n",
       "\n",
       "                 var  log10_mean  log10_var  \\\n",
       "20848  511523.644547    2.854921     0.0964   \n",
       "\n",
       "                                            name   tax_id  \n",
       "20848  Acinetobacter sp. 1000160 (GCA_000588715)  1310800  "
      ]
     },
     "metadata": {},
     "output_type": "display_data"
    },
    {
     "name": "stdout",
     "output_type": "stream",
     "text": [
      "µ: 2.85492133432345 \tσ: 0.31048337590178643\n"
     ]
    },
    {
     "data": {
      "image/png": "[encoded data removed]",
      "text/plain": [
       "<Figure size 432x288 with 1 Axes>"
      ]
     },
     "metadata": {
      "needs_background": "light"
     },
     "output_type": "display_data"
    },
    {
     "name": "stdout",
     "output_type": "stream",
     "text": [
      "Kurtosis: 0.25388735879414215\n",
      "Skewness: -0.39567316500472893\n",
      "D'Agostino's K-squared test(statistics=100.92079482259223, p-value=1.217104448112482e-22)\n"
     ]
    }
   ],
   "source": [
    "tax_id = 1310800\n",
    "species_distribution__retrieve_plot_and_fit(stat_taxid_df, tax_id)"
   ]
  },
  {
   "cell_type": "markdown",
   "id": "0681824c-0c30-48bd-9dc5-a2504c9e6c87",
   "metadata": {},
   "source": [
    "### _Colletotrichum gloeosporioides_ (tax\\_id = 1213859)"
   ]
  },
  {
   "cell_type": "code",
   "execution_count": 16,
   "id": "553ab12a-1e7c-41d1-9117-20a24041a090",
   "metadata": {},
   "outputs": [
    {
     "data": {
      "text/html": [
       "<div>\n",
       "<style scoped>\n",
       "    .dataframe tbody tr th:only-of-type {\n",
       "        vertical-align: middle;\n",
       "    }\n",
       "\n",
       "    .dataframe tbody tr th {\n",
       "        vertical-align: top;\n",
       "    }\n",
       "\n",
       "    .dataframe thead th {\n",
       "        text-align: right;\n",
       "    }\n",
       "</style>\n",
       "<table border=\"1\" class=\"dataframe\">\n",
       "  <thead>\n",
       "    <tr style=\"text-align: right;\">\n",
       "      <th></th>\n",
       "      <th>division_8</th>\n",
       "      <th>species</th>\n",
       "      <th>trunk_genes_path</th>\n",
       "      <th>genes_file</th>\n",
       "      <th>count</th>\n",
       "      <th>mean</th>\n",
       "      <th>var</th>\n",
       "      <th>log10_mean</th>\n",
       "      <th>log10_var</th>\n",
       "      <th>name</th>\n",
       "      <th>tax_id</th>\n",
       "    </tr>\n",
       "  </thead>\n",
       "  <tbody>\n",
       "    <tr>\n",
       "      <th>32436</th>\n",
       "      <td>fungi</td>\n",
       "      <td>colletotrichum_gloeosporioides</td>\n",
       "      <td>ftp.ensemblgenomes.org/pub/fungi/release-49/ge...</td>\n",
       "      <td>protein_coding.genes.colletotrichum_gloeospori...</td>\n",
       "      <td>15381</td>\n",
       "      <td>1577.847994</td>\n",
       "      <td>1.301188e+06</td>\n",
       "      <td>3.113453</td>\n",
       "      <td>0.072943</td>\n",
       "      <td>Colletotrichum gloeosporioides</td>\n",
       "      <td>1213859</td>\n",
       "    </tr>\n",
       "  </tbody>\n",
       "</table>\n",
       "</div>"
      ],
      "text/plain": [
       "      division_8                         species  \\\n",
       "32436      fungi  colletotrichum_gloeosporioides   \n",
       "\n",
       "                                        trunk_genes_path  \\\n",
       "32436  ftp.ensemblgenomes.org/pub/fungi/release-49/ge...   \n",
       "\n",
       "                                              genes_file  count         mean  \\\n",
       "32436  protein_coding.genes.colletotrichum_gloeospori...  15381  1577.847994   \n",
       "\n",
       "                var  log10_mean  log10_var                            name  \\\n",
       "32436  1.301188e+06    3.113453   0.072943  Colletotrichum gloeosporioides   \n",
       "\n",
       "        tax_id  \n",
       "32436  1213859  "
      ]
     },
     "metadata": {},
     "output_type": "display_data"
    },
    {
     "name": "stdout",
     "output_type": "stream",
     "text": [
      "µ: 3.11345279442653 \tσ: 0.270079763960005\n"
     ]
    },
    {
     "data": {
      "image/png": "[encoded data removed]",
      "text/plain": [
       "<Figure size 432x288 with 1 Axes>"
      ]
     },
     "metadata": {
      "needs_background": "light"
     },
     "output_type": "display_data"
    },
    {
     "name": "stdout",
     "output_type": "stream",
     "text": [
      "Kurtosis: 0.29151251785412935\n",
      "Skewness: -0.024260748353795065\n",
      "D'Agostino's K-squared test(statistics=43.685576070336786, p-value=3.264357289389213e-10)\n"
     ]
    }
   ],
   "source": [
    "tax_id = 1213859\n",
    "species_distribution__retrieve_plot_and_fit(stat_taxid_df, tax_id)"
   ]
  },
  {
   "cell_type": "markdown",
   "id": "ad4e7dad-7c01-48e7-8fea-87433d28b6f7",
   "metadata": {},
   "source": [
    "## Fig S2"
   ]
  },
  {
   "cell_type": "markdown",
   "id": "f599574b-98e8-4a98-ae45-4395c1aa7359",
   "metadata": {},
   "source": [
    "### _Cavia porcellus_ (tax\\_id = 10141)"
   ]
  },
  {
   "cell_type": "code",
   "execution_count": 17,
   "id": "efcee75a-3124-4468-b560-97e3e89193ac",
   "metadata": {},
   "outputs": [
    {
     "data": {
      "text/html": [
       "<div>\n",
       "<style scoped>\n",
       "    .dataframe tbody tr th:only-of-type {\n",
       "        vertical-align: middle;\n",
       "    }\n",
       "\n",
       "    .dataframe tbody tr th {\n",
       "        vertical-align: top;\n",
       "    }\n",
       "\n",
       "    .dataframe thead th {\n",
       "        text-align: right;\n",
       "    }\n",
       "</style>\n",
       "<table border=\"1\" class=\"dataframe\">\n",
       "  <thead>\n",
       "    <tr style=\"text-align: right;\">\n",
       "      <th></th>\n",
       "      <th>division_8</th>\n",
       "      <th>species</th>\n",
       "      <th>trunk_genes_path</th>\n",
       "      <th>genes_file</th>\n",
       "      <th>count</th>\n",
       "      <th>mean</th>\n",
       "      <th>var</th>\n",
       "      <th>log10_mean</th>\n",
       "      <th>log10_var</th>\n",
       "      <th>name</th>\n",
       "      <th>tax_id</th>\n",
       "    </tr>\n",
       "  </thead>\n",
       "  <tbody>\n",
       "    <tr>\n",
       "      <th>33356</th>\n",
       "      <td>vertebrates</td>\n",
       "      <td>cavia_porcellus</td>\n",
       "      <td>ftp.ensembl.org/pub/release-98/genes/cavia_por...</td>\n",
       "      <td>protein_coding.genes.cavia_porcellus.nan.ensem...</td>\n",
       "      <td>18095</td>\n",
       "      <td>44419.205195</td>\n",
       "      <td>8.237268e+09</td>\n",
       "      <td>4.175953</td>\n",
       "      <td>0.469809</td>\n",
       "      <td>Guinea Pig</td>\n",
       "      <td>10141</td>\n",
       "    </tr>\n",
       "  </tbody>\n",
       "</table>\n",
       "</div>"
      ],
      "text/plain": [
       "        division_8          species  \\\n",
       "33356  vertebrates  cavia_porcellus   \n",
       "\n",
       "                                        trunk_genes_path  \\\n",
       "33356  ftp.ensembl.org/pub/release-98/genes/cavia_por...   \n",
       "\n",
       "                                              genes_file  count          mean  \\\n",
       "33356  protein_coding.genes.cavia_porcellus.nan.ensem...  18095  44419.205195   \n",
       "\n",
       "                var  log10_mean  log10_var        name  tax_id  \n",
       "33356  8.237268e+09    4.175953   0.469809  Guinea Pig   10141  "
      ]
     },
     "metadata": {},
     "output_type": "display_data"
    },
    {
     "name": "stdout",
     "output_type": "stream",
     "text": [
      "µ: 4.17595294995147 \tσ: 0.6854262938675558\n"
     ]
    },
    {
     "data": {
      "image/png": "[encoded data removed]",
      "text/plain": [
       "<Figure size 432x288 with 1 Axes>"
      ]
     },
     "metadata": {
      "needs_background": "light"
     },
     "output_type": "display_data"
    },
    {
     "name": "stdout",
     "output_type": "stream",
     "text": [
      "Kurtosis: -0.27267797775275016\n",
      "Skewness: -0.21905949768800043\n",
      "D'Agostino's K-squared test(statistics=216.8373902747619, p-value=8.210298872993568e-48)\n"
     ]
    }
   ],
   "source": [
    "tax_id = 10141\n",
    "species_distribution__retrieve_plot_and_fit(stat_taxid_df, tax_id)"
   ]
  },
  {
   "cell_type": "markdown",
   "id": "c988c165-1b89-46ca-86e6-772ad1391fc1",
   "metadata": {},
   "source": [
    "## Fig S7"
   ]
  },
  {
   "cell_type": "markdown",
   "id": "30adfb77-8a42-4281-9777-e94085d70820",
   "metadata": {},
   "source": [
    "### _Shewanella loihica_ (tax\\_id = 323850)"
   ]
  },
  {
   "cell_type": "code",
   "execution_count": 18,
   "id": "68cb9451-b048-49eb-929b-bb239739f7bd",
   "metadata": {},
   "outputs": [
    {
     "data": {
      "text/html": [
       "<div>\n",
       "<style scoped>\n",
       "    .dataframe tbody tr th:only-of-type {\n",
       "        vertical-align: middle;\n",
       "    }\n",
       "\n",
       "    .dataframe tbody tr th {\n",
       "        vertical-align: top;\n",
       "    }\n",
       "\n",
       "    .dataframe thead th {\n",
       "        text-align: right;\n",
       "    }\n",
       "</style>\n",
       "<table border=\"1\" class=\"dataframe\">\n",
       "  <thead>\n",
       "    <tr style=\"text-align: right;\">\n",
       "      <th></th>\n",
       "      <th>division_8</th>\n",
       "      <th>species</th>\n",
       "      <th>trunk_genes_path</th>\n",
       "      <th>genes_file</th>\n",
       "      <th>count</th>\n",
       "      <th>mean</th>\n",
       "      <th>var</th>\n",
       "      <th>log10_mean</th>\n",
       "      <th>log10_var</th>\n",
       "      <th>name</th>\n",
       "      <th>tax_id</th>\n",
       "    </tr>\n",
       "  </thead>\n",
       "  <tbody>\n",
       "    <tr>\n",
       "      <th>13643</th>\n",
       "      <td>bacteria</td>\n",
       "      <td>shewanella_loihica_pv_4_gca_000016065</td>\n",
       "      <td>ftp.ensemblgenomes.org/pub/bacteria/release-49...</td>\n",
       "      <td>protein_coding.genes.shewanella_loihica_pv_4_g...</td>\n",
       "      <td>3859</td>\n",
       "      <td>1021.363307</td>\n",
       "      <td>545351.060302</td>\n",
       "      <td>2.91913</td>\n",
       "      <td>0.078996</td>\n",
       "      <td>Shewanella loihica PV-4 (GCA_000016065)</td>\n",
       "      <td>323850</td>\n",
       "    </tr>\n",
       "  </tbody>\n",
       "</table>\n",
       "</div>"
      ],
      "text/plain": [
       "      division_8                                species  \\\n",
       "13643   bacteria  shewanella_loihica_pv_4_gca_000016065   \n",
       "\n",
       "                                        trunk_genes_path  \\\n",
       "13643  ftp.ensemblgenomes.org/pub/bacteria/release-49...   \n",
       "\n",
       "                                              genes_file  count         mean  \\\n",
       "13643  protein_coding.genes.shewanella_loihica_pv_4_g...   3859  1021.363307   \n",
       "\n",
       "                 var  log10_mean  log10_var  \\\n",
       "13643  545351.060302     2.91913   0.078996   \n",
       "\n",
       "                                          name  tax_id  \n",
       "13643  Shewanella loihica PV-4 (GCA_000016065)  323850  "
      ]
     },
     "metadata": {},
     "output_type": "display_data"
    },
    {
     "name": "stdout",
     "output_type": "stream",
     "text": [
      "µ: 2.91912954750495 \tσ: 0.2810616140768444\n"
     ]
    },
    {
     "data": {
      "image/png": "[encoded data removed]",
      "text/plain": [
       "<Figure size 432x288 with 1 Axes>"
      ]
     },
     "metadata": {
      "needs_background": "light"
     },
     "output_type": "display_data"
    },
    {
     "name": "stdout",
     "output_type": "stream",
     "text": [
      "Kurtosis: -0.0928872982845288\n",
      "Skewness: -0.04449234391593719\n",
      "D'Agostino's K-squared test(statistics=2.6687314757122547, p-value=0.2633251396685134)\n"
     ]
    }
   ],
   "source": [
    "tax_id = 323850\n",
    "species_distribution__retrieve_plot_and_fit(stat_taxid_df, tax_id)"
   ]
  },
  {
   "cell_type": "markdown",
   "id": "9ba26e0e-2bf0-4c37-8028-591e62c69dd8",
   "metadata": {},
   "source": [
    "### _Orchesella cincta_ (tax\\_id = 48709)"
   ]
  },
  {
   "cell_type": "code",
   "execution_count": 19,
   "id": "55d37c9c-fea1-4037-83a8-3249ed29916a",
   "metadata": {},
   "outputs": [
    {
     "data": {
      "text/html": [
       "<div>\n",
       "<style scoped>\n",
       "    .dataframe tbody tr th:only-of-type {\n",
       "        vertical-align: middle;\n",
       "    }\n",
       "\n",
       "    .dataframe tbody tr th {\n",
       "        vertical-align: top;\n",
       "    }\n",
       "\n",
       "    .dataframe thead th {\n",
       "        text-align: right;\n",
       "    }\n",
       "</style>\n",
       "<table border=\"1\" class=\"dataframe\">\n",
       "  <thead>\n",
       "    <tr style=\"text-align: right;\">\n",
       "      <th></th>\n",
       "      <th>division_8</th>\n",
       "      <th>species</th>\n",
       "      <th>trunk_genes_path</th>\n",
       "      <th>genes_file</th>\n",
       "      <th>count</th>\n",
       "      <th>mean</th>\n",
       "      <th>var</th>\n",
       "      <th>log10_mean</th>\n",
       "      <th>log10_var</th>\n",
       "      <th>name</th>\n",
       "      <th>tax_id</th>\n",
       "    </tr>\n",
       "  </thead>\n",
       "  <tbody>\n",
       "    <tr>\n",
       "      <th>32867</th>\n",
       "      <td>metazoa</td>\n",
       "      <td>orchesella_cincta</td>\n",
       "      <td>ftp.ensemblgenomes.org/pub/metazoa/release-49/...</td>\n",
       "      <td>protein_coding.genes.orchesella_cincta.metazoa...</td>\n",
       "      <td>20247</td>\n",
       "      <td>2989.466094</td>\n",
       "      <td>1.212137e+07</td>\n",
       "      <td>3.312794</td>\n",
       "      <td>0.13434</td>\n",
       "      <td>Orchesella cincta</td>\n",
       "      <td>48709</td>\n",
       "    </tr>\n",
       "  </tbody>\n",
       "</table>\n",
       "</div>"
      ],
      "text/plain": [
       "      division_8            species  \\\n",
       "32867    metazoa  orchesella_cincta   \n",
       "\n",
       "                                        trunk_genes_path  \\\n",
       "32867  ftp.ensemblgenomes.org/pub/metazoa/release-49/...   \n",
       "\n",
       "                                              genes_file  count         mean  \\\n",
       "32867  protein_coding.genes.orchesella_cincta.metazoa...  20247  2989.466094   \n",
       "\n",
       "                var  log10_mean  log10_var               name  tax_id  \n",
       "32867  1.212137e+07    3.312794    0.13434  Orchesella cincta   48709  "
      ]
     },
     "metadata": {},
     "output_type": "display_data"
    },
    {
     "name": "stdout",
     "output_type": "stream",
     "text": [
      "µ: 3.31279370368112 \tσ: 0.36652388139624\n"
     ]
    },
    {
     "data": {
      "image/png": "[encoded data removed]",
      "text/plain": [
       "<Figure size 432x288 with 1 Axes>"
      ]
     },
     "metadata": {
      "needs_background": "light"
     },
     "output_type": "display_data"
    },
    {
     "name": "stdout",
     "output_type": "stream",
     "text": [
      "Kurtosis: 0.28192068320907726\n",
      "Skewness: 0.11965997379018041\n",
      "D'Agostino's K-squared test(statistics=100.23131466136556, p-value=1.7180925883051545e-22)\n"
     ]
    }
   ],
   "source": [
    "tax_id = 48709\n",
    "species_distribution__retrieve_plot_and_fit(stat_taxid_df, tax_id)"
   ]
  }
 ],
 "metadata": {
  "kernelspec": {
   "display_name": "Python 3 (ipykernel)",
   "language": "python",
   "name": "python3"
  },
  "language_info": {
   "codemirror_mode": {
    "name": "ipython",
    "version": 3
   },
   "file_extension": ".py",
   "mimetype": "text/x-python",
   "name": "python",
   "nbconvert_exporter": "python",
   "pygments_lexer": "ipython3",
   "version": "3.10.2"
  }
 },
 "nbformat": 4,
 "nbformat_minor": 5
}
