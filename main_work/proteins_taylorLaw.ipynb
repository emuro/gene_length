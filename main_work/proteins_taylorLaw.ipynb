{
 "cells": [
  {
   "cell_type": "markdown",
   "id": "4e158002-7422-422c-89ca-fbaacb381b27",
   "metadata": {},
   "source": [
    "# Observed Taylor law: variance vs mean \n",
    "**in protein length distributions for the different species (reference proteomes)**"
   ]
  },
  {
   "cell_type": "markdown",
   "id": "8046a185-31f3-48b1-83f7-947911a96d15",
   "metadata": {},
   "source": [
    "## Import python modules"
   ]
  },
  {
   "cell_type": "code",
   "execution_count": 1,
   "id": "51b0a90c",
   "metadata": {},
   "outputs": [],
   "source": [
    "import numpy as np\n",
    "from scipy import stats\n",
    "import pandas as pd\n",
    "#\n",
    "from plotnine import *\n",
    "if 1:\n",
    "    import warnings\n",
    "    warnings.filterwarnings('ignore')"
   ]
  },
  {
   "cell_type": "markdown",
   "id": "c7b6d3b5",
   "metadata": {},
   "source": [
    "## The protein length distributions for the different species"
   ]
  },
  {
   "cell_type": "markdown",
   "id": "d509543a-9bbf-4428-bb98-a287201ef79d",
   "metadata": {
    "tags": []
   },
   "source": [
    "### Retrieving the statistical descriptions of the length's distributions"
   ]
  },
  {
   "cell_type": "code",
   "execution_count": 2,
   "id": "86b76b58-6c34-4b8a-82b3-f117e835fad0",
   "metadata": {},
   "outputs": [
    {
     "name": "stdout",
     "output_type": "stream",
     "text": [
      "The statistical descriptions of the protein distributions for the different species is in:\n",
      " ../main_tables/stat_proteins.tsv \n",
      "\n"
     ]
    },
    {
     "data": {
      "text/html": [
       "<div>\n",
       "<style scoped>\n",
       "    .dataframe tbody tr th:only-of-type {\n",
       "        vertical-align: middle;\n",
       "    }\n",
       "\n",
       "    .dataframe tbody tr th {\n",
       "        vertical-align: top;\n",
       "    }\n",
       "\n",
       "    .dataframe thead th {\n",
       "        text-align: right;\n",
       "    }\n",
       "</style>\n",
       "<table border=\"1\" class=\"dataframe\">\n",
       "  <thead>\n",
       "    <tr style=\"text-align: right;\">\n",
       "      <th></th>\n",
       "      <th>superregnum</th>\n",
       "      <th>species</th>\n",
       "      <th>proteome_id</th>\n",
       "      <th>tax_id</th>\n",
       "      <th>uniprot_fasta_file</th>\n",
       "      <th>count</th>\n",
       "      <th>mean</th>\n",
       "      <th>var</th>\n",
       "      <th>log10_mean</th>\n",
       "      <th>log10_var</th>\n",
       "    </tr>\n",
       "  </thead>\n",
       "  <tbody>\n",
       "    <tr>\n",
       "      <th>0</th>\n",
       "      <td>bacteria</td>\n",
       "      <td>Kurthia sp. 3B1D</td>\n",
       "      <td>UP000288623</td>\n",
       "      <td>1562256</td>\n",
       "      <td>/ftp.uniprot.org/pub/databases/uniprot/current...</td>\n",
       "      <td>3621.0</td>\n",
       "      <td>285.936205</td>\n",
       "      <td>36171.895653</td>\n",
       "      <td>2.372531</td>\n",
       "      <td>0.075378</td>\n",
       "    </tr>\n",
       "    <tr>\n",
       "      <th>1</th>\n",
       "      <td>bacteria</td>\n",
       "      <td>Methyloprofundus sedimenti</td>\n",
       "      <td>UP000191980</td>\n",
       "      <td>1420851</td>\n",
       "      <td>/ftp.uniprot.org/pub/databases/uniprot/current...</td>\n",
       "      <td>3608.0</td>\n",
       "      <td>310.654933</td>\n",
       "      <td>52309.438700</td>\n",
       "      <td>2.393412</td>\n",
       "      <td>0.087226</td>\n",
       "    </tr>\n",
       "  </tbody>\n",
       "</table>\n",
       "</div>"
      ],
      "text/plain": [
       "  superregnum                     species  proteome_id   tax_id  \\\n",
       "0    bacteria            Kurthia sp. 3B1D  UP000288623  1562256   \n",
       "1    bacteria  Methyloprofundus sedimenti  UP000191980  1420851   \n",
       "\n",
       "                                  uniprot_fasta_file   count        mean  \\\n",
       "0  /ftp.uniprot.org/pub/databases/uniprot/current...  3621.0  285.936205   \n",
       "1  /ftp.uniprot.org/pub/databases/uniprot/current...  3608.0  310.654933   \n",
       "\n",
       "            var  log10_mean  log10_var  \n",
       "0  36171.895653    2.372531   0.075378  \n",
       "1  52309.438700    2.393412   0.087226  "
      ]
     },
     "metadata": {},
     "output_type": "display_data"
    },
    {
     "name": "stdout",
     "output_type": "stream",
     "text": [
      "(9915, 10)\n",
      "bacteria     7997\n",
      "eukaryota    1588\n",
      "archaea       330\n",
      "Name: superregnum, dtype: int64\n"
     ]
    }
   ],
   "source": [
    "# statistics on length distribution for different species     \n",
    "stat_file = \"../main_tables/stat_proteins.tsv\"\n",
    "print(\"The statistical descriptions of the protein distributions for the different species is in:\\n\", stat_file, \"\\n\")\n",
    "\n",
    "# retrieve data and diminish the number of columns\n",
    "stat_df = pd.read_csv(stat_file, low_memory=False, sep=\"\\t\")\n",
    "stat_df = stat_df[[\"superregnum\", \"species\", \"proteome_id\", \"tax_id\", \"uniprot_fasta_file\", \"count\", \"mean\", \"var\"] + [\"log10_mean\", \"log10_var\"]]\n",
    "\n",
    "# visualize data\n",
    "pd.set_option('display.max_columns', None)\n",
    "if 1:\n",
    "    display(stat_df.head(2))\n",
    "    print(stat_df.shape)\n",
    "    print(stat_df[\"superregnum\"].value_counts())"
   ]
  },
  {
   "cell_type": "markdown",
   "id": "7e182be9-5197-409b-a655-450673b950b9",
   "metadata": {},
   "source": [
    "## Python functions"
   ]
  },
  {
   "cell_type": "code",
   "execution_count": 3,
   "id": "eaacab97-ecfc-4b57-a5f8-00ef962ae1d5",
   "metadata": {},
   "outputs": [],
   "source": [
    "# FUNCTIONS\n",
    "###########\n",
    "def plot_taylor(df2plot, col_x, col_y, x_lab, y_lab, title, bool_show_regression): \n",
    "\n",
    "    # Calculate best fit line\n",
    "    slope, intercept, r_value, p_value, std_err = stats.linregress(np.log10(df2plot[col_x]),np.log10(df2plot[col_y]))\n",
    "    # Format the regression text\n",
    "    print('v = {:4.4} * m^{:4.4};   R^2= {:2.4f}'.format(10**intercept, slope, r_value**2))\n",
    "    if bool_show_regression:\n",
    "        txt = '$\\sigma^{2} = ' + '{:4.2} '.format(10**intercept)  + '\\t \\mu^{' + '{:4.3}'.format(slope) + '}' + ';\\tR^{2} = ' + '{:2.2f}$'.format(r_value**2)\n",
    "    else:\n",
    "        txt = ''\n",
    "        \n",
    "    # limits and tick-breaks\n",
    "    x_limits=[min(df2plot[col_x].to_list())/1.3, 1.3*max(df2plot[col_x].to_list())]\n",
    "    y_limits=[min(df2plot[col_y].to_list())/1.3, 1.3*max(df2plot[col_y].to_list())]\n",
    "    x_text_factor = 0.085\n",
    "    y_text_factor = 0.95\n",
    "        \n",
    "    p = (   \n",
    "        ggplot(df2plot, aes(col_x, col_y, color=legends_by)) + geom_point(size=0.1)\n",
    "        + geom_smooth(method=\"lm\", color=\"green\", size=0.25, span=.8)\n",
    "        + labs(title=title, x=x_lab, y=y_lab) \n",
    "        + scale_color_manual(values=['#D83B01', '#002050', '#A80000', '#FFA500', '#107C10','#EF008C', '#0078D7', '#B4009E']) # + scale_color_brewer() '#5C2D91'\n",
    "        + labs(color='Clade') # legend title\n",
    "        + scale_x_log10(breaks=[10 ** power for power in range(2, 4)], limits=x_limits) #, labels=scientific_format(digits=2)\n",
    "        + scale_y_log10(breaks = [10**power for power in range(3, 7)], limits=y_limits)\n",
    "    ) + theme(legend_position=(0.8,0.3), legend_key_size=5, legend_background=element_rect(fill='grey', alpha=0.01)) + annotate('text', x=x_text_factor*max(df2plot[col_x].to_list()), y=y_text_factor*max(df2plot[col_y].to_list()), label=txt,size=9,color=\"black\")\n",
    "    print(p)"
   ]
  },
  {
   "cell_type": "markdown",
   "id": "d74107a5-00b5-43fe-9273-8267a7f82ab8",
   "metadata": {},
   "source": [
    "## Observations: variance vs. mean (represented in $log_{10}$ scale)\n",
    "## Protein coding gene length distributions  \n",
    "$\\sigma^{2}$ is the variance   \n",
    "$\\mu$ is the mean "
   ]
  },
  {
   "cell_type": "code",
   "execution_count": 4,
   "id": "972d627b-8b43-4270-b05b-d18c1f94d3bc",
   "metadata": {},
   "outputs": [
    {
     "name": "stdout",
     "output_type": "stream",
     "text": [
      "(9915, 3)\n",
      "v = 0.0168 * m^2.605;   R^2= 0.7336\n"
     ]
    },
    {
     "data": {
      "image/png": "[encoded data removed]",
      "text/plain": [
       "<Figure size 432x288 with 1 Axes>"
      ]
     },
     "metadata": {},
     "output_type": "display_data"
    },
    {
     "name": "stdout",
     "output_type": "stream",
     "text": [
      "\n"
     ]
    }
   ],
   "source": [
    "df2plot = stat_df.copy()\n",
    "df2plot.rename(columns = {\"mean\" : 'prots_mean', \"var\" : 'prots_var'}, inplace = True)\n",
    "#display(df2plot)\n",
    "\n",
    "col_x = \"prots_mean\"\n",
    "col_y = \"prots_var\"\n",
    "legends_by = \"superregnum\"\n",
    "\n",
    "title = \"Protein length (reference proteomes)\"\n",
    "x_lab = \"Mean protein length (aa)\"\n",
    "y_lab = \"Protein length variance\"\n",
    "bool_show_regression = True\n",
    "\n",
    "df2plot = df2plot[[legends_by, col_x, col_y]]\n",
    "print(df2plot.shape)\n",
    "\n",
    "# Sort legends: clades in an order\n",
    "df2plot[legends_by] = pd.Categorical(df2plot[legends_by], \n",
    "                                categories=['bacteria', 'archaea', 'eukaryota'],\n",
    "                                ordered=True)\n",
    "df2plot.sort_values(legends_by, inplace=True)\n",
    "\n",
    "plot_taylor(df2plot, col_x, col_y, x_lab, y_lab, title, bool_show_regression)\n",
    "# geom_smooth error... do not concern!"
   ]
  },
  {
   "cell_type": "markdown",
   "id": "df10db66-f95f-44f4-9d35-bbfed12626bd",
   "metadata": {},
   "source": [
    "#### Note:  \n",
    "$\\sigma^{2} = a . \\mu^{\\beta}$   \n",
    "Because the regression line is:  \n",
    "$\\log(\\sigma^{2}) = \\log(a) + \\beta log(\\mu) $"
   ]
  }
 ],
 "metadata": {
  "kernelspec": {
   "display_name": "Python 3 (ipykernel)",
   "language": "python",
   "name": "python3"
  },
  "language_info": {
   "codemirror_mode": {
    "name": "ipython",
    "version": 3
   },
   "file_extension": ".py",
   "mimetype": "text/x-python",
   "name": "python",
   "nbconvert_exporter": "python",
   "pygments_lexer": "ipython3",
   "version": "3.10.6"
  }
 },
 "nbformat": 4,
 "nbformat_minor": 5
}
