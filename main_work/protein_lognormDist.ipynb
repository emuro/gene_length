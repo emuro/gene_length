{
 "cells": [
  {
   "cell_type": "markdown",
   "id": "4e158002-7422-422c-89ca-fbaacb381b27",
   "metadata": {},
   "source": [
    "# Distribution of the lengths of the proteins"
   ]
  },
  {
   "cell_type": "markdown",
   "id": "c200a4f3",
   "metadata": {},
   "source": [
    "## [Log-normal distribution](https://en.wikipedia.org/wiki/Log-normal_distribution)\n",
    "It is a continuous probability distribution of a random variable whose logarithm is normally distributed. For human-readability the decimal logarithm (log10) is used.\n",
    "  \n",
    "**The PDF (Probability Density Function) of a normal distribution is**  \n",
    "$ f(x) = \\frac{1}{ \\sigma \\sqrt{2 \\pi}} e^- \\frac{1}{2} {(\\frac{(x-\\mu)}{\\sigma})}^{2} $"
   ]
  },
  {
   "cell_type": "markdown",
   "id": "8046a185-31f3-48b1-83f7-947911a96d15",
   "metadata": {},
   "source": [
    "## Import python modules"
   ]
  },
  {
   "cell_type": "code",
   "execution_count": 1,
   "id": "51b0a90c",
   "metadata": {},
   "outputs": [],
   "source": [
    "import numpy as np\n",
    "import matplotlib.pyplot as plt\n",
    "from scipy import stats\n",
    "import os \n",
    "import pandas as pd\n",
    "import math"
   ]
  },
  {
   "cell_type": "markdown",
   "id": "c7b6d3b5",
   "metadata": {},
   "source": [
    "## The protein length distributions for the different species"
   ]
  },
  {
   "cell_type": "markdown",
   "id": "d509543a-9bbf-4428-bb98-a287201ef79d",
   "metadata": {},
   "source": [
    "### Retrieving the statistical descriptions of the length's distributions"
   ]
  },
  {
   "cell_type": "code",
   "execution_count": 2,
   "id": "86b76b58-6c34-4b8a-82b3-f117e835fad0",
   "metadata": {},
   "outputs": [
    {
     "name": "stdout",
     "output_type": "stream",
     "text": [
      "The statistical descriptions of the protein distributions for the different species is in:\n",
      " ../main_tables/stat_proteins.tsv \n",
      "\n"
     ]
    },
    {
     "data": {
      "text/html": [
       "<div>\n",
       "<style scoped>\n",
       "    .dataframe tbody tr th:only-of-type {\n",
       "        vertical-align: middle;\n",
       "    }\n",
       "\n",
       "    .dataframe tbody tr th {\n",
       "        vertical-align: top;\n",
       "    }\n",
       "\n",
       "    .dataframe thead th {\n",
       "        text-align: right;\n",
       "    }\n",
       "</style>\n",
       "<table border=\"1\" class=\"dataframe\">\n",
       "  <thead>\n",
       "    <tr style=\"text-align: right;\">\n",
       "      <th></th>\n",
       "      <th>superregnum</th>\n",
       "      <th>species</th>\n",
       "      <th>proteome_id</th>\n",
       "      <th>tax_id</th>\n",
       "      <th>uniprot_fasta_file</th>\n",
       "      <th>count</th>\n",
       "      <th>mean</th>\n",
       "      <th>var</th>\n",
       "      <th>log10_mean</th>\n",
       "      <th>log10_var</th>\n",
       "    </tr>\n",
       "  </thead>\n",
       "  <tbody>\n",
       "    <tr>\n",
       "      <th>0</th>\n",
       "      <td>bacteria</td>\n",
       "      <td>Kurthia sp. 3B1D</td>\n",
       "      <td>UP000288623</td>\n",
       "      <td>1562256</td>\n",
       "      <td>/ftp.uniprot.org/pub/databases/uniprot/current...</td>\n",
       "      <td>3621.0</td>\n",
       "      <td>285.936205</td>\n",
       "      <td>36171.895653</td>\n",
       "      <td>2.372531</td>\n",
       "      <td>0.075378</td>\n",
       "    </tr>\n",
       "    <tr>\n",
       "      <th>1</th>\n",
       "      <td>bacteria</td>\n",
       "      <td>Methyloprofundus sedimenti</td>\n",
       "      <td>UP000191980</td>\n",
       "      <td>1420851</td>\n",
       "      <td>/ftp.uniprot.org/pub/databases/uniprot/current...</td>\n",
       "      <td>3608.0</td>\n",
       "      <td>310.654933</td>\n",
       "      <td>52309.438700</td>\n",
       "      <td>2.393412</td>\n",
       "      <td>0.087226</td>\n",
       "    </tr>\n",
       "  </tbody>\n",
       "</table>\n",
       "</div>"
      ],
      "text/plain": [
       "  superregnum                     species  proteome_id   tax_id  \\\n",
       "0    bacteria            Kurthia sp. 3B1D  UP000288623  1562256   \n",
       "1    bacteria  Methyloprofundus sedimenti  UP000191980  1420851   \n",
       "\n",
       "                                  uniprot_fasta_file   count        mean  \\\n",
       "0  /ftp.uniprot.org/pub/databases/uniprot/current...  3621.0  285.936205   \n",
       "1  /ftp.uniprot.org/pub/databases/uniprot/current...  3608.0  310.654933   \n",
       "\n",
       "            var  log10_mean  log10_var  \n",
       "0  36171.895653    2.372531   0.075378  \n",
       "1  52309.438700    2.393412   0.087226  "
      ]
     },
     "metadata": {},
     "output_type": "display_data"
    },
    {
     "name": "stdout",
     "output_type": "stream",
     "text": [
      "(9915, 10)\n",
      "bacteria     7997\n",
      "eukaryota    1588\n",
      "archaea       330\n",
      "Name: superregnum, dtype: int64\n"
     ]
    }
   ],
   "source": [
    "# statistics on length distribution for different species     \n",
    "stat_file = \"../main_tables/stat_proteins.tsv\"\n",
    "print(\"The statistical descriptions of the protein distributions for the different species is in:\\n\", stat_file, \"\\n\")\n",
    "\n",
    "# retrieve data and diminish the number of columns\n",
    "stat_df = pd.read_csv(stat_file, low_memory=False, sep=\"\\t\")\n",
    "stat_df = stat_df[[\"superregnum\", \"species\", \"proteome_id\", \"tax_id\", \"uniprot_fasta_file\", \"count\", \"mean\", \"var\"] + [\"log10_mean\", \"log10_var\"]]\n",
    "\n",
    "# visualize data\n",
    "pd.set_option('display.max_columns', None)\n",
    "if 1:\n",
    "    display(stat_df.head(2))\n",
    "    print(stat_df.shape)\n",
    "    print(stat_df[\"superregnum\"].value_counts())"
   ]
  },
  {
   "cell_type": "code",
   "execution_count": 3,
   "id": "171e31a8-0661-4dc9-bfac-6b4c42c01a87",
   "metadata": {},
   "outputs": [
    {
     "data": {
      "text/html": [
       "<div>\n",
       "<style scoped>\n",
       "    .dataframe tbody tr th:only-of-type {\n",
       "        vertical-align: middle;\n",
       "    }\n",
       "\n",
       "    .dataframe tbody tr th {\n",
       "        vertical-align: top;\n",
       "    }\n",
       "\n",
       "    .dataframe thead th {\n",
       "        text-align: right;\n",
       "    }\n",
       "</style>\n",
       "<table border=\"1\" class=\"dataframe\">\n",
       "  <thead>\n",
       "    <tr style=\"text-align: right;\">\n",
       "      <th></th>\n",
       "      <th>name</th>\n",
       "      <th>species</th>\n",
       "      <th>tax_id</th>\n",
       "    </tr>\n",
       "  </thead>\n",
       "  <tbody>\n",
       "    <tr>\n",
       "      <th>0</th>\n",
       "      <td>Spiny chromis</td>\n",
       "      <td>acanthochromis_polyacanthus</td>\n",
       "      <td>80966</td>\n",
       "    </tr>\n",
       "    <tr>\n",
       "      <th>1</th>\n",
       "      <td>Panda</td>\n",
       "      <td>ailuropoda_melanoleuca</td>\n",
       "      <td>9646</td>\n",
       "    </tr>\n",
       "  </tbody>\n",
       "</table>\n",
       "</div>"
      ],
      "text/plain": [
       "            name                      species  tax_id\n",
       "0  Spiny chromis  acanthochromis_polyacanthus   80966\n",
       "1          Panda       ailuropoda_melanoleuca    9646"
      ]
     },
     "metadata": {},
     "output_type": "display_data"
    },
    {
     "name": "stdout",
     "output_type": "stream",
     "text": [
      "(33021, 3)\n"
     ]
    }
   ],
   "source": [
    "# ENSEMBL tax_id     \n",
    "ensembl_taxId_file = \"../main_tables/extra_tables/species_Ensembl.tsv\" \n",
    "\n",
    "# retrieve data\n",
    "taxid_df = pd.read_csv(ensembl_taxId_file, sep=\"\\t\")\n",
    "taxid_df = taxid_df[[\"#name\", \"species\", \"taxonomy_id\"]]\n",
    "taxid_df.rename(columns = {\"#name\" : 'name', \"taxonomy_id\" : 'tax_id'}, inplace = True)\n",
    "\n",
    "# visualize data\n",
    "pd.set_option('display.max_columns', None)\n",
    "if 1:\n",
    "    display(taxid_df.head(2))\n",
    "    print(taxid_df.shape)"
   ]
  },
  {
   "cell_type": "code",
   "execution_count": 4,
   "id": "c8b00dd3-85b7-4e13-8245-55406669aafb",
   "metadata": {},
   "outputs": [
    {
     "ename": "KeyError",
     "evalue": "'tax_id'",
     "output_type": "error",
     "traceback": [
      "\u001b[0;31m---------------------------------------------------------------------------\u001b[0m",
      "\u001b[0;31mKeyError\u001b[0m                                  Traceback (most recent call last)",
      "File \u001b[0;32m~/python-my_venv/python3.10/my_env/lib/python3.10/site-packages/pandas/core/indexes/base.py:3621\u001b[0m, in \u001b[0;36mIndex.get_loc\u001b[0;34m(self, key, method, tolerance)\u001b[0m\n\u001b[1;32m   3620\u001b[0m \u001b[38;5;28;01mtry\u001b[39;00m:\n\u001b[0;32m-> 3621\u001b[0m     \u001b[38;5;28;01mreturn\u001b[39;00m \u001b[38;5;28;43mself\u001b[39;49m\u001b[38;5;241;43m.\u001b[39;49m\u001b[43m_engine\u001b[49m\u001b[38;5;241;43m.\u001b[39;49m\u001b[43mget_loc\u001b[49m\u001b[43m(\u001b[49m\u001b[43mcasted_key\u001b[49m\u001b[43m)\u001b[49m\n\u001b[1;32m   3622\u001b[0m \u001b[38;5;28;01mexcept\u001b[39;00m \u001b[38;5;167;01mKeyError\u001b[39;00m \u001b[38;5;28;01mas\u001b[39;00m err:\n",
      "File \u001b[0;32m~/python-my_venv/python3.10/my_env/lib/python3.10/site-packages/pandas/_libs/index.pyx:136\u001b[0m, in \u001b[0;36mpandas._libs.index.IndexEngine.get_loc\u001b[0;34m()\u001b[0m\n",
      "File \u001b[0;32m~/python-my_venv/python3.10/my_env/lib/python3.10/site-packages/pandas/_libs/index.pyx:163\u001b[0m, in \u001b[0;36mpandas._libs.index.IndexEngine.get_loc\u001b[0;34m()\u001b[0m\n",
      "File \u001b[0;32mpandas/_libs/hashtable_class_helper.pxi:5198\u001b[0m, in \u001b[0;36mpandas._libs.hashtable.PyObjectHashTable.get_item\u001b[0;34m()\u001b[0m\n",
      "File \u001b[0;32mpandas/_libs/hashtable_class_helper.pxi:5206\u001b[0m, in \u001b[0;36mpandas._libs.hashtable.PyObjectHashTable.get_item\u001b[0;34m()\u001b[0m\n",
      "\u001b[0;31mKeyError\u001b[0m: 'tax_id'",
      "\nThe above exception was the direct cause of the following exception:\n",
      "\u001b[0;31mKeyError\u001b[0m                                  Traceback (most recent call last)",
      "Input \u001b[0;32mIn [4]\u001b[0m, in \u001b[0;36m<cell line: 3>\u001b[0;34m()\u001b[0m\n\u001b[1;32m      1\u001b[0m \u001b[38;5;66;03m# Use pandas.merge() on multiple columns\u001b[39;00m\n\u001b[1;32m      2\u001b[0m stat_df \u001b[38;5;241m=\u001b[39m pd\u001b[38;5;241m.\u001b[39mmerge(stat_df, taxid_df, on\u001b[38;5;241m=\u001b[39m[\u001b[38;5;124m'\u001b[39m\u001b[38;5;124mspecies\u001b[39m\u001b[38;5;124m'\u001b[39m])\n\u001b[0;32m----> 3\u001b[0m stat_df \u001b[38;5;241m=\u001b[39m stat_df[\u001b[43mstat_df\u001b[49m\u001b[43m[\u001b[49m\u001b[38;5;124;43m'\u001b[39;49m\u001b[38;5;124;43mtax_id\u001b[39;49m\u001b[38;5;124;43m'\u001b[39;49m\u001b[43m]\u001b[49m\u001b[38;5;241m.\u001b[39mnotna()]\n\u001b[1;32m      4\u001b[0m \u001b[38;5;28;01mif\u001b[39;00m \u001b[38;5;241m0\u001b[39m:\n\u001b[1;32m      5\u001b[0m     display(stat_df\u001b[38;5;241m.\u001b[39mhead(\u001b[38;5;241m2\u001b[39m))\n",
      "File \u001b[0;32m~/python-my_venv/python3.10/my_env/lib/python3.10/site-packages/pandas/core/frame.py:3505\u001b[0m, in \u001b[0;36mDataFrame.__getitem__\u001b[0;34m(self, key)\u001b[0m\n\u001b[1;32m   3503\u001b[0m \u001b[38;5;28;01mif\u001b[39;00m \u001b[38;5;28mself\u001b[39m\u001b[38;5;241m.\u001b[39mcolumns\u001b[38;5;241m.\u001b[39mnlevels \u001b[38;5;241m>\u001b[39m \u001b[38;5;241m1\u001b[39m:\n\u001b[1;32m   3504\u001b[0m     \u001b[38;5;28;01mreturn\u001b[39;00m \u001b[38;5;28mself\u001b[39m\u001b[38;5;241m.\u001b[39m_getitem_multilevel(key)\n\u001b[0;32m-> 3505\u001b[0m indexer \u001b[38;5;241m=\u001b[39m \u001b[38;5;28;43mself\u001b[39;49m\u001b[38;5;241;43m.\u001b[39;49m\u001b[43mcolumns\u001b[49m\u001b[38;5;241;43m.\u001b[39;49m\u001b[43mget_loc\u001b[49m\u001b[43m(\u001b[49m\u001b[43mkey\u001b[49m\u001b[43m)\u001b[49m\n\u001b[1;32m   3506\u001b[0m \u001b[38;5;28;01mif\u001b[39;00m is_integer(indexer):\n\u001b[1;32m   3507\u001b[0m     indexer \u001b[38;5;241m=\u001b[39m [indexer]\n",
      "File \u001b[0;32m~/python-my_venv/python3.10/my_env/lib/python3.10/site-packages/pandas/core/indexes/base.py:3623\u001b[0m, in \u001b[0;36mIndex.get_loc\u001b[0;34m(self, key, method, tolerance)\u001b[0m\n\u001b[1;32m   3621\u001b[0m     \u001b[38;5;28;01mreturn\u001b[39;00m \u001b[38;5;28mself\u001b[39m\u001b[38;5;241m.\u001b[39m_engine\u001b[38;5;241m.\u001b[39mget_loc(casted_key)\n\u001b[1;32m   3622\u001b[0m \u001b[38;5;28;01mexcept\u001b[39;00m \u001b[38;5;167;01mKeyError\u001b[39;00m \u001b[38;5;28;01mas\u001b[39;00m err:\n\u001b[0;32m-> 3623\u001b[0m     \u001b[38;5;28;01mraise\u001b[39;00m \u001b[38;5;167;01mKeyError\u001b[39;00m(key) \u001b[38;5;28;01mfrom\u001b[39;00m \u001b[38;5;21;01merr\u001b[39;00m\n\u001b[1;32m   3624\u001b[0m \u001b[38;5;28;01mexcept\u001b[39;00m \u001b[38;5;167;01mTypeError\u001b[39;00m:\n\u001b[1;32m   3625\u001b[0m     \u001b[38;5;66;03m# If we have a listlike key, _check_indexing_error will raise\u001b[39;00m\n\u001b[1;32m   3626\u001b[0m     \u001b[38;5;66;03m#  InvalidIndexError. Otherwise we fall through and re-raise\u001b[39;00m\n\u001b[1;32m   3627\u001b[0m     \u001b[38;5;66;03m#  the TypeError.\u001b[39;00m\n\u001b[1;32m   3628\u001b[0m     \u001b[38;5;28mself\u001b[39m\u001b[38;5;241m.\u001b[39m_check_indexing_error(key)\n",
      "\u001b[0;31mKeyError\u001b[0m: 'tax_id'"
     ]
    }
   ],
   "source": [
    "# Use pandas.merge() on multiple columns\n",
    "stat_df = pd.merge(stat_df, taxid_df, on=['species'])\n",
    "stat_df = stat_df[stat_df['tax_id'].notna()]\n",
    "if 0:\n",
    "    display(stat_df.head(2))\n",
    "    print(stat_df.shape)"
   ]
  },
  {
   "cell_type": "markdown",
   "id": "b7864e7f-66e1-4115-9a45-c2d020171688",
   "metadata": {
    "tags": []
   },
   "source": [
    "## Python functions"
   ]
  },
  {
   "cell_type": "code",
   "execution_count": null,
   "id": "af6c0ad2-9985-4285-887a-c413505d46e6",
   "metadata": {},
   "outputs": [],
   "source": [
    "# species' stats for length distribution\n",
    "def get_df_for_taxid(df, taxid):\n",
    "     return df.loc[df[\"tax_id\"]==taxid].copy()"
   ]
  },
  {
   "cell_type": "code",
   "execution_count": null,
   "id": "1371569f-3901-448e-871a-828de23bd9d9",
   "metadata": {},
   "outputs": [],
   "source": [
    "#### Function to plot the log-normal distribution\n",
    "# blue: Observation\n",
    "# red: Theoretical/Simulation\n",
    "##########################################\n",
    "def plot_log_norm (log10_len, mu, sigma, N, title, subtitle, xlabel, ylabel): # N is number of \n",
    "    print(\"µ:\", mu, \"\\tσ:\", sigma)\n",
    "    my_normal_dist = np.random.normal(mu, sigma, N)\n",
    "    count, bins, *rest = plt.hist(log10_len, 60, density=True, alpha=0.8, edgecolor='black') # plot 60 bins\n",
    "\n",
    "    # plt.hist(my_normal_dist, 30, density=True, alpha=0.25, color=\"r\")\n",
    "    # print(count); print(bins); print(*rest)\n",
    "    \n",
    "    plt.plot(bins, 1/(sigma * np.sqrt(2 * np.pi)) *\n",
    "             np.exp( - (bins - mu)**2 / (2 * sigma**2) ),\n",
    "             linewidth=2, color='r', alpha=0.5)\n",
    "     \n",
    "    # mean\n",
    "    plt.vlines(x = mu, ymin = 0, ymax = 0.2, colors = 'white', label = 'mean')\n",
    "    plt.xlim([1,7]); plt.ylim([0,2.0])\n",
    "    plt.suptitle(title, style='italic'); plt.title(subtitle + \" (\" + str(int(N)) +\")\")\n",
    "    plt.xlabel(xlabel); plt.ylabel(ylabel)\n",
    "    plt.show()"
   ]
  },
  {
   "cell_type": "code",
   "execution_count": null,
   "id": "ee7bf25c-d0a0-4028-9af0-2e8f7979a15f",
   "metadata": {},
   "outputs": [],
   "source": [
    "def does_it_fits_normal(data_observed): \n",
    "    # Kurtosis and Skewness\n",
    "    # =====================\n",
    "    print('Kurtosis:', stats.kurtosis(data_observed))\n",
    "    print('Skewness:', stats.skew(data_observed))\n",
    "    # D'Agostino's K-squared test\n",
    "    # ===========================\n",
    "    k2, p_value = stats.normaltest(data_observed)\n",
    "    print(f\"D'Agostino's K-squared test(statistics={k2}, p-value={p_value})\")\n",
    "    #\n",
    "    # Mathematicaly it ends up beeing a theoretical log-normal when.\n",
    "    #    - Kurtosis o Skewness: $\\leq -1$ o $\\geq 1$ \n",
    "    #    - D'Agostino's K-squared test: p-value $ \\leq 0.05 $, becuase it rejects the null hypothesis "
   ]
  },
  {
   "cell_type": "code",
   "execution_count": null,
   "id": "1bcc7a1e-2408-46a8-af94-026a08044e94",
   "metadata": {},
   "outputs": [],
   "source": [
    "# The next function performs the whole analysis for a tax_id\n",
    "def species_distribution__retrieve_plot_and_fit(stat_df, tax_id):\n",
    "    species_df = get_df_for_taxid(stat_df, tax_id)\n",
    "    species_df.drop_duplicates(subset=['tax_id'], inplace=True, keep='last')\n",
    "    display(species_df)\n",
    "    \n",
    "    lengths_f = our_mnt_dir + \"results/geneLength/\" + species_df[\"uniprot_fasta_file\"].item() \n",
    "    lengths_f = lengths_f.replace(\".fasta.gz\", \".length.tsv\") # I get the \n",
    "    print(lengths_f)\n",
    "    \n",
    "    # retrieve data\n",
    "    lens_df = pd.read_csv(lengths_f, sep=\"\\t\")\n",
    "    lens_df = lens_df[[\"length\"]]\n",
    "    # visualize data\n",
    "    pd.set_option('display.max_columns', None)\n",
    "    if 0:\n",
    "        display(lens_df.head(2))\n",
    "        print(lens_df.shape)\n",
    "    \n",
    "    # plot the distributions: observed and theoretical\n",
    "    lens_df[\"log10_length\"] = lens_df[\"length\"].apply(np.log10)\n",
    "    title = species_df[\"species\"].item().capitalize(); subtitle = \"Proteins\";  xlabel = \"$log_{10}(length)$\"; ylabel = \"Probability density function\"\n",
    "    plot_log_norm (lens_df[\"log10_length\"], species_df[\"log10_mean\"].item(), math.sqrt(species_df[\"log10_var\"].item()), int(species_df[\"count\"].item()), \n",
    "                   title, subtitle, xlabel, ylabel)  \n",
    "    # fit to normal\n",
    "    does_it_fits_normal(lens_df[\"log10_length\"])"
   ]
  },
  {
   "cell_type": "markdown",
   "id": "2111fd8f-02db-4b6b-b70d-50d386b34b0c",
   "metadata": {},
   "source": [
    "## Distributions for different species:"
   ]
  },
  {
   "cell_type": "markdown",
   "id": "02d86cba-90c3-420a-a342-effebd787c95",
   "metadata": {},
   "source": [
    "### _Homo sapiens_ (tax_id = 9606)"
   ]
  },
  {
   "cell_type": "markdown",
   "id": "0866ec4e-b56f-45c2-9858-b517c8481d26",
   "metadata": {},
   "source": [
    "#### Retrieve its statistical description"
   ]
  },
  {
   "cell_type": "code",
   "execution_count": 5,
   "id": "4cd3536d-1829-4625-9dbf-234606f1c6e2",
   "metadata": {},
   "outputs": [
    {
     "ename": "NameError",
     "evalue": "name 'get_df_for_taxid' is not defined",
     "output_type": "error",
     "traceback": [
      "\u001b[0;31m---------------------------------------------------------------------------\u001b[0m",
      "\u001b[0;31mNameError\u001b[0m                                 Traceback (most recent call last)",
      "Input \u001b[0;32mIn [5]\u001b[0m, in \u001b[0;36m<cell line: 2>\u001b[0;34m()\u001b[0m\n\u001b[1;32m      1\u001b[0m tax_id \u001b[38;5;241m=\u001b[39m \u001b[38;5;241m9606\u001b[39m\n\u001b[0;32m----> 2\u001b[0m human_df \u001b[38;5;241m=\u001b[39m \u001b[43mget_df_for_taxid\u001b[49m(stat_df, tax_id)\n\u001b[1;32m      3\u001b[0m display(human_df)\n",
      "\u001b[0;31mNameError\u001b[0m: name 'get_df_for_taxid' is not defined"
     ]
    }
   ],
   "source": [
    "tax_id = 9606\n",
    "human_df = get_df_for_taxid(stat_df, tax_id)\n",
    "display(human_df)"
   ]
  },
  {
   "cell_type": "markdown",
   "id": "8b65e339-703e-448f-ad07-04b1ce596bea",
   "metadata": {},
   "source": [
    "#### Retrieve its genes"
   ]
  },
  {
   "cell_type": "code",
   "execution_count": null,
   "id": "4ed4b6e0-09b4-4b13-9989-511ad6e908b1",
   "metadata": {},
   "outputs": [],
   "source": [
    "# system dependencies\n",
    "system = list(os.uname())[0]\n",
    "if system == 'Linux':\n",
    "    our_mnt_dir = \"/media/emuro/Nubya/\" # my disks: Nubya, Wes\n",
    "elif system == 'Darwin':\n",
    "    our_mnt_dir = \"/Volumes/Wes/\" # my disks: Wes, Nubya \n",
    "\n",
    "prots_f = our_mnt_dir + \"results/geneLength/\" + human_df[\"uniprot_fasta_file\"].item() \n",
    "prots_f = prots_f.replace(\".fasta.gz\", \".length.tsv\") # I get the \n",
    "print(\"All the proteins with their lengths of the species are in:\\n\", prots_f, \"\\n\")\n",
    "\n",
    "# retrieve data\n",
    "prots_df = pd.read_csv(prots_f, sep=\"\\t\")\n",
    "prots_df = prots_df[[\"length\"]]  \n",
    "\n",
    "\n",
    "# visualize data\n",
    "pd.set_option('display.max_columns', None)\n",
    "if 0:\n",
    "    display(prots_df.head(2))\n",
    "    print(prots_df.shape)"
   ]
  },
  {
   "cell_type": "markdown",
   "id": "0f99eb42-9c12-40ca-a2fd-10bd57b53360",
   "metadata": {},
   "source": [
    "#### Plot the $log_{10}(length)$ distribution and the fit to a theoretical log10-normal"
   ]
  },
  {
   "cell_type": "code",
   "execution_count": null,
   "id": "c8e44cba-d963-47ec-acf1-d5165a7b4c9f",
   "metadata": {},
   "outputs": [],
   "source": [
    "prots_df[\"log10_length\"] = prots_df[\"length\"].apply(np.log10)\n",
    "title = human_df[\"species\"].item().capitalize(); subtitle = \"Proteins\";  xlabel = \"$log_{10}(length)$\"; ylabel = \"Probability density function\"\n",
    "plot_log_norm (prots_df[\"log10_length\"], human_df[\"log10_mean\"].item(), math.sqrt(human_df[\"log10_var\"].item()), int(human_df[\"count\"].item()), \n",
    "               title, subtitle, xlabel, ylabel)  "
   ]
  },
  {
   "cell_type": "markdown",
   "id": "1ee437a1-566a-4aed-9f9c-ce652635d399",
   "metadata": {},
   "source": [
    "#### Does the distribution fits the normal distribution?"
   ]
  },
  {
   "cell_type": "code",
   "execution_count": null,
   "id": "05c41cfc",
   "metadata": {},
   "outputs": [],
   "source": [
    "does_it_fits_normal(prots_df[\"log10_length\"]) "
   ]
  },
  {
   "cell_type": "markdown",
   "id": "33f4c1d0-da71-48cf-a18c-ef9070cb5dc1",
   "metadata": {},
   "source": [
    "### _Danio rerio_ (tax_id = 7955)"
   ]
  },
  {
   "cell_type": "code",
   "execution_count": null,
   "id": "cf767c67",
   "metadata": {},
   "outputs": [],
   "source": [
    "tax_id = 7955\n",
    "species_distribution__retrieve_plot_and_fit(stat_df, 7955)"
   ]
  },
  {
   "cell_type": "markdown",
   "id": "5f3bd0f1-05e3-4b60-b425-eff9b1e14aa0",
   "metadata": {},
   "source": [
    "### _Drosophila melanogaster_ (tax_id = 7227)"
   ]
  },
  {
   "cell_type": "code",
   "execution_count": null,
   "id": "df3e345a-f34a-4d9f-89df-ece81fa54d37",
   "metadata": {},
   "outputs": [],
   "source": [
    "tax_id = 7227\n",
    "species_distribution__retrieve_plot_and_fit(stat_df, tax_id)"
   ]
  },
  {
   "cell_type": "markdown",
   "id": "c609b4ab-c94a-4a2c-a107-26e7d57e91aa",
   "metadata": {},
   "source": [
    "### _Arabidopsis thaliana_ (tax_id = 3702)"
   ]
  },
  {
   "cell_type": "code",
   "execution_count": null,
   "id": "6f5ac606-f3da-4454-82a1-bee94dc747da",
   "metadata": {},
   "outputs": [],
   "source": [
    "tax_id = 3702\n",
    "species_distribution__retrieve_plot_and_fit(stat_df, tax_id)"
   ]
  },
  {
   "cell_type": "markdown",
   "id": "101243f5-2c78-4f40-a996-554f28c3ee7e",
   "metadata": {},
   "source": [
    "### _Saccharomyces cerevisae_ (tax_id = 4932)"
   ]
  },
  {
   "cell_type": "code",
   "execution_count": null,
   "id": "427336ea-2d5e-4f2b-b2d7-e11a49980697",
   "metadata": {},
   "outputs": [],
   "source": [
    "#tax_id = 4932 #uniprot: 559292 (not in ensembl) \n",
    "#species_distribution__retrieve_plot_and_fit(stat_df, tax_id)"
   ]
  },
  {
   "cell_type": "markdown",
   "id": "c2440f06-107a-457e-a656-e21d5c382d61",
   "metadata": {},
   "source": [
    "### _Escherichia coli_ (tax_id = 83333)"
   ]
  },
  {
   "cell_type": "code",
   "execution_count": null,
   "id": "df582095-3786-468f-8647-10d972e22b53",
   "metadata": {},
   "outputs": [],
   "source": [
    "tax_id = 83334 #562 uniprot: 83333 (k12), 83334(0157:h7 disease), 1408285 (otra, this is not in ensembl)\n",
    "species_distribution__retrieve_plot_and_fit(stat_df, tax_id)"
   ]
  },
  {
   "cell_type": "markdown",
   "id": "45cc3497-9902-4714-a7c1-76bc14dc0a95",
   "metadata": {},
   "source": [
    "## Fig. 1"
   ]
  },
  {
   "cell_type": "markdown",
   "id": "3cea303e-22c0-4353-b1d3-8609aacffb0c",
   "metadata": {},
   "source": [
    "### _Danio rerio_ (tax_id = 7955)"
   ]
  },
  {
   "cell_type": "code",
   "execution_count": null,
   "id": "00572d37-eca3-4dd6-b056-6b109b2054f0",
   "metadata": {},
   "outputs": [],
   "source": [
    "tax_id = 7955\n",
    "species_distribution__retrieve_plot_and_fit(stat_df, 7955)"
   ]
  },
  {
   "cell_type": "markdown",
   "id": "3bc91201-24a6-43ca-afcf-0c40b47da573",
   "metadata": {},
   "source": [
    "## Fig S1"
   ]
  },
  {
   "cell_type": "markdown",
   "id": "a097cd5e-8078-4c42-995c-1f9730e86d5c",
   "metadata": {},
   "source": [
    "### _Acanthochromis polyacanthus_ (tax_id = 80966)"
   ]
  },
  {
   "cell_type": "code",
   "execution_count": null,
   "id": "4618cdf7-b6d5-43a3-9f62-4b418eb02811",
   "metadata": {},
   "outputs": [],
   "source": [
    "tax_id = 80966\n",
    "species_distribution__retrieve_plot_and_fit(stat_df, 80966)"
   ]
  },
  {
   "cell_type": "markdown",
   "id": "c8c75578-1091-410d-a308-852f6303537d",
   "metadata": {},
   "source": [
    "### _Apteryx owenii_ (tax_id = 8824)"
   ]
  },
  {
   "cell_type": "code",
   "execution_count": null,
   "id": "c6913dff-8906-4fb1-ab6f-2c0e473c9e9f",
   "metadata": {},
   "outputs": [],
   "source": [
    "#tax_id = 8824\n",
    "#species_distribution__retrieve_plot_and_fit(stat_df, 8824)"
   ]
  },
  {
   "cell_type": "markdown",
   "id": "e1977cf2-5b33-46cb-8fd9-72e5bb88e8bd",
   "metadata": {},
   "source": [
    "### _Equus asinus asinus_ (tax_id = 83772)"
   ]
  },
  {
   "cell_type": "code",
   "execution_count": null,
   "id": "69389a33-a9a9-4ea6-9632-fc16e61f50bc",
   "metadata": {},
   "outputs": [],
   "source": [
    "#tax_id = 83772\n",
    "#species_distribution__retrieve_plot_and_fit(stat_df, 83772)"
   ]
  },
  {
   "cell_type": "markdown",
   "id": "28b2575a-089a-47bf-883a-da16a4a82496",
   "metadata": {},
   "source": [
    "### _Vitis vinifera_ (tax\\_id = 29760)"
   ]
  },
  {
   "cell_type": "code",
   "execution_count": null,
   "id": "168a2993-c279-4e6d-abc6-850924bc9c6f",
   "metadata": {},
   "outputs": [],
   "source": [
    "tax_id = 29760\n",
    "species_distribution__retrieve_plot_and_fit(stat_df, 29760)"
   ]
  },
  {
   "cell_type": "markdown",
   "id": "0787946e-ad3a-458e-93b8-67579893e863",
   "metadata": {},
   "source": [
    "### _Acinetobacter baumannii_ (tax\\_id = 1310800)"
   ]
  },
  {
   "cell_type": "code",
   "execution_count": null,
   "id": "45e20fea-6f0c-45a1-9656-96f83673c790",
   "metadata": {},
   "outputs": [],
   "source": [
    "#tax_id = 1310800\n",
    "#species_distribution__retrieve_plot_and_fit(stat_df, 1310800)"
   ]
  },
  {
   "cell_type": "markdown",
   "id": "0681824c-0c30-48bd-9dc5-a2504c9e6c87",
   "metadata": {},
   "source": [
    "### _Colletotrichum gloeosporioides_ (tax\\_id = 1213859)"
   ]
  },
  {
   "cell_type": "code",
   "execution_count": null,
   "id": "553ab12a-1e7c-41d1-9117-20a24041a090",
   "metadata": {},
   "outputs": [],
   "source": [
    "tax_id = 1213859\n",
    "species_distribution__retrieve_plot_and_fit(stat_df, 1213859)"
   ]
  },
  {
   "cell_type": "markdown",
   "id": "ad4e7dad-7c01-48e7-8fea-87433d28b6f7",
   "metadata": {},
   "source": [
    "## Fig S2"
   ]
  },
  {
   "cell_type": "markdown",
   "id": "f599574b-98e8-4a98-ae45-4395c1aa7359",
   "metadata": {},
   "source": [
    "### _Cavia porcellus_ (tax\\_id = 10141)"
   ]
  },
  {
   "cell_type": "code",
   "execution_count": null,
   "id": "efcee75a-3124-4468-b560-97e3e89193ac",
   "metadata": {},
   "outputs": [],
   "source": [
    "tax_id = 10141\n",
    "species_distribution__retrieve_plot_and_fit(stat_df, 10141)"
   ]
  },
  {
   "cell_type": "markdown",
   "id": "c988c165-1b89-46ca-86e6-772ad1391fc1",
   "metadata": {},
   "source": [
    "## Fig S7"
   ]
  },
  {
   "cell_type": "markdown",
   "id": "30adfb77-8a42-4281-9777-e94085d70820",
   "metadata": {},
   "source": [
    "### _Shewanella loihica_ (tax\\_id = 323850)"
   ]
  },
  {
   "cell_type": "code",
   "execution_count": null,
   "id": "68cb9451-b048-49eb-929b-bb239739f7bd",
   "metadata": {},
   "outputs": [],
   "source": [
    "tax_id = 323850\n",
    "species_distribution__retrieve_plot_and_fit(stat_df, 323850)"
   ]
  },
  {
   "cell_type": "markdown",
   "id": "9ba26e0e-2bf0-4c37-8028-591e62c69dd8",
   "metadata": {},
   "source": [
    "### _Orchesella cincta_ (tax\\_id = 48709)"
   ]
  },
  {
   "cell_type": "code",
   "execution_count": null,
   "id": "55d37c9c-fea1-4037-83a8-3249ed29916a",
   "metadata": {},
   "outputs": [],
   "source": [
    "tax_id = 48709\n",
    "species_distribution__retrieve_plot_and_fit(stat_df, 48709)"
   ]
  }
 ],
 "metadata": {
  "kernelspec": {
   "display_name": "Python 3 (ipykernel)",
   "language": "python",
   "name": "python3"
  },
  "language_info": {
   "codemirror_mode": {
    "name": "ipython",
    "version": 3
   },
   "file_extension": ".py",
   "mimetype": "text/x-python",
   "name": "python",
   "nbconvert_exporter": "python",
   "pygments_lexer": "ipython3",
   "version": "3.10.6"
  }
 },
 "nbformat": 4,
 "nbformat_minor": 5
}
