{
 "cells": [
  {
   "cell_type": "markdown",
   "id": "4e158002-7422-422c-89ca-fbaacb381b27",
   "metadata": {},
   "source": [
    "# Distribution of the lengths of the proteins"
   ]
  },
  {
   "cell_type": "markdown",
   "id": "c200a4f3",
   "metadata": {},
   "source": [
    "## [Log-normal distribution](https://en.wikipedia.org/wiki/Log-normal_distribution)\n",
    "It is a continuous probability distribution of a random variable whose logarithm is normally distributed. For human-readability the decimal logarithm (log10) is used.\n",
    "  \n",
    "**The PDF (Probability Density Function) of a normal distribution is**  \n",
    "$ f(x) = \\frac{1}{ \\sigma \\sqrt{2 \\pi}} e^- \\frac{1}{2} {(\\frac{(x-\\mu)}{\\sigma})}^{2} $"
   ]
  },
  {
   "cell_type": "markdown",
   "id": "8046a185-31f3-48b1-83f7-947911a96d15",
   "metadata": {},
   "source": [
    "## Import python modules"
   ]
  },
  {
   "cell_type": "code",
   "execution_count": 1,
   "id": "51b0a90c",
   "metadata": {},
   "outputs": [],
   "source": [
    "import numpy as np\n",
    "import matplotlib.pyplot as plt\n",
    "from scipy import stats\n",
    "import os \n",
    "import pandas as pd\n",
    "import math"
   ]
  },
  {
   "cell_type": "markdown",
   "id": "c7b6d3b5",
   "metadata": {},
   "source": [
    "## The protein length distributions for the different species"
   ]
  },
  {
   "cell_type": "markdown",
   "id": "d509543a-9bbf-4428-bb98-a287201ef79d",
   "metadata": {},
   "source": [
    "### Retrieving the statistical descriptions of the length's distributions"
   ]
  },
  {
   "cell_type": "code",
   "execution_count": 2,
   "id": "86b76b58-6c34-4b8a-82b3-f117e835fad0",
   "metadata": {},
   "outputs": [
    {
     "name": "stdout",
     "output_type": "stream",
     "text": [
      "The statistical descriptions of the protein distributions for the different species is in:\n",
      " ../main_tables/stat_proteins.tsv \n",
      "\n"
     ]
    },
    {
     "data": {
      "text/html": [
       "<div>\n",
       "<style scoped>\n",
       "    .dataframe tbody tr th:only-of-type {\n",
       "        vertical-align: middle;\n",
       "    }\n",
       "\n",
       "    .dataframe tbody tr th {\n",
       "        vertical-align: top;\n",
       "    }\n",
       "\n",
       "    .dataframe thead th {\n",
       "        text-align: right;\n",
       "    }\n",
       "</style>\n",
       "<table border=\"1\" class=\"dataframe\">\n",
       "  <thead>\n",
       "    <tr style=\"text-align: right;\">\n",
       "      <th></th>\n",
       "      <th>superregnum</th>\n",
       "      <th>species</th>\n",
       "      <th>proteome_id</th>\n",
       "      <th>tax_id</th>\n",
       "      <th>uniprot_fasta_file</th>\n",
       "      <th>count</th>\n",
       "      <th>mean</th>\n",
       "      <th>var</th>\n",
       "      <th>log10_mean</th>\n",
       "      <th>log10_var</th>\n",
       "    </tr>\n",
       "  </thead>\n",
       "  <tbody>\n",
       "    <tr>\n",
       "      <th>0</th>\n",
       "      <td>bacteria</td>\n",
       "      <td>Kurthia sp. 3B1D</td>\n",
       "      <td>UP000288623</td>\n",
       "      <td>1562256</td>\n",
       "      <td>/ftp.uniprot.org/pub/databases/uniprot/current...</td>\n",
       "      <td>3621.0</td>\n",
       "      <td>285.936205</td>\n",
       "      <td>36171.895653</td>\n",
       "      <td>2.372531</td>\n",
       "      <td>0.075378</td>\n",
       "    </tr>\n",
       "    <tr>\n",
       "      <th>1</th>\n",
       "      <td>bacteria</td>\n",
       "      <td>Methyloprofundus sedimenti</td>\n",
       "      <td>UP000191980</td>\n",
       "      <td>1420851</td>\n",
       "      <td>/ftp.uniprot.org/pub/databases/uniprot/current...</td>\n",
       "      <td>3608.0</td>\n",
       "      <td>310.654933</td>\n",
       "      <td>52309.438700</td>\n",
       "      <td>2.393412</td>\n",
       "      <td>0.087226</td>\n",
       "    </tr>\n",
       "  </tbody>\n",
       "</table>\n",
       "</div>"
      ],
      "text/plain": [
       "  superregnum                     species  proteome_id   tax_id  \\\n",
       "0    bacteria            Kurthia sp. 3B1D  UP000288623  1562256   \n",
       "1    bacteria  Methyloprofundus sedimenti  UP000191980  1420851   \n",
       "\n",
       "                                  uniprot_fasta_file   count        mean  \\\n",
       "0  /ftp.uniprot.org/pub/databases/uniprot/current...  3621.0  285.936205   \n",
       "1  /ftp.uniprot.org/pub/databases/uniprot/current...  3608.0  310.654933   \n",
       "\n",
       "            var  log10_mean  log10_var  \n",
       "0  36171.895653    2.372531   0.075378  \n",
       "1  52309.438700    2.393412   0.087226  "
      ]
     },
     "metadata": {},
     "output_type": "display_data"
    },
    {
     "name": "stdout",
     "output_type": "stream",
     "text": [
      "(9915, 10)\n",
      "bacteria     7997\n",
      "eukaryota    1588\n",
      "archaea       330\n",
      "Name: superregnum, dtype: int64\n"
     ]
    }
   ],
   "source": [
    "# statistics on length distribution for different species     \n",
    "stat_file = \"../main_tables/stat_proteins.tsv\"\n",
    "print(\"The statistical descriptions of the protein distributions for the different species is in:\\n\", stat_file, \"\\n\")\n",
    "\n",
    "# retrieve data and diminish the number of columns\n",
    "stat_df = pd.read_csv(stat_file, low_memory=False, sep=\"\\t\")\n",
    "stat_df = stat_df[[\"superregnum\", \"species\", \"proteome_id\", \"tax_id\", \"uniprot_fasta_file\", \"count\", \"mean\", \"var\"] + [\"log10_mean\", \"log10_var\"]]\n",
    "\n",
    "# visualize data\n",
    "pd.set_option('display.max_columns', None)\n",
    "if 1:\n",
    "    display(stat_df.head(2))\n",
    "    print(stat_df.shape)\n",
    "    print(stat_df[\"superregnum\"].value_counts())"
   ]
  },
  {
   "cell_type": "markdown",
   "id": "b7864e7f-66e1-4115-9a45-c2d020171688",
   "metadata": {
    "tags": []
   },
   "source": [
    "## Python functions"
   ]
  },
  {
   "cell_type": "code",
   "execution_count": 3,
   "id": "af6c0ad2-9985-4285-887a-c413505d46e6",
   "metadata": {},
   "outputs": [],
   "source": [
    "# species' stats for length distribution\n",
    "def get_df_for_taxid(df, taxid):\n",
    "     return df.loc[df[\"tax_id\"]==taxid].copy()"
   ]
  },
  {
   "cell_type": "code",
   "execution_count": 4,
   "id": "1371569f-3901-448e-871a-828de23bd9d9",
   "metadata": {},
   "outputs": [],
   "source": [
    "#### Function to plot the log-normal distribution\n",
    "# blue: Observation\n",
    "# red: Theoretical/Simulation\n",
    "##########################################\n",
    "def plot_log_norm (log10_len, mu, sigma, N, title, subtitle, xlabel, ylabel): # N is number of \n",
    "    print(\"µ:\", mu, \"\\tσ:\", sigma)\n",
    "    my_normal_dist = np.random.normal(mu, sigma, N)\n",
    "    count, bins, *rest = plt.hist(log10_len, 60, density=True, alpha=0.8, edgecolor='black') # plot 60 bins\n",
    "\n",
    "    # plt.hist(my_normal_dist, 30, density=True, alpha=0.25, color=\"r\")\n",
    "    # print(count); print(bins); print(*rest)\n",
    "    \n",
    "    plt.plot(bins, 1/(sigma * np.sqrt(2 * np.pi)) *\n",
    "             np.exp( - (bins - mu)**2 / (2 * sigma**2) ),\n",
    "             linewidth=2, color='r', alpha=0.5)\n",
    "     \n",
    "    # mean\n",
    "    plt.vlines(x = mu, ymin = 0, ymax = 0.2, colors = 'white', label = 'mean')\n",
    "    plt.xlim([1,7]); plt.ylim([0,2.0])\n",
    "    plt.suptitle(title, style='italic'); plt.title(subtitle + \" (\" + str(int(N)) +\")\")\n",
    "    plt.xlabel(xlabel); plt.ylabel(ylabel)\n",
    "    plt.show()"
   ]
  },
  {
   "cell_type": "code",
   "execution_count": 5,
   "id": "ee7bf25c-d0a0-4028-9af0-2e8f7979a15f",
   "metadata": {},
   "outputs": [],
   "source": [
    "def does_it_fits_normal(data_observed): \n",
    "    # Kurtosis and Skewness\n",
    "    # =====================\n",
    "    print('Kurtosis:', stats.kurtosis(data_observed))\n",
    "    print('Skewness:', stats.skew(data_observed))\n",
    "    # D'Agostino's K-squared test\n",
    "    # ===========================\n",
    "    k2, p_value = stats.normaltest(data_observed)\n",
    "    print(f\"D'Agostino's K-squared test(statistics={k2}, p-value={p_value})\")\n",
    "    #\n",
    "    # Mathematicaly it ends up beeing a theoretical log-normal when.\n",
    "    #    - Kurtosis o Skewness: $\\leq -1$ o $\\geq 1$ \n",
    "    #    - D'Agostino's K-squared test: p-value $ \\leq 0.05 $, becuase it rejects the null hypothesis "
   ]
  },
  {
   "cell_type": "code",
   "execution_count": 6,
   "id": "1bcc7a1e-2408-46a8-af94-026a08044e94",
   "metadata": {},
   "outputs": [],
   "source": [
    "# The next function performs the whole analysis for a tax_id\n",
    "def species_distribution__retrieve_plot_and_fit(stat_df, tax_id):\n",
    "    species_df = get_df_for_taxid(stat_df, tax_id)\n",
    "    species_df.drop_duplicates(subset=['tax_id'], inplace=True, keep='last')\n",
    "    display(species_df)\n",
    "    \n",
    "    lengths_f = our_mnt_dir + \"results/geneLength/\" + species_df[\"uniprot_fasta_file\"].item() \n",
    "    lengths_f = lengths_f.replace(\".fasta.gz\", \".length.tsv\") # I get the \n",
    "    print(lengths_f)\n",
    "    \n",
    "    # retrieve data\n",
    "    lens_df = pd.read_csv(lengths_f, sep=\"\\t\")\n",
    "    lens_df = lens_df[[\"length\"]]\n",
    "    # visualize data\n",
    "    pd.set_option('display.max_columns', None)\n",
    "    if 0:\n",
    "        display(lens_df.head(2))\n",
    "        print(lens_df.shape)\n",
    "    \n",
    "    # plot the distributions: observed and theoretical\n",
    "    lens_df[\"log10_length\"] = lens_df[\"length\"].apply(np.log10)\n",
    "    title = species_df[\"species\"].item().capitalize(); subtitle = \"Proteins\";  xlabel = \"$log_{10}(length)$\"; ylabel = \"Probability density function\"\n",
    "    plot_log_norm (lens_df[\"log10_length\"], species_df[\"log10_mean\"].item(), math.sqrt(species_df[\"log10_var\"].item()), int(species_df[\"count\"].item()), \n",
    "                   title, subtitle, xlabel, ylabel)  \n",
    "    # fit to normal\n",
    "    does_it_fits_normal(lens_df[\"log10_length\"])"
   ]
  },
  {
   "cell_type": "markdown",
   "id": "2111fd8f-02db-4b6b-b70d-50d386b34b0c",
   "metadata": {},
   "source": [
    "## Distributions for different species:"
   ]
  },
  {
   "cell_type": "markdown",
   "id": "02d86cba-90c3-420a-a342-effebd787c95",
   "metadata": {},
   "source": [
    "### _Homo sapiens_ (tax_id = 9606)"
   ]
  },
  {
   "cell_type": "markdown",
   "id": "0866ec4e-b56f-45c2-9858-b517c8481d26",
   "metadata": {},
   "source": [
    "#### Retrieve its statistical description"
   ]
  },
  {
   "cell_type": "code",
   "execution_count": 7,
   "id": "4cd3536d-1829-4625-9dbf-234606f1c6e2",
   "metadata": {},
   "outputs": [
    {
     "data": {
      "text/html": [
       "<div>\n",
       "<style scoped>\n",
       "    .dataframe tbody tr th:only-of-type {\n",
       "        vertical-align: middle;\n",
       "    }\n",
       "\n",
       "    .dataframe tbody tr th {\n",
       "        vertical-align: top;\n",
       "    }\n",
       "\n",
       "    .dataframe thead th {\n",
       "        text-align: right;\n",
       "    }\n",
       "</style>\n",
       "<table border=\"1\" class=\"dataframe\">\n",
       "  <thead>\n",
       "    <tr style=\"text-align: right;\">\n",
       "      <th></th>\n",
       "      <th>superregnum</th>\n",
       "      <th>species</th>\n",
       "      <th>proteome_id</th>\n",
       "      <th>tax_id</th>\n",
       "      <th>uniprot_fasta_file</th>\n",
       "      <th>count</th>\n",
       "      <th>mean</th>\n",
       "      <th>var</th>\n",
       "      <th>log10_mean</th>\n",
       "      <th>log10_var</th>\n",
       "    </tr>\n",
       "  </thead>\n",
       "  <tbody>\n",
       "    <tr>\n",
       "      <th>9003</th>\n",
       "      <td>eukaryota</td>\n",
       "      <td>Homo sapiens (Human)</td>\n",
       "      <td>UP000005640</td>\n",
       "      <td>9606</td>\n",
       "      <td>/ftp.uniprot.org/pub/databases/uniprot/current...</td>\n",
       "      <td>20614.0</td>\n",
       "      <td>552.845105</td>\n",
       "      <td>354913.157154</td>\n",
       "      <td>2.601146</td>\n",
       "      <td>0.125239</td>\n",
       "    </tr>\n",
       "  </tbody>\n",
       "</table>\n",
       "</div>"
      ],
      "text/plain": [
       "     superregnum               species  proteome_id  tax_id  \\\n",
       "9003   eukaryota  Homo sapiens (Human)  UP000005640    9606   \n",
       "\n",
       "                                     uniprot_fasta_file    count        mean  \\\n",
       "9003  /ftp.uniprot.org/pub/databases/uniprot/current...  20614.0  552.845105   \n",
       "\n",
       "                var  log10_mean  log10_var  \n",
       "9003  354913.157154    2.601146   0.125239  "
      ]
     },
     "metadata": {},
     "output_type": "display_data"
    }
   ],
   "source": [
    "tax_id = 9606\n",
    "human_df = get_df_for_taxid(stat_df, tax_id)\n",
    "display(human_df)"
   ]
  },
  {
   "cell_type": "markdown",
   "id": "8b65e339-703e-448f-ad07-04b1ce596bea",
   "metadata": {},
   "source": [
    "#### Retrieve its genes"
   ]
  },
  {
   "cell_type": "code",
   "execution_count": 8,
   "id": "4ed4b6e0-09b4-4b13-9989-511ad6e908b1",
   "metadata": {},
   "outputs": [
    {
     "name": "stdout",
     "output_type": "stream",
     "text": [
      "All the proteins with their lengths of the species are in:\n",
      " /Volumes/Wes/results/geneLength//ftp.uniprot.org/pub/databases/uniprot/current_release/knowledgebase/reference_proteomes/Eukaryota/UP000005640/UP000005640_9606.length.tsv \n",
      "\n"
     ]
    }
   ],
   "source": [
    "# system dependencies\n",
    "system = list(os.uname())[0]\n",
    "if system == 'Linux':\n",
    "    our_mnt_dir = \"/media/emuro/Nubya/\" # my disks: Nubya, Wes\n",
    "elif system == 'Darwin':\n",
    "    our_mnt_dir = \"/Volumes/Wes/\" # my disks: Wes, Nubya \n",
    "\n",
    "prots_f = our_mnt_dir + \"results/geneLength/\" + human_df[\"uniprot_fasta_file\"].item() \n",
    "prots_f = prots_f.replace(\".fasta.gz\", \".length.tsv\") # I get the \n",
    "print(\"All the proteins with their lengths of the species are in:\\n\", prots_f, \"\\n\")\n",
    "\n",
    "# retrieve data\n",
    "prots_df = pd.read_csv(prots_f, sep=\"\\t\")\n",
    "prots_df = prots_df[[\"length\"]]  \n",
    "\n",
    "\n",
    "# visualize data\n",
    "pd.set_option('display.max_columns', None)\n",
    "if 0:\n",
    "    display(prots_df.head(2))\n",
    "    print(prots_df.shape)"
   ]
  },
  {
   "cell_type": "markdown",
   "id": "0f99eb42-9c12-40ca-a2fd-10bd57b53360",
   "metadata": {},
   "source": [
    "#### Plot the $log_{10}(length)$ distribution and the fit to a theoretical log10-normal"
   ]
  },
  {
   "cell_type": "code",
   "execution_count": 9,
   "id": "c8e44cba-d963-47ec-acf1-d5165a7b4c9f",
   "metadata": {},
   "outputs": [
    {
     "name": "stdout",
     "output_type": "stream",
     "text": [
      "µ: 2.6011463573824893 \tσ: 0.3538905693139241\n"
     ]
    },
    {
     "data": {
      "image/png": "[encoded data removed]",
      "text/plain": [
       "<Figure size 432x288 with 1 Axes>"
      ]
     },
     "metadata": {
      "needs_background": "light"
     },
     "output_type": "display_data"
    }
   ],
   "source": [
    "prots_df[\"log10_length\"] = prots_df[\"length\"].apply(np.log10)\n",
    "title = human_df[\"species\"].item().capitalize(); subtitle = \"Proteins\";  xlabel = \"$log_{10}(length)$\"; ylabel = \"Probability density function\"\n",
    "plot_log_norm (prots_df[\"log10_length\"], human_df[\"log10_mean\"].item(), math.sqrt(human_df[\"log10_var\"].item()), int(human_df[\"count\"].item()), \n",
    "               title, subtitle, xlabel, ylabel)  "
   ]
  },
  {
   "cell_type": "markdown",
   "id": "1ee437a1-566a-4aed-9f9c-ce652635d399",
   "metadata": {},
   "source": [
    "#### Does the distribution fits the normal distribution?"
   ]
  },
  {
   "cell_type": "code",
   "execution_count": 10,
   "id": "05c41cfc",
   "metadata": {},
   "outputs": [
    {
     "name": "stdout",
     "output_type": "stream",
     "text": [
      "Kurtosis: 1.163832716732534\n",
      "Skewness: -0.26039124808735764\n",
      "D'Agostino's K-squared test(statistics=717.1684257602484, p-value=1.8571844920422435e-156)\n"
     ]
    }
   ],
   "source": [
    "does_it_fits_normal(prots_df[\"log10_length\"]) "
   ]
  },
  {
   "cell_type": "markdown",
   "id": "33f4c1d0-da71-48cf-a18c-ef9070cb5dc1",
   "metadata": {},
   "source": [
    "### _Danio rerio_ (tax_id = 7955)"
   ]
  },
  {
   "cell_type": "code",
   "execution_count": 11,
   "id": "cf767c67",
   "metadata": {},
   "outputs": [
    {
     "data": {
      "text/html": [
       "<div>\n",
       "<style scoped>\n",
       "    .dataframe tbody tr th:only-of-type {\n",
       "        vertical-align: middle;\n",
       "    }\n",
       "\n",
       "    .dataframe tbody tr th {\n",
       "        vertical-align: top;\n",
       "    }\n",
       "\n",
       "    .dataframe thead th {\n",
       "        text-align: right;\n",
       "    }\n",
       "</style>\n",
       "<table border=\"1\" class=\"dataframe\">\n",
       "  <thead>\n",
       "    <tr style=\"text-align: right;\">\n",
       "      <th></th>\n",
       "      <th>superregnum</th>\n",
       "      <th>species</th>\n",
       "      <th>proteome_id</th>\n",
       "      <th>tax_id</th>\n",
       "      <th>uniprot_fasta_file</th>\n",
       "      <th>count</th>\n",
       "      <th>mean</th>\n",
       "      <th>var</th>\n",
       "      <th>log10_mean</th>\n",
       "      <th>log10_var</th>\n",
       "    </tr>\n",
       "  </thead>\n",
       "  <tbody>\n",
       "    <tr>\n",
       "      <th>7681</th>\n",
       "      <td>eukaryota</td>\n",
       "      <td>Danio rerio (Zebrafish) (Brachydanio rerio)</td>\n",
       "      <td>UP000000437</td>\n",
       "      <td>7955</td>\n",
       "      <td>/ftp.uniprot.org/pub/databases/uniprot/current...</td>\n",
       "      <td>25706.0</td>\n",
       "      <td>538.158329</td>\n",
       "      <td>315453.463435</td>\n",
       "      <td>2.599115</td>\n",
       "      <td>0.114029</td>\n",
       "    </tr>\n",
       "  </tbody>\n",
       "</table>\n",
       "</div>"
      ],
      "text/plain": [
       "     superregnum                                      species  proteome_id  \\\n",
       "7681   eukaryota  Danio rerio (Zebrafish) (Brachydanio rerio)  UP000000437   \n",
       "\n",
       "      tax_id                                 uniprot_fasta_file    count  \\\n",
       "7681    7955  /ftp.uniprot.org/pub/databases/uniprot/current...  25706.0   \n",
       "\n",
       "            mean            var  log10_mean  log10_var  \n",
       "7681  538.158329  315453.463435    2.599115   0.114029  "
      ]
     },
     "metadata": {},
     "output_type": "display_data"
    },
    {
     "name": "stdout",
     "output_type": "stream",
     "text": [
      "/Volumes/Wes/results/geneLength//ftp.uniprot.org/pub/databases/uniprot/current_release/knowledgebase/reference_proteomes/Eukaryota/UP000000437/UP000000437_7955.length.tsv\n",
      "µ: 2.599115440779346 \tσ: 0.3376817874330292\n"
     ]
    },
    {
     "data": {
      "image/png": "[encoded data removed]",
      "text/plain": [
       "<Figure size 432x288 with 1 Axes>"
      ]
     },
     "metadata": {
      "needs_background": "light"
     },
     "output_type": "display_data"
    },
    {
     "name": "stdout",
     "output_type": "stream",
     "text": [
      "Kurtosis: 0.8752018347236281\n",
      "Skewness: -0.138739152539118\n",
      "D'Agostino's K-squared test(statistics=494.0354527107476, p-value=5.267014471006957e-108)\n"
     ]
    }
   ],
   "source": [
    "tax_id = 7955\n",
    "species_distribution__retrieve_plot_and_fit(stat_df, tax_id)"
   ]
  },
  {
   "cell_type": "markdown",
   "id": "5f3bd0f1-05e3-4b60-b425-eff9b1e14aa0",
   "metadata": {},
   "source": [
    "### _Drosophila melanogaster_ (tax_id = 7227)"
   ]
  },
  {
   "cell_type": "code",
   "execution_count": 12,
   "id": "df3e345a-f34a-4d9f-89df-ece81fa54d37",
   "metadata": {},
   "outputs": [
    {
     "data": {
      "text/html": [
       "<div>\n",
       "<style scoped>\n",
       "    .dataframe tbody tr th:only-of-type {\n",
       "        vertical-align: middle;\n",
       "    }\n",
       "\n",
       "    .dataframe tbody tr th {\n",
       "        vertical-align: top;\n",
       "    }\n",
       "\n",
       "    .dataframe thead th {\n",
       "        text-align: right;\n",
       "    }\n",
       "</style>\n",
       "<table border=\"1\" class=\"dataframe\">\n",
       "  <thead>\n",
       "    <tr style=\"text-align: right;\">\n",
       "      <th></th>\n",
       "      <th>superregnum</th>\n",
       "      <th>species</th>\n",
       "      <th>proteome_id</th>\n",
       "      <th>tax_id</th>\n",
       "      <th>uniprot_fasta_file</th>\n",
       "      <th>count</th>\n",
       "      <th>mean</th>\n",
       "      <th>var</th>\n",
       "      <th>log10_mean</th>\n",
       "      <th>log10_var</th>\n",
       "    </tr>\n",
       "  </thead>\n",
       "  <tbody>\n",
       "    <tr>\n",
       "      <th>3635</th>\n",
       "      <td>eukaryota</td>\n",
       "      <td>Drosophila melanogaster (Fruit fly)</td>\n",
       "      <td>UP000000803</td>\n",
       "      <td>7227</td>\n",
       "      <td>/ftp.uniprot.org/pub/databases/uniprot/current...</td>\n",
       "      <td>13821.0</td>\n",
       "      <td>535.649085</td>\n",
       "      <td>376540.881915</td>\n",
       "      <td>2.577192</td>\n",
       "      <td>0.131373</td>\n",
       "    </tr>\n",
       "  </tbody>\n",
       "</table>\n",
       "</div>"
      ],
      "text/plain": [
       "     superregnum                              species  proteome_id  tax_id  \\\n",
       "3635   eukaryota  Drosophila melanogaster (Fruit fly)  UP000000803    7227   \n",
       "\n",
       "                                     uniprot_fasta_file    count        mean  \\\n",
       "3635  /ftp.uniprot.org/pub/databases/uniprot/current...  13821.0  535.649085   \n",
       "\n",
       "                var  log10_mean  log10_var  \n",
       "3635  376540.881915    2.577192   0.131373  "
      ]
     },
     "metadata": {},
     "output_type": "display_data"
    },
    {
     "name": "stdout",
     "output_type": "stream",
     "text": [
      "/Volumes/Wes/results/geneLength//ftp.uniprot.org/pub/databases/uniprot/current_release/knowledgebase/reference_proteomes/Eukaryota/UP000000803/UP000000803_7227.length.tsv\n",
      "µ: 2.5771919612400653 \tσ: 0.3624537280491678\n"
     ]
    },
    {
     "data": {
      "image/png": "[encoded data removed]",
      "text/plain": [
       "<Figure size 432x288 with 1 Axes>"
      ]
     },
     "metadata": {
      "needs_background": "light"
     },
     "output_type": "display_data"
    },
    {
     "name": "stdout",
     "output_type": "stream",
     "text": [
      "Kurtosis: 0.3248347849271651\n",
      "Skewness: -0.08267683943107461\n",
      "D'Agostino's K-squared test(statistics=61.497348374203234, p-value=4.4260923856861545e-14)\n"
     ]
    }
   ],
   "source": [
    "tax_id = 7227\n",
    "species_distribution__retrieve_plot_and_fit(stat_df, tax_id)"
   ]
  },
  {
   "cell_type": "markdown",
   "id": "c609b4ab-c94a-4a2c-a107-26e7d57e91aa",
   "metadata": {},
   "source": [
    "### _Arabidopsis thaliana_ (tax_id = 3702)"
   ]
  },
  {
   "cell_type": "code",
   "execution_count": 13,
   "id": "6f5ac606-f3da-4454-82a1-bee94dc747da",
   "metadata": {},
   "outputs": [
    {
     "data": {
      "text/html": [
       "<div>\n",
       "<style scoped>\n",
       "    .dataframe tbody tr th:only-of-type {\n",
       "        vertical-align: middle;\n",
       "    }\n",
       "\n",
       "    .dataframe tbody tr th {\n",
       "        vertical-align: top;\n",
       "    }\n",
       "\n",
       "    .dataframe thead th {\n",
       "        text-align: right;\n",
       "    }\n",
       "</style>\n",
       "<table border=\"1\" class=\"dataframe\">\n",
       "  <thead>\n",
       "    <tr style=\"text-align: right;\">\n",
       "      <th></th>\n",
       "      <th>superregnum</th>\n",
       "      <th>species</th>\n",
       "      <th>proteome_id</th>\n",
       "      <th>tax_id</th>\n",
       "      <th>uniprot_fasta_file</th>\n",
       "      <th>count</th>\n",
       "      <th>mean</th>\n",
       "      <th>var</th>\n",
       "      <th>log10_mean</th>\n",
       "      <th>log10_var</th>\n",
       "    </tr>\n",
       "  </thead>\n",
       "  <tbody>\n",
       "    <tr>\n",
       "      <th>4739</th>\n",
       "      <td>eukaryota</td>\n",
       "      <td>Arabidopsis thaliana (Mouse-ear cress)</td>\n",
       "      <td>UP000006548</td>\n",
       "      <td>3702</td>\n",
       "      <td>/ftp.uniprot.org/pub/databases/uniprot/current...</td>\n",
       "      <td>27468.0</td>\n",
       "      <td>404.901267</td>\n",
       "      <td>90791.833554</td>\n",
       "      <td>2.499364</td>\n",
       "      <td>0.103077</td>\n",
       "    </tr>\n",
       "  </tbody>\n",
       "</table>\n",
       "</div>"
      ],
      "text/plain": [
       "     superregnum                                 species  proteome_id  tax_id  \\\n",
       "4739   eukaryota  Arabidopsis thaliana (Mouse-ear cress)  UP000006548    3702   \n",
       "\n",
       "                                     uniprot_fasta_file    count        mean  \\\n",
       "4739  /ftp.uniprot.org/pub/databases/uniprot/current...  27468.0  404.901267   \n",
       "\n",
       "               var  log10_mean  log10_var  \n",
       "4739  90791.833554    2.499364   0.103077  "
      ]
     },
     "metadata": {},
     "output_type": "display_data"
    },
    {
     "name": "stdout",
     "output_type": "stream",
     "text": [
      "/Volumes/Wes/results/geneLength//ftp.uniprot.org/pub/databases/uniprot/current_release/knowledgebase/reference_proteomes/Eukaryota/UP000006548/UP000006548_3702.length.tsv\n",
      "µ: 2.499363643151627 \tσ: 0.3210561738747564\n"
     ]
    },
    {
     "data": {
      "image/png": "[encoded data removed]",
      "text/plain": [
       "<Figure size 432x288 with 1 Axes>"
      ]
     },
     "metadata": {
      "needs_background": "light"
     },
     "output_type": "display_data"
    },
    {
     "name": "stdout",
     "output_type": "stream",
     "text": [
      "Kurtosis: 0.243976066210577\n",
      "Skewness: -0.4255467328648886\n",
      "D'Agostino's K-squared test(statistics=818.4263474448735, p-value=1.9097509301707898e-178)\n"
     ]
    }
   ],
   "source": [
    "tax_id = 3702\n",
    "species_distribution__retrieve_plot_and_fit(stat_df, tax_id)"
   ]
  },
  {
   "cell_type": "markdown",
   "id": "101243f5-2c78-4f40-a996-554f28c3ee7e",
   "metadata": {},
   "source": [
    "### _Saccharomyces cerevisae_ (tax_id = 4932)"
   ]
  },
  {
   "cell_type": "code",
   "execution_count": 27,
   "id": "427336ea-2d5e-4f2b-b2d7-e11a49980697",
   "metadata": {},
   "outputs": [],
   "source": [
    "#tax_id = 4932 #uniprot: 559292 (not in ensembl) \n",
    "#species_distribution__retrieve_plot_and_fit(stat_df, tax_id)"
   ]
  },
  {
   "cell_type": "markdown",
   "id": "c2440f06-107a-457e-a656-e21d5c382d61",
   "metadata": {},
   "source": [
    "### _Escherichia coli_ (tax_id = 83333)"
   ]
  },
  {
   "cell_type": "code",
   "execution_count": 15,
   "id": "df582095-3786-468f-8647-10d972e22b53",
   "metadata": {},
   "outputs": [
    {
     "data": {
      "text/html": [
       "<div>\n",
       "<style scoped>\n",
       "    .dataframe tbody tr th:only-of-type {\n",
       "        vertical-align: middle;\n",
       "    }\n",
       "\n",
       "    .dataframe tbody tr th {\n",
       "        vertical-align: top;\n",
       "    }\n",
       "\n",
       "    .dataframe thead th {\n",
       "        text-align: right;\n",
       "    }\n",
       "</style>\n",
       "<table border=\"1\" class=\"dataframe\">\n",
       "  <thead>\n",
       "    <tr style=\"text-align: right;\">\n",
       "      <th></th>\n",
       "      <th>superregnum</th>\n",
       "      <th>species</th>\n",
       "      <th>proteome_id</th>\n",
       "      <th>tax_id</th>\n",
       "      <th>uniprot_fasta_file</th>\n",
       "      <th>count</th>\n",
       "      <th>mean</th>\n",
       "      <th>var</th>\n",
       "      <th>log10_mean</th>\n",
       "      <th>log10_var</th>\n",
       "    </tr>\n",
       "  </thead>\n",
       "  <tbody>\n",
       "    <tr>\n",
       "      <th>6920</th>\n",
       "      <td>bacteria</td>\n",
       "      <td>Escherichia coli O157:H7</td>\n",
       "      <td>UP000000558</td>\n",
       "      <td>83334</td>\n",
       "      <td>/ftp.uniprot.org/pub/databases/uniprot/current...</td>\n",
       "      <td>5062.0</td>\n",
       "      <td>308.446859</td>\n",
       "      <td>57190.175698</td>\n",
       "      <td>2.38364</td>\n",
       "      <td>0.096586</td>\n",
       "    </tr>\n",
       "  </tbody>\n",
       "</table>\n",
       "</div>"
      ],
      "text/plain": [
       "     superregnum                   species  proteome_id  tax_id  \\\n",
       "6920    bacteria  Escherichia coli O157:H7  UP000000558   83334   \n",
       "\n",
       "                                     uniprot_fasta_file   count        mean  \\\n",
       "6920  /ftp.uniprot.org/pub/databases/uniprot/current...  5062.0  308.446859   \n",
       "\n",
       "               var  log10_mean  log10_var  \n",
       "6920  57190.175698     2.38364   0.096586  "
      ]
     },
     "metadata": {},
     "output_type": "display_data"
    },
    {
     "name": "stdout",
     "output_type": "stream",
     "text": [
      "/Volumes/Wes/results/geneLength//ftp.uniprot.org/pub/databases/uniprot/current_release/knowledgebase/reference_proteomes/Bacteria/UP000000558/UP000000558_83334.length.tsv\n",
      "µ: 2.383639936200562 \tσ: 0.3107836062504229\n"
     ]
    },
    {
     "data": {
      "image/png": "[encoded data removed]",
      "text/plain": [
       "<Figure size 432x288 with 1 Axes>"
      ]
     },
     "metadata": {
      "needs_background": "light"
     },
     "output_type": "display_data"
    },
    {
     "name": "stdout",
     "output_type": "stream",
     "text": [
      "Kurtosis: -0.010812589593092614\n",
      "Skewness: -0.23530626497822155\n",
      "D'Agostino's K-squared test(statistics=45.62522286350305, p-value=1.237681038117231e-10)\n"
     ]
    }
   ],
   "source": [
    "tax_id = 83334 #562 uniprot: 83333 (k12), 83334(0157:h7 disease), 1408285 (otra, this is not in ensembl)\n",
    "species_distribution__retrieve_plot_and_fit(stat_df, tax_id)"
   ]
  },
  {
   "cell_type": "markdown",
   "id": "45cc3497-9902-4714-a7c1-76bc14dc0a95",
   "metadata": {},
   "source": [
    "## Fig. 1"
   ]
  },
  {
   "cell_type": "markdown",
   "id": "3cea303e-22c0-4353-b1d3-8609aacffb0c",
   "metadata": {},
   "source": [
    "### _Danio rerio_ (tax_id = 7955)"
   ]
  },
  {
   "cell_type": "code",
   "execution_count": 16,
   "id": "00572d37-eca3-4dd6-b056-6b109b2054f0",
   "metadata": {},
   "outputs": [
    {
     "data": {
      "text/html": [
       "<div>\n",
       "<style scoped>\n",
       "    .dataframe tbody tr th:only-of-type {\n",
       "        vertical-align: middle;\n",
       "    }\n",
       "\n",
       "    .dataframe tbody tr th {\n",
       "        vertical-align: top;\n",
       "    }\n",
       "\n",
       "    .dataframe thead th {\n",
       "        text-align: right;\n",
       "    }\n",
       "</style>\n",
       "<table border=\"1\" class=\"dataframe\">\n",
       "  <thead>\n",
       "    <tr style=\"text-align: right;\">\n",
       "      <th></th>\n",
       "      <th>superregnum</th>\n",
       "      <th>species</th>\n",
       "      <th>proteome_id</th>\n",
       "      <th>tax_id</th>\n",
       "      <th>uniprot_fasta_file</th>\n",
       "      <th>count</th>\n",
       "      <th>mean</th>\n",
       "      <th>var</th>\n",
       "      <th>log10_mean</th>\n",
       "      <th>log10_var</th>\n",
       "    </tr>\n",
       "  </thead>\n",
       "  <tbody>\n",
       "    <tr>\n",
       "      <th>7681</th>\n",
       "      <td>eukaryota</td>\n",
       "      <td>Danio rerio (Zebrafish) (Brachydanio rerio)</td>\n",
       "      <td>UP000000437</td>\n",
       "      <td>7955</td>\n",
       "      <td>/ftp.uniprot.org/pub/databases/uniprot/current...</td>\n",
       "      <td>25706.0</td>\n",
       "      <td>538.158329</td>\n",
       "      <td>315453.463435</td>\n",
       "      <td>2.599115</td>\n",
       "      <td>0.114029</td>\n",
       "    </tr>\n",
       "  </tbody>\n",
       "</table>\n",
       "</div>"
      ],
      "text/plain": [
       "     superregnum                                      species  proteome_id  \\\n",
       "7681   eukaryota  Danio rerio (Zebrafish) (Brachydanio rerio)  UP000000437   \n",
       "\n",
       "      tax_id                                 uniprot_fasta_file    count  \\\n",
       "7681    7955  /ftp.uniprot.org/pub/databases/uniprot/current...  25706.0   \n",
       "\n",
       "            mean            var  log10_mean  log10_var  \n",
       "7681  538.158329  315453.463435    2.599115   0.114029  "
      ]
     },
     "metadata": {},
     "output_type": "display_data"
    },
    {
     "name": "stdout",
     "output_type": "stream",
     "text": [
      "/Volumes/Wes/results/geneLength//ftp.uniprot.org/pub/databases/uniprot/current_release/knowledgebase/reference_proteomes/Eukaryota/UP000000437/UP000000437_7955.length.tsv\n",
      "µ: 2.599115440779346 \tσ: 0.3376817874330292\n"
     ]
    },
    {
     "data": {
      "image/png": "[encoded data removed]",
      "text/plain": [
       "<Figure size 432x288 with 1 Axes>"
      ]
     },
     "metadata": {
      "needs_background": "light"
     },
     "output_type": "display_data"
    },
    {
     "name": "stdout",
     "output_type": "stream",
     "text": [
      "Kurtosis: 0.8752018347236281\n",
      "Skewness: -0.138739152539118\n",
      "D'Agostino's K-squared test(statistics=494.0354527107476, p-value=5.267014471006957e-108)\n"
     ]
    }
   ],
   "source": [
    "tax_id = 7955\n",
    "species_distribution__retrieve_plot_and_fit(stat_df, tax_id)"
   ]
  },
  {
   "cell_type": "markdown",
   "id": "3bc91201-24a6-43ca-afcf-0c40b47da573",
   "metadata": {},
   "source": [
    "## Fig S1"
   ]
  },
  {
   "cell_type": "markdown",
   "id": "a097cd5e-8078-4c42-995c-1f9730e86d5c",
   "metadata": {},
   "source": [
    "### _Acanthochromis polyacanthus_ (tax_id = 80966)"
   ]
  },
  {
   "cell_type": "code",
   "execution_count": 17,
   "id": "4618cdf7-b6d5-43a3-9f62-4b418eb02811",
   "metadata": {},
   "outputs": [
    {
     "data": {
      "text/html": [
       "<div>\n",
       "<style scoped>\n",
       "    .dataframe tbody tr th:only-of-type {\n",
       "        vertical-align: middle;\n",
       "    }\n",
       "\n",
       "    .dataframe tbody tr th {\n",
       "        vertical-align: top;\n",
       "    }\n",
       "\n",
       "    .dataframe thead th {\n",
       "        text-align: right;\n",
       "    }\n",
       "</style>\n",
       "<table border=\"1\" class=\"dataframe\">\n",
       "  <thead>\n",
       "    <tr style=\"text-align: right;\">\n",
       "      <th></th>\n",
       "      <th>superregnum</th>\n",
       "      <th>species</th>\n",
       "      <th>proteome_id</th>\n",
       "      <th>tax_id</th>\n",
       "      <th>uniprot_fasta_file</th>\n",
       "      <th>count</th>\n",
       "      <th>mean</th>\n",
       "      <th>var</th>\n",
       "      <th>log10_mean</th>\n",
       "      <th>log10_var</th>\n",
       "    </tr>\n",
       "  </thead>\n",
       "  <tbody>\n",
       "    <tr>\n",
       "      <th>6586</th>\n",
       "      <td>eukaryota</td>\n",
       "      <td>Acanthochromis polyacanthus (spiny chromis)</td>\n",
       "      <td>UP000257200</td>\n",
       "      <td>80966</td>\n",
       "      <td>/ftp.uniprot.org/pub/databases/uniprot/current...</td>\n",
       "      <td>23617.0</td>\n",
       "      <td>509.734344</td>\n",
       "      <td>208624.909607</td>\n",
       "      <td>2.579212</td>\n",
       "      <td>0.111991</td>\n",
       "    </tr>\n",
       "  </tbody>\n",
       "</table>\n",
       "</div>"
      ],
      "text/plain": [
       "     superregnum                                      species  proteome_id  \\\n",
       "6586   eukaryota  Acanthochromis polyacanthus (spiny chromis)  UP000257200   \n",
       "\n",
       "      tax_id                                 uniprot_fasta_file    count  \\\n",
       "6586   80966  /ftp.uniprot.org/pub/databases/uniprot/current...  23617.0   \n",
       "\n",
       "            mean            var  log10_mean  log10_var  \n",
       "6586  509.734344  208624.909607    2.579212   0.111991  "
      ]
     },
     "metadata": {},
     "output_type": "display_data"
    },
    {
     "name": "stdout",
     "output_type": "stream",
     "text": [
      "/Volumes/Wes/results/geneLength//ftp.uniprot.org/pub/databases/uniprot/current_release/knowledgebase/reference_proteomes/Eukaryota/UP000257200/UP000257200_80966.length.tsv\n",
      "µ: 2.5792120754981043 \tσ: 0.3346501133150373\n"
     ]
    },
    {
     "data": {
      "image/png": "[encoded data removed]",
      "text/plain": [
       "<Figure size 432x288 with 1 Axes>"
      ]
     },
     "metadata": {
      "needs_background": "light"
     },
     "output_type": "display_data"
    },
    {
     "name": "stdout",
     "output_type": "stream",
     "text": [
      "Kurtosis: -0.014615144910329114\n",
      "Skewness: -0.030519700074858287\n",
      "D'Agostino's K-squared test(statistics=3.8589563662198394, p-value=0.14522395903000448)\n"
     ]
    }
   ],
   "source": [
    "tax_id = 80966\n",
    "species_distribution__retrieve_plot_and_fit(stat_df, tax_id)"
   ]
  },
  {
   "cell_type": "markdown",
   "id": "c8c75578-1091-410d-a308-852f6303537d",
   "metadata": {},
   "source": [
    "### _Apteryx owenii_ (tax_id = 8824)"
   ]
  },
  {
   "cell_type": "code",
   "execution_count": 18,
   "id": "c6913dff-8906-4fb1-ab6f-2c0e473c9e9f",
   "metadata": {},
   "outputs": [],
   "source": [
    "#tax_id = 8824\n",
    "#species_distribution__retrieve_plot_and_fit(stat_df, 8824)"
   ]
  },
  {
   "cell_type": "markdown",
   "id": "e1977cf2-5b33-46cb-8fd9-72e5bb88e8bd",
   "metadata": {},
   "source": [
    "### _Equus asinus asinus_ (tax_id = 83772)"
   ]
  },
  {
   "cell_type": "code",
   "execution_count": 19,
   "id": "69389a33-a9a9-4ea6-9632-fc16e61f50bc",
   "metadata": {},
   "outputs": [],
   "source": [
    "#tax_id = 83772\n",
    "#species_distribution__retrieve_plot_and_fit(stat_df, 83772)"
   ]
  },
  {
   "cell_type": "markdown",
   "id": "28b2575a-089a-47bf-883a-da16a4a82496",
   "metadata": {},
   "source": [
    "### _Vitis vinifera_ (tax\\_id = 29760)"
   ]
  },
  {
   "cell_type": "code",
   "execution_count": 20,
   "id": "168a2993-c279-4e6d-abc6-850924bc9c6f",
   "metadata": {},
   "outputs": [
    {
     "data": {
      "text/html": [
       "<div>\n",
       "<style scoped>\n",
       "    .dataframe tbody tr th:only-of-type {\n",
       "        vertical-align: middle;\n",
       "    }\n",
       "\n",
       "    .dataframe tbody tr th {\n",
       "        vertical-align: top;\n",
       "    }\n",
       "\n",
       "    .dataframe thead th {\n",
       "        text-align: right;\n",
       "    }\n",
       "</style>\n",
       "<table border=\"1\" class=\"dataframe\">\n",
       "  <thead>\n",
       "    <tr style=\"text-align: right;\">\n",
       "      <th></th>\n",
       "      <th>superregnum</th>\n",
       "      <th>species</th>\n",
       "      <th>proteome_id</th>\n",
       "      <th>tax_id</th>\n",
       "      <th>uniprot_fasta_file</th>\n",
       "      <th>count</th>\n",
       "      <th>mean</th>\n",
       "      <th>var</th>\n",
       "      <th>log10_mean</th>\n",
       "      <th>log10_var</th>\n",
       "    </tr>\n",
       "  </thead>\n",
       "  <tbody>\n",
       "    <tr>\n",
       "      <th>1960</th>\n",
       "      <td>eukaryota</td>\n",
       "      <td>Vitis vinifera (Grape)</td>\n",
       "      <td>UP000009183</td>\n",
       "      <td>29760</td>\n",
       "      <td>/ftp.uniprot.org/pub/databases/uniprot/current...</td>\n",
       "      <td>29874.0</td>\n",
       "      <td>360.439948</td>\n",
       "      <td>95455.162949</td>\n",
       "      <td>2.399108</td>\n",
       "      <td>0.160564</td>\n",
       "    </tr>\n",
       "  </tbody>\n",
       "</table>\n",
       "</div>"
      ],
      "text/plain": [
       "     superregnum                 species  proteome_id  tax_id  \\\n",
       "1960   eukaryota  Vitis vinifera (Grape)  UP000009183   29760   \n",
       "\n",
       "                                     uniprot_fasta_file    count        mean  \\\n",
       "1960  /ftp.uniprot.org/pub/databases/uniprot/current...  29874.0  360.439948   \n",
       "\n",
       "               var  log10_mean  log10_var  \n",
       "1960  95455.162949    2.399108   0.160564  "
      ]
     },
     "metadata": {},
     "output_type": "display_data"
    },
    {
     "name": "stdout",
     "output_type": "stream",
     "text": [
      "/Volumes/Wes/results/geneLength//ftp.uniprot.org/pub/databases/uniprot/current_release/knowledgebase/reference_proteomes/Eukaryota/UP000009183/UP000009183_29760.length.tsv\n",
      "µ: 2.3991081574448803 \tσ: 0.40070495803076095\n"
     ]
    },
    {
     "data": {
      "image/png": "[encoded data removed]",
      "text/plain": [
       "<Figure size 432x288 with 1 Axes>"
      ]
     },
     "metadata": {
      "needs_background": "light"
     },
     "output_type": "display_data"
    },
    {
     "name": "stdout",
     "output_type": "stream",
     "text": [
      "Kurtosis: -0.027310272104067224\n",
      "Skewness: -0.51150105984262\n",
      "D'Agostino's K-squared test(statistics=1162.4570857747017, p-value=3.7640128669531653e-253)\n"
     ]
    }
   ],
   "source": [
    "tax_id = 29760\n",
    "species_distribution__retrieve_plot_and_fit(stat_df, tax_id)"
   ]
  },
  {
   "cell_type": "markdown",
   "id": "0787946e-ad3a-458e-93b8-67579893e863",
   "metadata": {},
   "source": [
    "### _Acinetobacter baumannii_ (tax\\_id = 1310800)"
   ]
  },
  {
   "cell_type": "code",
   "execution_count": 21,
   "id": "45e20fea-6f0c-45a1-9656-96f83673c790",
   "metadata": {},
   "outputs": [],
   "source": [
    "#tax_id = 1310800\n",
    "#species_distribution__retrieve_plot_and_fit(stat_df, 1310800)"
   ]
  },
  {
   "cell_type": "markdown",
   "id": "0681824c-0c30-48bd-9dc5-a2504c9e6c87",
   "metadata": {},
   "source": [
    "### _Colletotrichum gloeosporioides_ (tax\\_id = 1213859)"
   ]
  },
  {
   "cell_type": "code",
   "execution_count": 22,
   "id": "553ab12a-1e7c-41d1-9117-20a24041a090",
   "metadata": {},
   "outputs": [
    {
     "data": {
      "text/html": [
       "<div>\n",
       "<style scoped>\n",
       "    .dataframe tbody tr th:only-of-type {\n",
       "        vertical-align: middle;\n",
       "    }\n",
       "\n",
       "    .dataframe tbody tr th {\n",
       "        vertical-align: top;\n",
       "    }\n",
       "\n",
       "    .dataframe thead th {\n",
       "        text-align: right;\n",
       "    }\n",
       "</style>\n",
       "<table border=\"1\" class=\"dataframe\">\n",
       "  <thead>\n",
       "    <tr style=\"text-align: right;\">\n",
       "      <th></th>\n",
       "      <th>superregnum</th>\n",
       "      <th>species</th>\n",
       "      <th>proteome_id</th>\n",
       "      <th>tax_id</th>\n",
       "      <th>uniprot_fasta_file</th>\n",
       "      <th>count</th>\n",
       "      <th>mean</th>\n",
       "      <th>var</th>\n",
       "      <th>log10_mean</th>\n",
       "      <th>log10_var</th>\n",
       "    </tr>\n",
       "  </thead>\n",
       "  <tbody>\n",
       "    <tr>\n",
       "      <th>198</th>\n",
       "      <td>eukaryota</td>\n",
       "      <td>Colletotrichum fructicola (strain Nara gc5) (A...</td>\n",
       "      <td>UP000011096</td>\n",
       "      <td>1213859</td>\n",
       "      <td>/ftp.uniprot.org/pub/databases/uniprot/current...</td>\n",
       "      <td>17182.0</td>\n",
       "      <td>469.889652</td>\n",
       "      <td>129150.736789</td>\n",
       "      <td>2.575889</td>\n",
       "      <td>0.086285</td>\n",
       "    </tr>\n",
       "  </tbody>\n",
       "</table>\n",
       "</div>"
      ],
      "text/plain": [
       "    superregnum                                            species  \\\n",
       "198   eukaryota  Colletotrichum fructicola (strain Nara gc5) (A...   \n",
       "\n",
       "     proteome_id   tax_id                                 uniprot_fasta_file  \\\n",
       "198  UP000011096  1213859  /ftp.uniprot.org/pub/databases/uniprot/current...   \n",
       "\n",
       "       count        mean            var  log10_mean  log10_var  \n",
       "198  17182.0  469.889652  129150.736789    2.575889   0.086285  "
      ]
     },
     "metadata": {},
     "output_type": "display_data"
    },
    {
     "name": "stdout",
     "output_type": "stream",
     "text": [
      "/Volumes/Wes/results/geneLength//ftp.uniprot.org/pub/databases/uniprot/current_release/knowledgebase/reference_proteomes/Eukaryota/UP000011096/UP000011096_1213859.length.tsv\n",
      "µ: 2.5758893630251287 \tσ: 0.2937439099550416\n"
     ]
    },
    {
     "data": {
      "image/png": "[encoded data removed]",
      "text/plain": [
       "<Figure size 432x288 with 1 Axes>"
      ]
     },
     "metadata": {
      "needs_background": "light"
     },
     "output_type": "display_data"
    },
    {
     "name": "stdout",
     "output_type": "stream",
     "text": [
      "Kurtosis: 0.2077139256197209\n",
      "Skewness: -0.21180489918702788\n",
      "D'Agostino's K-squared test(statistics=151.54596784634086, p-value=1.2365486419655705e-33)\n"
     ]
    }
   ],
   "source": [
    "tax_id = 1213859\n",
    "species_distribution__retrieve_plot_and_fit(stat_df, tax_id)"
   ]
  },
  {
   "cell_type": "markdown",
   "id": "ad4e7dad-7c01-48e7-8fea-87433d28b6f7",
   "metadata": {},
   "source": [
    "## Fig S2"
   ]
  },
  {
   "cell_type": "markdown",
   "id": "f599574b-98e8-4a98-ae45-4395c1aa7359",
   "metadata": {},
   "source": [
    "### _Cavia porcellus_ (tax\\_id = 10141)"
   ]
  },
  {
   "cell_type": "code",
   "execution_count": 23,
   "id": "efcee75a-3124-4468-b560-97e3e89193ac",
   "metadata": {},
   "outputs": [
    {
     "data": {
      "text/html": [
       "<div>\n",
       "<style scoped>\n",
       "    .dataframe tbody tr th:only-of-type {\n",
       "        vertical-align: middle;\n",
       "    }\n",
       "\n",
       "    .dataframe tbody tr th {\n",
       "        vertical-align: top;\n",
       "    }\n",
       "\n",
       "    .dataframe thead th {\n",
       "        text-align: right;\n",
       "    }\n",
       "</style>\n",
       "<table border=\"1\" class=\"dataframe\">\n",
       "  <thead>\n",
       "    <tr style=\"text-align: right;\">\n",
       "      <th></th>\n",
       "      <th>superregnum</th>\n",
       "      <th>species</th>\n",
       "      <th>proteome_id</th>\n",
       "      <th>tax_id</th>\n",
       "      <th>uniprot_fasta_file</th>\n",
       "      <th>count</th>\n",
       "      <th>mean</th>\n",
       "      <th>var</th>\n",
       "      <th>log10_mean</th>\n",
       "      <th>log10_var</th>\n",
       "    </tr>\n",
       "  </thead>\n",
       "  <tbody>\n",
       "    <tr>\n",
       "      <th>3647</th>\n",
       "      <td>eukaryota</td>\n",
       "      <td>Cavia porcellus (Guinea pig)</td>\n",
       "      <td>UP000005447</td>\n",
       "      <td>10141</td>\n",
       "      <td>/ftp.uniprot.org/pub/databases/uniprot/current...</td>\n",
       "      <td>18247.0</td>\n",
       "      <td>540.943169</td>\n",
       "      <td>246132.162669</td>\n",
       "      <td>2.6082</td>\n",
       "      <td>0.107282</td>\n",
       "    </tr>\n",
       "  </tbody>\n",
       "</table>\n",
       "</div>"
      ],
      "text/plain": [
       "     superregnum                       species  proteome_id  tax_id  \\\n",
       "3647   eukaryota  Cavia porcellus (Guinea pig)  UP000005447   10141   \n",
       "\n",
       "                                     uniprot_fasta_file    count        mean  \\\n",
       "3647  /ftp.uniprot.org/pub/databases/uniprot/current...  18247.0  540.943169   \n",
       "\n",
       "                var  log10_mean  log10_var  \n",
       "3647  246132.162669      2.6082   0.107282  "
      ]
     },
     "metadata": {},
     "output_type": "display_data"
    },
    {
     "name": "stdout",
     "output_type": "stream",
     "text": [
      "/Volumes/Wes/results/geneLength//ftp.uniprot.org/pub/databases/uniprot/current_release/knowledgebase/reference_proteomes/Eukaryota/UP000005447/UP000005447_10141.length.tsv\n",
      "µ: 2.6081999542155296 \tσ: 0.3275391435998644\n"
     ]
    },
    {
     "data": {
      "image/png": "[encoded data removed]",
      "text/plain": [
       "<Figure size 432x288 with 1 Axes>"
      ]
     },
     "metadata": {
      "needs_background": "light"
     },
     "output_type": "display_data"
    },
    {
     "name": "stdout",
     "output_type": "stream",
     "text": [
      "Kurtosis: 0.453719686546751\n",
      "Skewness: -0.02500681788721736\n",
      "D'Agostino's K-squared test(statistics=107.87728120235484, p-value=3.7561767965780544e-24)\n"
     ]
    }
   ],
   "source": [
    "tax_id = 10141\n",
    "species_distribution__retrieve_plot_and_fit(stat_df, tax_id)"
   ]
  },
  {
   "cell_type": "markdown",
   "id": "c988c165-1b89-46ca-86e6-772ad1391fc1",
   "metadata": {},
   "source": [
    "## Fig S7"
   ]
  },
  {
   "cell_type": "markdown",
   "id": "30adfb77-8a42-4281-9777-e94085d70820",
   "metadata": {},
   "source": [
    "### _Shewanella loihica_ (tax\\_id = 323850)"
   ]
  },
  {
   "cell_type": "code",
   "execution_count": 24,
   "id": "68cb9451-b048-49eb-929b-bb239739f7bd",
   "metadata": {},
   "outputs": [
    {
     "data": {
      "text/html": [
       "<div>\n",
       "<style scoped>\n",
       "    .dataframe tbody tr th:only-of-type {\n",
       "        vertical-align: middle;\n",
       "    }\n",
       "\n",
       "    .dataframe tbody tr th {\n",
       "        vertical-align: top;\n",
       "    }\n",
       "\n",
       "    .dataframe thead th {\n",
       "        text-align: right;\n",
       "    }\n",
       "</style>\n",
       "<table border=\"1\" class=\"dataframe\">\n",
       "  <thead>\n",
       "    <tr style=\"text-align: right;\">\n",
       "      <th></th>\n",
       "      <th>superregnum</th>\n",
       "      <th>species</th>\n",
       "      <th>proteome_id</th>\n",
       "      <th>tax_id</th>\n",
       "      <th>uniprot_fasta_file</th>\n",
       "      <th>count</th>\n",
       "      <th>mean</th>\n",
       "      <th>var</th>\n",
       "      <th>log10_mean</th>\n",
       "      <th>log10_var</th>\n",
       "    </tr>\n",
       "  </thead>\n",
       "  <tbody>\n",
       "    <tr>\n",
       "      <th>4800</th>\n",
       "      <td>bacteria</td>\n",
       "      <td>Shewanella loihica (strain ATCC BAA-1088 / PV-4)</td>\n",
       "      <td>UP000001558</td>\n",
       "      <td>323850</td>\n",
       "      <td>/ftp.uniprot.org/pub/databases/uniprot/current...</td>\n",
       "      <td>3855.0</td>\n",
       "      <td>339.778729</td>\n",
       "      <td>60661.644073</td>\n",
       "      <td>2.440595</td>\n",
       "      <td>0.079555</td>\n",
       "    </tr>\n",
       "  </tbody>\n",
       "</table>\n",
       "</div>"
      ],
      "text/plain": [
       "     superregnum                                           species  \\\n",
       "4800    bacteria  Shewanella loihica (strain ATCC BAA-1088 / PV-4)   \n",
       "\n",
       "      proteome_id  tax_id                                 uniprot_fasta_file  \\\n",
       "4800  UP000001558  323850  /ftp.uniprot.org/pub/databases/uniprot/current...   \n",
       "\n",
       "       count        mean           var  log10_mean  log10_var  \n",
       "4800  3855.0  339.778729  60661.644073    2.440595   0.079555  "
      ]
     },
     "metadata": {},
     "output_type": "display_data"
    },
    {
     "name": "stdout",
     "output_type": "stream",
     "text": [
      "/Volumes/Wes/results/geneLength//ftp.uniprot.org/pub/databases/uniprot/current_release/knowledgebase/reference_proteomes/Bacteria/UP000001558/UP000001558_323850.length.tsv\n",
      "µ: 2.4405946049463645 \tσ: 0.28205457432966796\n"
     ]
    },
    {
     "data": {
      "image/png": "[encoded data removed]",
      "text/plain": [
       "<Figure size 432x288 with 1 Axes>"
      ]
     },
     "metadata": {
      "needs_background": "light"
     },
     "output_type": "display_data"
    },
    {
     "name": "stdout",
     "output_type": "stream",
     "text": [
      "Kurtosis: -0.09329483526783733\n",
      "Skewness: -0.04857619394836839\n",
      "D'Agostino's K-squared test(statistics=2.9239278013247283, p-value=0.23178063331967275)\n"
     ]
    }
   ],
   "source": [
    "tax_id = 323850\n",
    "species_distribution__retrieve_plot_and_fit(stat_df, tax_id)"
   ]
  },
  {
   "cell_type": "markdown",
   "id": "9ba26e0e-2bf0-4c37-8028-591e62c69dd8",
   "metadata": {},
   "source": [
    "### _Orchesella cincta_ (tax\\_id = 48709)"
   ]
  },
  {
   "cell_type": "code",
   "execution_count": 25,
   "id": "55d37c9c-fea1-4037-83a8-3249ed29916a",
   "metadata": {},
   "outputs": [
    {
     "data": {
      "text/html": [
       "<div>\n",
       "<style scoped>\n",
       "    .dataframe tbody tr th:only-of-type {\n",
       "        vertical-align: middle;\n",
       "    }\n",
       "\n",
       "    .dataframe tbody tr th {\n",
       "        vertical-align: top;\n",
       "    }\n",
       "\n",
       "    .dataframe thead th {\n",
       "        text-align: right;\n",
       "    }\n",
       "</style>\n",
       "<table border=\"1\" class=\"dataframe\">\n",
       "  <thead>\n",
       "    <tr style=\"text-align: right;\">\n",
       "      <th></th>\n",
       "      <th>superregnum</th>\n",
       "      <th>species</th>\n",
       "      <th>proteome_id</th>\n",
       "      <th>tax_id</th>\n",
       "      <th>uniprot_fasta_file</th>\n",
       "      <th>count</th>\n",
       "      <th>mean</th>\n",
       "      <th>var</th>\n",
       "      <th>log10_mean</th>\n",
       "      <th>log10_var</th>\n",
       "    </tr>\n",
       "  </thead>\n",
       "  <tbody>\n",
       "    <tr>\n",
       "      <th>634</th>\n",
       "      <td>eukaryota</td>\n",
       "      <td>Orchesella cincta (Springtail)</td>\n",
       "      <td>UP000094527</td>\n",
       "      <td>48709</td>\n",
       "      <td>/ftp.uniprot.org/pub/databases/uniprot/current...</td>\n",
       "      <td>20218.0</td>\n",
       "      <td>424.12019</td>\n",
       "      <td>156494.930996</td>\n",
       "      <td>2.495977</td>\n",
       "      <td>0.115681</td>\n",
       "    </tr>\n",
       "  </tbody>\n",
       "</table>\n",
       "</div>"
      ],
      "text/plain": [
       "    superregnum                         species  proteome_id  tax_id  \\\n",
       "634   eukaryota  Orchesella cincta (Springtail)  UP000094527   48709   \n",
       "\n",
       "                                    uniprot_fasta_file    count       mean  \\\n",
       "634  /ftp.uniprot.org/pub/databases/uniprot/current...  20218.0  424.12019   \n",
       "\n",
       "               var  log10_mean  log10_var  \n",
       "634  156494.930996    2.495977   0.115681  "
      ]
     },
     "metadata": {},
     "output_type": "display_data"
    },
    {
     "name": "stdout",
     "output_type": "stream",
     "text": [
      "/Volumes/Wes/results/geneLength//ftp.uniprot.org/pub/databases/uniprot/current_release/knowledgebase/reference_proteomes/Eukaryota/UP000094527/UP000094527_48709.length.tsv\n",
      "µ: 2.4959771728410467 \tσ: 0.3401194732115712\n"
     ]
    },
    {
     "data": {
      "image/png": "[encoded data removed]",
      "text/plain": [
       "<Figure size 432x288 with 1 Axes>"
      ]
     },
     "metadata": {
      "needs_background": "light"
     },
     "output_type": "display_data"
    },
    {
     "name": "stdout",
     "output_type": "stream",
     "text": [
      "Kurtosis: 0.07804696175054904\n",
      "Skewness: -0.07578260990627901\n",
      "D'Agostino's K-squared test(statistics=24.185233843939038, p-value=5.600711459410769e-06)\n"
     ]
    }
   ],
   "source": [
    "tax_id = 48709\n",
    "species_distribution__retrieve_plot_and_fit(stat_df, tax_id)"
   ]
  }
 ],
 "metadata": {
  "kernelspec": {
   "display_name": "Python 3 (ipykernel)",
   "language": "python",
   "name": "python3"
  },
  "language_info": {
   "codemirror_mode": {
    "name": "ipython",
    "version": 3
   },
   "file_extension": ".py",
   "mimetype": "text/x-python",
   "name": "python",
   "nbconvert_exporter": "python",
   "pygments_lexer": "ipython3",
   "version": "3.10.2"
  }
 },
 "nbformat": 4,
 "nbformat_minor": 5
}
