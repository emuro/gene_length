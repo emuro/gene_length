{
 "cells": [
  {
   "cell_type": "code",
   "execution_count": null,
   "id": "bc59d97e",
   "metadata": {},
   "outputs": [],
   "source": [
    "from reliability.Fitters import Fit_Weibull_2P    #Import all the distributions in Reliabitity to fit length data\n",
    "from reliability.Fitters import Fit_Lognormal_2P\n",
    "from reliability.Fitters import Fit_Gamma_2P\n",
    "from reliability.Fitters import Fit_Exponential_1P\n",
    "from reliability.Fitters import Fit_Loglogistic_2P\n",
    "from reliability.Fitters import Fit_Gumbel_2P\n",
    "from reliability.Other_functions import histogram\n",
    "import matplotlib.pyplot as plt\n",
    "import pandas as pd\n",
    "import numpy as np\n",
    "import csv\n",
    "from pathlib import Path\n",
    "\n",
    "fichero=open('loglikes.dat','w') # File to store the values of log-likelihood after fitting to all the above distributions\n",
    "\n",
    "# Download the *.tsv files with length data you want to fit from:\n",
    "# https://genford.uv.es:5001/sharing/P79EcUfhE\n",
    "# and save them in the working path of this script \n",
    "\n",
    "pathlist = Path(\".\").glob('**/*.tsv')  #Read all the *.tsv files in the working path\n",
    "for path in pathlist:\n",
    "    data = pd.read_csv(path.name, sep=\"\\t\", usecols=['length']).T.values.tolist()[0]  #reads the lengths of each gene or protein in the file\n",
    "  \n",
    "    lnf = Fit_Lognormal_2P(failures=data,show_probability_plot=False, print_results=True)  # fit the Lognormal_2P distribution\n",
    "    print('Fit_Lognormal_2P parameters:\\nMu:', lnf.mu, '\\nSigma:', lnf.sigma)\n",
    "    \n",
    "    gmf = Fit_Gamma_2P(failures=data,show_probability_plot=False, print_results=True)  # fit the Gamma_2P distribution\n",
    "    print('Fit_Gamma_2P parameters:\\nAlpha:', gmf.alpha, '\\nBeta:', gmf.beta)\n",
    "    \n",
    "    wbf = Fit_Weibull_2P(failures=data,show_probability_plot=False, print_results=True)  # fit the Weibull_2P distribution\n",
    "    print('Fit_Weibull_2P parameters:\\nAlpha:', wbf.alpha, '\\nBeta:', wbf.beta)\n",
    "\n",
    "    xpo = Fit_Exponential_1P(failures=data,show_probability_plot=False, print_results=True)  # fit the Exponential_1P distribution\n",
    "    print('Fit_Exponential_1P parameters:\\nLambda:', xpo.Lambda)\n",
    "    \n",
    "    llg = Fit_Loglogistic_2P(failures=data,show_probability_plot=False, print_results=True)  # fit the Loglogistic_2P distribution\n",
    "    print('Fit_Loglogistic_2P parameters:\\nAlpha:', llg.alpha, '\\nBeta:', llg.beta)\n",
    "    \n",
    "    gbf = Fit_Gumbel_2P(failures=data,show_probability_plot=False, print_results=True)  # fit the Gumbel_2P distribution\n",
    "    print('Fit_Gumbel_2P parameters:\\nMu:', gbf.mu, '\\nSigma:', gbf.sigma)\n",
    "    \n",
    "    print('loglikelihoods:',lnf.loglik,gmf.loglik,wbf.loglik,xpo.loglik,llg.loglik,gbf.loglik,file=fichero)  #saves the log-likelihoods\n",
    "\n",
    "fichero.close()"
   ]
  }
 ],
 "metadata": {
  "kernelspec": {
   "display_name": "Python 3 (ipykernel)",
   "language": "python",
   "name": "python3"
  },
  "language_info": {
   "codemirror_mode": {
    "name": "ipython",
    "version": 3
   },
   "file_extension": ".py",
   "mimetype": "text/x-python",
   "name": "python",
   "nbconvert_exporter": "python",
   "pygments_lexer": "ipython3",
   "version": "3.10.12"
  }
 },
 "nbformat": 4,
 "nbformat_minor": 5
}
