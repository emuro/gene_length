{
 "cells": [
  {
   "cell_type": "markdown",
   "id": "c200a4f3",
   "metadata": {},
   "source": [
    "# [Log-normal distribution](https://en.wikipedia.org/wiki/Log-normal_distribution)\n",
    "In probability theory, a log-normal (or lognormal) distribution is a continuous probability distribution of a random variable whose logarithm is normally distributed.  \n",
    "  \n",
    "**The PDF (Probability Density Function) of a normal distribution is**  \n",
    "$ f(x) = \\frac{1}{ \\sigma \\sqrt{2 \\pi}} e^- \\frac{1}{2} {(\\frac{(x-\\mu)}{\\sigma})}^{2} $"
   ]
  },
  {
   "cell_type": "markdown",
   "id": "8046a185-31f3-48b1-83f7-947911a96d15",
   "metadata": {},
   "source": [
    "## Import python modules"
   ]
  },
  {
   "cell_type": "code",
   "execution_count": 3,
   "id": "51b0a90c",
   "metadata": {},
   "outputs": [],
   "source": [
    "import numpy as np\n",
    "import matplotlib.pyplot as plt\n",
    "from scipy import stats\n",
    "import os \n",
    "import pandas as pd\n",
    "import math"
   ]
  },
  {
   "cell_type": "markdown",
   "id": "c7b6d3b5",
   "metadata": {},
   "source": [
    "## Observations: the protein coding gene length distribution for the different species"
   ]
  },
  {
   "cell_type": "markdown",
   "id": "d509543a-9bbf-4428-bb98-a287201ef79d",
   "metadata": {},
   "source": [
    "### Retrieve the statistical description of the lenght's distributions and the taxonomical id of the species"
   ]
  },
  {
   "cell_type": "markdown",
   "id": "3a99f2a8-5073-440f-88be-bf0def58ea9d",
   "metadata": {
    "tags": []
   },
   "source": [
    "#### Statistical description "
   ]
  },
  {
   "cell_type": "code",
   "execution_count": 20,
   "id": "86b76b58-6c34-4b8a-82b3-f117e835fad0",
   "metadata": {},
   "outputs": [
    {
     "name": "stdout",
     "output_type": "stream",
     "text": [
      "The statistical description of the protein coding gene distribution for the different species is in:\n",
      " ../main_tables/stat_protCodGenes.tsv \n",
      "\n"
     ]
    },
    {
     "data": {
      "text/html": [
       "<div>\n",
       "<style scoped>\n",
       "    .dataframe tbody tr th:only-of-type {\n",
       "        vertical-align: middle;\n",
       "    }\n",
       "\n",
       "    .dataframe tbody tr th {\n",
       "        vertical-align: top;\n",
       "    }\n",
       "\n",
       "    .dataframe thead th {\n",
       "        text-align: right;\n",
       "    }\n",
       "</style>\n",
       "<table border=\"1\" class=\"dataframe\">\n",
       "  <thead>\n",
       "    <tr style=\"text-align: right;\">\n",
       "      <th></th>\n",
       "      <th>division_7</th>\n",
       "      <th>species</th>\n",
       "      <th>trunk_genes_path</th>\n",
       "      <th>genes_file</th>\n",
       "      <th>count</th>\n",
       "      <th>mean</th>\n",
       "      <th>var</th>\n",
       "      <th>log10_mean</th>\n",
       "      <th>log10_var</th>\n",
       "    </tr>\n",
       "  </thead>\n",
       "  <tbody>\n",
       "    <tr>\n",
       "      <th>0</th>\n",
       "      <td>vertebrates</td>\n",
       "      <td>loxodonta_africana</td>\n",
       "      <td>ftp.ensembl.org/pub/release-98/genes/loxodonta...</td>\n",
       "      <td>protein_coding.genes.loxodonta_africana.nan.en...</td>\n",
       "      <td>20033</td>\n",
       "      <td>38075.419757</td>\n",
       "      <td>5.738609e+09</td>\n",
       "      <td>4.007482</td>\n",
       "      <td>0.593872</td>\n",
       "    </tr>\n",
       "    <tr>\n",
       "      <th>1</th>\n",
       "      <td>vertebrates</td>\n",
       "      <td>sus_scrofa_tibetan</td>\n",
       "      <td>ftp.ensembl.org/pub/release-98/genes/sus_scrof...</td>\n",
       "      <td>protein_coding.genes.sus_scrofa_tibetan.nan.en...</td>\n",
       "      <td>19974</td>\n",
       "      <td>49828.490538</td>\n",
       "      <td>7.845625e+09</td>\n",
       "      <td>4.224371</td>\n",
       "      <td>0.495779</td>\n",
       "    </tr>\n",
       "  </tbody>\n",
       "</table>\n",
       "</div>"
      ],
      "text/plain": [
       "    division_7             species  \\\n",
       "0  vertebrates  loxodonta_africana   \n",
       "1  vertebrates  sus_scrofa_tibetan   \n",
       "\n",
       "                                    trunk_genes_path  \\\n",
       "0  ftp.ensembl.org/pub/release-98/genes/loxodonta...   \n",
       "1  ftp.ensembl.org/pub/release-98/genes/sus_scrof...   \n",
       "\n",
       "                                          genes_file  count          mean  \\\n",
       "0  protein_coding.genes.loxodonta_africana.nan.en...  20033  38075.419757   \n",
       "1  protein_coding.genes.sus_scrofa_tibetan.nan.en...  19974  49828.490538   \n",
       "\n",
       "            var  log10_mean  log10_var  \n",
       "0  5.738609e+09    4.007482   0.593872  \n",
       "1  7.845625e+09    4.224371   0.495779  "
      ]
     },
     "metadata": {},
     "output_type": "display_data"
    },
    {
     "name": "stdout",
     "output_type": "stream",
     "text": [
      "(33629, 9)\n"
     ]
    }
   ],
   "source": [
    "# statistics on length distribution for different species     \n",
    "stat_file = \"../main_tables/stat_protCodGenes.tsv\"\n",
    "print(\"The statistical description of the protein coding gene distribution for the different species is in:\\n\", stat_file, \"\\n\")\n",
    "\n",
    "# retrieve data and diminish the number of columns\n",
    "stat_df = pd.read_csv(stat_file, low_memory=False, sep=\"\\t\")\n",
    "stat_df = stat_df[[\"division_7\", \"species\", \"trunk_genes_path\", \"genes_file\", \"count\", \"mean\", \"var\"] + [\"log10_mean\", \"log10_var\"]]\n",
    "\n",
    "# visualize data\n",
    "pd.set_option('display.max_columns', None)\n",
    "if 1:\n",
    "    display(stat_df.head(2))\n",
    "    print(stat_df.shape)"
   ]
  },
  {
   "cell_type": "markdown",
   "id": "67606c91-2073-46be-8c74-644a8e1512be",
   "metadata": {},
   "source": [
    "#### Taxonomy id for each species from Ensembl"
   ]
  },
  {
   "cell_type": "code",
   "execution_count": 21,
   "id": "171e31a8-0661-4dc9-bfac-6b4c42c01a87",
   "metadata": {},
   "outputs": [
    {
     "data": {
      "text/html": [
       "<div>\n",
       "<style scoped>\n",
       "    .dataframe tbody tr th:only-of-type {\n",
       "        vertical-align: middle;\n",
       "    }\n",
       "\n",
       "    .dataframe tbody tr th {\n",
       "        vertical-align: top;\n",
       "    }\n",
       "\n",
       "    .dataframe thead th {\n",
       "        text-align: right;\n",
       "    }\n",
       "</style>\n",
       "<table border=\"1\" class=\"dataframe\">\n",
       "  <thead>\n",
       "    <tr style=\"text-align: right;\">\n",
       "      <th></th>\n",
       "      <th>name</th>\n",
       "      <th>species</th>\n",
       "      <th>tax_id</th>\n",
       "    </tr>\n",
       "  </thead>\n",
       "  <tbody>\n",
       "    <tr>\n",
       "      <th>0</th>\n",
       "      <td>Spiny chromis</td>\n",
       "      <td>acanthochromis_polyacanthus</td>\n",
       "      <td>80966</td>\n",
       "    </tr>\n",
       "    <tr>\n",
       "      <th>1</th>\n",
       "      <td>Panda</td>\n",
       "      <td>ailuropoda_melanoleuca</td>\n",
       "      <td>9646</td>\n",
       "    </tr>\n",
       "  </tbody>\n",
       "</table>\n",
       "</div>"
      ],
      "text/plain": [
       "            name                      species  tax_id\n",
       "0  Spiny chromis  acanthochromis_polyacanthus   80966\n",
       "1          Panda       ailuropoda_melanoleuca    9646"
      ]
     },
     "metadata": {},
     "output_type": "display_data"
    },
    {
     "name": "stdout",
     "output_type": "stream",
     "text": [
      "(33021, 3)\n"
     ]
    }
   ],
   "source": [
    "# ENSEMBL tax_id     \n",
    "ensembl_taxId_file = \"../main_tables/extra_tables/species_Ensembl.tsv\" \n",
    "\n",
    "# retrieve data\n",
    "taxid_df = pd.read_csv(ensembl_taxId_file, sep=\"\\t\")\n",
    "taxid_df = taxid_df[[\"#name\", \"species\", \"taxonomy_id\"]]\n",
    "taxid_df.rename(columns = {\"#name\" : 'name', \"taxonomy_id\" : 'tax_id'}, inplace = True)\n",
    "\n",
    "# visualize data\n",
    "pd.set_option('display.max_columns', None)\n",
    "if 1:\n",
    "    display(taxid_df.head(2))\n",
    "    print(taxid_df.shape)"
   ]
  },
  {
   "cell_type": "code",
   "execution_count": 22,
   "id": "c8b00dd3-85b7-4e13-8245-55406669aafb",
   "metadata": {},
   "outputs": [],
   "source": [
    "# Use pandas.merge() on multiple columns\n",
    "stat_taxid_df = pd.merge(stat_df, taxid_df, on=['species'])\n",
    "stat_taxid_df = stat_taxid_df[stat_taxid_df['tax_id'].notna()]\n",
    "if 0:\n",
    "    display(stat_taxid_df.head(2))\n",
    "    print(stat_taxid_df.shape)"
   ]
  },
  {
   "cell_type": "markdown",
   "id": "b7864e7f-66e1-4115-9a45-c2d020171688",
   "metadata": {
    "tags": []
   },
   "source": [
    "## Python functions"
   ]
  },
  {
   "cell_type": "code",
   "execution_count": 24,
   "id": "5eb1c776-894f-400a-9166-bc6a5a670389",
   "metadata": {},
   "outputs": [],
   "source": [
    "# Function to plot the log-normal distribution\n",
    "# blue: Observation\n",
    "# red: Theoretical/Simulation\n",
    "##########################################\n",
    "def plot_log_norm (log10_len, mu, sigma, N, title, subtitle, xlabel, ylabel): # N is number of \n",
    "    print(\"µ:\", mu, \"\\tσ:\", sigma)\n",
    "    my_normal_dist = np.random.normal(mu, sigma, N)\n",
    "    count, bins, *rest = plt.hist(log10_len, 60, density=True, alpha=0.8, edgecolor='black')\n",
    "\n",
    "    # plt.hist(my_normal_dist, 30, density=True, alpha=0.25, color=\"r\")\n",
    "    # print(count); print(bins); print(*rest)\n",
    "    \n",
    "    plt.plot(bins, 1/(sigma * np.sqrt(2 * np.pi)) *\n",
    "             np.exp( - (bins - mu)**2 / (2 * sigma**2) ),\n",
    "             linewidth=2, color='r', alpha=0.5)\n",
    "     \n",
    "    # mean\n",
    "    plt.vlines(x = mu, ymin = 0, ymax = 0.2, colors = 'white', label = 'mean')\n",
    "    plt.xlim([1,7]); plt.ylim([0,1.5])\n",
    "    plt.suptitle(title); plt.title(subtitle + \" (N=\" + str(int(N)) +\")\")\n",
    "    plt.xlabel(xlabel); plt.ylabel(ylabel)\n",
    "    plt.show()"
   ]
  },
  {
   "cell_type": "code",
   "execution_count": 25,
   "id": "af6c0ad2-9985-4285-887a-c413505d46e6",
   "metadata": {},
   "outputs": [],
   "source": [
    "# species' stats for length distribution\n",
    "def get_df_for_taxid(df, taxid):\n",
    "     return df.loc[df[\"tax_id\"]==taxid].copy()"
   ]
  },
  {
   "cell_type": "code",
   "execution_count": 26,
   "id": "ee7bf25c-d0a0-4028-9af0-2e8f7979a15f",
   "metadata": {},
   "outputs": [],
   "source": [
    "def does_it_fits_normal(data_observed): \n",
    "    # Kurtosis and Skewness\n",
    "    # =====================\n",
    "    print('Kurtosis:', stats.kurtosis(data_observed))\n",
    "    print('Skewness:', stats.skew(data_observed))\n",
    "    # D'Agostino's K-squared test\n",
    "    # ===========================\n",
    "    k2, p_value = stats.normaltest(data_observed)\n",
    "    print(f\"D'Agostino's K-squared test(Estadístico={k2}, p-value={p_value})\")"
   ]
  },
  {
   "cell_type": "markdown",
   "id": "3145b8ee-4157-412a-af50-701540a82d35",
   "metadata": {},
   "source": [
    "Deja de ser una log-normal (teóricamente)\n",
    "- Kurtosis o Skewness: $\\leq -1$ o $\\geq 1$ \n",
    "- D'Agostino's K-squared test: p-value $ \\leq 0.05 $, porque rechaza la hipótesis nula "
   ]
  },
  {
   "cell_type": "code",
   "execution_count": null,
   "id": "1748a542-61bb-4e2c-9ab3-ef32b0ffd77b",
   "metadata": {},
   "outputs": [],
   "source": []
  },
  {
   "cell_type": "code",
   "execution_count": 27,
   "id": "1bcc7a1e-2408-46a8-af94-026a08044e94",
   "metadata": {},
   "outputs": [],
   "source": [
    "# The next function performs the whole analysis\n",
    "def species_gene_distribution__retrieve_plot_and_fit(stat_taxid_df, tax_id):\n",
    "    species_df = get_df_for_taxid(stat_taxid_df, tax_id)\n",
    "    species_df.drop_duplicates(subset=['tax_id'], inplace=True, keep='last')\n",
    "    display(species_df)\n",
    "    \n",
    "    genes_f = base_dir + \"results/geneLength/\" + species_df[\"trunk_genes_path\"].item() + species_df[\"genes_file\"].item()\n",
    "    print(genes_f)\n",
    "    # retrieve data\n",
    "    genes_df = pd.read_csv(genes_f, sep=\"\\t\")\n",
    "    genes_df = genes_df[[\"length\"]]\n",
    "    # visualize data\n",
    "    pd.set_option('display.max_columns', None)\n",
    "    if 0:\n",
    "        display(genes_df.head(2))\n",
    "        print(genes_df.shape)\n",
    "    \n",
    "    # plot the distributions: observed and theoretical\n",
    "    genes_df[\"log10_length\"] = genes_df[\"length\"].apply(np.log10)\n",
    "    title = species_df[\"species\"].item().capitalize(); subtitle = \"Observation\";  xlabel = \"Gene length\"; ylabel = \"PDF\"\n",
    "    plot_log_norm (genes_df[\"log10_length\"], species_df[\"log10_mean\"].item(), math.sqrt(species_df[\"log10_var\"].item()), species_df[\"count\"].item(), \n",
    "                   title, subtitle, xlabel, ylabel)  \n",
    "    # fit to normal\n",
    "    does_it_fits_normal(genes_df[\"log10_length\"])"
   ]
  },
  {
   "cell_type": "code",
   "execution_count": null,
   "id": "4ae16880-5bb1-4961-b601-d3d34b7296e5",
   "metadata": {},
   "outputs": [],
   "source": []
  },
  {
   "cell_type": "markdown",
   "id": "2111fd8f-02db-4b6b-b70d-50d386b34b0c",
   "metadata": {},
   "source": [
    "## Species:"
   ]
  },
  {
   "cell_type": "markdown",
   "id": "02d86cba-90c3-420a-a342-effebd787c95",
   "metadata": {},
   "source": [
    "### Homo sapiens\n",
    "```{note}\n",
    "tax_id = 9606\n",
    "```"
   ]
  },
  {
   "cell_type": "markdown",
   "id": "0866ec4e-b56f-45c2-9858-b517c8481d26",
   "metadata": {},
   "source": [
    "#### Retrieve statistical description"
   ]
  },
  {
   "cell_type": "code",
   "execution_count": 28,
   "id": "4cd3536d-1829-4625-9dbf-234606f1c6e2",
   "metadata": {},
   "outputs": [
    {
     "data": {
      "text/html": [
       "<div>\n",
       "<style scoped>\n",
       "    .dataframe tbody tr th:only-of-type {\n",
       "        vertical-align: middle;\n",
       "    }\n",
       "\n",
       "    .dataframe tbody tr th {\n",
       "        vertical-align: top;\n",
       "    }\n",
       "\n",
       "    .dataframe thead th {\n",
       "        text-align: right;\n",
       "    }\n",
       "</style>\n",
       "<table border=\"1\" class=\"dataframe\">\n",
       "  <thead>\n",
       "    <tr style=\"text-align: right;\">\n",
       "      <th></th>\n",
       "      <th>division_7</th>\n",
       "      <th>species</th>\n",
       "      <th>trunk_genes_path</th>\n",
       "      <th>genes_file</th>\n",
       "      <th>count</th>\n",
       "      <th>mean</th>\n",
       "      <th>var</th>\n",
       "      <th>log10_mean</th>\n",
       "      <th>log10_var</th>\n",
       "      <th>name</th>\n",
       "      <th>tax_id</th>\n",
       "    </tr>\n",
       "  </thead>\n",
       "  <tbody>\n",
       "    <tr>\n",
       "      <th>90</th>\n",
       "      <td>vertebrates</td>\n",
       "      <td>homo_sapiens</td>\n",
       "      <td>ftp.ensembl.org/pub/release-98/genes/homo_sapi...</td>\n",
       "      <td>protein_coding.genes.homo_sapiens.nan.ensembl....</td>\n",
       "      <td>19976</td>\n",
       "      <td>68287.089808</td>\n",
       "      <td>1.753600e+10</td>\n",
       "      <td>4.40396</td>\n",
       "      <td>0.415191</td>\n",
       "      <td>Human</td>\n",
       "      <td>9606</td>\n",
       "    </tr>\n",
       "  </tbody>\n",
       "</table>\n",
       "</div>"
      ],
      "text/plain": [
       "     division_7       species  \\\n",
       "90  vertebrates  homo_sapiens   \n",
       "\n",
       "                                     trunk_genes_path  \\\n",
       "90  ftp.ensembl.org/pub/release-98/genes/homo_sapi...   \n",
       "\n",
       "                                           genes_file  count          mean  \\\n",
       "90  protein_coding.genes.homo_sapiens.nan.ensembl....  19976  68287.089808   \n",
       "\n",
       "             var  log10_mean  log10_var   name  tax_id  \n",
       "90  1.753600e+10     4.40396   0.415191  Human    9606  "
      ]
     },
     "metadata": {},
     "output_type": "display_data"
    }
   ],
   "source": [
    "tax_id = 9696\n",
    "human_df = get_df_for_taxid(stat_taxid_df, 9606)\n",
    "display(human_df)"
   ]
  },
  {
   "cell_type": "markdown",
   "id": "8b65e339-703e-448f-ad07-04b1ce596bea",
   "metadata": {},
   "source": [
    "#### Retrieve genes"
   ]
  },
  {
   "cell_type": "code",
   "execution_count": 32,
   "id": "4ed4b6e0-09b4-4b13-9989-511ad6e908b1",
   "metadata": {},
   "outputs": [
    {
     "name": "stdout",
     "output_type": "stream",
     "text": [
      "/media/emuro/Nubya/results/geneLength/ftp.ensembl.org/pub/release-98/genes/homo_sapiens/protein_coding.genes.homo_sapiens.nan.ensembl.98.tsv\n",
      "All the genes with their lengths of the species are in:\n",
      " /media/emuro/Nubya/results/geneLength/ftp.ensembl.org/pub/release-98/genes/homo_sapiens/protein_coding.genes.homo_sapiens.nan.ensembl.98.tsv \n",
      "\n"
     ]
    }
   ],
   "source": [
    "# system\n",
    "system = list(os.uname())[0]\n",
    "if system == 'Linux':\n",
    "    our_mnt_dir = \"/media/emuro/Nubya/\" # my disks: Wes, Nubya\n",
    "elif system == 'Darwin':\n",
    "    our_mnt_dir = \"/Volumes/Wes/\" # my disks: Wes, Nubya \n",
    "    \n",
    "genes_f = our_mnt_dir + \"results/geneLength/\" + human_df[\"trunk_genes_path\"].item() + human_df[\"genes_file\"].item()\n",
    "print(genes_f)\n",
    "print(\"All the genes with their lengths of the species are in:\\n\", genes_f, \"\\n\")\n",
    "\n",
    "\n",
    "# retrieve data\n",
    "genes_df = pd.read_csv(genes_f, sep=\"\\t\")\n",
    "genes_df = genes_df[[\"length\"]]\n",
    "\n",
    "# visualize data\n",
    "pd.set_option('display.max_columns', None)\n",
    "if 0:\n",
    "    display(genes_df.head(2))\n",
    "    print(genes_df.shape)"
   ]
  },
  {
   "cell_type": "markdown",
   "id": "0f99eb42-9c12-40ca-a2fd-10bd57b53360",
   "metadata": {},
   "source": [
    "#### Plot the log-normal"
   ]
  },
  {
   "cell_type": "code",
   "execution_count": 12,
   "id": "c8e44cba-d963-47ec-acf1-d5165a7b4c9f",
   "metadata": {},
   "outputs": [
    {
     "name": "stdout",
     "output_type": "stream",
     "text": [
      "mu: 4.40396048586088 \tsigma: 0.644352861905651\n"
     ]
    },
    {
     "data": {
      "image/png": "[encoded data removed]",
      "text/plain": [
       "<Figure size 432x288 with 1 Axes>"
      ]
     },
     "metadata": {
      "needs_background": "light"
     },
     "output_type": "display_data"
    }
   ],
   "source": [
    "\n",
    "genes_df[\"log10_length\"] = genes_df[\"length\"].apply(np.log10)\n",
    "title = human_df[\"species\"].item().capitalize(); subtitle = \"Observation\";  xlabel = \"Gene length\"; ylabel = \"PDF\"\n",
    "plot_log_norm (genes_df[\"log10_length\"], human_df[\"log10_mean\"].item(), math.sqrt(human_df[\"log10_var\"].item()), human_df[\"count\"].item(), \n",
    "               title, subtitle, xlabel, ylabel)  "
   ]
  },
  {
   "cell_type": "markdown",
   "id": "1ee437a1-566a-4aed-9f9c-ce652635d399",
   "metadata": {},
   "source": [
    "#### Does the distribution fits the normal distribution?"
   ]
  },
  {
   "cell_type": "code",
   "execution_count": 13,
   "id": "05c41cfc",
   "metadata": {},
   "outputs": [
    {
     "name": "stdout",
     "output_type": "stream",
     "text": [
      "Kurtosis: -0.1116735171105625\n",
      "Skewness: -0.19274087219104544\n",
      "D'Agostino's K-squared test(Estadístico=133.03487000453904, p-value=1.293734108353449e-29)\n"
     ]
    }
   ],
   "source": [
    "does_it_fits_normal(genes_df[\"log10_length\"]) "
   ]
  },
  {
   "cell_type": "code",
   "execution_count": null,
   "id": "be0479b0-1139-415a-8bea-126d90ae7113",
   "metadata": {},
   "outputs": [],
   "source": []
  },
  {
   "cell_type": "markdown",
   "id": "22946f97",
   "metadata": {},
   "source": [
    "### Danio rerio"
   ]
  },
  {
   "cell_type": "code",
   "execution_count": 14,
   "id": "9e1f27f0-352e-44b7-bac4-6278b6c508f1",
   "metadata": {},
   "outputs": [
    {
     "data": {
      "text/html": [
       "<div>\n",
       "<style scoped>\n",
       "    .dataframe tbody tr th:only-of-type {\n",
       "        vertical-align: middle;\n",
       "    }\n",
       "\n",
       "    .dataframe tbody tr th {\n",
       "        vertical-align: top;\n",
       "    }\n",
       "\n",
       "    .dataframe thead th {\n",
       "        text-align: right;\n",
       "    }\n",
       "</style>\n",
       "<table border=\"1\" class=\"dataframe\">\n",
       "  <thead>\n",
       "    <tr style=\"text-align: right;\">\n",
       "      <th></th>\n",
       "      <th>division_7</th>\n",
       "      <th>species</th>\n",
       "      <th>trunk_genes_path</th>\n",
       "      <th>genes_file</th>\n",
       "      <th>count</th>\n",
       "      <th>mean</th>\n",
       "      <th>var</th>\n",
       "      <th>log10_mean</th>\n",
       "      <th>log10_var</th>\n",
       "      <th>name</th>\n",
       "      <th>tax_id</th>\n",
       "    </tr>\n",
       "  </thead>\n",
       "  <tbody>\n",
       "    <tr>\n",
       "      <th>69</th>\n",
       "      <td>vertebrates</td>\n",
       "      <td>danio_rerio</td>\n",
       "      <td>ftp.ensembl.org/pub/release-98/genes/danio_rerio/</td>\n",
       "      <td>protein_coding.genes.danio_rerio.nan.ensembl.9...</td>\n",
       "      <td>25432</td>\n",
       "      <td>31084.050802</td>\n",
       "      <td>2.666395e+09</td>\n",
       "      <td>4.137251</td>\n",
       "      <td>0.330834</td>\n",
       "      <td>Zebrafish</td>\n",
       "      <td>7955</td>\n",
       "    </tr>\n",
       "  </tbody>\n",
       "</table>\n",
       "</div>"
      ],
      "text/plain": [
       "     division_7      species  \\\n",
       "69  vertebrates  danio_rerio   \n",
       "\n",
       "                                     trunk_genes_path  \\\n",
       "69  ftp.ensembl.org/pub/release-98/genes/danio_rerio/   \n",
       "\n",
       "                                           genes_file  count          mean  \\\n",
       "69  protein_coding.genes.danio_rerio.nan.ensembl.9...  25432  31084.050802   \n",
       "\n",
       "             var  log10_mean  log10_var       name  tax_id  \n",
       "69  2.666395e+09    4.137251   0.330834  Zebrafish    7955  "
      ]
     },
     "metadata": {},
     "output_type": "display_data"
    },
    {
     "name": "stdout",
     "output_type": "stream",
     "text": [
      "/media/emuro/Wes/results/geneLength/ftp.ensembl.org/pub/release-98/genes/danio_rerio/protein_coding.genes.danio_rerio.nan.ensembl.98.tsv\n",
      "mu: 4.1372512074567 \tsigma: 0.5751817206250265\n"
     ]
    },
    {
     "data": {
      "image/png": "[encoded data removed]",
      "text/plain": [
       "<Figure size 432x288 with 1 Axes>"
      ]
     },
     "metadata": {
      "needs_background": "light"
     },
     "output_type": "display_data"
    },
    {
     "name": "stdout",
     "output_type": "stream",
     "text": [
      "Kurtosis: 0.13464961203755843\n",
      "Skewness: -0.15265070017727597\n",
      "D'Agostino's K-squared test(Estadístico=114.79272415546741, p-value=1.1832504227909413e-25)\n"
     ]
    }
   ],
   "source": [
    "tax_id = 7955\n",
    "species_gene_distribution__retrieve_plot_and_fit(stat_taxid_df, 7955)"
   ]
  },
  {
   "cell_type": "code",
   "execution_count": null,
   "id": "d2142fd1-8925-49a8-ae44-210bcdb9c96d",
   "metadata": {},
   "outputs": [],
   "source": []
  },
  {
   "cell_type": "markdown",
   "id": "5f3bd0f1-05e3-4b60-b425-eff9b1e14aa0",
   "metadata": {},
   "source": [
    "### Drosophila melanogaster"
   ]
  },
  {
   "cell_type": "code",
   "execution_count": 15,
   "id": "1d783600-b9dd-4f72-ae9b-0ebc61013d35",
   "metadata": {},
   "outputs": [
    {
     "data": {
      "text/html": [
       "<div>\n",
       "<style scoped>\n",
       "    .dataframe tbody tr th:only-of-type {\n",
       "        vertical-align: middle;\n",
       "    }\n",
       "\n",
       "    .dataframe tbody tr th {\n",
       "        vertical-align: top;\n",
       "    }\n",
       "\n",
       "    .dataframe thead th {\n",
       "        text-align: right;\n",
       "    }\n",
       "</style>\n",
       "<table border=\"1\" class=\"dataframe\">\n",
       "  <thead>\n",
       "    <tr style=\"text-align: right;\">\n",
       "      <th></th>\n",
       "      <th>division_7</th>\n",
       "      <th>species</th>\n",
       "      <th>trunk_genes_path</th>\n",
       "      <th>genes_file</th>\n",
       "      <th>count</th>\n",
       "      <th>mean</th>\n",
       "      <th>var</th>\n",
       "      <th>log10_mean</th>\n",
       "      <th>log10_var</th>\n",
       "      <th>name</th>\n",
       "      <th>tax_id</th>\n",
       "    </tr>\n",
       "  </thead>\n",
       "  <tbody>\n",
       "    <tr>\n",
       "      <th>260</th>\n",
       "      <td>metazoa</td>\n",
       "      <td>drosophila_melanogaster</td>\n",
       "      <td>ftp.ensemblgenomes.org/pub/metazoa/release-49/...</td>\n",
       "      <td>protein_coding.genes.drosophila_melanogaster.m...</td>\n",
       "      <td>13947</td>\n",
       "      <td>6953.27203</td>\n",
       "      <td>5.892690e+08</td>\n",
       "      <td>3.430466</td>\n",
       "      <td>0.26197</td>\n",
       "      <td>Drosophila melanogaster</td>\n",
       "      <td>7227</td>\n",
       "    </tr>\n",
       "  </tbody>\n",
       "</table>\n",
       "</div>"
      ],
      "text/plain": [
       "    division_7                  species  \\\n",
       "260    metazoa  drosophila_melanogaster   \n",
       "\n",
       "                                      trunk_genes_path  \\\n",
       "260  ftp.ensemblgenomes.org/pub/metazoa/release-49/...   \n",
       "\n",
       "                                            genes_file  count        mean  \\\n",
       "260  protein_coding.genes.drosophila_melanogaster.m...  13947  6953.27203   \n",
       "\n",
       "              var  log10_mean  log10_var                     name  tax_id  \n",
       "260  5.892690e+08    3.430466    0.26197  Drosophila melanogaster    7227  "
      ]
     },
     "metadata": {},
     "output_type": "display_data"
    },
    {
     "name": "stdout",
     "output_type": "stream",
     "text": [
      "/media/emuro/Wes/results/geneLength/ftp.ensemblgenomes.org/pub/metazoa/release-49/genes/drosophila_melanogaster/protein_coding.genes.drosophila_melanogaster.metazoa.ensemblgenomes.49.tsv\n",
      "mu: 3.43046561066054 \tsigma: 0.5118295836225989\n"
     ]
    },
    {
     "data": {
      "image/png": "[encoded data removed]",
      "text/plain": [
       "<Figure size 432x288 with 1 Axes>"
      ]
     },
     "metadata": {
      "needs_background": "light"
     },
     "output_type": "display_data"
    },
    {
     "name": "stdout",
     "output_type": "stream",
     "text": [
      "Kurtosis: 0.7006851092488566\n",
      "Skewness: 0.8779483795938732\n",
      "D'Agostino's K-squared test(Estadístico=1514.1399175368922, p-value=0.0)\n"
     ]
    }
   ],
   "source": [
    "tax_id = 7227\n",
    "species_gene_distribution__retrieve_plot_and_fit(stat_taxid_df, 7227) # tax_id=7227"
   ]
  },
  {
   "cell_type": "markdown",
   "id": "c609b4ab-c94a-4a2c-a107-26e7d57e91aa",
   "metadata": {},
   "source": [
    "### Arabidopsis thaliana"
   ]
  },
  {
   "cell_type": "code",
   "execution_count": 16,
   "id": "6f5ac606-f3da-4454-82a1-bee94dc747da",
   "metadata": {},
   "outputs": [
    {
     "data": {
      "text/html": [
       "<div>\n",
       "<style scoped>\n",
       "    .dataframe tbody tr th:only-of-type {\n",
       "        vertical-align: middle;\n",
       "    }\n",
       "\n",
       "    .dataframe tbody tr th {\n",
       "        vertical-align: top;\n",
       "    }\n",
       "\n",
       "    .dataframe thead th {\n",
       "        text-align: right;\n",
       "    }\n",
       "</style>\n",
       "<table border=\"1\" class=\"dataframe\">\n",
       "  <thead>\n",
       "    <tr style=\"text-align: right;\">\n",
       "      <th></th>\n",
       "      <th>division_7</th>\n",
       "      <th>species</th>\n",
       "      <th>trunk_genes_path</th>\n",
       "      <th>genes_file</th>\n",
       "      <th>count</th>\n",
       "      <th>mean</th>\n",
       "      <th>var</th>\n",
       "      <th>log10_mean</th>\n",
       "      <th>log10_var</th>\n",
       "      <th>name</th>\n",
       "      <th>tax_id</th>\n",
       "    </tr>\n",
       "  </thead>\n",
       "  <tbody>\n",
       "    <tr>\n",
       "      <th>391</th>\n",
       "      <td>plants</td>\n",
       "      <td>arabidopsis_thaliana</td>\n",
       "      <td>ftp.ensemblgenomes.org/pub/plants/release-49/g...</td>\n",
       "      <td>protein_coding.genes.arabidopsis_thaliana.plan...</td>\n",
       "      <td>27628</td>\n",
       "      <td>2371.752932</td>\n",
       "      <td>2.676062e+06</td>\n",
       "      <td>3.277692</td>\n",
       "      <td>0.097997</td>\n",
       "      <td>Arabidopsis thaliana</td>\n",
       "      <td>3702</td>\n",
       "    </tr>\n",
       "  </tbody>\n",
       "</table>\n",
       "</div>"
      ],
      "text/plain": [
       "    division_7               species  \\\n",
       "391     plants  arabidopsis_thaliana   \n",
       "\n",
       "                                      trunk_genes_path  \\\n",
       "391  ftp.ensemblgenomes.org/pub/plants/release-49/g...   \n",
       "\n",
       "                                            genes_file  count         mean  \\\n",
       "391  protein_coding.genes.arabidopsis_thaliana.plan...  27628  2371.752932   \n",
       "\n",
       "              var  log10_mean  log10_var                  name  tax_id  \n",
       "391  2.676062e+06    3.277692   0.097997  Arabidopsis thaliana    3702  "
      ]
     },
     "metadata": {},
     "output_type": "display_data"
    },
    {
     "name": "stdout",
     "output_type": "stream",
     "text": [
      "/media/emuro/Wes/results/geneLength/ftp.ensemblgenomes.org/pub/plants/release-49/genes/arabidopsis_thaliana/protein_coding.genes.arabidopsis_thaliana.plants.ensemblgenomes.49.tsv\n",
      "mu: 3.27769212335358 \tsigma: 0.313044095685159\n"
     ]
    },
    {
     "data": {
      "image/png": "[encoded data removed]",
      "text/plain": [
       "<Figure size 432x288 with 1 Axes>"
      ]
     },
     "metadata": {
      "needs_background": "light"
     },
     "output_type": "display_data"
    },
    {
     "name": "stdout",
     "output_type": "stream",
     "text": [
      "Kurtosis: 2.0687251985740804\n",
      "Skewness: -0.838796770338856\n",
      "D'Agostino's K-squared test(Estadístico=3819.8068409312245, p-value=0.0)\n"
     ]
    }
   ],
   "source": [
    "tax_id = 3702\n",
    "species_gene_distribution__retrieve_plot_and_fit(stat_taxid_df, tax_id)"
   ]
  },
  {
   "cell_type": "code",
   "execution_count": null,
   "id": "04961645-821d-4611-96c7-0acdd9599927",
   "metadata": {},
   "outputs": [],
   "source": []
  },
  {
   "cell_type": "markdown",
   "id": "101243f5-2c78-4f40-a996-554f28c3ee7e",
   "metadata": {},
   "source": [
    "### Saccharomyces cerevisae"
   ]
  },
  {
   "cell_type": "code",
   "execution_count": 17,
   "id": "427336ea-2d5e-4f2b-b2d7-e11a49980697",
   "metadata": {},
   "outputs": [
    {
     "data": {
      "text/html": [
       "<div>\n",
       "<style scoped>\n",
       "    .dataframe tbody tr th:only-of-type {\n",
       "        vertical-align: middle;\n",
       "    }\n",
       "\n",
       "    .dataframe tbody tr th {\n",
       "        vertical-align: top;\n",
       "    }\n",
       "\n",
       "    .dataframe thead th {\n",
       "        text-align: right;\n",
       "    }\n",
       "</style>\n",
       "<table border=\"1\" class=\"dataframe\">\n",
       "  <thead>\n",
       "    <tr style=\"text-align: right;\">\n",
       "      <th></th>\n",
       "      <th>division_7</th>\n",
       "      <th>species</th>\n",
       "      <th>trunk_genes_path</th>\n",
       "      <th>genes_file</th>\n",
       "      <th>count</th>\n",
       "      <th>mean</th>\n",
       "      <th>var</th>\n",
       "      <th>log10_mean</th>\n",
       "      <th>log10_var</th>\n",
       "      <th>name</th>\n",
       "      <th>tax_id</th>\n",
       "    </tr>\n",
       "  </thead>\n",
       "  <tbody>\n",
       "    <tr>\n",
       "      <th>1439</th>\n",
       "      <td>fungi</td>\n",
       "      <td>saccharomyces_cerevisiae</td>\n",
       "      <td>ftp.ensemblgenomes.org/pub/fungi/release-49/ge...</td>\n",
       "      <td>protein_coding.genes.saccharomyces_cerevisiae....</td>\n",
       "      <td>6600</td>\n",
       "      <td>1343.369091</td>\n",
       "      <td>1.260539e+06</td>\n",
       "      <td>2.992353</td>\n",
       "      <td>0.129536</td>\n",
       "      <td>Saccharomyces cerevisiae</td>\n",
       "      <td>4932</td>\n",
       "    </tr>\n",
       "  </tbody>\n",
       "</table>\n",
       "</div>"
      ],
      "text/plain": [
       "     division_7                   species  \\\n",
       "1439      fungi  saccharomyces_cerevisiae   \n",
       "\n",
       "                                       trunk_genes_path  \\\n",
       "1439  ftp.ensemblgenomes.org/pub/fungi/release-49/ge...   \n",
       "\n",
       "                                             genes_file  count         mean  \\\n",
       "1439  protein_coding.genes.saccharomyces_cerevisiae....   6600  1343.369091   \n",
       "\n",
       "               var  log10_mean  log10_var                      name  tax_id  \n",
       "1439  1.260539e+06    2.992353   0.129536  Saccharomyces cerevisiae    4932  "
      ]
     },
     "metadata": {},
     "output_type": "display_data"
    },
    {
     "name": "stdout",
     "output_type": "stream",
     "text": [
      "/media/emuro/Wes/results/geneLength/ftp.ensemblgenomes.org/pub/fungi/release-49/genes/saccharomyces_cerevisiae/protein_coding.genes.saccharomyces_cerevisiae.fungi.ensemblgenomes.49.tsv\n",
      "mu: 2.99235333562091 \tsigma: 0.3599113695628981\n"
     ]
    },
    {
     "data": {
      "image/png": "[encoded data removed]",
      "text/plain": [
       "<Figure size 432x288 with 1 Axes>"
      ]
     },
     "metadata": {
      "needs_background": "light"
     },
     "output_type": "display_data"
    },
    {
     "name": "stdout",
     "output_type": "stream",
     "text": [
      "Kurtosis: -0.09977294845214058\n",
      "Skewness: -0.32662637798603494\n",
      "D'Agostino's K-squared test(Estadístico=114.73783365487019, p-value=1.216174768626479e-25)\n"
     ]
    }
   ],
   "source": [
    "tax_id = 4932 #uniprot: 559292 (not in ensembl) \n",
    "species_gene_distribution__retrieve_plot_and_fit(stat_taxid_df, tax_id)"
   ]
  },
  {
   "cell_type": "code",
   "execution_count": null,
   "id": "aab7c5ef-0f23-4faa-873d-9e687ed9b98d",
   "metadata": {},
   "outputs": [],
   "source": []
  },
  {
   "cell_type": "markdown",
   "id": "c2440f06-107a-457e-a656-e21d5c382d61",
   "metadata": {},
   "source": [
    "### Escherichia coli"
   ]
  },
  {
   "cell_type": "code",
   "execution_count": 18,
   "id": "df582095-3786-468f-8647-10d972e22b53",
   "metadata": {},
   "outputs": [
    {
     "data": {
      "text/html": [
       "<div>\n",
       "<style scoped>\n",
       "    .dataframe tbody tr th:only-of-type {\n",
       "        vertical-align: middle;\n",
       "    }\n",
       "\n",
       "    .dataframe tbody tr th {\n",
       "        vertical-align: top;\n",
       "    }\n",
       "\n",
       "    .dataframe thead th {\n",
       "        text-align: right;\n",
       "    }\n",
       "</style>\n",
       "<table border=\"1\" class=\"dataframe\">\n",
       "  <thead>\n",
       "    <tr style=\"text-align: right;\">\n",
       "      <th></th>\n",
       "      <th>division_7</th>\n",
       "      <th>species</th>\n",
       "      <th>trunk_genes_path</th>\n",
       "      <th>genes_file</th>\n",
       "      <th>count</th>\n",
       "      <th>mean</th>\n",
       "      <th>var</th>\n",
       "      <th>log10_mean</th>\n",
       "      <th>log10_var</th>\n",
       "      <th>name</th>\n",
       "      <th>tax_id</th>\n",
       "    </tr>\n",
       "  </thead>\n",
       "  <tbody>\n",
       "    <tr>\n",
       "      <th>21331</th>\n",
       "      <td>bacteria</td>\n",
       "      <td>escherichia_coli_o157_h7_gca_004100305</td>\n",
       "      <td>ftp.ensemblgenomes.org/pub/bacteria/release-49...</td>\n",
       "      <td>protein_coding.genes.escherichia_coli_o157_h7_...</td>\n",
       "      <td>5408</td>\n",
       "      <td>890.443972</td>\n",
       "      <td>484006.815799</td>\n",
       "      <td>2.834198</td>\n",
       "      <td>0.109331</td>\n",
       "      <td>Escherichia coli O157:H7 (GCA_004100305)</td>\n",
       "      <td>83334</td>\n",
       "    </tr>\n",
       "  </tbody>\n",
       "</table>\n",
       "</div>"
      ],
      "text/plain": [
       "      division_7                                 species  \\\n",
       "21331   bacteria  escherichia_coli_o157_h7_gca_004100305   \n",
       "\n",
       "                                        trunk_genes_path  \\\n",
       "21331  ftp.ensemblgenomes.org/pub/bacteria/release-49...   \n",
       "\n",
       "                                              genes_file  count        mean  \\\n",
       "21331  protein_coding.genes.escherichia_coli_o157_h7_...   5408  890.443972   \n",
       "\n",
       "                 var  log10_mean  log10_var  \\\n",
       "21331  484006.815799    2.834198   0.109331   \n",
       "\n",
       "                                           name  tax_id  \n",
       "21331  Escherichia coli O157:H7 (GCA_004100305)   83334  "
      ]
     },
     "metadata": {},
     "output_type": "display_data"
    },
    {
     "name": "stdout",
     "output_type": "stream",
     "text": [
      "/media/emuro/Wes/results/geneLength/ftp.ensemblgenomes.org/pub/bacteria/release-49/genes/bacteria_22_collection/escherichia_coli_o157_h7_gca_004100305/protein_coding.genes.escherichia_coli_o157_h7_gca_004100305.bacteria.ensemblgenomes.49.tsv\n",
      "mu: 2.83419833948949 \tsigma: 0.33065182007980387\n"
     ]
    },
    {
     "data": {
      "image/png": "[encoded data removed]",
      "text/plain": [
       "<Figure size 432x288 with 1 Axes>"
      ]
     },
     "metadata": {
      "needs_background": "light"
     },
     "output_type": "display_data"
    },
    {
     "name": "stdout",
     "output_type": "stream",
     "text": [
      "Kurtosis: -0.030039599976793063\n",
      "Skewness: -0.3489768452874405\n",
      "D'Agostino's K-squared test(Estadístico=104.14528610030013, p-value=2.4273838894551697e-23)\n"
     ]
    }
   ],
   "source": [
    "tax_id = 83334 #562 uniprot: 83333 (k12), 83334(0157:h7 disease), 1408285 (otra, this is not in ensembl)\n",
    "species_gene_distribution__retrieve_plot_and_fit(stat_taxid_df, tax_id)"
   ]
  },
  {
   "cell_type": "code",
   "execution_count": null,
   "id": "a07a4423-01f7-40bf-8f53-6b0c6e8e3095",
   "metadata": {},
   "outputs": [],
   "source": []
  }
 ],
 "metadata": {
  "kernelspec": {
   "display_name": "Python 3 (ipykernel)",
   "language": "python",
   "name": "python3"
  },
  "language_info": {
   "codemirror_mode": {
    "name": "ipython",
    "version": 3
   },
   "file_extension": ".py",
   "mimetype": "text/x-python",
   "name": "python",
   "nbconvert_exporter": "python",
   "pygments_lexer": "ipython3",
   "version": "3.10.6"
  }
 },
 "nbformat": 4,
 "nbformat_minor": 5
}
